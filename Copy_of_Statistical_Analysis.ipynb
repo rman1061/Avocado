{
  "nbformat": 4,
  "nbformat_minor": 0,
  "metadata": {
    "colab": {
      "name": "Copy of Statistical Analysis.ipynb",
      "provenance": [],
      "collapsed_sections": [],
      "authorship_tag": "ABX9TyMnqPRHiSgiWwCvL6d4zeLn",
      "include_colab_link": true
    },
    "kernelspec": {
      "name": "python3",
      "display_name": "Python 3"
    },
    "language_info": {
      "name": "python"
    }
  },
  "cells": [
    {
      "cell_type": "markdown",
      "metadata": {
        "id": "view-in-github",
        "colab_type": "text"
      },
      "source": [
        "<a href=\"https://colab.research.google.com/github/rman1061/Avocado/blob/main/Copy_of_Statistical_Analysis.ipynb\" target=\"_parent\"><img src=\"https://colab.research.google.com/assets/colab-badge.svg\" alt=\"Open In Colab\"/></a>"
      ]
    },
    {
      "cell_type": "code",
      "metadata": {
        "colab": {
          "base_uri": "https://localhost:8080/",
          "height": 142
        },
        "id": "xaNEzzwCjpu2",
        "outputId": "55d2ffb0-9f2b-4a9f-c0ef-e648235f6e07"
      },
      "source": [
        "#PARP 116\n",
        "import pandas as pd\n",
        "# load data file\n",
        "df = pd.read_csv(\"/content/PARP 116.txt\",sep=\"\\t\")\n",
        "df"
      ],
      "execution_count": null,
      "outputs": [
        {
          "output_type": "execute_result",
          "data": {
            "text/html": [
              "<div>\n",
              "<style scoped>\n",
              "    .dataframe tbody tr th:only-of-type {\n",
              "        vertical-align: middle;\n",
              "    }\n",
              "\n",
              "    .dataframe tbody tr th {\n",
              "        vertical-align: top;\n",
              "    }\n",
              "\n",
              "    .dataframe thead th {\n",
              "        text-align: right;\n",
              "    }\n",
              "</style>\n",
              "<table border=\"1\" class=\"dataframe\">\n",
              "  <thead>\n",
              "    <tr style=\"text-align: right;\">\n",
              "      <th></th>\n",
              "      <th>A</th>\n",
              "      <th>B</th>\n",
              "      <th>C</th>\n",
              "      <th>D</th>\n",
              "      <th>E</th>\n",
              "      <th>F</th>\n",
              "      <th>G</th>\n",
              "      <th>H</th>\n",
              "    </tr>\n",
              "  </thead>\n",
              "  <tbody>\n",
              "    <tr>\n",
              "      <th>0</th>\n",
              "      <td>0.050156</td>\n",
              "      <td>0.072669</td>\n",
              "      <td>0.077729</td>\n",
              "      <td>0.199264</td>\n",
              "      <td>0.049406</td>\n",
              "      <td>0.028662</td>\n",
              "      <td>0.119538</td>\n",
              "      <td>0.095619</td>\n",
              "    </tr>\n",
              "    <tr>\n",
              "      <th>1</th>\n",
              "      <td>0.025154</td>\n",
              "      <td>0.047002</td>\n",
              "      <td>0.029990</td>\n",
              "      <td>0.154870</td>\n",
              "      <td>0.013190</td>\n",
              "      <td>0.045632</td>\n",
              "      <td>0.065716</td>\n",
              "      <td>0.025977</td>\n",
              "    </tr>\n",
              "    <tr>\n",
              "      <th>2</th>\n",
              "      <td>0.065737</td>\n",
              "      <td>0.069052</td>\n",
              "      <td>0.020719</td>\n",
              "      <td>0.201102</td>\n",
              "      <td>0.011822</td>\n",
              "      <td>0.041233</td>\n",
              "      <td>0.107815</td>\n",
              "      <td>0.015245</td>\n",
              "    </tr>\n",
              "  </tbody>\n",
              "</table>\n",
              "</div>"
            ],
            "text/plain": [
              "          A         B         C  ...         F         G         H\n",
              "0  0.050156  0.072669  0.077729  ...  0.028662  0.119538  0.095619\n",
              "1  0.025154  0.047002  0.029990  ...  0.045632  0.065716  0.025977\n",
              "2  0.065737  0.069052  0.020719  ...  0.041233  0.107815  0.015245\n",
              "\n",
              "[3 rows x 8 columns]"
            ]
          },
          "metadata": {
            "tags": []
          },
          "execution_count": 2
        }
      ]
    },
    {
      "cell_type": "code",
      "metadata": {
        "id": "BnT4txbdmnpt"
      },
      "source": [
        "# reshape the d dataframe suitable for statsmodels package \n",
        "df_melt = pd.melt(df.reset_index(), id_vars=['index'], value_vars=['A', 'B', 'C', 'D','E','F','G','H'])\n",
        "# replace column names\n",
        "df_melt.columns = ['index', 'treatments', 'value']\n",
        "\n",
        "#A = vehicle\n",
        "#B = 0.01\n",
        "#C = 0.1\n",
        "#D= 0.5\n",
        "#E= 1\n",
        "#F= 5\n",
        "#G = 10\n",
        "#H = 50"
      ],
      "execution_count": null,
      "outputs": []
    },
    {
      "cell_type": "code",
      "metadata": {
        "id": "sOHPUAHfnJEt"
      },
      "source": [
        "# generate a boxplot to see the data distribution by treatments. Using boxplot, we can \n",
        "# easily detect the differences between different treatments\n",
        "import matplotlib.pyplot as plt\n",
        "import seaborn as sns\n"
      ],
      "execution_count": null,
      "outputs": []
    },
    {
      "cell_type": "code",
      "metadata": {
        "colab": {
          "base_uri": "https://localhost:8080/",
          "height": 279
        },
        "id": "SapzTWpmEAu7",
        "outputId": "54a487bc-8d22-4993-eb90-c6d2f170afcc"
      },
      "source": [
        "ax = sns.boxplot(x='treatments', y='value', data=df_melt, color='#99c2a2')\n",
        "ax = sns.swarmplot(x=\"treatments\", y=\"value\", data=df_melt, color='#7d0013')\n",
        "plt.show()"
      ],
      "execution_count": null,
      "outputs": [
        {
          "output_type": "display_data",
          "data": {
            "image/png": "[encoded data removed]",
            "text/plain": [
              "<Figure size 432x288 with 1 Axes>"
            ]
          },
          "metadata": {
            "tags": [],
            "needs_background": "light"
          }
        }
      ]
    },
    {
      "cell_type": "code",
      "metadata": {
        "colab": {
          "base_uri": "https://localhost:8080/"
        },
        "id": "PWER9O0RnLb9",
        "outputId": "6fb5d0d7-b60a-41b1-e8a6-bad605c3dc44"
      },
      "source": [
        "import scipy.stats as stats\n",
        "# stats f_oneway functions takes the groups as input and returns ANOVA F and p value\n",
        "fvalue, pvalue = stats.f_oneway(df['A'], df['B'], df['C'], df['D'],df['E'],df['F'],df['G'],df['H'])\n",
        "print(fvalue, pvalue)"
      ],
      "execution_count": null,
      "outputs": [
        {
          "output_type": "stream",
          "text": [
            "11.861776948817129 2.799841208469811e-05\n"
          ],
          "name": "stdout"
        }
      ]
    },
    {
      "cell_type": "code",
      "metadata": {
        "colab": {
          "base_uri": "https://localhost:8080/"
        },
        "id": "eyH4feO6nd81",
        "outputId": "6552cecc-4c88-48cf-abf3-8596f24cd988"
      },
      "source": [
        "# get ANOVA table as R like output\n",
        "import statsmodels.api as sm\n",
        "from statsmodels.formula.api import ols"
      ],
      "execution_count": null,
      "outputs": [
        {
          "output_type": "stream",
          "text": [
            "/usr/local/lib/python3.7/dist-packages/statsmodels/tools/_testing.py:19: FutureWarning: pandas.util.testing is deprecated. Use the functions in the public API at pandas.testing instead.\n",
            "  import pandas.util.testing as tm\n"
          ],
          "name": "stderr"
        }
      ]
    },
    {
      "cell_type": "code",
      "metadata": {
        "colab": {
          "base_uri": "https://localhost:8080/",
          "height": 111
        },
        "id": "FsiQISTFnpc1",
        "outputId": "9f8c6db4-6343-4d39-9c34-a95095e51e70"
      },
      "source": [
        "# Ordinary Least Squares (OLS) model\n",
        "model = ols('value ~ C(treatments)', data=df_melt).fit()\n",
        "anova_table = sm.stats.anova_lm(model, typ=2)\n",
        "anova_table"
      ],
      "execution_count": null,
      "outputs": [
        {
          "output_type": "execute_result",
          "data": {
            "text/html": [
              "<div>\n",
              "<style scoped>\n",
              "    .dataframe tbody tr th:only-of-type {\n",
              "        vertical-align: middle;\n",
              "    }\n",
              "\n",
              "    .dataframe tbody tr th {\n",
              "        vertical-align: top;\n",
              "    }\n",
              "\n",
              "    .dataframe thead th {\n",
              "        text-align: right;\n",
              "    }\n",
              "</style>\n",
              "<table border=\"1\" class=\"dataframe\">\n",
              "  <thead>\n",
              "    <tr style=\"text-align: right;\">\n",
              "      <th></th>\n",
              "      <th>sum_sq</th>\n",
              "      <th>df</th>\n",
              "      <th>F</th>\n",
              "      <th>PR(&gt;F)</th>\n",
              "    </tr>\n",
              "  </thead>\n",
              "  <tbody>\n",
              "    <tr>\n",
              "      <th>C(treatments)</th>\n",
              "      <td>0.056779</td>\n",
              "      <td>7.0</td>\n",
              "      <td>11.861777</td>\n",
              "      <td>0.000028</td>\n",
              "    </tr>\n",
              "    <tr>\n",
              "      <th>Residual</th>\n",
              "      <td>0.010941</td>\n",
              "      <td>16.0</td>\n",
              "      <td>NaN</td>\n",
              "      <td>NaN</td>\n",
              "    </tr>\n",
              "  </tbody>\n",
              "</table>\n",
              "</div>"
            ],
            "text/plain": [
              "                 sum_sq    df          F    PR(>F)\n",
              "C(treatments)  0.056779   7.0  11.861777  0.000028\n",
              "Residual       0.010941  16.0        NaN       NaN"
            ]
          },
          "metadata": {
            "tags": []
          },
          "execution_count": 8
        }
      ]
    },
    {
      "cell_type": "code",
      "metadata": {
        "colab": {
          "base_uri": "https://localhost:8080/"
        },
        "id": "zbarLupS_jq1",
        "outputId": "32743479-57bf-4224-8bed-dd2e2ccf59e0"
      },
      "source": [
        "pip install bioinfokit"
      ],
      "execution_count": null,
      "outputs": [
        {
          "output_type": "stream",
          "text": [
            "Collecting bioinfokit\n",
            "\u001b[?25l  Downloading https://files.pythonhosted.org/packages/0f/2b/c219e90dfddcaa19726152cd12c4f1beae0c9e0efe82e9fa75dd81adad19/bioinfokit-2.0.4.tar.gz (82kB)\n",
            "\r\u001b[K     |████                            | 10kB 13.8MB/s eta 0:00:01\r\u001b[K     |████████                        | 20kB 7.0MB/s eta 0:00:01\r\u001b[K     |████████████                    | 30kB 4.4MB/s eta 0:00:01\r\u001b[K     |███████████████▉                | 40kB 4.1MB/s eta 0:00:01\r\u001b[K     |███████████████████▉            | 51kB 2.1MB/s eta 0:00:01\r\u001b[K     |███████████████████████▉        | 61kB 2.4MB/s eta 0:00:01\r\u001b[K     |███████████████████████████▊    | 71kB 2.6MB/s eta 0:00:01\r\u001b[K     |███████████████████████████████▊| 81kB 2.7MB/s eta 0:00:01\r\u001b[K     |████████████████████████████████| 92kB 2.4MB/s \n",
            "\u001b[?25hRequirement already satisfied: pandas in /usr/local/lib/python3.7/dist-packages (from bioinfokit) (1.1.5)\n",
            "Requirement already satisfied: numpy in /usr/local/lib/python3.7/dist-packages (from bioinfokit) (1.19.5)\n",
            "Requirement already satisfied: matplotlib in /usr/local/lib/python3.7/dist-packages (from bioinfokit) (3.2.2)\n",
            "Requirement already satisfied: scipy in /usr/local/lib/python3.7/dist-packages (from bioinfokit) (1.4.1)\n",
            "Requirement already satisfied: scikit-learn in /usr/local/lib/python3.7/dist-packages (from bioinfokit) (0.22.2.post1)\n",
            "Requirement already satisfied: seaborn in /usr/local/lib/python3.7/dist-packages (from bioinfokit) (0.11.1)\n",
            "Requirement already satisfied: matplotlib-venn in /usr/local/lib/python3.7/dist-packages (from bioinfokit) (0.11.6)\n",
            "Requirement already satisfied: tabulate in /usr/local/lib/python3.7/dist-packages (from bioinfokit) (0.8.9)\n",
            "Requirement already satisfied: statsmodels in /usr/local/lib/python3.7/dist-packages (from bioinfokit) (0.10.2)\n",
            "Collecting textwrap3\n",
            "  Downloading https://files.pythonhosted.org/packages/77/9c/a53e561d496ee5866bbeea4d3a850b3b545ed854f8a21007c1e0d872e94d/textwrap3-0.9.2-py2.py3-none-any.whl\n",
            "Collecting adjustText\n",
            "  Downloading https://files.pythonhosted.org/packages/9e/15/4157718bf323fd5f5b81c891c660d0f388e042d2689a558bf1389632dc44/adjustText-0.7.3.tar.gz\n",
            "Requirement already satisfied: pytz>=2017.2 in /usr/local/lib/python3.7/dist-packages (from pandas->bioinfokit) (2018.9)\n",
            "Requirement already satisfied: python-dateutil>=2.7.3 in /usr/local/lib/python3.7/dist-packages (from pandas->bioinfokit) (2.8.1)\n",
            "Requirement already satisfied: pyparsing!=2.0.4,!=2.1.2,!=2.1.6,>=2.0.1 in /usr/local/lib/python3.7/dist-packages (from matplotlib->bioinfokit) (2.4.7)\n",
            "Requirement already satisfied: kiwisolver>=1.0.1 in /usr/local/lib/python3.7/dist-packages (from matplotlib->bioinfokit) (1.3.1)\n",
            "Requirement already satisfied: cycler>=0.10 in /usr/local/lib/python3.7/dist-packages (from matplotlib->bioinfokit) (0.10.0)\n",
            "Requirement already satisfied: joblib>=0.11 in /usr/local/lib/python3.7/dist-packages (from scikit-learn->bioinfokit) (1.0.1)\n",
            "Requirement already satisfied: patsy>=0.4.0 in /usr/local/lib/python3.7/dist-packages (from statsmodels->bioinfokit) (0.5.1)\n",
            "Requirement already satisfied: six>=1.5 in /usr/local/lib/python3.7/dist-packages (from python-dateutil>=2.7.3->pandas->bioinfokit) (1.15.0)\n",
            "Building wheels for collected packages: bioinfokit, adjustText\n",
            "  Building wheel for bioinfokit (setup.py) ... \u001b[?25l\u001b[?25hdone\n",
            "  Created wheel for bioinfokit: filename=bioinfokit-2.0.4-cp37-none-any.whl size=56008 sha256=e55d9a7e9e18414fdd7ef55355ba84cfc7e7268c0a0b19a70a74650b7288b568\n",
            "  Stored in directory: /root/.cache/pip/wheels/43/cf/aa/4a4fe54a3edb663ee7bd9b245bd946506c8bd4b99f4ae00507\n",
            "  Building wheel for adjustText (setup.py) ... \u001b[?25l\u001b[?25hdone\n",
            "  Created wheel for adjustText: filename=adjustText-0.7.3-cp37-none-any.whl size=7100 sha256=46cffcda647aaeea24dfbe095f91b0072c935221c824fa0391a097fe962c8dcd\n",
            "  Stored in directory: /root/.cache/pip/wheels/41/95/74/7d347e136d672f8bc28e937032bc92baf4f80856763a7e7b72\n",
            "Successfully built bioinfokit adjustText\n",
            "Installing collected packages: textwrap3, adjustText, bioinfokit\n",
            "Successfully installed adjustText-0.7.3 bioinfokit-2.0.4 textwrap3-0.9.2\n"
          ],
          "name": "stdout"
        }
      ]
    },
    {
      "cell_type": "code",
      "metadata": {
        "colab": {
          "base_uri": "https://localhost:8080/",
          "height": 111
        },
        "id": "98zCuw7UozZM",
        "outputId": "4f94ef3a-1c03-464a-ee88-a6dda5e3be62"
      },
      "source": [
        "from bioinfokit.analys import stat\n",
        "res = stat()\n",
        "res.anova_stat(df=df_melt, res_var='value', anova_model='value ~ C(treatments)')\n",
        "res.anova_summary"
      ],
      "execution_count": null,
      "outputs": [
        {
          "output_type": "execute_result",
          "data": {
            "text/html": [
              "<div>\n",
              "<style scoped>\n",
              "    .dataframe tbody tr th:only-of-type {\n",
              "        vertical-align: middle;\n",
              "    }\n",
              "\n",
              "    .dataframe tbody tr th {\n",
              "        vertical-align: top;\n",
              "    }\n",
              "\n",
              "    .dataframe thead th {\n",
              "        text-align: right;\n",
              "    }\n",
              "</style>\n",
              "<table border=\"1\" class=\"dataframe\">\n",
              "  <thead>\n",
              "    <tr style=\"text-align: right;\">\n",
              "      <th></th>\n",
              "      <th>df</th>\n",
              "      <th>sum_sq</th>\n",
              "      <th>mean_sq</th>\n",
              "      <th>F</th>\n",
              "      <th>PR(&gt;F)</th>\n",
              "    </tr>\n",
              "  </thead>\n",
              "  <tbody>\n",
              "    <tr>\n",
              "      <th>C(treatments)</th>\n",
              "      <td>7.0</td>\n",
              "      <td>0.056779</td>\n",
              "      <td>0.008111</td>\n",
              "      <td>11.861777</td>\n",
              "      <td>0.000028</td>\n",
              "    </tr>\n",
              "    <tr>\n",
              "      <th>Residual</th>\n",
              "      <td>16.0</td>\n",
              "      <td>0.010941</td>\n",
              "      <td>0.000684</td>\n",
              "      <td>NaN</td>\n",
              "      <td>NaN</td>\n",
              "    </tr>\n",
              "  </tbody>\n",
              "</table>\n",
              "</div>"
            ],
            "text/plain": [
              "                 df    sum_sq   mean_sq          F    PR(>F)\n",
              "C(treatments)   7.0  0.056779  0.008111  11.861777  0.000028\n",
              "Residual       16.0  0.010941  0.000684        NaN       NaN"
            ]
          },
          "metadata": {
            "tags": []
          },
          "execution_count": 10
        }
      ]
    },
    {
      "cell_type": "code",
      "metadata": {
        "id": "rtYxMI9K_h8e"
      },
      "source": [
        "# we will use bioinfokit (v1.0.3 or later) for performing tukey HSD test\n",
        "# check documentation here https://github.com/reneshbedre/bioinfokit\n",
        "from bioinfokit.analys import stat"
      ],
      "execution_count": null,
      "outputs": []
    },
    {
      "cell_type": "code",
      "metadata": {
        "id": "S4f2cfmuCohU"
      },
      "source": [
        "# perform multiple pairwise comparison (Tukey's HSD)\n",
        "# unequal sample size data, tukey_hsd uses Tukey-Kramer test\n",
        "res = stat()"
      ],
      "execution_count": null,
      "outputs": []
    },
    {
      "cell_type": "code",
      "metadata": {
        "colab": {
          "base_uri": "https://localhost:8080/",
          "height": 917
        },
        "id": "z7HD_yO7CqbU",
        "outputId": "dd70ef5a-a933-4be8-ba35-26013e94ca4f"
      },
      "source": [
        "res.tukey_hsd(df=df_melt, res_var='value', xfac_var='treatments', anova_model='value ~ C(treatments)')\n",
        "res.tukey_summary"
      ],
      "execution_count": null,
      "outputs": [
        {
          "output_type": "execute_result",
          "data": {
            "text/html": [
              "<div>\n",
              "<style scoped>\n",
              "    .dataframe tbody tr th:only-of-type {\n",
              "        vertical-align: middle;\n",
              "    }\n",
              "\n",
              "    .dataframe tbody tr th {\n",
              "        vertical-align: top;\n",
              "    }\n",
              "\n",
              "    .dataframe thead th {\n",
              "        text-align: right;\n",
              "    }\n",
              "</style>\n",
              "<table border=\"1\" class=\"dataframe\">\n",
              "  <thead>\n",
              "    <tr style=\"text-align: right;\">\n",
              "      <th></th>\n",
              "      <th>group1</th>\n",
              "      <th>group2</th>\n",
              "      <th>Diff</th>\n",
              "      <th>Lower</th>\n",
              "      <th>Upper</th>\n",
              "      <th>q-value</th>\n",
              "      <th>p-value</th>\n",
              "    </tr>\n",
              "  </thead>\n",
              "  <tbody>\n",
              "    <tr>\n",
              "      <th>0</th>\n",
              "      <td>A</td>\n",
              "      <td>B</td>\n",
              "      <td>0.015892</td>\n",
              "      <td>-0.058034</td>\n",
              "      <td>0.089818</td>\n",
              "      <td>1.052610</td>\n",
              "      <td>0.900000</td>\n",
              "    </tr>\n",
              "    <tr>\n",
              "      <th>1</th>\n",
              "      <td>A</td>\n",
              "      <td>C</td>\n",
              "      <td>0.004202</td>\n",
              "      <td>-0.069724</td>\n",
              "      <td>0.078128</td>\n",
              "      <td>0.278351</td>\n",
              "      <td>0.900000</td>\n",
              "    </tr>\n",
              "    <tr>\n",
              "      <th>2</th>\n",
              "      <td>A</td>\n",
              "      <td>D</td>\n",
              "      <td>0.138063</td>\n",
              "      <td>0.064137</td>\n",
              "      <td>0.211989</td>\n",
              "      <td>9.144721</td>\n",
              "      <td>0.001000</td>\n",
              "    </tr>\n",
              "    <tr>\n",
              "      <th>3</th>\n",
              "      <td>A</td>\n",
              "      <td>E</td>\n",
              "      <td>0.022210</td>\n",
              "      <td>-0.051716</td>\n",
              "      <td>0.096136</td>\n",
              "      <td>1.471073</td>\n",
              "      <td>0.900000</td>\n",
              "    </tr>\n",
              "    <tr>\n",
              "      <th>4</th>\n",
              "      <td>A</td>\n",
              "      <td>F</td>\n",
              "      <td>0.008506</td>\n",
              "      <td>-0.065420</td>\n",
              "      <td>0.082432</td>\n",
              "      <td>0.563433</td>\n",
              "      <td>0.900000</td>\n",
              "    </tr>\n",
              "    <tr>\n",
              "      <th>5</th>\n",
              "      <td>A</td>\n",
              "      <td>G</td>\n",
              "      <td>0.050674</td>\n",
              "      <td>-0.023252</td>\n",
              "      <td>0.124600</td>\n",
              "      <td>3.356460</td>\n",
              "      <td>0.315978</td>\n",
              "    </tr>\n",
              "    <tr>\n",
              "      <th>6</th>\n",
              "      <td>A</td>\n",
              "      <td>H</td>\n",
              "      <td>0.001402</td>\n",
              "      <td>-0.072524</td>\n",
              "      <td>0.075328</td>\n",
              "      <td>0.092871</td>\n",
              "      <td>0.900000</td>\n",
              "    </tr>\n",
              "    <tr>\n",
              "      <th>7</th>\n",
              "      <td>B</td>\n",
              "      <td>C</td>\n",
              "      <td>0.020094</td>\n",
              "      <td>-0.053832</td>\n",
              "      <td>0.094020</td>\n",
              "      <td>1.330961</td>\n",
              "      <td>0.900000</td>\n",
              "    </tr>\n",
              "    <tr>\n",
              "      <th>8</th>\n",
              "      <td>B</td>\n",
              "      <td>D</td>\n",
              "      <td>0.122171</td>\n",
              "      <td>0.048245</td>\n",
              "      <td>0.196097</td>\n",
              "      <td>8.092111</td>\n",
              "      <td>0.001000</td>\n",
              "    </tr>\n",
              "    <tr>\n",
              "      <th>9</th>\n",
              "      <td>B</td>\n",
              "      <td>E</td>\n",
              "      <td>0.038102</td>\n",
              "      <td>-0.035824</td>\n",
              "      <td>0.112028</td>\n",
              "      <td>2.523683</td>\n",
              "      <td>0.623617</td>\n",
              "    </tr>\n",
              "    <tr>\n",
              "      <th>10</th>\n",
              "      <td>B</td>\n",
              "      <td>F</td>\n",
              "      <td>0.024398</td>\n",
              "      <td>-0.049528</td>\n",
              "      <td>0.098324</td>\n",
              "      <td>1.616043</td>\n",
              "      <td>0.900000</td>\n",
              "    </tr>\n",
              "    <tr>\n",
              "      <th>11</th>\n",
              "      <td>B</td>\n",
              "      <td>G</td>\n",
              "      <td>0.034783</td>\n",
              "      <td>-0.039143</td>\n",
              "      <td>0.108709</td>\n",
              "      <td>2.303850</td>\n",
              "      <td>0.705895</td>\n",
              "    </tr>\n",
              "    <tr>\n",
              "      <th>12</th>\n",
              "      <td>B</td>\n",
              "      <td>H</td>\n",
              "      <td>0.017294</td>\n",
              "      <td>-0.056632</td>\n",
              "      <td>0.091220</td>\n",
              "      <td>1.145481</td>\n",
              "      <td>0.900000</td>\n",
              "    </tr>\n",
              "    <tr>\n",
              "      <th>13</th>\n",
              "      <td>C</td>\n",
              "      <td>D</td>\n",
              "      <td>0.142266</td>\n",
              "      <td>0.068340</td>\n",
              "      <td>0.216192</td>\n",
              "      <td>9.423072</td>\n",
              "      <td>0.001000</td>\n",
              "    </tr>\n",
              "    <tr>\n",
              "      <th>14</th>\n",
              "      <td>C</td>\n",
              "      <td>E</td>\n",
              "      <td>0.018007</td>\n",
              "      <td>-0.055919</td>\n",
              "      <td>0.091933</td>\n",
              "      <td>1.192722</td>\n",
              "      <td>0.900000</td>\n",
              "    </tr>\n",
              "    <tr>\n",
              "      <th>15</th>\n",
              "      <td>C</td>\n",
              "      <td>F</td>\n",
              "      <td>0.004304</td>\n",
              "      <td>-0.069622</td>\n",
              "      <td>0.078230</td>\n",
              "      <td>0.285082</td>\n",
              "      <td>0.900000</td>\n",
              "    </tr>\n",
              "    <tr>\n",
              "      <th>16</th>\n",
              "      <td>C</td>\n",
              "      <td>G</td>\n",
              "      <td>0.054877</td>\n",
              "      <td>-0.019049</td>\n",
              "      <td>0.128803</td>\n",
              "      <td>3.634811</td>\n",
              "      <td>0.235741</td>\n",
              "    </tr>\n",
              "    <tr>\n",
              "      <th>17</th>\n",
              "      <td>C</td>\n",
              "      <td>H</td>\n",
              "      <td>0.002800</td>\n",
              "      <td>-0.071126</td>\n",
              "      <td>0.076726</td>\n",
              "      <td>0.185480</td>\n",
              "      <td>0.900000</td>\n",
              "    </tr>\n",
              "    <tr>\n",
              "      <th>18</th>\n",
              "      <td>D</td>\n",
              "      <td>E</td>\n",
              "      <td>0.160273</td>\n",
              "      <td>0.086347</td>\n",
              "      <td>0.234199</td>\n",
              "      <td>10.615794</td>\n",
              "      <td>0.001000</td>\n",
              "    </tr>\n",
              "    <tr>\n",
              "      <th>19</th>\n",
              "      <td>D</td>\n",
              "      <td>F</td>\n",
              "      <td>0.146570</td>\n",
              "      <td>0.072644</td>\n",
              "      <td>0.220496</td>\n",
              "      <td>9.708154</td>\n",
              "      <td>0.001000</td>\n",
              "    </tr>\n",
              "    <tr>\n",
              "      <th>20</th>\n",
              "      <td>D</td>\n",
              "      <td>G</td>\n",
              "      <td>0.087389</td>\n",
              "      <td>0.013463</td>\n",
              "      <td>0.161315</td>\n",
              "      <td>5.788261</td>\n",
              "      <td>0.014935</td>\n",
              "    </tr>\n",
              "    <tr>\n",
              "      <th>21</th>\n",
              "      <td>D</td>\n",
              "      <td>H</td>\n",
              "      <td>0.139465</td>\n",
              "      <td>0.065539</td>\n",
              "      <td>0.213391</td>\n",
              "      <td>9.237592</td>\n",
              "      <td>0.001000</td>\n",
              "    </tr>\n",
              "    <tr>\n",
              "      <th>22</th>\n",
              "      <td>E</td>\n",
              "      <td>F</td>\n",
              "      <td>0.013703</td>\n",
              "      <td>-0.060223</td>\n",
              "      <td>0.087629</td>\n",
              "      <td>0.907640</td>\n",
              "      <td>0.900000</td>\n",
              "    </tr>\n",
              "    <tr>\n",
              "      <th>23</th>\n",
              "      <td>E</td>\n",
              "      <td>G</td>\n",
              "      <td>0.072884</td>\n",
              "      <td>-0.001042</td>\n",
              "      <td>0.146810</td>\n",
              "      <td>4.827533</td>\n",
              "      <td>0.054794</td>\n",
              "    </tr>\n",
              "    <tr>\n",
              "      <th>24</th>\n",
              "      <td>E</td>\n",
              "      <td>H</td>\n",
              "      <td>0.020808</td>\n",
              "      <td>-0.053118</td>\n",
              "      <td>0.094734</td>\n",
              "      <td>1.378202</td>\n",
              "      <td>0.900000</td>\n",
              "    </tr>\n",
              "    <tr>\n",
              "      <th>25</th>\n",
              "      <td>F</td>\n",
              "      <td>G</td>\n",
              "      <td>0.059181</td>\n",
              "      <td>-0.014745</td>\n",
              "      <td>0.133107</td>\n",
              "      <td>3.919892</td>\n",
              "      <td>0.170786</td>\n",
              "    </tr>\n",
              "    <tr>\n",
              "      <th>26</th>\n",
              "      <td>F</td>\n",
              "      <td>H</td>\n",
              "      <td>0.007104</td>\n",
              "      <td>-0.066822</td>\n",
              "      <td>0.081030</td>\n",
              "      <td>0.470562</td>\n",
              "      <td>0.900000</td>\n",
              "    </tr>\n",
              "    <tr>\n",
              "      <th>27</th>\n",
              "      <td>G</td>\n",
              "      <td>H</td>\n",
              "      <td>0.052077</td>\n",
              "      <td>-0.021849</td>\n",
              "      <td>0.126003</td>\n",
              "      <td>3.449331</td>\n",
              "      <td>0.287441</td>\n",
              "    </tr>\n",
              "  </tbody>\n",
              "</table>\n",
              "</div>"
            ],
            "text/plain": [
              "   group1 group2      Diff     Lower     Upper    q-value   p-value\n",
              "0       A      B  0.015892 -0.058034  0.089818   1.052610  0.900000\n",
              "1       A      C  0.004202 -0.069724  0.078128   0.278351  0.900000\n",
              "2       A      D  0.138063  0.064137  0.211989   9.144721  0.001000\n",
              "3       A      E  0.022210 -0.051716  0.096136   1.471073  0.900000\n",
              "4       A      F  0.008506 -0.065420  0.082432   0.563433  0.900000\n",
              "5       A      G  0.050674 -0.023252  0.124600   3.356460  0.315978\n",
              "6       A      H  0.001402 -0.072524  0.075328   0.092871  0.900000\n",
              "7       B      C  0.020094 -0.053832  0.094020   1.330961  0.900000\n",
              "8       B      D  0.122171  0.048245  0.196097   8.092111  0.001000\n",
              "9       B      E  0.038102 -0.035824  0.112028   2.523683  0.623617\n",
              "10      B      F  0.024398 -0.049528  0.098324   1.616043  0.900000\n",
              "11      B      G  0.034783 -0.039143  0.108709   2.303850  0.705895\n",
              "12      B      H  0.017294 -0.056632  0.091220   1.145481  0.900000\n",
              "13      C      D  0.142266  0.068340  0.216192   9.423072  0.001000\n",
              "14      C      E  0.018007 -0.055919  0.091933   1.192722  0.900000\n",
              "15      C      F  0.004304 -0.069622  0.078230   0.285082  0.900000\n",
              "16      C      G  0.054877 -0.019049  0.128803   3.634811  0.235741\n",
              "17      C      H  0.002800 -0.071126  0.076726   0.185480  0.900000\n",
              "18      D      E  0.160273  0.086347  0.234199  10.615794  0.001000\n",
              "19      D      F  0.146570  0.072644  0.220496   9.708154  0.001000\n",
              "20      D      G  0.087389  0.013463  0.161315   5.788261  0.014935\n",
              "21      D      H  0.139465  0.065539  0.213391   9.237592  0.001000\n",
              "22      E      F  0.013703 -0.060223  0.087629   0.907640  0.900000\n",
              "23      E      G  0.072884 -0.001042  0.146810   4.827533  0.054794\n",
              "24      E      H  0.020808 -0.053118  0.094734   1.378202  0.900000\n",
              "25      F      G  0.059181 -0.014745  0.133107   3.919892  0.170786\n",
              "26      F      H  0.007104 -0.066822  0.081030   0.470562  0.900000\n",
              "27      G      H  0.052077 -0.021849  0.126003   3.449331  0.287441"
            ]
          },
          "metadata": {
            "tags": []
          },
          "execution_count": 13
        }
      ]
    },
    {
      "cell_type": "code",
      "metadata": {
        "id": "LOMv5Te7Csb8"
      },
      "source": [
        "# QQ-plot\n",
        "import statsmodels.api as sm\n",
        "import matplotlib.pyplot as plt\n"
      ],
      "execution_count": null,
      "outputs": []
    },
    {
      "cell_type": "code",
      "metadata": {
        "colab": {
          "base_uri": "https://localhost:8080/",
          "height": 279
        },
        "id": "9q_WSyL4KDwY",
        "outputId": "2e265b4e-e0cb-48e0-8540-c918b9f1a713"
      },
      "source": [
        "# res.anova_std_residuals are standardized residuals obtained from ANOVA (check above)\n",
        "sm.qqplot(res.anova_std_residuals, line='45')\n",
        "plt.xlabel(\"Theoretical Quantiles\")\n",
        "plt.ylabel(\"Standardized Residuals\")\n",
        "plt.show()"
      ],
      "execution_count": null,
      "outputs": [
        {
          "output_type": "display_data",
          "data": {
            "image/png": "[encoded data removed]",
            "text/plain": [
              "<Figure size 432x288 with 1 Axes>"
            ]
          },
          "metadata": {
            "tags": [],
            "needs_background": "light"
          }
        }
      ]
    },
    {
      "cell_type": "code",
      "metadata": {
        "colab": {
          "base_uri": "https://localhost:8080/",
          "height": 279
        },
        "id": "4_iCmchRRv_B",
        "outputId": "f40facb0-0102-472b-9b14-41c10ef73d90"
      },
      "source": [
        "# histogram\n",
        "plt.hist(res.anova_model_out.resid, bins='auto', histtype='bar', ec='k') \n",
        "plt.xlabel(\"Residuals\")\n",
        "plt.ylabel('Frequency')\n",
        "plt.show()"
      ],
      "execution_count": null,
      "outputs": [
        {
          "output_type": "display_data",
          "data": {
            "image/png": "[encoded data removed]",
            "text/plain": [
              "<Figure size 432x288 with 1 Axes>"
            ]
          },
          "metadata": {
            "tags": [],
            "needs_background": "light"
          }
        }
      ]
    },
    {
      "cell_type": "code",
      "metadata": {
        "colab": {
          "base_uri": "https://localhost:8080/",
          "height": 142
        },
        "id": "9S5mfPOD4DGJ",
        "outputId": "9974e512-fb94-43ea-8e9c-6e616632d4bd"
      },
      "source": [
        "# if you have a stacked table, you can use bioinfokit v1.0.3 or later for the Levene's test\n",
        "from bioinfokit.analys import stat \n",
        "res = stat()\n",
        "res.levene(df=df_melt, res_var='value', xfac_var='treatments')\n",
        "res.levene_summary"
      ],
      "execution_count": null,
      "outputs": [
        {
          "output_type": "execute_result",
          "data": {
            "text/html": [
              "<div>\n",
              "<style scoped>\n",
              "    .dataframe tbody tr th:only-of-type {\n",
              "        vertical-align: middle;\n",
              "    }\n",
              "\n",
              "    .dataframe tbody tr th {\n",
              "        vertical-align: top;\n",
              "    }\n",
              "\n",
              "    .dataframe thead th {\n",
              "        text-align: right;\n",
              "    }\n",
              "</style>\n",
              "<table border=\"1\" class=\"dataframe\">\n",
              "  <thead>\n",
              "    <tr style=\"text-align: right;\">\n",
              "      <th></th>\n",
              "      <th>Parameter</th>\n",
              "      <th>Value</th>\n",
              "    </tr>\n",
              "  </thead>\n",
              "  <tbody>\n",
              "    <tr>\n",
              "      <th>0</th>\n",
              "      <td>Test statistics (W)</td>\n",
              "      <td>0.2638</td>\n",
              "    </tr>\n",
              "    <tr>\n",
              "      <th>1</th>\n",
              "      <td>Degrees of freedom (Df)</td>\n",
              "      <td>7.0000</td>\n",
              "    </tr>\n",
              "    <tr>\n",
              "      <th>2</th>\n",
              "      <td>p value</td>\n",
              "      <td>0.9594</td>\n",
              "    </tr>\n",
              "  </tbody>\n",
              "</table>\n",
              "</div>"
            ],
            "text/plain": [
              "                 Parameter   Value\n",
              "0      Test statistics (W)  0.2638\n",
              "1  Degrees of freedom (Df)  7.0000\n",
              "2                  p value  0.9594"
            ]
          },
          "metadata": {
            "tags": []
          },
          "execution_count": 21
        }
      ]
    },
    {
      "cell_type": "code",
      "metadata": {
        "id": "V_2Uay4m6Ncf"
      },
      "source": [
        ""
      ],
      "execution_count": null,
      "outputs": []
    },
    {
      "cell_type": "code",
      "metadata": {
        "colab": {
          "base_uri": "https://localhost:8080/",
          "height": 142
        },
        "id": "h5pTXztm4cRn",
        "outputId": "f828a8a0-fdf7-4944-e052-3a9f81dbaeba"
      },
      "source": [
        "#ERBETA\n",
        "import pandas as pd\n",
        "# load data file\n",
        "df = pd.read_csv(\"/content/ERBETA.txt\", sep=\"\\t\")\n",
        "df"
      ],
      "execution_count": null,
      "outputs": [
        {
          "output_type": "execute_result",
          "data": {
            "text/html": [
              "<div>\n",
              "<style scoped>\n",
              "    .dataframe tbody tr th:only-of-type {\n",
              "        vertical-align: middle;\n",
              "    }\n",
              "\n",
              "    .dataframe tbody tr th {\n",
              "        vertical-align: top;\n",
              "    }\n",
              "\n",
              "    .dataframe thead th {\n",
              "        text-align: right;\n",
              "    }\n",
              "</style>\n",
              "<table border=\"1\" class=\"dataframe\">\n",
              "  <thead>\n",
              "    <tr style=\"text-align: right;\">\n",
              "      <th></th>\n",
              "      <th>A</th>\n",
              "      <th>B</th>\n",
              "      <th>C</th>\n",
              "      <th>D</th>\n",
              "      <th>E</th>\n",
              "      <th>F</th>\n",
              "      <th>G</th>\n",
              "      <th>H</th>\n",
              "    </tr>\n",
              "  </thead>\n",
              "  <tbody>\n",
              "    <tr>\n",
              "      <th>0</th>\n",
              "      <td>0.790500</td>\n",
              "      <td>1.185471</td>\n",
              "      <td>1.329677</td>\n",
              "      <td>1.305471</td>\n",
              "      <td>0.897504</td>\n",
              "      <td>0.751024</td>\n",
              "      <td>0.873591</td>\n",
              "      <td>1.182036</td>\n",
              "    </tr>\n",
              "    <tr>\n",
              "      <th>1</th>\n",
              "      <td>0.684571</td>\n",
              "      <td>1.272870</td>\n",
              "      <td>1.432498</td>\n",
              "      <td>1.228470</td>\n",
              "      <td>0.739809</td>\n",
              "      <td>0.595011</td>\n",
              "      <td>0.808474</td>\n",
              "      <td>1.237052</td>\n",
              "    </tr>\n",
              "    <tr>\n",
              "      <th>2</th>\n",
              "      <td>0.734282</td>\n",
              "      <td>1.127258</td>\n",
              "      <td>1.246390</td>\n",
              "      <td>1.006808</td>\n",
              "      <td>0.689574</td>\n",
              "      <td>0.725795</td>\n",
              "      <td>1.089279</td>\n",
              "      <td>1.138708</td>\n",
              "    </tr>\n",
              "  </tbody>\n",
              "</table>\n",
              "</div>"
            ],
            "text/plain": [
              "          A         B         C  ...         F         G         H\n",
              "0  0.790500  1.185471  1.329677  ...  0.751024  0.873591  1.182036\n",
              "1  0.684571  1.272870  1.432498  ...  0.595011  0.808474  1.237052\n",
              "2  0.734282  1.127258  1.246390  ...  0.725795  1.089279  1.138708\n",
              "\n",
              "[3 rows x 8 columns]"
            ]
          },
          "metadata": {
            "tags": []
          },
          "execution_count": 2
        }
      ]
    },
    {
      "cell_type": "code",
      "metadata": {
        "id": "OZ6JOlrDjhwD"
      },
      "source": [
        "# reshape the d dataframe suitable for statsmodels package \n",
        "df_melt = pd.melt(df.reset_index(), id_vars=['index'], value_vars=['A', 'B', 'C', 'D','E','F','G','H'])\n",
        "# replace column names\n",
        "df_melt.columns = ['index', 'treatments', 'value']"
      ],
      "execution_count": null,
      "outputs": []
    },
    {
      "cell_type": "code",
      "metadata": {
        "id": "rMIWsxfJmdOQ"
      },
      "source": [
        "# generate a boxplot to see the data distribution by treatments. Using boxplot, we can \n",
        "# easily detect the differences between different treatments\n",
        "import matplotlib.pyplot as plt\n",
        "import seaborn as sns"
      ],
      "execution_count": null,
      "outputs": []
    },
    {
      "cell_type": "code",
      "metadata": {
        "colab": {
          "base_uri": "https://localhost:8080/",
          "height": 279
        },
        "id": "nMOlrJEDmhYw",
        "outputId": "dd6074f6-b655-4a43-f559-65f42b51667e"
      },
      "source": [
        "ax = sns.boxplot(x='treatments', y='value', data=df_melt, color='#99c2a2')\n",
        "ax = sns.swarmplot(x=\"treatments\", y=\"value\", data=df_melt, color='#7d0013')\n",
        "plt.show()"
      ],
      "execution_count": null,
      "outputs": [
        {
          "output_type": "display_data",
          "data": {
            "image/png": "[encoded data removed]",
            "text/plain": [
              "<Figure size 432x288 with 1 Axes>"
            ]
          },
          "metadata": {
            "tags": [],
            "needs_background": "light"
          }
        }
      ]
    },
    {
      "cell_type": "code",
      "metadata": {
        "colab": {
          "base_uri": "https://localhost:8080/"
        },
        "id": "hsXjyM3jmnb6",
        "outputId": "030429bd-c6e5-44d6-fa45-84582b17f5b0"
      },
      "source": [
        "import scipy.stats as stats\n",
        "# stats f_oneway functions takes the groups as input and returns ANOVA F and p value\n",
        "fvalue, pvalue = stats.f_oneway(df['A'], df['B'], df['C'], df['D'],df['E'],df['F'],df['G'],df['H'])\n",
        "print(fvalue, pvalue)"
      ],
      "execution_count": null,
      "outputs": [
        {
          "output_type": "stream",
          "text": [
            "17.9942143838955 1.776572164655396e-06\n"
          ],
          "name": "stdout"
        }
      ]
    },
    {
      "cell_type": "code",
      "metadata": {
        "colab": {
          "base_uri": "https://localhost:8080/"
        },
        "id": "OpvJ3jgOmsbQ",
        "outputId": "bd2c00dc-7599-4209-d874-377ea1f3ee31"
      },
      "source": [
        "# get ANOVA table as R like output\n",
        "import statsmodels.api as sm\n",
        "from statsmodels.formula.api import ols"
      ],
      "execution_count": null,
      "outputs": [
        {
          "output_type": "stream",
          "text": [
            "/usr/local/lib/python3.7/dist-packages/statsmodels/tools/_testing.py:19: FutureWarning: pandas.util.testing is deprecated. Use the functions in the public API at pandas.testing instead.\n",
            "  import pandas.util.testing as tm\n"
          ],
          "name": "stderr"
        }
      ]
    },
    {
      "cell_type": "code",
      "metadata": {
        "colab": {
          "base_uri": "https://localhost:8080/",
          "height": 111
        },
        "id": "9ukWZAJ_mwwQ",
        "outputId": "96568f43-de52-4e54-991e-66453bdb63e8"
      },
      "source": [
        "# Ordinary Least Squares (OLS) model\n",
        "model = ols('value ~ C(treatments)', data=df_melt).fit()\n",
        "anova_table = sm.stats.anova_lm(model, typ=2)\n",
        "anova_table"
      ],
      "execution_count": null,
      "outputs": [
        {
          "output_type": "execute_result",
          "data": {
            "text/html": [
              "<div>\n",
              "<style scoped>\n",
              "    .dataframe tbody tr th:only-of-type {\n",
              "        vertical-align: middle;\n",
              "    }\n",
              "\n",
              "    .dataframe tbody tr th {\n",
              "        vertical-align: top;\n",
              "    }\n",
              "\n",
              "    .dataframe thead th {\n",
              "        text-align: right;\n",
              "    }\n",
              "</style>\n",
              "<table border=\"1\" class=\"dataframe\">\n",
              "  <thead>\n",
              "    <tr style=\"text-align: right;\">\n",
              "      <th></th>\n",
              "      <th>sum_sq</th>\n",
              "      <th>df</th>\n",
              "      <th>F</th>\n",
              "      <th>PR(&gt;F)</th>\n",
              "    </tr>\n",
              "  </thead>\n",
              "  <tbody>\n",
              "    <tr>\n",
              "      <th>C(treatments)</th>\n",
              "      <td>1.318338</td>\n",
              "      <td>7.0</td>\n",
              "      <td>17.994214</td>\n",
              "      <td>0.000002</td>\n",
              "    </tr>\n",
              "    <tr>\n",
              "      <th>Residual</th>\n",
              "      <td>0.167462</td>\n",
              "      <td>16.0</td>\n",
              "      <td>NaN</td>\n",
              "      <td>NaN</td>\n",
              "    </tr>\n",
              "  </tbody>\n",
              "</table>\n",
              "</div>"
            ],
            "text/plain": [
              "                 sum_sq    df          F    PR(>F)\n",
              "C(treatments)  1.318338   7.0  17.994214  0.000002\n",
              "Residual       0.167462  16.0        NaN       NaN"
            ]
          },
          "metadata": {
            "tags": []
          },
          "execution_count": 8
        }
      ]
    },
    {
      "cell_type": "code",
      "metadata": {
        "colab": {
          "base_uri": "https://localhost:8080/"
        },
        "id": "1mNa-2Vtm3R_",
        "outputId": "ed8e7e5f-7c5f-4a16-bba4-082696605860"
      },
      "source": [
        "pip install bioinfokit"
      ],
      "execution_count": null,
      "outputs": [
        {
          "output_type": "stream",
          "text": [
            "Collecting bioinfokit\n",
            "\u001b[?25l  Downloading https://files.pythonhosted.org/packages/0f/2b/c219e90dfddcaa19726152cd12c4f1beae0c9e0efe82e9fa75dd81adad19/bioinfokit-2.0.4.tar.gz (82kB)\n",
            "\r\u001b[K     |████                            | 10kB 10.7MB/s eta 0:00:01\r\u001b[K     |████████                        | 20kB 15.5MB/s eta 0:00:01\r\u001b[K     |████████████                    | 30kB 13.7MB/s eta 0:00:01\r\u001b[K     |███████████████▉                | 40kB 8.8MB/s eta 0:00:01\r\u001b[K     |███████████████████▉            | 51kB 5.8MB/s eta 0:00:01\r\u001b[K     |███████████████████████▉        | 61kB 5.3MB/s eta 0:00:01\r\u001b[K     |███████████████████████████▊    | 71kB 5.8MB/s eta 0:00:01\r\u001b[K     |███████████████████████████████▊| 81kB 6.4MB/s eta 0:00:01\r\u001b[K     |████████████████████████████████| 92kB 3.6MB/s \n",
            "\u001b[?25hRequirement already satisfied: pandas in /usr/local/lib/python3.7/dist-packages (from bioinfokit) (1.1.5)\n",
            "Requirement already satisfied: numpy in /usr/local/lib/python3.7/dist-packages (from bioinfokit) (1.19.5)\n",
            "Requirement already satisfied: matplotlib in /usr/local/lib/python3.7/dist-packages (from bioinfokit) (3.2.2)\n",
            "Requirement already satisfied: scipy in /usr/local/lib/python3.7/dist-packages (from bioinfokit) (1.4.1)\n",
            "Requirement already satisfied: scikit-learn in /usr/local/lib/python3.7/dist-packages (from bioinfokit) (0.22.2.post1)\n",
            "Requirement already satisfied: seaborn in /usr/local/lib/python3.7/dist-packages (from bioinfokit) (0.11.1)\n",
            "Requirement already satisfied: matplotlib-venn in /usr/local/lib/python3.7/dist-packages (from bioinfokit) (0.11.6)\n",
            "Requirement already satisfied: tabulate in /usr/local/lib/python3.7/dist-packages (from bioinfokit) (0.8.9)\n",
            "Requirement already satisfied: statsmodels in /usr/local/lib/python3.7/dist-packages (from bioinfokit) (0.10.2)\n",
            "Collecting textwrap3\n",
            "  Downloading https://files.pythonhosted.org/packages/77/9c/a53e561d496ee5866bbeea4d3a850b3b545ed854f8a21007c1e0d872e94d/textwrap3-0.9.2-py2.py3-none-any.whl\n",
            "Collecting adjustText\n",
            "  Downloading https://files.pythonhosted.org/packages/9e/15/4157718bf323fd5f5b81c891c660d0f388e042d2689a558bf1389632dc44/adjustText-0.7.3.tar.gz\n",
            "Requirement already satisfied: python-dateutil>=2.7.3 in /usr/local/lib/python3.7/dist-packages (from pandas->bioinfokit) (2.8.1)\n",
            "Requirement already satisfied: pytz>=2017.2 in /usr/local/lib/python3.7/dist-packages (from pandas->bioinfokit) (2018.9)\n",
            "Requirement already satisfied: pyparsing!=2.0.4,!=2.1.2,!=2.1.6,>=2.0.1 in /usr/local/lib/python3.7/dist-packages (from matplotlib->bioinfokit) (2.4.7)\n",
            "Requirement already satisfied: kiwisolver>=1.0.1 in /usr/local/lib/python3.7/dist-packages (from matplotlib->bioinfokit) (1.3.1)\n",
            "Requirement already satisfied: cycler>=0.10 in /usr/local/lib/python3.7/dist-packages (from matplotlib->bioinfokit) (0.10.0)\n",
            "Requirement already satisfied: joblib>=0.11 in /usr/local/lib/python3.7/dist-packages (from scikit-learn->bioinfokit) (1.0.1)\n",
            "Requirement already satisfied: patsy>=0.4.0 in /usr/local/lib/python3.7/dist-packages (from statsmodels->bioinfokit) (0.5.1)\n",
            "Requirement already satisfied: six>=1.5 in /usr/local/lib/python3.7/dist-packages (from python-dateutil>=2.7.3->pandas->bioinfokit) (1.15.0)\n",
            "Building wheels for collected packages: bioinfokit, adjustText\n",
            "  Building wheel for bioinfokit (setup.py) ... \u001b[?25l\u001b[?25hdone\n",
            "  Created wheel for bioinfokit: filename=bioinfokit-2.0.4-cp37-none-any.whl size=56008 sha256=2f239fc556f8d2c5e6c145e0650c3d7f29cb6c4aeb318d9fba2235c96985eb4c\n",
            "  Stored in directory: /root/.cache/pip/wheels/43/cf/aa/4a4fe54a3edb663ee7bd9b245bd946506c8bd4b99f4ae00507\n",
            "  Building wheel for adjustText (setup.py) ... \u001b[?25l\u001b[?25hdone\n",
            "  Created wheel for adjustText: filename=adjustText-0.7.3-cp37-none-any.whl size=7100 sha256=4469dc40fe7a8cd7a73ff87411597867ffd75e178adeaaf73e0bb25f43ed9a04\n",
            "  Stored in directory: /root/.cache/pip/wheels/41/95/74/7d347e136d672f8bc28e937032bc92baf4f80856763a7e7b72\n",
            "Successfully built bioinfokit adjustText\n",
            "Installing collected packages: textwrap3, adjustText, bioinfokit\n",
            "Successfully installed adjustText-0.7.3 bioinfokit-2.0.4 textwrap3-0.9.2\n"
          ],
          "name": "stdout"
        }
      ]
    },
    {
      "cell_type": "code",
      "metadata": {
        "colab": {
          "base_uri": "https://localhost:8080/",
          "height": 111
        },
        "id": "uRD7omVym7zv",
        "outputId": "e9266727-8190-4a10-831b-e8398a369304"
      },
      "source": [
        "from bioinfokit.analys import stat\n",
        "res = stat()\n",
        "res.anova_stat(df=df_melt, res_var='value', anova_model='value ~ C(treatments)')\n",
        "res.anova_summary"
      ],
      "execution_count": null,
      "outputs": [
        {
          "output_type": "execute_result",
          "data": {
            "text/html": [
              "<div>\n",
              "<style scoped>\n",
              "    .dataframe tbody tr th:only-of-type {\n",
              "        vertical-align: middle;\n",
              "    }\n",
              "\n",
              "    .dataframe tbody tr th {\n",
              "        vertical-align: top;\n",
              "    }\n",
              "\n",
              "    .dataframe thead th {\n",
              "        text-align: right;\n",
              "    }\n",
              "</style>\n",
              "<table border=\"1\" class=\"dataframe\">\n",
              "  <thead>\n",
              "    <tr style=\"text-align: right;\">\n",
              "      <th></th>\n",
              "      <th>df</th>\n",
              "      <th>sum_sq</th>\n",
              "      <th>mean_sq</th>\n",
              "      <th>F</th>\n",
              "      <th>PR(&gt;F)</th>\n",
              "    </tr>\n",
              "  </thead>\n",
              "  <tbody>\n",
              "    <tr>\n",
              "      <th>C(treatments)</th>\n",
              "      <td>7.0</td>\n",
              "      <td>1.318338</td>\n",
              "      <td>0.188334</td>\n",
              "      <td>17.994214</td>\n",
              "      <td>0.000002</td>\n",
              "    </tr>\n",
              "    <tr>\n",
              "      <th>Residual</th>\n",
              "      <td>16.0</td>\n",
              "      <td>0.167462</td>\n",
              "      <td>0.010466</td>\n",
              "      <td>NaN</td>\n",
              "      <td>NaN</td>\n",
              "    </tr>\n",
              "  </tbody>\n",
              "</table>\n",
              "</div>"
            ],
            "text/plain": [
              "                 df    sum_sq   mean_sq          F    PR(>F)\n",
              "C(treatments)   7.0  1.318338  0.188334  17.994214  0.000002\n",
              "Residual       16.0  0.167462  0.010466        NaN       NaN"
            ]
          },
          "metadata": {
            "tags": []
          },
          "execution_count": 11
        }
      ]
    },
    {
      "cell_type": "code",
      "metadata": {
        "colab": {
          "base_uri": "https://localhost:8080/",
          "height": 917
        },
        "id": "meSZpl6_nAg3",
        "outputId": "aed9acfc-d4b4-4eb8-f9fd-44afcb50f769"
      },
      "source": [
        "from bioinfokit.analys import stat\n",
        "res = stat()\n",
        "res.tukey_hsd(df=df_melt, res_var='value', xfac_var='treatments', anova_model='value ~ C(treatments)')\n",
        "res.tukey_summary"
      ],
      "execution_count": null,
      "outputs": [
        {
          "output_type": "execute_result",
          "data": {
            "text/html": [
              "<div>\n",
              "<style scoped>\n",
              "    .dataframe tbody tr th:only-of-type {\n",
              "        vertical-align: middle;\n",
              "    }\n",
              "\n",
              "    .dataframe tbody tr th {\n",
              "        vertical-align: top;\n",
              "    }\n",
              "\n",
              "    .dataframe thead th {\n",
              "        text-align: right;\n",
              "    }\n",
              "</style>\n",
              "<table border=\"1\" class=\"dataframe\">\n",
              "  <thead>\n",
              "    <tr style=\"text-align: right;\">\n",
              "      <th></th>\n",
              "      <th>group1</th>\n",
              "      <th>group2</th>\n",
              "      <th>Diff</th>\n",
              "      <th>Lower</th>\n",
              "      <th>Upper</th>\n",
              "      <th>q-value</th>\n",
              "      <th>p-value</th>\n",
              "    </tr>\n",
              "  </thead>\n",
              "  <tbody>\n",
              "    <tr>\n",
              "      <th>0</th>\n",
              "      <td>A</td>\n",
              "      <td>B</td>\n",
              "      <td>0.458749</td>\n",
              "      <td>0.169530</td>\n",
              "      <td>0.747968</td>\n",
              "      <td>7.766724</td>\n",
              "      <td>0.001000</td>\n",
              "    </tr>\n",
              "    <tr>\n",
              "      <th>1</th>\n",
              "      <td>A</td>\n",
              "      <td>C</td>\n",
              "      <td>0.599738</td>\n",
              "      <td>0.310519</td>\n",
              "      <td>0.888956</td>\n",
              "      <td>10.153692</td>\n",
              "      <td>0.001000</td>\n",
              "    </tr>\n",
              "    <tr>\n",
              "      <th>2</th>\n",
              "      <td>A</td>\n",
              "      <td>D</td>\n",
              "      <td>0.443799</td>\n",
              "      <td>0.154580</td>\n",
              "      <td>0.733018</td>\n",
              "      <td>7.513614</td>\n",
              "      <td>0.001404</td>\n",
              "    </tr>\n",
              "    <tr>\n",
              "      <th>3</th>\n",
              "      <td>A</td>\n",
              "      <td>E</td>\n",
              "      <td>0.039178</td>\n",
              "      <td>-0.250041</td>\n",
              "      <td>0.328397</td>\n",
              "      <td>0.663295</td>\n",
              "      <td>0.900000</td>\n",
              "    </tr>\n",
              "    <tr>\n",
              "      <th>4</th>\n",
              "      <td>A</td>\n",
              "      <td>F</td>\n",
              "      <td>0.045841</td>\n",
              "      <td>-0.243378</td>\n",
              "      <td>0.335060</td>\n",
              "      <td>0.776095</td>\n",
              "      <td>0.900000</td>\n",
              "    </tr>\n",
              "    <tr>\n",
              "      <th>5</th>\n",
              "      <td>A</td>\n",
              "      <td>G</td>\n",
              "      <td>0.187331</td>\n",
              "      <td>-0.101888</td>\n",
              "      <td>0.476550</td>\n",
              "      <td>3.171550</td>\n",
              "      <td>0.379864</td>\n",
              "    </tr>\n",
              "    <tr>\n",
              "      <th>6</th>\n",
              "      <td>A</td>\n",
              "      <td>H</td>\n",
              "      <td>0.449481</td>\n",
              "      <td>0.160262</td>\n",
              "      <td>0.738700</td>\n",
              "      <td>7.609818</td>\n",
              "      <td>0.001235</td>\n",
              "    </tr>\n",
              "    <tr>\n",
              "      <th>7</th>\n",
              "      <td>B</td>\n",
              "      <td>C</td>\n",
              "      <td>0.140989</td>\n",
              "      <td>-0.148230</td>\n",
              "      <td>0.430207</td>\n",
              "      <td>2.386968</td>\n",
              "      <td>0.674787</td>\n",
              "    </tr>\n",
              "    <tr>\n",
              "      <th>8</th>\n",
              "      <td>B</td>\n",
              "      <td>D</td>\n",
              "      <td>0.014950</td>\n",
              "      <td>-0.274269</td>\n",
              "      <td>0.304169</td>\n",
              "      <td>0.253109</td>\n",
              "      <td>0.900000</td>\n",
              "    </tr>\n",
              "    <tr>\n",
              "      <th>9</th>\n",
              "      <td>B</td>\n",
              "      <td>E</td>\n",
              "      <td>0.419571</td>\n",
              "      <td>0.130352</td>\n",
              "      <td>0.708790</td>\n",
              "      <td>7.103428</td>\n",
              "      <td>0.002450</td>\n",
              "    </tr>\n",
              "    <tr>\n",
              "      <th>10</th>\n",
              "      <td>B</td>\n",
              "      <td>F</td>\n",
              "      <td>0.504590</td>\n",
              "      <td>0.215371</td>\n",
              "      <td>0.793809</td>\n",
              "      <td>8.542819</td>\n",
              "      <td>0.001000</td>\n",
              "    </tr>\n",
              "    <tr>\n",
              "      <th>11</th>\n",
              "      <td>B</td>\n",
              "      <td>G</td>\n",
              "      <td>0.271418</td>\n",
              "      <td>-0.017800</td>\n",
              "      <td>0.560637</td>\n",
              "      <td>4.595174</td>\n",
              "      <td>0.074282</td>\n",
              "    </tr>\n",
              "    <tr>\n",
              "      <th>12</th>\n",
              "      <td>B</td>\n",
              "      <td>H</td>\n",
              "      <td>0.009268</td>\n",
              "      <td>-0.279951</td>\n",
              "      <td>0.298487</td>\n",
              "      <td>0.156905</td>\n",
              "      <td>0.900000</td>\n",
              "    </tr>\n",
              "    <tr>\n",
              "      <th>13</th>\n",
              "      <td>C</td>\n",
              "      <td>D</td>\n",
              "      <td>0.155939</td>\n",
              "      <td>-0.133280</td>\n",
              "      <td>0.445158</td>\n",
              "      <td>2.640078</td>\n",
              "      <td>0.580056</td>\n",
              "    </tr>\n",
              "    <tr>\n",
              "      <th>14</th>\n",
              "      <td>C</td>\n",
              "      <td>E</td>\n",
              "      <td>0.560559</td>\n",
              "      <td>0.271341</td>\n",
              "      <td>0.849778</td>\n",
              "      <td>9.490396</td>\n",
              "      <td>0.001000</td>\n",
              "    </tr>\n",
              "    <tr>\n",
              "      <th>15</th>\n",
              "      <td>C</td>\n",
              "      <td>F</td>\n",
              "      <td>0.645578</td>\n",
              "      <td>0.356360</td>\n",
              "      <td>0.934797</td>\n",
              "      <td>10.929787</td>\n",
              "      <td>0.001000</td>\n",
              "    </tr>\n",
              "    <tr>\n",
              "      <th>16</th>\n",
              "      <td>C</td>\n",
              "      <td>G</td>\n",
              "      <td>0.412407</td>\n",
              "      <td>0.123188</td>\n",
              "      <td>0.701626</td>\n",
              "      <td>6.982142</td>\n",
              "      <td>0.002890</td>\n",
              "    </tr>\n",
              "    <tr>\n",
              "      <th>17</th>\n",
              "      <td>C</td>\n",
              "      <td>H</td>\n",
              "      <td>0.150256</td>\n",
              "      <td>-0.138963</td>\n",
              "      <td>0.439475</td>\n",
              "      <td>2.543873</td>\n",
              "      <td>0.616063</td>\n",
              "    </tr>\n",
              "    <tr>\n",
              "      <th>18</th>\n",
              "      <td>D</td>\n",
              "      <td>E</td>\n",
              "      <td>0.404621</td>\n",
              "      <td>0.115402</td>\n",
              "      <td>0.693840</td>\n",
              "      <td>6.850319</td>\n",
              "      <td>0.003462</td>\n",
              "    </tr>\n",
              "    <tr>\n",
              "      <th>19</th>\n",
              "      <td>D</td>\n",
              "      <td>F</td>\n",
              "      <td>0.489640</td>\n",
              "      <td>0.200421</td>\n",
              "      <td>0.778859</td>\n",
              "      <td>8.289709</td>\n",
              "      <td>0.001000</td>\n",
              "    </tr>\n",
              "    <tr>\n",
              "      <th>20</th>\n",
              "      <td>D</td>\n",
              "      <td>G</td>\n",
              "      <td>0.256468</td>\n",
              "      <td>-0.032751</td>\n",
              "      <td>0.545687</td>\n",
              "      <td>4.342064</td>\n",
              "      <td>0.102303</td>\n",
              "    </tr>\n",
              "    <tr>\n",
              "      <th>21</th>\n",
              "      <td>D</td>\n",
              "      <td>H</td>\n",
              "      <td>0.005682</td>\n",
              "      <td>-0.283536</td>\n",
              "      <td>0.294901</td>\n",
              "      <td>0.096204</td>\n",
              "      <td>0.900000</td>\n",
              "    </tr>\n",
              "    <tr>\n",
              "      <th>22</th>\n",
              "      <td>E</td>\n",
              "      <td>F</td>\n",
              "      <td>0.085019</td>\n",
              "      <td>-0.204200</td>\n",
              "      <td>0.374238</td>\n",
              "      <td>1.439391</td>\n",
              "      <td>0.900000</td>\n",
              "    </tr>\n",
              "    <tr>\n",
              "      <th>23</th>\n",
              "      <td>E</td>\n",
              "      <td>G</td>\n",
              "      <td>0.148152</td>\n",
              "      <td>-0.141066</td>\n",
              "      <td>0.437371</td>\n",
              "      <td>2.508254</td>\n",
              "      <td>0.629394</td>\n",
              "    </tr>\n",
              "    <tr>\n",
              "      <th>24</th>\n",
              "      <td>E</td>\n",
              "      <td>H</td>\n",
              "      <td>0.410303</td>\n",
              "      <td>0.121084</td>\n",
              "      <td>0.699522</td>\n",
              "      <td>6.946523</td>\n",
              "      <td>0.003035</td>\n",
              "    </tr>\n",
              "    <tr>\n",
              "      <th>25</th>\n",
              "      <td>F</td>\n",
              "      <td>G</td>\n",
              "      <td>0.233171</td>\n",
              "      <td>-0.056047</td>\n",
              "      <td>0.522390</td>\n",
              "      <td>3.947645</td>\n",
              "      <td>0.165298</td>\n",
              "    </tr>\n",
              "    <tr>\n",
              "      <th>26</th>\n",
              "      <td>F</td>\n",
              "      <td>H</td>\n",
              "      <td>0.495322</td>\n",
              "      <td>0.206103</td>\n",
              "      <td>0.784541</td>\n",
              "      <td>8.385914</td>\n",
              "      <td>0.001000</td>\n",
              "    </tr>\n",
              "    <tr>\n",
              "      <th>27</th>\n",
              "      <td>G</td>\n",
              "      <td>H</td>\n",
              "      <td>0.262151</td>\n",
              "      <td>-0.027068</td>\n",
              "      <td>0.551370</td>\n",
              "      <td>4.438269</td>\n",
              "      <td>0.090508</td>\n",
              "    </tr>\n",
              "  </tbody>\n",
              "</table>\n",
              "</div>"
            ],
            "text/plain": [
              "   group1 group2      Diff     Lower     Upper    q-value   p-value\n",
              "0       A      B  0.458749  0.169530  0.747968   7.766724  0.001000\n",
              "1       A      C  0.599738  0.310519  0.888956  10.153692  0.001000\n",
              "2       A      D  0.443799  0.154580  0.733018   7.513614  0.001404\n",
              "3       A      E  0.039178 -0.250041  0.328397   0.663295  0.900000\n",
              "4       A      F  0.045841 -0.243378  0.335060   0.776095  0.900000\n",
              "5       A      G  0.187331 -0.101888  0.476550   3.171550  0.379864\n",
              "6       A      H  0.449481  0.160262  0.738700   7.609818  0.001235\n",
              "7       B      C  0.140989 -0.148230  0.430207   2.386968  0.674787\n",
              "8       B      D  0.014950 -0.274269  0.304169   0.253109  0.900000\n",
              "9       B      E  0.419571  0.130352  0.708790   7.103428  0.002450\n",
              "10      B      F  0.504590  0.215371  0.793809   8.542819  0.001000\n",
              "11      B      G  0.271418 -0.017800  0.560637   4.595174  0.074282\n",
              "12      B      H  0.009268 -0.279951  0.298487   0.156905  0.900000\n",
              "13      C      D  0.155939 -0.133280  0.445158   2.640078  0.580056\n",
              "14      C      E  0.560559  0.271341  0.849778   9.490396  0.001000\n",
              "15      C      F  0.645578  0.356360  0.934797  10.929787  0.001000\n",
              "16      C      G  0.412407  0.123188  0.701626   6.982142  0.002890\n",
              "17      C      H  0.150256 -0.138963  0.439475   2.543873  0.616063\n",
              "18      D      E  0.404621  0.115402  0.693840   6.850319  0.003462\n",
              "19      D      F  0.489640  0.200421  0.778859   8.289709  0.001000\n",
              "20      D      G  0.256468 -0.032751  0.545687   4.342064  0.102303\n",
              "21      D      H  0.005682 -0.283536  0.294901   0.096204  0.900000\n",
              "22      E      F  0.085019 -0.204200  0.374238   1.439391  0.900000\n",
              "23      E      G  0.148152 -0.141066  0.437371   2.508254  0.629394\n",
              "24      E      H  0.410303  0.121084  0.699522   6.946523  0.003035\n",
              "25      F      G  0.233171 -0.056047  0.522390   3.947645  0.165298\n",
              "26      F      H  0.495322  0.206103  0.784541   8.385914  0.001000\n",
              "27      G      H  0.262151 -0.027068  0.551370   4.438269  0.090508"
            ]
          },
          "metadata": {
            "tags": []
          },
          "execution_count": 12
        }
      ]
    },
    {
      "cell_type": "code",
      "metadata": {
        "id": "Pj1UC1TTo_W_"
      },
      "source": [
        "# QQ-plot\n",
        "import statsmodels.api as sm\n",
        "import matplotlib.pyplot as plt"
      ],
      "execution_count": null,
      "outputs": []
    },
    {
      "cell_type": "code",
      "metadata": {
        "colab": {
          "base_uri": "https://localhost:8080/",
          "height": 279
        },
        "id": "Rg3KDXq-pOAP",
        "outputId": "2eb39dd4-6f9a-4013-c57d-d8b39402ca6b"
      },
      "source": [
        "sm.qqplot(res.anova_std_residuals, line='45')\n",
        "plt.xlabel(\"Theoretical Quantiles\")\n",
        "plt.ylabel(\"Standardized Residuals\")\n",
        "plt.show()"
      ],
      "execution_count": null,
      "outputs": [
        {
          "output_type": "display_data",
          "data": {
            "image/png": "[encoded data removed]",
            "text/plain": [
              "<Figure size 432x288 with 1 Axes>"
            ]
          },
          "metadata": {
            "tags": [],
            "needs_background": "light"
          }
        }
      ]
    },
    {
      "cell_type": "code",
      "metadata": {
        "colab": {
          "base_uri": "https://localhost:8080/",
          "height": 279
        },
        "id": "cB6EcaeppQle",
        "outputId": "f210f43c-f1f3-4add-a476-a5585107baed"
      },
      "source": [
        "#histogram\n",
        "plt.hist(res.anova_model_out.resid, bins='auto', histtype='bar', ec='k') \n",
        "plt.xlabel(\"Residuals\")\n",
        "plt.ylabel('Frequency')\n",
        "plt.show()"
      ],
      "execution_count": null,
      "outputs": [
        {
          "output_type": "display_data",
          "data": {
            "image/png": "[encoded data removed]",
            "text/plain": [
              "<Figure size 432x288 with 1 Axes>"
            ]
          },
          "metadata": {
            "tags": [],
            "needs_background": "light"
          }
        }
      ]
    },
    {
      "cell_type": "code",
      "metadata": {
        "colab": {
          "base_uri": "https://localhost:8080/"
        },
        "id": "gXbjqXXOpWMO",
        "outputId": "9df55e49-3b36-4635-8427-220ce46b887a"
      },
      "source": [
        " # standardized residuals lie around the 45-degree line, this suggests that the residuals are approximately normally distributed\n",
        "import scipy.stats as stats\n",
        "w, pvalue = stats.shapiro(model.resid)\n",
        "print(w, pvalue)\n",
        "#Used ZS\n"
      ],
      "execution_count": null,
      "outputs": [
        {
          "output_type": "stream",
          "text": [
            "0.9841324090957642 0.9582085013389587\n"
          ],
          "name": "stdout"
        }
      ]
    },
    {
      "cell_type": "code",
      "metadata": {
        "colab": {
          "base_uri": "https://localhost:8080/"
        },
        "id": "yZlzQvda2PSc",
        "outputId": "a9ffa019-6c44-4010-8a0a-5205d1c2f088"
      },
      "source": [
        "import scipy.stats as stats\n",
        "w, pvalue = stats.bartlett(df['A'], df['B'], df['C'], df['D'],df['E'],df['F'],df['G'],df['H'])\n",
        "print(w, pvalue)"
      ],
      "execution_count": null,
      "outputs": [
        {
          "output_type": "stream",
          "text": [
            "3.9671292401805873 0.7835556123389469\n"
          ],
          "name": "stdout"
        }
      ]
    },
    {
      "cell_type": "code",
      "metadata": {
        "colab": {
          "base_uri": "https://localhost:8080/",
          "height": 142
        },
        "id": "ncAtlvB95o2L",
        "outputId": "7d79dae8-0a34-4ae1-ef5d-19231b493f26"
      },
      "source": [
        "from bioinfokit.analys import stat \n",
        "res = stat()\n",
        "res.bartlett(df=df_melt, res_var='value', xfac_var='treatments')\n",
        "res.bartlett_summary"
      ],
      "execution_count": null,
      "outputs": [
        {
          "output_type": "execute_result",
          "data": {
            "text/html": [
              "<div>\n",
              "<style scoped>\n",
              "    .dataframe tbody tr th:only-of-type {\n",
              "        vertical-align: middle;\n",
              "    }\n",
              "\n",
              "    .dataframe tbody tr th {\n",
              "        vertical-align: top;\n",
              "    }\n",
              "\n",
              "    .dataframe thead th {\n",
              "        text-align: right;\n",
              "    }\n",
              "</style>\n",
              "<table border=\"1\" class=\"dataframe\">\n",
              "  <thead>\n",
              "    <tr style=\"text-align: right;\">\n",
              "      <th></th>\n",
              "      <th>Parameter</th>\n",
              "      <th>Value</th>\n",
              "    </tr>\n",
              "  </thead>\n",
              "  <tbody>\n",
              "    <tr>\n",
              "      <th>0</th>\n",
              "      <td>Test statistics (T)</td>\n",
              "      <td>3.9671</td>\n",
              "    </tr>\n",
              "    <tr>\n",
              "      <th>1</th>\n",
              "      <td>Degrees of freedom (Df)</td>\n",
              "      <td>7.0000</td>\n",
              "    </tr>\n",
              "    <tr>\n",
              "      <th>2</th>\n",
              "      <td>p value</td>\n",
              "      <td>0.7836</td>\n",
              "    </tr>\n",
              "  </tbody>\n",
              "</table>\n",
              "</div>"
            ],
            "text/plain": [
              "                 Parameter   Value\n",
              "0      Test statistics (T)  3.9671\n",
              "1  Degrees of freedom (Df)  7.0000\n",
              "2                  p value  0.7836"
            ]
          },
          "metadata": {
            "tags": []
          },
          "execution_count": 18
        }
      ]
    },
    {
      "cell_type": "code",
      "metadata": {
        "id": "aEk9sRu35uwK"
      },
      "source": [
        "# the p value (0.7836) is non significant, we fail to reject null hypothesis and conclude that treatments have equal variances.\n",
        "\n"
      ],
      "execution_count": null,
      "outputs": []
    },
    {
      "cell_type": "code",
      "metadata": {
        "colab": {
          "base_uri": "https://localhost:8080/",
          "height": 142
        },
        "id": "nLZVcolV6Kvr",
        "outputId": "a8bd038f-3f5e-4130-b70a-274ce5ba4cfe"
      },
      "source": [
        "#MNSOD\n",
        "\n",
        "import pandas as pd\n",
        "# load data file\n",
        "df = pd.read_csv(\"/content/MNSOD.txt\", sep=\"\\t\")\n",
        "df"
      ],
      "execution_count": null,
      "outputs": [
        {
          "output_type": "execute_result",
          "data": {
            "text/html": [
              "<div>\n",
              "<style scoped>\n",
              "    .dataframe tbody tr th:only-of-type {\n",
              "        vertical-align: middle;\n",
              "    }\n",
              "\n",
              "    .dataframe tbody tr th {\n",
              "        vertical-align: top;\n",
              "    }\n",
              "\n",
              "    .dataframe thead th {\n",
              "        text-align: right;\n",
              "    }\n",
              "</style>\n",
              "<table border=\"1\" class=\"dataframe\">\n",
              "  <thead>\n",
              "    <tr style=\"text-align: right;\">\n",
              "      <th></th>\n",
              "      <th>A</th>\n",
              "      <th>B</th>\n",
              "      <th>C</th>\n",
              "      <th>D</th>\n",
              "      <th>E</th>\n",
              "      <th>F</th>\n",
              "      <th>G</th>\n",
              "      <th>H</th>\n",
              "    </tr>\n",
              "  </thead>\n",
              "  <tbody>\n",
              "    <tr>\n",
              "      <th>0</th>\n",
              "      <td>0.343390</td>\n",
              "      <td>0.518813</td>\n",
              "      <td>0.512824</td>\n",
              "      <td>0.503131</td>\n",
              "      <td>0.593912</td>\n",
              "      <td>0.681530</td>\n",
              "      <td>0.667040</td>\n",
              "      <td>0.679557</td>\n",
              "    </tr>\n",
              "    <tr>\n",
              "      <th>1</th>\n",
              "      <td>0.405961</td>\n",
              "      <td>0.550234</td>\n",
              "      <td>0.468603</td>\n",
              "      <td>0.566593</td>\n",
              "      <td>0.596542</td>\n",
              "      <td>0.676215</td>\n",
              "      <td>0.723106</td>\n",
              "      <td>0.734341</td>\n",
              "    </tr>\n",
              "    <tr>\n",
              "      <th>2</th>\n",
              "      <td>0.227852</td>\n",
              "      <td>0.337555</td>\n",
              "      <td>0.290688</td>\n",
              "      <td>0.487873</td>\n",
              "      <td>0.467238</td>\n",
              "      <td>0.576175</td>\n",
              "      <td>0.718127</td>\n",
              "      <td>0.542092</td>\n",
              "    </tr>\n",
              "  </tbody>\n",
              "</table>\n",
              "</div>"
            ],
            "text/plain": [
              "          A         B         C  ...         F         G         H\n",
              "0  0.343390  0.518813  0.512824  ...  0.681530  0.667040  0.679557\n",
              "1  0.405961  0.550234  0.468603  ...  0.676215  0.723106  0.734341\n",
              "2  0.227852  0.337555  0.290688  ...  0.576175  0.718127  0.542092\n",
              "\n",
              "[3 rows x 8 columns]"
            ]
          },
          "metadata": {
            "tags": []
          },
          "execution_count": 20
        }
      ]
    },
    {
      "cell_type": "code",
      "metadata": {
        "id": "P8JQiaCbBGkC"
      },
      "source": [
        "# reshape the d dataframe suitable for statsmodels package \n",
        "df_melt = pd.melt(df.reset_index(), id_vars=['index'], value_vars=['A', 'B', 'C', 'D','E','F','G','H'])\n",
        "# replace column names\n",
        "df_melt.columns = ['index', 'treatments', 'value']"
      ],
      "execution_count": null,
      "outputs": []
    },
    {
      "cell_type": "code",
      "metadata": {
        "colab": {
          "base_uri": "https://localhost:8080/",
          "height": 279
        },
        "id": "_69BXe2gBUKQ",
        "outputId": "483f1d5d-bdad-4664-b976-89761a71cd94"
      },
      "source": [
        "import matplotlib.pyplot as plt\n",
        "import seaborn as sns\n",
        "ax = sns.boxplot(x='treatments', y='value', data=df_melt, color='#99c2a2')\n",
        "ax = sns.swarmplot(x=\"treatments\", y=\"value\", data=df_melt, color='#7d0013')\n",
        "plt.show()"
      ],
      "execution_count": null,
      "outputs": [
        {
          "output_type": "display_data",
          "data": {
            "image/png": "[encoded data removed]",
            "text/plain": [
              "<Figure size 432x288 with 1 Axes>"
            ]
          },
          "metadata": {
            "tags": [],
            "needs_background": "light"
          }
        }
      ]
    },
    {
      "cell_type": "code",
      "metadata": {
        "colab": {
          "base_uri": "https://localhost:8080/"
        },
        "id": "ldS82KvjBfq_",
        "outputId": "e5f0ddd8-181e-4cbe-890c-1a55c1a8c150"
      },
      "source": [
        "import scipy.stats as stats\n",
        "# stats f_oneway functions takes the groups as input and returns ANOVA F and p value\n",
        "fvalue, pvalue = stats.f_oneway(df['A'], df['B'], df['C'], df['D'],df['E'],df['F'],df['G'],df['H'])\n",
        "print(fvalue, pvalue)"
      ],
      "execution_count": null,
      "outputs": [
        {
          "output_type": "stream",
          "text": [
            "6.95016752439643 0.0006727464155025148\n"
          ],
          "name": "stdout"
        }
      ]
    },
    {
      "cell_type": "code",
      "metadata": {
        "id": "nHybr6qGBrB2"
      },
      "source": [
        "# get ANOVA table as R like output\n",
        "import statsmodels.api as sm\n",
        "from statsmodels.formula.api import ols"
      ],
      "execution_count": null,
      "outputs": []
    },
    {
      "cell_type": "code",
      "metadata": {
        "colab": {
          "base_uri": "https://localhost:8080/",
          "height": 111
        },
        "id": "BmvU3O3wBx7-",
        "outputId": "2e7da987-c691-4368-902f-d80c46da28d7"
      },
      "source": [
        "# Ordinary Least Squares (OLS) model\n",
        "model = ols('value ~ C(treatments)', data=df_melt).fit()\n",
        "anova_table = sm.stats.anova_lm(model, typ=2)\n",
        "anova_table"
      ],
      "execution_count": null,
      "outputs": [
        {
          "output_type": "execute_result",
          "data": {
            "text/html": [
              "<div>\n",
              "<style scoped>\n",
              "    .dataframe tbody tr th:only-of-type {\n",
              "        vertical-align: middle;\n",
              "    }\n",
              "\n",
              "    .dataframe tbody tr th {\n",
              "        vertical-align: top;\n",
              "    }\n",
              "\n",
              "    .dataframe thead th {\n",
              "        text-align: right;\n",
              "    }\n",
              "</style>\n",
              "<table border=\"1\" class=\"dataframe\">\n",
              "  <thead>\n",
              "    <tr style=\"text-align: right;\">\n",
              "      <th></th>\n",
              "      <th>sum_sq</th>\n",
              "      <th>df</th>\n",
              "      <th>F</th>\n",
              "      <th>PR(&gt;F)</th>\n",
              "    </tr>\n",
              "  </thead>\n",
              "  <tbody>\n",
              "    <tr>\n",
              "      <th>C(treatments)</th>\n",
              "      <td>0.344628</td>\n",
              "      <td>7.0</td>\n",
              "      <td>6.950168</td>\n",
              "      <td>0.000673</td>\n",
              "    </tr>\n",
              "    <tr>\n",
              "      <th>Residual</th>\n",
              "      <td>0.113339</td>\n",
              "      <td>16.0</td>\n",
              "      <td>NaN</td>\n",
              "      <td>NaN</td>\n",
              "    </tr>\n",
              "  </tbody>\n",
              "</table>\n",
              "</div>"
            ],
            "text/plain": [
              "                 sum_sq    df         F    PR(>F)\n",
              "C(treatments)  0.344628   7.0  6.950168  0.000673\n",
              "Residual       0.113339  16.0       NaN       NaN"
            ]
          },
          "metadata": {
            "tags": []
          },
          "execution_count": 27
        }
      ]
    },
    {
      "cell_type": "code",
      "metadata": {
        "colab": {
          "base_uri": "https://localhost:8080/",
          "height": 111
        },
        "id": "9vPl3Eg7DhqW",
        "outputId": "6d6bd0ed-e172-4c68-e3a0-8aa2aff08d19"
      },
      "source": [
        "from bioinfokit.analys import stat\n",
        "res = stat()\n",
        "res.anova_stat(df=df_melt, res_var='value', anova_model='value ~ C(treatments)')\n",
        "res.anova_summary"
      ],
      "execution_count": null,
      "outputs": [
        {
          "output_type": "execute_result",
          "data": {
            "text/html": [
              "<div>\n",
              "<style scoped>\n",
              "    .dataframe tbody tr th:only-of-type {\n",
              "        vertical-align: middle;\n",
              "    }\n",
              "\n",
              "    .dataframe tbody tr th {\n",
              "        vertical-align: top;\n",
              "    }\n",
              "\n",
              "    .dataframe thead th {\n",
              "        text-align: right;\n",
              "    }\n",
              "</style>\n",
              "<table border=\"1\" class=\"dataframe\">\n",
              "  <thead>\n",
              "    <tr style=\"text-align: right;\">\n",
              "      <th></th>\n",
              "      <th>df</th>\n",
              "      <th>sum_sq</th>\n",
              "      <th>mean_sq</th>\n",
              "      <th>F</th>\n",
              "      <th>PR(&gt;F)</th>\n",
              "    </tr>\n",
              "  </thead>\n",
              "  <tbody>\n",
              "    <tr>\n",
              "      <th>C(treatments)</th>\n",
              "      <td>7.0</td>\n",
              "      <td>0.344628</td>\n",
              "      <td>0.049233</td>\n",
              "      <td>6.950168</td>\n",
              "      <td>0.000673</td>\n",
              "    </tr>\n",
              "    <tr>\n",
              "      <th>Residual</th>\n",
              "      <td>16.0</td>\n",
              "      <td>0.113339</td>\n",
              "      <td>0.007084</td>\n",
              "      <td>NaN</td>\n",
              "      <td>NaN</td>\n",
              "    </tr>\n",
              "  </tbody>\n",
              "</table>\n",
              "</div>"
            ],
            "text/plain": [
              "                 df    sum_sq   mean_sq         F    PR(>F)\n",
              "C(treatments)   7.0  0.344628  0.049233  6.950168  0.000673\n",
              "Residual       16.0  0.113339  0.007084       NaN       NaN"
            ]
          },
          "metadata": {
            "tags": []
          },
          "execution_count": 28
        }
      ]
    },
    {
      "cell_type": "code",
      "metadata": {
        "id": "CB9LOg00Dnae"
      },
      "source": [
        "#The p value obtained from ANOVA analysis is significant (p < 0.05), and therefore, we conclude that there are significant differences among treatments.\n"
      ],
      "execution_count": null,
      "outputs": []
    },
    {
      "cell_type": "code",
      "metadata": {
        "id": "OIG9wH6KEgjF"
      },
      "source": [
        "#To know the pairs of significant different treatments, we will perform multiple pairwise comparison (post hoc comparison) analysis for all unplanned comparison using Tukey’s honestly significantly differenced (HSD) test."
      ],
      "execution_count": null,
      "outputs": []
    },
    {
      "cell_type": "code",
      "metadata": {
        "colab": {
          "base_uri": "https://localhost:8080/",
          "height": 917
        },
        "id": "KyLMOxB7EuQy",
        "outputId": "7d8568a7-71e5-4659-e873-9b1f1fb5638e"
      },
      "source": [
        "from bioinfokit.analys import stat\n",
        "# perform multiple pairwise comparison (Tukey's HSD)\n",
        "# unequal sample size data, tukey_hsd uses Tukey-Kramer test\n",
        "res = stat()\n",
        "res.tukey_hsd(df=df_melt, res_var='value', xfac_var='treatments', anova_model='value ~ C(treatments)')\n",
        "res.tukey_summary"
      ],
      "execution_count": null,
      "outputs": [
        {
          "output_type": "execute_result",
          "data": {
            "text/html": [
              "<div>\n",
              "<style scoped>\n",
              "    .dataframe tbody tr th:only-of-type {\n",
              "        vertical-align: middle;\n",
              "    }\n",
              "\n",
              "    .dataframe tbody tr th {\n",
              "        vertical-align: top;\n",
              "    }\n",
              "\n",
              "    .dataframe thead th {\n",
              "        text-align: right;\n",
              "    }\n",
              "</style>\n",
              "<table border=\"1\" class=\"dataframe\">\n",
              "  <thead>\n",
              "    <tr style=\"text-align: right;\">\n",
              "      <th></th>\n",
              "      <th>group1</th>\n",
              "      <th>group2</th>\n",
              "      <th>Diff</th>\n",
              "      <th>Lower</th>\n",
              "      <th>Upper</th>\n",
              "      <th>q-value</th>\n",
              "      <th>p-value</th>\n",
              "    </tr>\n",
              "  </thead>\n",
              "  <tbody>\n",
              "    <tr>\n",
              "      <th>0</th>\n",
              "      <td>A</td>\n",
              "      <td>B</td>\n",
              "      <td>0.143133</td>\n",
              "      <td>-0.094802</td>\n",
              "      <td>0.381067</td>\n",
              "      <td>2.945581</td>\n",
              "      <td>0.465372</td>\n",
              "    </tr>\n",
              "    <tr>\n",
              "      <th>1</th>\n",
              "      <td>A</td>\n",
              "      <td>C</td>\n",
              "      <td>0.098304</td>\n",
              "      <td>-0.139631</td>\n",
              "      <td>0.336238</td>\n",
              "      <td>2.023033</td>\n",
              "      <td>0.810998</td>\n",
              "    </tr>\n",
              "    <tr>\n",
              "      <th>2</th>\n",
              "      <td>A</td>\n",
              "      <td>D</td>\n",
              "      <td>0.193465</td>\n",
              "      <td>-0.044470</td>\n",
              "      <td>0.431399</td>\n",
              "      <td>3.981377</td>\n",
              "      <td>0.158806</td>\n",
              "    </tr>\n",
              "    <tr>\n",
              "      <th>3</th>\n",
              "      <td>A</td>\n",
              "      <td>E</td>\n",
              "      <td>0.226830</td>\n",
              "      <td>-0.011105</td>\n",
              "      <td>0.464764</td>\n",
              "      <td>4.668008</td>\n",
              "      <td>0.067579</td>\n",
              "    </tr>\n",
              "    <tr>\n",
              "      <th>4</th>\n",
              "      <td>A</td>\n",
              "      <td>F</td>\n",
              "      <td>0.318905</td>\n",
              "      <td>0.080971</td>\n",
              "      <td>0.556840</td>\n",
              "      <td>6.562869</td>\n",
              "      <td>0.005135</td>\n",
              "    </tr>\n",
              "    <tr>\n",
              "      <th>5</th>\n",
              "      <td>A</td>\n",
              "      <td>G</td>\n",
              "      <td>0.377023</td>\n",
              "      <td>0.139089</td>\n",
              "      <td>0.614958</td>\n",
              "      <td>7.758898</td>\n",
              "      <td>0.001009</td>\n",
              "    </tr>\n",
              "    <tr>\n",
              "      <th>6</th>\n",
              "      <td>A</td>\n",
              "      <td>H</td>\n",
              "      <td>0.326262</td>\n",
              "      <td>0.088328</td>\n",
              "      <td>0.564197</td>\n",
              "      <td>6.714273</td>\n",
              "      <td>0.004172</td>\n",
              "    </tr>\n",
              "    <tr>\n",
              "      <th>7</th>\n",
              "      <td>B</td>\n",
              "      <td>C</td>\n",
              "      <td>0.044829</td>\n",
              "      <td>-0.193106</td>\n",
              "      <td>0.282763</td>\n",
              "      <td>0.922548</td>\n",
              "      <td>0.900000</td>\n",
              "    </tr>\n",
              "    <tr>\n",
              "      <th>8</th>\n",
              "      <td>B</td>\n",
              "      <td>D</td>\n",
              "      <td>0.050332</td>\n",
              "      <td>-0.187603</td>\n",
              "      <td>0.288266</td>\n",
              "      <td>1.035797</td>\n",
              "      <td>0.900000</td>\n",
              "    </tr>\n",
              "    <tr>\n",
              "      <th>9</th>\n",
              "      <td>B</td>\n",
              "      <td>E</td>\n",
              "      <td>0.083697</td>\n",
              "      <td>-0.154238</td>\n",
              "      <td>0.321631</td>\n",
              "      <td>1.722427</td>\n",
              "      <td>0.900000</td>\n",
              "    </tr>\n",
              "    <tr>\n",
              "      <th>10</th>\n",
              "      <td>B</td>\n",
              "      <td>F</td>\n",
              "      <td>0.175773</td>\n",
              "      <td>-0.062162</td>\n",
              "      <td>0.413707</td>\n",
              "      <td>3.617288</td>\n",
              "      <td>0.240123</td>\n",
              "    </tr>\n",
              "    <tr>\n",
              "      <th>11</th>\n",
              "      <td>B</td>\n",
              "      <td>G</td>\n",
              "      <td>0.233890</td>\n",
              "      <td>-0.004044</td>\n",
              "      <td>0.471825</td>\n",
              "      <td>4.813317</td>\n",
              "      <td>0.055835</td>\n",
              "    </tr>\n",
              "    <tr>\n",
              "      <th>12</th>\n",
              "      <td>B</td>\n",
              "      <td>H</td>\n",
              "      <td>0.183130</td>\n",
              "      <td>-0.054805</td>\n",
              "      <td>0.421064</td>\n",
              "      <td>3.768692</td>\n",
              "      <td>0.203029</td>\n",
              "    </tr>\n",
              "    <tr>\n",
              "      <th>13</th>\n",
              "      <td>C</td>\n",
              "      <td>D</td>\n",
              "      <td>0.095161</td>\n",
              "      <td>-0.142774</td>\n",
              "      <td>0.333095</td>\n",
              "      <td>1.958344</td>\n",
              "      <td>0.835207</td>\n",
              "    </tr>\n",
              "    <tr>\n",
              "      <th>14</th>\n",
              "      <td>C</td>\n",
              "      <td>E</td>\n",
              "      <td>0.128526</td>\n",
              "      <td>-0.109409</td>\n",
              "      <td>0.366460</td>\n",
              "      <td>2.644975</td>\n",
              "      <td>0.578222</td>\n",
              "    </tr>\n",
              "    <tr>\n",
              "      <th>15</th>\n",
              "      <td>C</td>\n",
              "      <td>F</td>\n",
              "      <td>0.220601</td>\n",
              "      <td>-0.017333</td>\n",
              "      <td>0.458536</td>\n",
              "      <td>4.539836</td>\n",
              "      <td>0.079763</td>\n",
              "    </tr>\n",
              "    <tr>\n",
              "      <th>16</th>\n",
              "      <td>C</td>\n",
              "      <td>G</td>\n",
              "      <td>0.278719</td>\n",
              "      <td>0.040785</td>\n",
              "      <td>0.516654</td>\n",
              "      <td>5.735865</td>\n",
              "      <td>0.016052</td>\n",
              "    </tr>\n",
              "    <tr>\n",
              "      <th>17</th>\n",
              "      <td>C</td>\n",
              "      <td>H</td>\n",
              "      <td>0.227958</td>\n",
              "      <td>-0.009976</td>\n",
              "      <td>0.465893</td>\n",
              "      <td>4.691240</td>\n",
              "      <td>0.065558</td>\n",
              "    </tr>\n",
              "    <tr>\n",
              "      <th>18</th>\n",
              "      <td>D</td>\n",
              "      <td>E</td>\n",
              "      <td>0.033365</td>\n",
              "      <td>-0.204570</td>\n",
              "      <td>0.271300</td>\n",
              "      <td>0.686630</td>\n",
              "      <td>0.900000</td>\n",
              "    </tr>\n",
              "    <tr>\n",
              "      <th>19</th>\n",
              "      <td>D</td>\n",
              "      <td>F</td>\n",
              "      <td>0.125441</td>\n",
              "      <td>-0.112494</td>\n",
              "      <td>0.363375</td>\n",
              "      <td>2.581491</td>\n",
              "      <td>0.601984</td>\n",
              "    </tr>\n",
              "    <tr>\n",
              "      <th>20</th>\n",
              "      <td>D</td>\n",
              "      <td>G</td>\n",
              "      <td>0.183559</td>\n",
              "      <td>-0.054376</td>\n",
              "      <td>0.421493</td>\n",
              "      <td>3.777520</td>\n",
              "      <td>0.200994</td>\n",
              "    </tr>\n",
              "    <tr>\n",
              "      <th>21</th>\n",
              "      <td>D</td>\n",
              "      <td>H</td>\n",
              "      <td>0.132798</td>\n",
              "      <td>-0.105137</td>\n",
              "      <td>0.370732</td>\n",
              "      <td>2.732895</td>\n",
              "      <td>0.545317</td>\n",
              "    </tr>\n",
              "    <tr>\n",
              "      <th>22</th>\n",
              "      <td>E</td>\n",
              "      <td>F</td>\n",
              "      <td>0.092076</td>\n",
              "      <td>-0.145859</td>\n",
              "      <td>0.330010</td>\n",
              "      <td>1.894861</td>\n",
              "      <td>0.858966</td>\n",
              "    </tr>\n",
              "    <tr>\n",
              "      <th>23</th>\n",
              "      <td>E</td>\n",
              "      <td>G</td>\n",
              "      <td>0.150194</td>\n",
              "      <td>-0.087741</td>\n",
              "      <td>0.388128</td>\n",
              "      <td>3.090890</td>\n",
              "      <td>0.409941</td>\n",
              "    </tr>\n",
              "    <tr>\n",
              "      <th>24</th>\n",
              "      <td>E</td>\n",
              "      <td>H</td>\n",
              "      <td>0.099433</td>\n",
              "      <td>-0.138502</td>\n",
              "      <td>0.337367</td>\n",
              "      <td>2.046265</td>\n",
              "      <td>0.802300</td>\n",
              "    </tr>\n",
              "    <tr>\n",
              "      <th>25</th>\n",
              "      <td>F</td>\n",
              "      <td>G</td>\n",
              "      <td>0.058118</td>\n",
              "      <td>-0.179817</td>\n",
              "      <td>0.296052</td>\n",
              "      <td>1.196029</td>\n",
              "      <td>0.900000</td>\n",
              "    </tr>\n",
              "    <tr>\n",
              "      <th>26</th>\n",
              "      <td>F</td>\n",
              "      <td>H</td>\n",
              "      <td>0.007357</td>\n",
              "      <td>-0.230577</td>\n",
              "      <td>0.245292</td>\n",
              "      <td>0.151404</td>\n",
              "      <td>0.900000</td>\n",
              "    </tr>\n",
              "    <tr>\n",
              "      <th>27</th>\n",
              "      <td>G</td>\n",
              "      <td>H</td>\n",
              "      <td>0.050761</td>\n",
              "      <td>-0.187174</td>\n",
              "      <td>0.288695</td>\n",
              "      <td>1.044625</td>\n",
              "      <td>0.900000</td>\n",
              "    </tr>\n",
              "  </tbody>\n",
              "</table>\n",
              "</div>"
            ],
            "text/plain": [
              "   group1 group2      Diff     Lower     Upper   q-value   p-value\n",
              "0       A      B  0.143133 -0.094802  0.381067  2.945581  0.465372\n",
              "1       A      C  0.098304 -0.139631  0.336238  2.023033  0.810998\n",
              "2       A      D  0.193465 -0.044470  0.431399  3.981377  0.158806\n",
              "3       A      E  0.226830 -0.011105  0.464764  4.668008  0.067579\n",
              "4       A      F  0.318905  0.080971  0.556840  6.562869  0.005135\n",
              "5       A      G  0.377023  0.139089  0.614958  7.758898  0.001009\n",
              "6       A      H  0.326262  0.088328  0.564197  6.714273  0.004172\n",
              "7       B      C  0.044829 -0.193106  0.282763  0.922548  0.900000\n",
              "8       B      D  0.050332 -0.187603  0.288266  1.035797  0.900000\n",
              "9       B      E  0.083697 -0.154238  0.321631  1.722427  0.900000\n",
              "10      B      F  0.175773 -0.062162  0.413707  3.617288  0.240123\n",
              "11      B      G  0.233890 -0.004044  0.471825  4.813317  0.055835\n",
              "12      B      H  0.183130 -0.054805  0.421064  3.768692  0.203029\n",
              "13      C      D  0.095161 -0.142774  0.333095  1.958344  0.835207\n",
              "14      C      E  0.128526 -0.109409  0.366460  2.644975  0.578222\n",
              "15      C      F  0.220601 -0.017333  0.458536  4.539836  0.079763\n",
              "16      C      G  0.278719  0.040785  0.516654  5.735865  0.016052\n",
              "17      C      H  0.227958 -0.009976  0.465893  4.691240  0.065558\n",
              "18      D      E  0.033365 -0.204570  0.271300  0.686630  0.900000\n",
              "19      D      F  0.125441 -0.112494  0.363375  2.581491  0.601984\n",
              "20      D      G  0.183559 -0.054376  0.421493  3.777520  0.200994\n",
              "21      D      H  0.132798 -0.105137  0.370732  2.732895  0.545317\n",
              "22      E      F  0.092076 -0.145859  0.330010  1.894861  0.858966\n",
              "23      E      G  0.150194 -0.087741  0.388128  3.090890  0.409941\n",
              "24      E      H  0.099433 -0.138502  0.337367  2.046265  0.802300\n",
              "25      F      G  0.058118 -0.179817  0.296052  1.196029  0.900000\n",
              "26      F      H  0.007357 -0.230577  0.245292  0.151404  0.900000\n",
              "27      G      H  0.050761 -0.187174  0.288695  1.044625  0.900000"
            ]
          },
          "metadata": {
            "tags": []
          },
          "execution_count": 30
        }
      ]
    },
    {
      "cell_type": "code",
      "metadata": {
        "colab": {
          "base_uri": "https://localhost:8080/",
          "height": 279
        },
        "id": "g9Uixt0cE0Xu",
        "outputId": "5eea1fca-0211-4fcf-abfc-9fcdab1707b6"
      },
      "source": [
        "# QQ-plot\n",
        "import statsmodels.api as sm\n",
        "import matplotlib.pyplot as plt\n",
        "# res.anova_std_residuals are standardized residuals obtained from ANOVA (check above)\n",
        "sm.qqplot(res.anova_std_residuals, line='45')\n",
        "plt.xlabel(\"Theoretical Quantiles\")\n",
        "plt.ylabel(\"Standardized Residuals\")\n",
        "plt.show()"
      ],
      "execution_count": null,
      "outputs": [
        {
          "output_type": "display_data",
          "data": {
            "image/png": "[encoded data removed]",
            "text/plain": [
              "<Figure size 432x288 with 1 Axes>"
            ]
          },
          "metadata": {
            "tags": [],
            "needs_background": "light"
          }
        }
      ]
    },
    {
      "cell_type": "code",
      "metadata": {
        "colab": {
          "base_uri": "https://localhost:8080/",
          "height": 279
        },
        "id": "HLZ_g7k8FIxm",
        "outputId": "0830354a-04e5-443b-8185-d0712b8c78f4"
      },
      "source": [
        "# histogram\n",
        "plt.hist(res.anova_model_out.resid, bins='auto', histtype='bar', ec='k') \n",
        "plt.xlabel(\"Residuals\")\n",
        "plt.ylabel('Frequency')\n",
        "plt.show()"
      ],
      "execution_count": null,
      "outputs": [
        {
          "output_type": "display_data",
          "data": {
            "image/png": "[encoded data removed]",
            "text/plain": [
              "<Figure size 432x288 with 1 Axes>"
            ]
          },
          "metadata": {
            "tags": [],
            "needs_background": "light"
          }
        }
      ]
    },
    {
      "cell_type": "code",
      "metadata": {
        "colab": {
          "base_uri": "https://localhost:8080/",
          "height": 142
        },
        "id": "eHJh4renJ6pT",
        "outputId": "bf590c69-08e6-4c38-86b7-6fc262762b52"
      },
      "source": [
        "# if you have a stacked table, you can use bioinfokit v1.0.3 or later for the Levene's test\n",
        "from bioinfokit.analys import stat \n",
        "res = stat()\n",
        "res.levene(df=df_melt, res_var='value', xfac_var='treatments')\n",
        "res.levene_summary"
      ],
      "execution_count": null,
      "outputs": [
        {
          "output_type": "execute_result",
          "data": {
            "text/html": [
              "<div>\n",
              "<style scoped>\n",
              "    .dataframe tbody tr th:only-of-type {\n",
              "        vertical-align: middle;\n",
              "    }\n",
              "\n",
              "    .dataframe tbody tr th {\n",
              "        vertical-align: top;\n",
              "    }\n",
              "\n",
              "    .dataframe thead th {\n",
              "        text-align: right;\n",
              "    }\n",
              "</style>\n",
              "<table border=\"1\" class=\"dataframe\">\n",
              "  <thead>\n",
              "    <tr style=\"text-align: right;\">\n",
              "      <th></th>\n",
              "      <th>Parameter</th>\n",
              "      <th>Value</th>\n",
              "    </tr>\n",
              "  </thead>\n",
              "  <tbody>\n",
              "    <tr>\n",
              "      <th>0</th>\n",
              "      <td>Test statistics (W)</td>\n",
              "      <td>0.2926</td>\n",
              "    </tr>\n",
              "    <tr>\n",
              "      <th>1</th>\n",
              "      <td>Degrees of freedom (Df)</td>\n",
              "      <td>7.0000</td>\n",
              "    </tr>\n",
              "    <tr>\n",
              "      <th>2</th>\n",
              "      <td>p value</td>\n",
              "      <td>0.9471</td>\n",
              "    </tr>\n",
              "  </tbody>\n",
              "</table>\n",
              "</div>"
            ],
            "text/plain": [
              "                 Parameter   Value\n",
              "0      Test statistics (W)  0.2926\n",
              "1  Degrees of freedom (Df)  7.0000\n",
              "2                  p value  0.9471"
            ]
          },
          "metadata": {
            "tags": []
          },
          "execution_count": 34
        }
      ]
    },
    {
      "cell_type": "code",
      "metadata": {
        "id": "JS08U53NLY68"
      },
      "source": [
        "import pandas as pd\n",
        "# load data file\n",
        "df = pd.read_csv(\"/content/CASPASE 3.txt\", sep=\"\\t\")\n",
        "# reshape the d dataframe suitable for statsmodels package \n",
        "df_melt = pd.melt(df.reset_index(), id_vars=['index'], value_vars=['A', 'B', 'C', 'D','E','F','G','H'])\n",
        "# replace column names\n",
        "df_melt.columns = ['index', 'treatments', 'value']"
      ],
      "execution_count": null,
      "outputs": []
    },
    {
      "cell_type": "code",
      "metadata": {
        "colab": {
          "base_uri": "https://localhost:8080/",
          "height": 279
        },
        "id": "FTChilbpc4tf",
        "outputId": "a498002e-d872-4344-c058-966c1c378634"
      },
      "source": [
        "import matplotlib.pyplot as plt\n",
        "import seaborn as sns\n",
        "ax = sns.boxplot(x='treatments', y='value', data=df_melt, color='#99c2a2')\n",
        "ax = sns.swarmplot(x=\"treatments\", y=\"value\", data=df_melt, color='#7d0013')\n",
        "plt.show()"
      ],
      "execution_count": null,
      "outputs": [
        {
          "output_type": "display_data",
          "data": {
            "image/png": "[encoded data removed]",
            "text/plain": [
              "<Figure size 432x288 with 1 Axes>"
            ]
          },
          "metadata": {
            "tags": [],
            "needs_background": "light"
          }
        }
      ]
    },
    {
      "cell_type": "code",
      "metadata": {
        "colab": {
          "base_uri": "https://localhost:8080/"
        },
        "id": "rx1JYHw9fgQs",
        "outputId": "d5ab6ce9-e6cb-4997-c679-4da9b19666cb"
      },
      "source": [
        "import scipy.stats as stats\n",
        "# stats f_oneway functions takes the groups as input and returns ANOVA F and p value\n",
        "fvalue, pvalue = stats.f_oneway(df['A'], df['B'], df['C'], df['D'],df['E'],df['F'],df['G'],df['H'])\n",
        "print(fvalue, pvalue)"
      ],
      "execution_count": null,
      "outputs": [
        {
          "output_type": "stream",
          "text": [
            "20.399419853408123 7.46272669040328e-07\n"
          ],
          "name": "stdout"
        }
      ]
    },
    {
      "cell_type": "code",
      "metadata": {
        "id": "2lAyRVWlfsQM"
      },
      "source": [
        "# get ANOVA table as R like output\n",
        "import statsmodels.api as sm\n",
        "from statsmodels.formula.api import ols"
      ],
      "execution_count": null,
      "outputs": []
    },
    {
      "cell_type": "code",
      "metadata": {
        "colab": {
          "base_uri": "https://localhost:8080/",
          "height": 111
        },
        "id": "P3RdCNj2fvRs",
        "outputId": "56cf156e-6631-4e20-d80f-c9cd53b5605b"
      },
      "source": [
        "# Ordinary Least Squares (OLS) model\n",
        "model = ols('value ~ C(treatments)', data=df_melt).fit()\n",
        "anova_table = sm.stats.anova_lm(model, typ=2)\n",
        "anova_table"
      ],
      "execution_count": null,
      "outputs": [
        {
          "output_type": "execute_result",
          "data": {
            "text/html": [
              "<div>\n",
              "<style scoped>\n",
              "    .dataframe tbody tr th:only-of-type {\n",
              "        vertical-align: middle;\n",
              "    }\n",
              "\n",
              "    .dataframe tbody tr th {\n",
              "        vertical-align: top;\n",
              "    }\n",
              "\n",
              "    .dataframe thead th {\n",
              "        text-align: right;\n",
              "    }\n",
              "</style>\n",
              "<table border=\"1\" class=\"dataframe\">\n",
              "  <thead>\n",
              "    <tr style=\"text-align: right;\">\n",
              "      <th></th>\n",
              "      <th>sum_sq</th>\n",
              "      <th>df</th>\n",
              "      <th>F</th>\n",
              "      <th>PR(&gt;F)</th>\n",
              "    </tr>\n",
              "  </thead>\n",
              "  <tbody>\n",
              "    <tr>\n",
              "      <th>C(treatments)</th>\n",
              "      <td>0.119942</td>\n",
              "      <td>7.0</td>\n",
              "      <td>20.39942</td>\n",
              "      <td>7.462727e-07</td>\n",
              "    </tr>\n",
              "    <tr>\n",
              "      <th>Residual</th>\n",
              "      <td>0.013439</td>\n",
              "      <td>16.0</td>\n",
              "      <td>NaN</td>\n",
              "      <td>NaN</td>\n",
              "    </tr>\n",
              "  </tbody>\n",
              "</table>\n",
              "</div>"
            ],
            "text/plain": [
              "                 sum_sq    df         F        PR(>F)\n",
              "C(treatments)  0.119942   7.0  20.39942  7.462727e-07\n",
              "Residual       0.013439  16.0       NaN           NaN"
            ]
          },
          "metadata": {
            "tags": []
          },
          "execution_count": 40
        }
      ]
    },
    {
      "cell_type": "code",
      "metadata": {
        "colab": {
          "base_uri": "https://localhost:8080/",
          "height": 111
        },
        "id": "-f4k72exf9P9",
        "outputId": "1c4881cd-c1a7-4698-d37f-d0461cac4bd1"
      },
      "source": [
        "from bioinfokit.analys import stat\n",
        "res = stat()\n",
        "res.anova_stat(df=df_melt, res_var='value', anova_model='value ~ C(treatments)')\n",
        "res.anova_summary"
      ],
      "execution_count": null,
      "outputs": [
        {
          "output_type": "execute_result",
          "data": {
            "text/html": [
              "<div>\n",
              "<style scoped>\n",
              "    .dataframe tbody tr th:only-of-type {\n",
              "        vertical-align: middle;\n",
              "    }\n",
              "\n",
              "    .dataframe tbody tr th {\n",
              "        vertical-align: top;\n",
              "    }\n",
              "\n",
              "    .dataframe thead th {\n",
              "        text-align: right;\n",
              "    }\n",
              "</style>\n",
              "<table border=\"1\" class=\"dataframe\">\n",
              "  <thead>\n",
              "    <tr style=\"text-align: right;\">\n",
              "      <th></th>\n",
              "      <th>df</th>\n",
              "      <th>sum_sq</th>\n",
              "      <th>mean_sq</th>\n",
              "      <th>F</th>\n",
              "      <th>PR(&gt;F)</th>\n",
              "    </tr>\n",
              "  </thead>\n",
              "  <tbody>\n",
              "    <tr>\n",
              "      <th>C(treatments)</th>\n",
              "      <td>7.0</td>\n",
              "      <td>0.119942</td>\n",
              "      <td>0.017135</td>\n",
              "      <td>20.39942</td>\n",
              "      <td>7.462727e-07</td>\n",
              "    </tr>\n",
              "    <tr>\n",
              "      <th>Residual</th>\n",
              "      <td>16.0</td>\n",
              "      <td>0.013439</td>\n",
              "      <td>0.000840</td>\n",
              "      <td>NaN</td>\n",
              "      <td>NaN</td>\n",
              "    </tr>\n",
              "  </tbody>\n",
              "</table>\n",
              "</div>"
            ],
            "text/plain": [
              "                 df    sum_sq   mean_sq         F        PR(>F)\n",
              "C(treatments)   7.0  0.119942  0.017135  20.39942  7.462727e-07\n",
              "Residual       16.0  0.013439  0.000840       NaN           NaN"
            ]
          },
          "metadata": {
            "tags": []
          },
          "execution_count": 41
        }
      ]
    },
    {
      "cell_type": "code",
      "metadata": {
        "colab": {
          "base_uri": "https://localhost:8080/",
          "height": 917
        },
        "id": "KJJCR-A0gAl9",
        "outputId": "d4b20969-19f3-40e7-a4d8-c58355247c2d"
      },
      "source": [
        "#p value obtained from ANOVA analysis is significant (p < 0.05), and therefore, we conclude that there are significant differences among treatments.\n",
        "\n",
        "# we will use bioinfokit (v1.0.3 or later) for performing tukey HSD test\n",
        "# check documentation here https://github.com/reneshbedre/bioinfokit\n",
        "from bioinfokit.analys import stat\n",
        "# perform multiple pairwise comparison (Tukey's HSD)\n",
        "# unequal sample size data, tukey_hsd uses Tukey-Kramer test\n",
        "res = stat()\n",
        "res.tukey_hsd(df=df_melt, res_var='value', xfac_var='treatments', anova_model='value ~ C(treatments)')\n",
        "res.tukey_summary\n",
        "\n"
      ],
      "execution_count": null,
      "outputs": [
        {
          "output_type": "execute_result",
          "data": {
            "text/html": [
              "<div>\n",
              "<style scoped>\n",
              "    .dataframe tbody tr th:only-of-type {\n",
              "        vertical-align: middle;\n",
              "    }\n",
              "\n",
              "    .dataframe tbody tr th {\n",
              "        vertical-align: top;\n",
              "    }\n",
              "\n",
              "    .dataframe thead th {\n",
              "        text-align: right;\n",
              "    }\n",
              "</style>\n",
              "<table border=\"1\" class=\"dataframe\">\n",
              "  <thead>\n",
              "    <tr style=\"text-align: right;\">\n",
              "      <th></th>\n",
              "      <th>group1</th>\n",
              "      <th>group2</th>\n",
              "      <th>Diff</th>\n",
              "      <th>Lower</th>\n",
              "      <th>Upper</th>\n",
              "      <th>q-value</th>\n",
              "      <th>p-value</th>\n",
              "    </tr>\n",
              "  </thead>\n",
              "  <tbody>\n",
              "    <tr>\n",
              "      <th>0</th>\n",
              "      <td>A</td>\n",
              "      <td>B</td>\n",
              "      <td>0.137271</td>\n",
              "      <td>0.055339</td>\n",
              "      <td>0.219204</td>\n",
              "      <td>8.203761</td>\n",
              "      <td>0.001000</td>\n",
              "    </tr>\n",
              "    <tr>\n",
              "      <th>1</th>\n",
              "      <td>A</td>\n",
              "      <td>C</td>\n",
              "      <td>0.116694</td>\n",
              "      <td>0.034761</td>\n",
              "      <td>0.198627</td>\n",
              "      <td>6.973990</td>\n",
              "      <td>0.002923</td>\n",
              "    </tr>\n",
              "    <tr>\n",
              "      <th>2</th>\n",
              "      <td>A</td>\n",
              "      <td>D</td>\n",
              "      <td>0.007064</td>\n",
              "      <td>-0.074869</td>\n",
              "      <td>0.088996</td>\n",
              "      <td>0.422150</td>\n",
              "      <td>0.900000</td>\n",
              "    </tr>\n",
              "    <tr>\n",
              "      <th>3</th>\n",
              "      <td>A</td>\n",
              "      <td>E</td>\n",
              "      <td>0.099285</td>\n",
              "      <td>0.017352</td>\n",
              "      <td>0.181218</td>\n",
              "      <td>5.933578</td>\n",
              "      <td>0.012230</td>\n",
              "    </tr>\n",
              "    <tr>\n",
              "      <th>4</th>\n",
              "      <td>A</td>\n",
              "      <td>F</td>\n",
              "      <td>0.124725</td>\n",
              "      <td>0.042792</td>\n",
              "      <td>0.206658</td>\n",
              "      <td>7.453949</td>\n",
              "      <td>0.001521</td>\n",
              "    </tr>\n",
              "    <tr>\n",
              "      <th>5</th>\n",
              "      <td>A</td>\n",
              "      <td>G</td>\n",
              "      <td>0.176922</td>\n",
              "      <td>0.094989</td>\n",
              "      <td>0.258854</td>\n",
              "      <td>10.573382</td>\n",
              "      <td>0.001000</td>\n",
              "    </tr>\n",
              "    <tr>\n",
              "      <th>6</th>\n",
              "      <td>A</td>\n",
              "      <td>H</td>\n",
              "      <td>0.203183</td>\n",
              "      <td>0.121251</td>\n",
              "      <td>0.285116</td>\n",
              "      <td>12.142841</td>\n",
              "      <td>0.001000</td>\n",
              "    </tr>\n",
              "    <tr>\n",
              "      <th>7</th>\n",
              "      <td>B</td>\n",
              "      <td>C</td>\n",
              "      <td>0.020577</td>\n",
              "      <td>-0.061355</td>\n",
              "      <td>0.102510</td>\n",
              "      <td>1.229771</td>\n",
              "      <td>0.900000</td>\n",
              "    </tr>\n",
              "    <tr>\n",
              "      <th>8</th>\n",
              "      <td>B</td>\n",
              "      <td>D</td>\n",
              "      <td>0.144335</td>\n",
              "      <td>0.062403</td>\n",
              "      <td>0.226268</td>\n",
              "      <td>8.625911</td>\n",
              "      <td>0.001000</td>\n",
              "    </tr>\n",
              "    <tr>\n",
              "      <th>9</th>\n",
              "      <td>B</td>\n",
              "      <td>E</td>\n",
              "      <td>0.037986</td>\n",
              "      <td>-0.043946</td>\n",
              "      <td>0.119919</td>\n",
              "      <td>2.270183</td>\n",
              "      <td>0.718495</td>\n",
              "    </tr>\n",
              "    <tr>\n",
              "      <th>10</th>\n",
              "      <td>B</td>\n",
              "      <td>F</td>\n",
              "      <td>0.012546</td>\n",
              "      <td>-0.069386</td>\n",
              "      <td>0.094479</td>\n",
              "      <td>0.749812</td>\n",
              "      <td>0.900000</td>\n",
              "    </tr>\n",
              "    <tr>\n",
              "      <th>11</th>\n",
              "      <td>B</td>\n",
              "      <td>G</td>\n",
              "      <td>0.039650</td>\n",
              "      <td>-0.042282</td>\n",
              "      <td>0.121583</td>\n",
              "      <td>2.369621</td>\n",
              "      <td>0.681279</td>\n",
              "    </tr>\n",
              "    <tr>\n",
              "      <th>12</th>\n",
              "      <td>B</td>\n",
              "      <td>H</td>\n",
              "      <td>0.065912</td>\n",
              "      <td>-0.016021</td>\n",
              "      <td>0.147844</td>\n",
              "      <td>3.939081</td>\n",
              "      <td>0.166977</td>\n",
              "    </tr>\n",
              "    <tr>\n",
              "      <th>13</th>\n",
              "      <td>C</td>\n",
              "      <td>D</td>\n",
              "      <td>0.123758</td>\n",
              "      <td>0.041825</td>\n",
              "      <td>0.205690</td>\n",
              "      <td>7.396139</td>\n",
              "      <td>0.001646</td>\n",
              "    </tr>\n",
              "    <tr>\n",
              "      <th>14</th>\n",
              "      <td>C</td>\n",
              "      <td>E</td>\n",
              "      <td>0.017409</td>\n",
              "      <td>-0.064524</td>\n",
              "      <td>0.099342</td>\n",
              "      <td>1.040412</td>\n",
              "      <td>0.900000</td>\n",
              "    </tr>\n",
              "    <tr>\n",
              "      <th>15</th>\n",
              "      <td>C</td>\n",
              "      <td>F</td>\n",
              "      <td>0.008031</td>\n",
              "      <td>-0.073902</td>\n",
              "      <td>0.089964</td>\n",
              "      <td>0.479959</td>\n",
              "      <td>0.900000</td>\n",
              "    </tr>\n",
              "    <tr>\n",
              "      <th>16</th>\n",
              "      <td>C</td>\n",
              "      <td>G</td>\n",
              "      <td>0.060228</td>\n",
              "      <td>-0.021705</td>\n",
              "      <td>0.142160</td>\n",
              "      <td>3.599392</td>\n",
              "      <td>0.244870</td>\n",
              "    </tr>\n",
              "    <tr>\n",
              "      <th>17</th>\n",
              "      <td>C</td>\n",
              "      <td>H</td>\n",
              "      <td>0.086489</td>\n",
              "      <td>0.004557</td>\n",
              "      <td>0.168422</td>\n",
              "      <td>5.168852</td>\n",
              "      <td>0.034762</td>\n",
              "    </tr>\n",
              "    <tr>\n",
              "      <th>18</th>\n",
              "      <td>D</td>\n",
              "      <td>E</td>\n",
              "      <td>0.106349</td>\n",
              "      <td>0.024416</td>\n",
              "      <td>0.188281</td>\n",
              "      <td>6.355727</td>\n",
              "      <td>0.006832</td>\n",
              "    </tr>\n",
              "    <tr>\n",
              "      <th>19</th>\n",
              "      <td>D</td>\n",
              "      <td>F</td>\n",
              "      <td>0.131789</td>\n",
              "      <td>0.049856</td>\n",
              "      <td>0.213721</td>\n",
              "      <td>7.876098</td>\n",
              "      <td>0.001000</td>\n",
              "    </tr>\n",
              "    <tr>\n",
              "      <th>20</th>\n",
              "      <td>D</td>\n",
              "      <td>G</td>\n",
              "      <td>0.183985</td>\n",
              "      <td>0.102053</td>\n",
              "      <td>0.265918</td>\n",
              "      <td>10.995531</td>\n",
              "      <td>0.001000</td>\n",
              "    </tr>\n",
              "    <tr>\n",
              "      <th>21</th>\n",
              "      <td>D</td>\n",
              "      <td>H</td>\n",
              "      <td>0.210247</td>\n",
              "      <td>0.128314</td>\n",
              "      <td>0.292179</td>\n",
              "      <td>12.564991</td>\n",
              "      <td>0.001000</td>\n",
              "    </tr>\n",
              "    <tr>\n",
              "      <th>22</th>\n",
              "      <td>E</td>\n",
              "      <td>F</td>\n",
              "      <td>0.025440</td>\n",
              "      <td>-0.056493</td>\n",
              "      <td>0.107373</td>\n",
              "      <td>1.520371</td>\n",
              "      <td>0.900000</td>\n",
              "    </tr>\n",
              "    <tr>\n",
              "      <th>23</th>\n",
              "      <td>E</td>\n",
              "      <td>G</td>\n",
              "      <td>0.077637</td>\n",
              "      <td>-0.004296</td>\n",
              "      <td>0.159569</td>\n",
              "      <td>4.639804</td>\n",
              "      <td>0.070105</td>\n",
              "    </tr>\n",
              "    <tr>\n",
              "      <th>24</th>\n",
              "      <td>E</td>\n",
              "      <td>H</td>\n",
              "      <td>0.103898</td>\n",
              "      <td>0.021965</td>\n",
              "      <td>0.185831</td>\n",
              "      <td>6.209264</td>\n",
              "      <td>0.008361</td>\n",
              "    </tr>\n",
              "    <tr>\n",
              "      <th>25</th>\n",
              "      <td>F</td>\n",
              "      <td>G</td>\n",
              "      <td>0.052197</td>\n",
              "      <td>-0.029736</td>\n",
              "      <td>0.134129</td>\n",
              "      <td>3.119433</td>\n",
              "      <td>0.399199</td>\n",
              "    </tr>\n",
              "    <tr>\n",
              "      <th>26</th>\n",
              "      <td>F</td>\n",
              "      <td>H</td>\n",
              "      <td>0.078458</td>\n",
              "      <td>-0.003475</td>\n",
              "      <td>0.160391</td>\n",
              "      <td>4.688893</td>\n",
              "      <td>0.065761</td>\n",
              "    </tr>\n",
              "    <tr>\n",
              "      <th>27</th>\n",
              "      <td>G</td>\n",
              "      <td>H</td>\n",
              "      <td>0.026261</td>\n",
              "      <td>-0.055671</td>\n",
              "      <td>0.108194</td>\n",
              "      <td>1.569460</td>\n",
              "      <td>0.900000</td>\n",
              "    </tr>\n",
              "  </tbody>\n",
              "</table>\n",
              "</div>"
            ],
            "text/plain": [
              "   group1 group2      Diff     Lower     Upper    q-value   p-value\n",
              "0       A      B  0.137271  0.055339  0.219204   8.203761  0.001000\n",
              "1       A      C  0.116694  0.034761  0.198627   6.973990  0.002923\n",
              "2       A      D  0.007064 -0.074869  0.088996   0.422150  0.900000\n",
              "3       A      E  0.099285  0.017352  0.181218   5.933578  0.012230\n",
              "4       A      F  0.124725  0.042792  0.206658   7.453949  0.001521\n",
              "5       A      G  0.176922  0.094989  0.258854  10.573382  0.001000\n",
              "6       A      H  0.203183  0.121251  0.285116  12.142841  0.001000\n",
              "7       B      C  0.020577 -0.061355  0.102510   1.229771  0.900000\n",
              "8       B      D  0.144335  0.062403  0.226268   8.625911  0.001000\n",
              "9       B      E  0.037986 -0.043946  0.119919   2.270183  0.718495\n",
              "10      B      F  0.012546 -0.069386  0.094479   0.749812  0.900000\n",
              "11      B      G  0.039650 -0.042282  0.121583   2.369621  0.681279\n",
              "12      B      H  0.065912 -0.016021  0.147844   3.939081  0.166977\n",
              "13      C      D  0.123758  0.041825  0.205690   7.396139  0.001646\n",
              "14      C      E  0.017409 -0.064524  0.099342   1.040412  0.900000\n",
              "15      C      F  0.008031 -0.073902  0.089964   0.479959  0.900000\n",
              "16      C      G  0.060228 -0.021705  0.142160   3.599392  0.244870\n",
              "17      C      H  0.086489  0.004557  0.168422   5.168852  0.034762\n",
              "18      D      E  0.106349  0.024416  0.188281   6.355727  0.006832\n",
              "19      D      F  0.131789  0.049856  0.213721   7.876098  0.001000\n",
              "20      D      G  0.183985  0.102053  0.265918  10.995531  0.001000\n",
              "21      D      H  0.210247  0.128314  0.292179  12.564991  0.001000\n",
              "22      E      F  0.025440 -0.056493  0.107373   1.520371  0.900000\n",
              "23      E      G  0.077637 -0.004296  0.159569   4.639804  0.070105\n",
              "24      E      H  0.103898  0.021965  0.185831   6.209264  0.008361\n",
              "25      F      G  0.052197 -0.029736  0.134129   3.119433  0.399199\n",
              "26      F      H  0.078458 -0.003475  0.160391   4.688893  0.065761\n",
              "27      G      H  0.026261 -0.055671  0.108194   1.569460  0.900000"
            ]
          },
          "metadata": {
            "tags": []
          },
          "execution_count": 60
        }
      ]
    },
    {
      "cell_type": "code",
      "metadata": {
        "id": "FxPoNmmICZUc"
      },
      "source": [
        "# QQ-plot\n",
        "import statsmodels.api as sm\n",
        "import matplotlib.pyplot as plt"
      ],
      "execution_count": null,
      "outputs": []
    },
    {
      "cell_type": "code",
      "metadata": {
        "colab": {
          "base_uri": "https://localhost:8080/",
          "height": 279
        },
        "id": "3Q3Da_JRCcqm",
        "outputId": "2cb5166d-ea9c-4b6b-e510-930a5d9b1423"
      },
      "source": [
        "# res.anova_std_residuals are standardized residuals obtained from ANOVA (check above)\n",
        "sm.qqplot(res.anova_std_residuals, line='45')\n",
        "plt.xlabel(\"Theoretical Quantiles\")\n",
        "plt.ylabel(\"Standardized Residuals\")\n",
        "plt.show()"
      ],
      "execution_count": null,
      "outputs": [
        {
          "output_type": "display_data",
          "data": {
            "image/png": "[encoded data removed]",
            "text/plain": [
              "<Figure size 432x288 with 1 Axes>"
            ]
          },
          "metadata": {
            "tags": [],
            "needs_background": "light"
          }
        }
      ]
    },
    {
      "cell_type": "code",
      "metadata": {
        "colab": {
          "base_uri": "https://localhost:8080/",
          "height": 279
        },
        "id": "nL1keIymCk6O",
        "outputId": "bca6cc8c-9887-42bc-f86e-45e512d7bb1d"
      },
      "source": [
        "# histogram\n",
        "plt.hist(res.anova_model_out.resid, bins='auto', histtype='bar', ec='k') \n",
        "plt.xlabel(\"Residuals\")\n",
        "plt.ylabel('Frequency')\n",
        "plt.show()"
      ],
      "execution_count": null,
      "outputs": [
        {
          "output_type": "display_data",
          "data": {
            "image/png": "[encoded data removed]",
            "text/plain": [
              "<Figure size 432x288 with 1 Axes>"
            ]
          },
          "metadata": {
            "tags": [],
            "needs_background": "light"
          }
        }
      ]
    },
    {
      "cell_type": "code",
      "metadata": {
        "colab": {
          "base_uri": "https://localhost:8080/"
        },
        "id": "E-NMyeYohjJ9",
        "outputId": "fcca4890-374d-4ea6-924b-967d38b758b7"
      },
      "source": [
        "import scipy.stats as stats\n",
        "w, pvalue = stats.shapiro(model.resid)\n",
        "print(w, pvalue)"
      ],
      "execution_count": null,
      "outputs": [
        {
          "output_type": "stream",
          "text": [
            "0.9813075661659241 0.9186723232269287\n"
          ],
          "name": "stdout"
        }
      ]
    },
    {
      "cell_type": "code",
      "metadata": {
        "id": "bmx7_Lxbhsdk"
      },
      "source": [
        "# distribution looks approximately normal and suggests that residuals are approximately normally distributed"
      ],
      "execution_count": null,
      "outputs": []
    },
    {
      "cell_type": "code",
      "metadata": {
        "id": "_ZspIisviDhE"
      },
      "source": [
        "#Shapiro-Wilk test can be used to check the normal distribution of residuals. "
      ],
      "execution_count": null,
      "outputs": []
    },
    {
      "cell_type": "code",
      "metadata": {
        "colab": {
          "base_uri": "https://localhost:8080/"
        },
        "id": "l2rygnrQiH-W",
        "outputId": "02736108-7b53-4ddb-eb3e-c32bbf064fd0"
      },
      "source": [
        "import scipy.stats as stats\n",
        "w, pvalue = stats.shapiro(model.resid)\n",
        "print(w, pvalue)"
      ],
      "execution_count": null,
      "outputs": [
        {
          "output_type": "stream",
          "text": [
            "0.9813075661659241 0.9186723232269287\n"
          ],
          "name": "stdout"
        }
      ]
    },
    {
      "cell_type": "code",
      "metadata": {
        "id": "v2Kues-PCuxd"
      },
      "source": [
        "#p value is non significant, we fail to reject null hypothesis and conclude that data is drawn from normal distribution."
      ],
      "execution_count": null,
      "outputs": []
    },
    {
      "cell_type": "code",
      "metadata": {
        "colab": {
          "base_uri": "https://localhost:8080/"
        },
        "id": "1Wz73BUIC1uK",
        "outputId": "8f3e2b99-d0c2-4e80-e59c-be8324a7bf29"
      },
      "source": [
        "import scipy.stats as stats\n",
        "w, pvalue = stats.bartlett(df['A'], df['B'], df['C'], df['D'],df['E'],df['F'],df['G'],df['H'])\n",
        "print(w, pvalue)\n",
        "\n",
        "#Bartlett’s test to check the Homogeneity of variances"
      ],
      "execution_count": null,
      "outputs": [
        {
          "output_type": "stream",
          "text": [
            "14.281376834534273 0.04639721448262891\n"
          ],
          "name": "stdout"
        }
      ]
    },
    {
      "cell_type": "code",
      "metadata": {
        "colab": {
          "base_uri": "https://localhost:8080/",
          "height": 142
        },
        "id": "O6XOoxfD4rpE",
        "outputId": "a9739a40-4aec-4229-dc5a-de50565c26ac"
      },
      "source": [
        "from bioinfokit.analys import stat \n",
        "res = stat()\n",
        "res.bartlett(df=df_melt, res_var='value', xfac_var='treatments')\n",
        "res.bartlett_summary"
      ],
      "execution_count": null,
      "outputs": [
        {
          "output_type": "execute_result",
          "data": {
            "text/html": [
              "<div>\n",
              "<style scoped>\n",
              "    .dataframe tbody tr th:only-of-type {\n",
              "        vertical-align: middle;\n",
              "    }\n",
              "\n",
              "    .dataframe tbody tr th {\n",
              "        vertical-align: top;\n",
              "    }\n",
              "\n",
              "    .dataframe thead th {\n",
              "        text-align: right;\n",
              "    }\n",
              "</style>\n",
              "<table border=\"1\" class=\"dataframe\">\n",
              "  <thead>\n",
              "    <tr style=\"text-align: right;\">\n",
              "      <th></th>\n",
              "      <th>Parameter</th>\n",
              "      <th>Value</th>\n",
              "    </tr>\n",
              "  </thead>\n",
              "  <tbody>\n",
              "    <tr>\n",
              "      <th>0</th>\n",
              "      <td>Test statistics (T)</td>\n",
              "      <td>14.2814</td>\n",
              "    </tr>\n",
              "    <tr>\n",
              "      <th>1</th>\n",
              "      <td>Degrees of freedom (Df)</td>\n",
              "      <td>7.0000</td>\n",
              "    </tr>\n",
              "    <tr>\n",
              "      <th>2</th>\n",
              "      <td>p value</td>\n",
              "      <td>0.0464</td>\n",
              "    </tr>\n",
              "  </tbody>\n",
              "</table>\n",
              "</div>"
            ],
            "text/plain": [
              "                 Parameter    Value\n",
              "0      Test statistics (T)  14.2814\n",
              "1  Degrees of freedom (Df)   7.0000\n",
              "2                  p value   0.0464"
            ]
          },
          "metadata": {
            "tags": []
          },
          "execution_count": 70
        }
      ]
    },
    {
      "cell_type": "code",
      "metadata": {
        "id": "SthPbtbt4zD8"
      },
      "source": [
        "#As the p value (0.0464) is significant, we do not reject null hypothesis and have to conclude that treatments have unequal variances.\n"
      ],
      "execution_count": null,
      "outputs": []
    },
    {
      "cell_type": "code",
      "metadata": {
        "id": "OfK9Qfy85HbE"
      },
      "source": [
        "import pandas as pd\n",
        "# load data file\n",
        "df = pd.read_csv(\"/content/new ERBETA.txt\", sep=\"\\t\")\n",
        "# reshape the d dataframe suitable for statsmodels package \n",
        "df_melt = pd.melt(df.reset_index(), id_vars=['index'], value_vars=['A', 'B', 'C', 'D'])\n",
        "# replace column names\n",
        "df_melt.columns = ['index', 'treatments', 'value']"
      ],
      "execution_count": null,
      "outputs": []
    },
    {
      "cell_type": "code",
      "metadata": {
        "id": "pE-CXFjZDXSp"
      },
      "source": [
        "import matplotlib.pyplot as plt\n",
        "import seaborn as sns"
      ],
      "execution_count": null,
      "outputs": []
    },
    {
      "cell_type": "code",
      "metadata": {
        "colab": {
          "base_uri": "https://localhost:8080/",
          "height": 279
        },
        "id": "ZlwKjvEoDctN",
        "outputId": "87ab1ddb-17e0-4a1b-86b3-4edf9af268cd"
      },
      "source": [
        "ax = sns.boxplot(x='treatments', y='value', data=df_melt, color='#99c2a2')\n",
        "ax = sns.swarmplot(x=\"treatments\", y=\"value\", data=df_melt, color='#7d0013')\n",
        "plt.show()"
      ],
      "execution_count": null,
      "outputs": [
        {
          "output_type": "display_data",
          "data": {
            "image/png": "[encoded data removed]",
            "text/plain": [
              "<Figure size 432x288 with 1 Axes>"
            ]
          },
          "metadata": {
            "tags": [],
            "needs_background": "light"
          }
        }
      ]
    },
    {
      "cell_type": "code",
      "metadata": {
        "colab": {
          "base_uri": "https://localhost:8080/"
        },
        "id": "FZM7K6KADqMx",
        "outputId": "b5f7bf42-5d13-4a15-f9df-a295b507a3af"
      },
      "source": [
        "import scipy.stats as stats\n",
        "# stats f_oneway functions takes the groups as input and returns ANOVA F and p value\n",
        "fvalue, pvalue = stats.f_oneway(df['A'], df['B'], df['C'], df['D'],df['E'],df['F'],df['G'],df['H'])\n",
        "print(fvalue, pvalue)"
      ],
      "execution_count": null,
      "outputs": [
        {
          "output_type": "stream",
          "text": [
            "20.079011634404182 8.332812098986194e-07\n"
          ],
          "name": "stdout"
        }
      ]
    },
    {
      "cell_type": "code",
      "metadata": {
        "id": "2WzdL8ZHVYpl"
      },
      "source": [
        "# get ANOVA table as R like output\n",
        "import statsmodels.api as sm\n",
        "from statsmodels.formula.api import ols"
      ],
      "execution_count": null,
      "outputs": []
    },
    {
      "cell_type": "code",
      "metadata": {
        "colab": {
          "base_uri": "https://localhost:8080/",
          "height": 111
        },
        "id": "AzRnlhORVcEj",
        "outputId": "d3521774-145f-402b-e461-14a297c7fe58"
      },
      "source": [
        "# Ordinary Least Squares (OLS) model\n",
        "model = ols('value ~ C(treatments)', data=df_melt).fit()\n",
        "anova_table = sm.stats.anova_lm(model, typ=2)\n",
        "anova_table"
      ],
      "execution_count": null,
      "outputs": [
        {
          "output_type": "execute_result",
          "data": {
            "text/html": [
              "<div>\n",
              "<style scoped>\n",
              "    .dataframe tbody tr th:only-of-type {\n",
              "        vertical-align: middle;\n",
              "    }\n",
              "\n",
              "    .dataframe tbody tr th {\n",
              "        vertical-align: top;\n",
              "    }\n",
              "\n",
              "    .dataframe thead th {\n",
              "        text-align: right;\n",
              "    }\n",
              "</style>\n",
              "<table border=\"1\" class=\"dataframe\">\n",
              "  <thead>\n",
              "    <tr style=\"text-align: right;\">\n",
              "      <th></th>\n",
              "      <th>sum_sq</th>\n",
              "      <th>df</th>\n",
              "      <th>F</th>\n",
              "      <th>PR(&gt;F)</th>\n",
              "    </tr>\n",
              "  </thead>\n",
              "  <tbody>\n",
              "    <tr>\n",
              "      <th>C(treatments)</th>\n",
              "      <td>4.360312e-09</td>\n",
              "      <td>3.0</td>\n",
              "      <td>17.746599</td>\n",
              "      <td>0.000678</td>\n",
              "    </tr>\n",
              "    <tr>\n",
              "      <th>Residual</th>\n",
              "      <td>6.551959e-10</td>\n",
              "      <td>8.0</td>\n",
              "      <td>NaN</td>\n",
              "      <td>NaN</td>\n",
              "    </tr>\n",
              "  </tbody>\n",
              "</table>\n",
              "</div>"
            ],
            "text/plain": [
              "                     sum_sq   df          F    PR(>F)\n",
              "C(treatments)  4.360312e-09  3.0  17.746599  0.000678\n",
              "Residual       6.551959e-10  8.0        NaN       NaN"
            ]
          },
          "metadata": {
            "tags": []
          },
          "execution_count": 85
        }
      ]
    },
    {
      "cell_type": "code",
      "metadata": {
        "colab": {
          "base_uri": "https://localhost:8080/",
          "height": 235
        },
        "id": "wEG_0MmiVh2T",
        "outputId": "d29275e4-75d0-4833-8367-eb5dc2a36636"
      },
      "source": [
        "from bioinfokit.analys import stat\n",
        "# perform multiple pairwise comparison (Tukey's HSD)\n",
        "# unequal sample size data, tukey_hsd uses Tukey-Kramer test\n",
        "res = stat()\n",
        "res.tukey_hsd(df=df_melt, res_var='value', xfac_var='treatments', anova_model='value ~ C(treatments)')\n",
        "res.tukey_summary"
      ],
      "execution_count": null,
      "outputs": [
        {
          "output_type": "execute_result",
          "data": {
            "text/html": [
              "<div>\n",
              "<style scoped>\n",
              "    .dataframe tbody tr th:only-of-type {\n",
              "        vertical-align: middle;\n",
              "    }\n",
              "\n",
              "    .dataframe tbody tr th {\n",
              "        vertical-align: top;\n",
              "    }\n",
              "\n",
              "    .dataframe thead th {\n",
              "        text-align: right;\n",
              "    }\n",
              "</style>\n",
              "<table border=\"1\" class=\"dataframe\">\n",
              "  <thead>\n",
              "    <tr style=\"text-align: right;\">\n",
              "      <th></th>\n",
              "      <th>group1</th>\n",
              "      <th>group2</th>\n",
              "      <th>Diff</th>\n",
              "      <th>Lower</th>\n",
              "      <th>Upper</th>\n",
              "      <th>q-value</th>\n",
              "      <th>p-value</th>\n",
              "    </tr>\n",
              "  </thead>\n",
              "  <tbody>\n",
              "    <tr>\n",
              "      <th>0</th>\n",
              "      <td>A</td>\n",
              "      <td>B</td>\n",
              "      <td>0.000011</td>\n",
              "      <td>-0.000013</td>\n",
              "      <td>0.000034</td>\n",
              "      <td>2.065421</td>\n",
              "      <td>0.500599</td>\n",
              "    </tr>\n",
              "    <tr>\n",
              "      <th>1</th>\n",
              "      <td>A</td>\n",
              "      <td>C</td>\n",
              "      <td>0.000028</td>\n",
              "      <td>0.000004</td>\n",
              "      <td>0.000052</td>\n",
              "      <td>5.379664</td>\n",
              "      <td>0.021713</td>\n",
              "    </tr>\n",
              "    <tr>\n",
              "      <th>2</th>\n",
              "      <td>A</td>\n",
              "      <td>D</td>\n",
              "      <td>0.000050</td>\n",
              "      <td>0.000027</td>\n",
              "      <td>0.000074</td>\n",
              "      <td>9.647305</td>\n",
              "      <td>0.001000</td>\n",
              "    </tr>\n",
              "    <tr>\n",
              "      <th>3</th>\n",
              "      <td>B</td>\n",
              "      <td>C</td>\n",
              "      <td>0.000017</td>\n",
              "      <td>-0.000006</td>\n",
              "      <td>0.000041</td>\n",
              "      <td>3.314243</td>\n",
              "      <td>0.166981</td>\n",
              "    </tr>\n",
              "    <tr>\n",
              "      <th>4</th>\n",
              "      <td>B</td>\n",
              "      <td>D</td>\n",
              "      <td>0.000040</td>\n",
              "      <td>0.000016</td>\n",
              "      <td>0.000063</td>\n",
              "      <td>7.581884</td>\n",
              "      <td>0.003005</td>\n",
              "    </tr>\n",
              "    <tr>\n",
              "      <th>5</th>\n",
              "      <td>C</td>\n",
              "      <td>D</td>\n",
              "      <td>0.000022</td>\n",
              "      <td>-0.000001</td>\n",
              "      <td>0.000046</td>\n",
              "      <td>4.267641</td>\n",
              "      <td>0.064912</td>\n",
              "    </tr>\n",
              "  </tbody>\n",
              "</table>\n",
              "</div>"
            ],
            "text/plain": [
              "  group1 group2      Diff     Lower     Upper   q-value   p-value\n",
              "0      A      B  0.000011 -0.000013  0.000034  2.065421  0.500599\n",
              "1      A      C  0.000028  0.000004  0.000052  5.379664  0.021713\n",
              "2      A      D  0.000050  0.000027  0.000074  9.647305  0.001000\n",
              "3      B      C  0.000017 -0.000006  0.000041  3.314243  0.166981\n",
              "4      B      D  0.000040  0.000016  0.000063  7.581884  0.003005\n",
              "5      C      D  0.000022 -0.000001  0.000046  4.267641  0.064912"
            ]
          },
          "metadata": {
            "tags": []
          },
          "execution_count": 86
        }
      ]
    },
    {
      "cell_type": "code",
      "metadata": {
        "colab": {
          "base_uri": "https://localhost:8080/",
          "height": 279
        },
        "id": "ceJIq58rVmGj",
        "outputId": "de8182e6-cef4-476b-9e87-629621a0334a"
      },
      "source": [
        "# QQ-plot\n",
        "import statsmodels.api as sm\n",
        "import matplotlib.pyplot as plt\n",
        "# res.anova_std_residuals are standardized residuals obtained from ANOVA (check above)\n",
        "sm.qqplot(res.anova_std_residuals, line='45')\n",
        "plt.xlabel(\"Theoretical Quantiles\")\n",
        "plt.ylabel(\"Standardized Residuals\")\n",
        "plt.show()"
      ],
      "execution_count": null,
      "outputs": [
        {
          "output_type": "display_data",
          "data": {
            "image/png": "[encoded data removed]",
            "text/plain": [
              "<Figure size 432x288 with 1 Axes>"
            ]
          },
          "metadata": {
            "tags": [],
            "needs_background": "light"
          }
        }
      ]
    },
    {
      "cell_type": "code",
      "metadata": {
        "colab": {
          "base_uri": "https://localhost:8080/",
          "height": 279
        },
        "id": "ox1Zd84gVyMb",
        "outputId": "2ae79adb-baf4-459d-f4e3-e2a9aa93c1dc"
      },
      "source": [
        "# histogram\n",
        "plt.hist(res.anova_model_out.resid, bins='auto', histtype='bar', ec='k') \n",
        "plt.xlabel(\"Residuals\")\n",
        "plt.ylabel('Frequency')\n",
        "plt.show()"
      ],
      "execution_count": null,
      "outputs": [
        {
          "output_type": "display_data",
          "data": {
            "image/png": "[encoded data removed]",
            "text/plain": [
              "<Figure size 432x288 with 1 Axes>"
            ]
          },
          "metadata": {
            "tags": [],
            "needs_background": "light"
          }
        }
      ]
    },
    {
      "cell_type": "code",
      "metadata": {
        "colab": {
          "base_uri": "https://localhost:8080/"
        },
        "id": "WdSxeYzWVz5a",
        "outputId": "d0fdbae8-e037-424e-cd15-57eea49e4bda"
      },
      "source": [
        "import scipy.stats as stats\n",
        "w, pvalue = stats.shapiro(model.resid)\n",
        "print(w, pvalue)"
      ],
      "execution_count": null,
      "outputs": [
        {
          "output_type": "stream",
          "text": [
            "0.977942705154419 0.9741113185882568\n"
          ],
          "name": "stdout"
        }
      ]
    },
    {
      "cell_type": "code",
      "metadata": {
        "colab": {
          "base_uri": "https://localhost:8080/"
        },
        "id": "ZwXty5UmV2LK",
        "outputId": "84b4ba9f-3b84-4e3d-832e-746919a65cba"
      },
      "source": [
        "import scipy.stats as stats\n",
        "w, pvalue = stats.bartlett(df['A'], df['B'], df['C'], df['D'],df['E'],df['F'],df['G'],df['H'])\n",
        "print(w, pvalue)"
      ],
      "execution_count": null,
      "outputs": [
        {
          "output_type": "stream",
          "text": [
            "16.511819170079004 0.020830276159776912\n"
          ],
          "name": "stdout"
        }
      ]
    },
    {
      "cell_type": "code",
      "metadata": {
        "colab": {
          "base_uri": "https://localhost:8080/",
          "height": 142
        },
        "id": "tM5hC4bMV4xy",
        "outputId": "99fdf570-c945-4f3f-b103-e401150d01fa"
      },
      "source": [
        "from bioinfokit.analys import stat \n",
        "res = stat()\n",
        "res.bartlett(df=df_melt, res_var='value', xfac_var='treatments')\n",
        "res.bartlett_summary"
      ],
      "execution_count": null,
      "outputs": [
        {
          "output_type": "execute_result",
          "data": {
            "text/html": [
              "<div>\n",
              "<style scoped>\n",
              "    .dataframe tbody tr th:only-of-type {\n",
              "        vertical-align: middle;\n",
              "    }\n",
              "\n",
              "    .dataframe tbody tr th {\n",
              "        vertical-align: top;\n",
              "    }\n",
              "\n",
              "    .dataframe thead th {\n",
              "        text-align: right;\n",
              "    }\n",
              "</style>\n",
              "<table border=\"1\" class=\"dataframe\">\n",
              "  <thead>\n",
              "    <tr style=\"text-align: right;\">\n",
              "      <th></th>\n",
              "      <th>Parameter</th>\n",
              "      <th>Value</th>\n",
              "    </tr>\n",
              "  </thead>\n",
              "  <tbody>\n",
              "    <tr>\n",
              "      <th>0</th>\n",
              "      <td>Test statistics (T)</td>\n",
              "      <td>3.7831</td>\n",
              "    </tr>\n",
              "    <tr>\n",
              "      <th>1</th>\n",
              "      <td>Degrees of freedom (Df)</td>\n",
              "      <td>3.0000</td>\n",
              "    </tr>\n",
              "    <tr>\n",
              "      <th>2</th>\n",
              "      <td>p value</td>\n",
              "      <td>0.2859</td>\n",
              "    </tr>\n",
              "  </tbody>\n",
              "</table>\n",
              "</div>"
            ],
            "text/plain": [
              "                 Parameter   Value\n",
              "0      Test statistics (T)  3.7831\n",
              "1  Degrees of freedom (Df)  3.0000\n",
              "2                  p value  0.2859"
            ]
          },
          "metadata": {
            "tags": []
          },
          "execution_count": 94
        }
      ]
    },
    {
      "cell_type": "code",
      "metadata": {
        "id": "nFAEZ3o3WOCb"
      },
      "source": [
        "#As the p value (0.2859) is non significant, we fail to reject null hypothesis and conclude that treatments have equal variances.\n"
      ],
      "execution_count": null,
      "outputs": []
    },
    {
      "cell_type": "code",
      "metadata": {
        "id": "pFUYDzfQWZm6"
      },
      "source": [
        "#This concludes PC3 for now"
      ],
      "execution_count": null,
      "outputs": []
    },
    {
      "cell_type": "code",
      "metadata": {
        "id": "OZv2O7EWWgs4",
        "colab": {
          "base_uri": "https://localhost:8080/",
          "height": 142
        },
        "outputId": "21da02ee-6be9-49bf-b91e-eb33579ae9bc"
      },
      "source": [
        "#PARP 116\n",
        "import pandas as pd\n",
        "# load data file\n",
        "df = pd.read_csv(\"/content/89 116 RM.txt\",sep=\"\\t\")\n",
        "df"
      ],
      "execution_count": 4,
      "outputs": [
        {
          "output_type": "execute_result",
          "data": {
            "text/html": [
              "<div>\n",
              "<style scoped>\n",
              "    .dataframe tbody tr th:only-of-type {\n",
              "        vertical-align: middle;\n",
              "    }\n",
              "\n",
              "    .dataframe tbody tr th {\n",
              "        vertical-align: top;\n",
              "    }\n",
              "\n",
              "    .dataframe thead th {\n",
              "        text-align: right;\n",
              "    }\n",
              "</style>\n",
              "<table border=\"1\" class=\"dataframe\">\n",
              "  <thead>\n",
              "    <tr style=\"text-align: right;\">\n",
              "      <th></th>\n",
              "      <th>A</th>\n",
              "      <th>B</th>\n",
              "      <th>C</th>\n",
              "      <th>D</th>\n",
              "      <th>E</th>\n",
              "      <th>F</th>\n",
              "      <th>G</th>\n",
              "      <th>H</th>\n",
              "    </tr>\n",
              "  </thead>\n",
              "  <tbody>\n",
              "    <tr>\n",
              "      <th>0</th>\n",
              "      <td>0.253400</td>\n",
              "      <td>0.073264</td>\n",
              "      <td>0.397498</td>\n",
              "      <td>0.414608</td>\n",
              "      <td>0.346873</td>\n",
              "      <td>0.068047</td>\n",
              "      <td>0.101081</td>\n",
              "      <td>0.121036</td>\n",
              "    </tr>\n",
              "    <tr>\n",
              "      <th>1</th>\n",
              "      <td>0.184237</td>\n",
              "      <td>-0.001871</td>\n",
              "      <td>0.247387</td>\n",
              "      <td>0.368955</td>\n",
              "      <td>0.346498</td>\n",
              "      <td>0.026111</td>\n",
              "      <td>0.077423</td>\n",
              "      <td>0.082777</td>\n",
              "    </tr>\n",
              "    <tr>\n",
              "      <th>2</th>\n",
              "      <td>0.253164</td>\n",
              "      <td>-0.003519</td>\n",
              "      <td>0.298633</td>\n",
              "      <td>0.589402</td>\n",
              "      <td>0.452951</td>\n",
              "      <td>0.015647</td>\n",
              "      <td>0.197935</td>\n",
              "      <td>0.080518</td>\n",
              "    </tr>\n",
              "  </tbody>\n",
              "</table>\n",
              "</div>"
            ],
            "text/plain": [
              "          A         B         C  ...         F         G         H\n",
              "0  0.253400  0.073264  0.397498  ...  0.068047  0.101081  0.121036\n",
              "1  0.184237 -0.001871  0.247387  ...  0.026111  0.077423  0.082777\n",
              "2  0.253164 -0.003519  0.298633  ...  0.015647  0.197935  0.080518\n",
              "\n",
              "[3 rows x 8 columns]"
            ]
          },
          "metadata": {
            "tags": []
          },
          "execution_count": 4
        }
      ]
    },
    {
      "cell_type": "code",
      "metadata": {
        "id": "pYBjbyWjleO6"
      },
      "source": [
        "# reshape the d dataframe suitable for statsmodels package \n",
        "df_melt = pd.melt(df.reset_index(), id_vars=['index'], value_vars=['A', 'B', 'C', 'D','E','F','G','H'])\n",
        "# replace column names\n",
        "df_melt.columns = ['index', 'treatments', 'value']\n",
        "\n",
        "#A = vehicle\n",
        "#B = 0.01\n",
        "#C = 0.1\n",
        "#D= 0.5\n",
        "#E= 1\n",
        "#F= 5\n",
        "#G = 10\n",
        "#H = 50"
      ],
      "execution_count": 5,
      "outputs": []
    },
    {
      "cell_type": "code",
      "metadata": {
        "id": "oIuhwOJCndC8"
      },
      "source": [
        "# generate a boxplot to see the data distribution by treatments. Using boxplot, we can \n",
        "# easily detect the differences between different treatments\n",
        "import matplotlib.pyplot as plt\n",
        "import seaborn as sns"
      ],
      "execution_count": 6,
      "outputs": []
    },
    {
      "cell_type": "code",
      "metadata": {
        "colab": {
          "base_uri": "https://localhost:8080/",
          "height": 279
        },
        "id": "_M4X8m-nniE6",
        "outputId": "b5c7c651-5891-46d7-c393-9602aa164778"
      },
      "source": [
        "ax = sns.boxplot(x='treatments', y='value', data=df_melt, color='#99c2a2')\n",
        "ax = sns.swarmplot(x=\"treatments\", y=\"value\", data=df_melt, color='#7d0013')\n",
        "plt.show()"
      ],
      "execution_count": 7,
      "outputs": [
        {
          "output_type": "display_data",
          "data": {
            "image/png": "[encoded data removed]",
            "text/plain": [
              "<Figure size 432x288 with 1 Axes>"
            ]
          },
          "metadata": {
            "tags": [],
            "needs_background": "light"
          }
        }
      ]
    },
    {
      "cell_type": "code",
      "metadata": {
        "colab": {
          "base_uri": "https://localhost:8080/"
        },
        "id": "4eh7q_N4npZK",
        "outputId": "aae10292-60ba-4adf-ba19-9f45b03dd879"
      },
      "source": [
        "import scipy.stats as stats\n",
        "# stats f_oneway functions takes the groups as input and returns ANOVA F and p value\n",
        "fvalue, pvalue = stats.f_oneway(df['A'], df['B'], df['C'], df['D'],df['E'],df['F'],df['G'],df['H'])\n",
        "print(fvalue, pvalue)"
      ],
      "execution_count": 8,
      "outputs": [
        {
          "output_type": "stream",
          "text": [
            "20.124841399014453 8.201638289577504e-07\n"
          ],
          "name": "stdout"
        }
      ]
    },
    {
      "cell_type": "code",
      "metadata": {
        "colab": {
          "base_uri": "https://localhost:8080/"
        },
        "id": "gUjiIDiYoyap",
        "outputId": "8330ca31-e296-497b-f648-c1ea78173c48"
      },
      "source": [
        "# get ANOVA table as R like output\n",
        "import statsmodels.api as sm\n",
        "from statsmodels.formula.api import ols"
      ],
      "execution_count": 10,
      "outputs": [
        {
          "output_type": "stream",
          "text": [
            "/usr/local/lib/python3.7/dist-packages/statsmodels/tools/_testing.py:19: FutureWarning: pandas.util.testing is deprecated. Use the functions in the public API at pandas.testing instead.\n",
            "  import pandas.util.testing as tm\n"
          ],
          "name": "stderr"
        }
      ]
    },
    {
      "cell_type": "code",
      "metadata": {
        "colab": {
          "base_uri": "https://localhost:8080/",
          "height": 111
        },
        "id": "Io7WAQDao7Fy",
        "outputId": "ae8ead1c-7770-45cb-e844-8de97b7a33dc"
      },
      "source": [
        "# Ordinary Least Squares (OLS) model\n",
        "model = ols('value ~ C(treatments)', data=df_melt).fit()\n",
        "anova_table = sm.stats.anova_lm(model, typ=2)\n",
        "anova_table"
      ],
      "execution_count": 11,
      "outputs": [
        {
          "output_type": "execute_result",
          "data": {
            "text/html": [
              "<div>\n",
              "<style scoped>\n",
              "    .dataframe tbody tr th:only-of-type {\n",
              "        vertical-align: middle;\n",
              "    }\n",
              "\n",
              "    .dataframe tbody tr th {\n",
              "        vertical-align: top;\n",
              "    }\n",
              "\n",
              "    .dataframe thead th {\n",
              "        text-align: right;\n",
              "    }\n",
              "</style>\n",
              "<table border=\"1\" class=\"dataframe\">\n",
              "  <thead>\n",
              "    <tr style=\"text-align: right;\">\n",
              "      <th></th>\n",
              "      <th>sum_sq</th>\n",
              "      <th>df</th>\n",
              "      <th>F</th>\n",
              "      <th>PR(&gt;F)</th>\n",
              "    </tr>\n",
              "  </thead>\n",
              "  <tbody>\n",
              "    <tr>\n",
              "      <th>C(treatments)</th>\n",
              "      <td>0.563552</td>\n",
              "      <td>7.0</td>\n",
              "      <td>20.124841</td>\n",
              "      <td>8.201638e-07</td>\n",
              "    </tr>\n",
              "    <tr>\n",
              "      <th>Residual</th>\n",
              "      <td>0.064006</td>\n",
              "      <td>16.0</td>\n",
              "      <td>NaN</td>\n",
              "      <td>NaN</td>\n",
              "    </tr>\n",
              "  </tbody>\n",
              "</table>\n",
              "</div>"
            ],
            "text/plain": [
              "                 sum_sq    df          F        PR(>F)\n",
              "C(treatments)  0.563552   7.0  20.124841  8.201638e-07\n",
              "Residual       0.064006  16.0        NaN           NaN"
            ]
          },
          "metadata": {
            "tags": []
          },
          "execution_count": 11
        }
      ]
    },
    {
      "cell_type": "code",
      "metadata": {
        "colab": {
          "base_uri": "https://localhost:8080/"
        },
        "id": "26NyPyIgpASi",
        "outputId": "0a3cf0dd-30d5-48bc-b2c0-1c1b7995ca24"
      },
      "source": [
        "pip install bioinfokit"
      ],
      "execution_count": 12,
      "outputs": [
        {
          "output_type": "stream",
          "text": [
            "Collecting bioinfokit\n",
            "\u001b[?25l  Downloading https://files.pythonhosted.org/packages/0f/2b/c219e90dfddcaa19726152cd12c4f1beae0c9e0efe82e9fa75dd81adad19/bioinfokit-2.0.4.tar.gz (82kB)\n",
            "\r\u001b[K     |████                            | 10kB 16.6MB/s eta 0:00:01\r\u001b[K     |████████                        | 20kB 7.7MB/s eta 0:00:01\r\u001b[K     |████████████                    | 30kB 4.8MB/s eta 0:00:01\r\u001b[K     |███████████████▉                | 40kB 4.5MB/s eta 0:00:01\r\u001b[K     |███████████████████▉            | 51kB 2.4MB/s eta 0:00:01\r\u001b[K     |███████████████████████▉        | 61kB 2.7MB/s eta 0:00:01\r\u001b[K     |███████████████████████████▊    | 71kB 2.9MB/s eta 0:00:01\r\u001b[K     |███████████████████████████████▊| 81kB 3.0MB/s eta 0:00:01\r\u001b[K     |████████████████████████████████| 92kB 2.6MB/s \n",
            "\u001b[?25hRequirement already satisfied: pandas in /usr/local/lib/python3.7/dist-packages (from bioinfokit) (1.1.5)\n",
            "Requirement already satisfied: numpy in /usr/local/lib/python3.7/dist-packages (from bioinfokit) (1.19.5)\n",
            "Requirement already satisfied: matplotlib in /usr/local/lib/python3.7/dist-packages (from bioinfokit) (3.2.2)\n",
            "Requirement already satisfied: scipy in /usr/local/lib/python3.7/dist-packages (from bioinfokit) (1.4.1)\n",
            "Requirement already satisfied: scikit-learn in /usr/local/lib/python3.7/dist-packages (from bioinfokit) (0.22.2.post1)\n",
            "Requirement already satisfied: seaborn in /usr/local/lib/python3.7/dist-packages (from bioinfokit) (0.11.1)\n",
            "Requirement already satisfied: matplotlib-venn in /usr/local/lib/python3.7/dist-packages (from bioinfokit) (0.11.6)\n",
            "Requirement already satisfied: tabulate in /usr/local/lib/python3.7/dist-packages (from bioinfokit) (0.8.9)\n",
            "Requirement already satisfied: statsmodels in /usr/local/lib/python3.7/dist-packages (from bioinfokit) (0.10.2)\n",
            "Collecting textwrap3\n",
            "  Downloading https://files.pythonhosted.org/packages/77/9c/a53e561d496ee5866bbeea4d3a850b3b545ed854f8a21007c1e0d872e94d/textwrap3-0.9.2-py2.py3-none-any.whl\n",
            "Collecting adjustText\n",
            "  Downloading https://files.pythonhosted.org/packages/9e/15/4157718bf323fd5f5b81c891c660d0f388e042d2689a558bf1389632dc44/adjustText-0.7.3.tar.gz\n",
            "Requirement already satisfied: python-dateutil>=2.7.3 in /usr/local/lib/python3.7/dist-packages (from pandas->bioinfokit) (2.8.1)\n",
            "Requirement already satisfied: pytz>=2017.2 in /usr/local/lib/python3.7/dist-packages (from pandas->bioinfokit) (2018.9)\n",
            "Requirement already satisfied: pyparsing!=2.0.4,!=2.1.2,!=2.1.6,>=2.0.1 in /usr/local/lib/python3.7/dist-packages (from matplotlib->bioinfokit) (2.4.7)\n",
            "Requirement already satisfied: kiwisolver>=1.0.1 in /usr/local/lib/python3.7/dist-packages (from matplotlib->bioinfokit) (1.3.1)\n",
            "Requirement already satisfied: cycler>=0.10 in /usr/local/lib/python3.7/dist-packages (from matplotlib->bioinfokit) (0.10.0)\n",
            "Requirement already satisfied: joblib>=0.11 in /usr/local/lib/python3.7/dist-packages (from scikit-learn->bioinfokit) (1.0.1)\n",
            "Requirement already satisfied: patsy>=0.4.0 in /usr/local/lib/python3.7/dist-packages (from statsmodels->bioinfokit) (0.5.1)\n",
            "Requirement already satisfied: six>=1.5 in /usr/local/lib/python3.7/dist-packages (from python-dateutil>=2.7.3->pandas->bioinfokit) (1.15.0)\n",
            "Building wheels for collected packages: bioinfokit, adjustText\n",
            "  Building wheel for bioinfokit (setup.py) ... \u001b[?25l\u001b[?25hdone\n",
            "  Created wheel for bioinfokit: filename=bioinfokit-2.0.4-cp37-none-any.whl size=56011 sha256=bdb89e0d8ce239889c1756c77eee7ebea475790a6d8cafa9080b0542fc995677\n",
            "  Stored in directory: /root/.cache/pip/wheels/43/cf/aa/4a4fe54a3edb663ee7bd9b245bd946506c8bd4b99f4ae00507\n",
            "  Building wheel for adjustText (setup.py) ... \u001b[?25l\u001b[?25hdone\n",
            "  Created wheel for adjustText: filename=adjustText-0.7.3-cp37-none-any.whl size=7097 sha256=678ddcd92b65b206502f2bd6a1777b15e0f4457f8dba8e877e271499baf8adab\n",
            "  Stored in directory: /root/.cache/pip/wheels/41/95/74/7d347e136d672f8bc28e937032bc92baf4f80856763a7e7b72\n",
            "Successfully built bioinfokit adjustText\n",
            "Installing collected packages: textwrap3, adjustText, bioinfokit\n",
            "Successfully installed adjustText-0.7.3 bioinfokit-2.0.4 textwrap3-0.9.2\n"
          ],
          "name": "stdout"
        }
      ]
    },
    {
      "cell_type": "code",
      "metadata": {
        "colab": {
          "base_uri": "https://localhost:8080/",
          "height": 111
        },
        "id": "i3hKQ2gypE6S",
        "outputId": "875feff8-02d8-494e-d28a-378acc30833c"
      },
      "source": [
        "from bioinfokit.analys import stat\n",
        "res = stat()\n",
        "res.anova_stat(df=df_melt, res_var='value', anova_model='value ~ C(treatments)')\n",
        "res.anova_summary"
      ],
      "execution_count": 13,
      "outputs": [
        {
          "output_type": "execute_result",
          "data": {
            "text/html": [
              "<div>\n",
              "<style scoped>\n",
              "    .dataframe tbody tr th:only-of-type {\n",
              "        vertical-align: middle;\n",
              "    }\n",
              "\n",
              "    .dataframe tbody tr th {\n",
              "        vertical-align: top;\n",
              "    }\n",
              "\n",
              "    .dataframe thead th {\n",
              "        text-align: right;\n",
              "    }\n",
              "</style>\n",
              "<table border=\"1\" class=\"dataframe\">\n",
              "  <thead>\n",
              "    <tr style=\"text-align: right;\">\n",
              "      <th></th>\n",
              "      <th>df</th>\n",
              "      <th>sum_sq</th>\n",
              "      <th>mean_sq</th>\n",
              "      <th>F</th>\n",
              "      <th>PR(&gt;F)</th>\n",
              "    </tr>\n",
              "  </thead>\n",
              "  <tbody>\n",
              "    <tr>\n",
              "      <th>C(treatments)</th>\n",
              "      <td>7.0</td>\n",
              "      <td>0.563552</td>\n",
              "      <td>0.080507</td>\n",
              "      <td>20.124841</td>\n",
              "      <td>8.201638e-07</td>\n",
              "    </tr>\n",
              "    <tr>\n",
              "      <th>Residual</th>\n",
              "      <td>16.0</td>\n",
              "      <td>0.064006</td>\n",
              "      <td>0.004000</td>\n",
              "      <td>NaN</td>\n",
              "      <td>NaN</td>\n",
              "    </tr>\n",
              "  </tbody>\n",
              "</table>\n",
              "</div>"
            ],
            "text/plain": [
              "                 df    sum_sq   mean_sq          F        PR(>F)\n",
              "C(treatments)   7.0  0.563552  0.080507  20.124841  8.201638e-07\n",
              "Residual       16.0  0.064006  0.004000        NaN           NaN"
            ]
          },
          "metadata": {
            "tags": []
          },
          "execution_count": 13
        }
      ]
    },
    {
      "cell_type": "code",
      "metadata": {
        "id": "XPMlcRVvpL1q"
      },
      "source": [
        "# we will use bioinfokit (v1.0.3 or later) for performing tukey HSD test\n",
        "# check documentation here https://github.com/reneshbedre/bioinfokit\n",
        "from bioinfokit.analys import stat"
      ],
      "execution_count": 14,
      "outputs": []
    },
    {
      "cell_type": "code",
      "metadata": {
        "id": "r6pBEiuKpVQS"
      },
      "source": [
        "# perform multiple pairwise comparison (Tukey's HSD)\n",
        "# unequal sample size data, tukey_hsd uses Tukey-Kramer test\n",
        "res = stat()"
      ],
      "execution_count": 15,
      "outputs": []
    },
    {
      "cell_type": "code",
      "metadata": {
        "colab": {
          "base_uri": "https://localhost:8080/",
          "height": 917
        },
        "id": "ORZm3oGcpaMa",
        "outputId": "f1698d89-4bba-4037-8f94-9350d304a6c3"
      },
      "source": [
        "res.tukey_hsd(df=df_melt, res_var='value', xfac_var='treatments', anova_model='value ~ C(treatments)')\n",
        "res.tukey_summary"
      ],
      "execution_count": 16,
      "outputs": [
        {
          "output_type": "execute_result",
          "data": {
            "text/html": [
              "<div>\n",
              "<style scoped>\n",
              "    .dataframe tbody tr th:only-of-type {\n",
              "        vertical-align: middle;\n",
              "    }\n",
              "\n",
              "    .dataframe tbody tr th {\n",
              "        vertical-align: top;\n",
              "    }\n",
              "\n",
              "    .dataframe thead th {\n",
              "        text-align: right;\n",
              "    }\n",
              "</style>\n",
              "<table border=\"1\" class=\"dataframe\">\n",
              "  <thead>\n",
              "    <tr style=\"text-align: right;\">\n",
              "      <th></th>\n",
              "      <th>group1</th>\n",
              "      <th>group2</th>\n",
              "      <th>Diff</th>\n",
              "      <th>Lower</th>\n",
              "      <th>Upper</th>\n",
              "      <th>q-value</th>\n",
              "      <th>p-value</th>\n",
              "    </tr>\n",
              "  </thead>\n",
              "  <tbody>\n",
              "    <tr>\n",
              "      <th>0</th>\n",
              "      <td>A</td>\n",
              "      <td>B</td>\n",
              "      <td>0.207642</td>\n",
              "      <td>0.028837</td>\n",
              "      <td>0.386448</td>\n",
              "      <td>5.686234</td>\n",
              "      <td>0.017183</td>\n",
              "    </tr>\n",
              "    <tr>\n",
              "      <th>1</th>\n",
              "      <td>A</td>\n",
              "      <td>C</td>\n",
              "      <td>0.084239</td>\n",
              "      <td>-0.094566</td>\n",
              "      <td>0.263044</td>\n",
              "      <td>2.306864</td>\n",
              "      <td>0.704766</td>\n",
              "    </tr>\n",
              "    <tr>\n",
              "      <th>2</th>\n",
              "      <td>A</td>\n",
              "      <td>D</td>\n",
              "      <td>0.227388</td>\n",
              "      <td>0.048582</td>\n",
              "      <td>0.406193</td>\n",
              "      <td>6.226958</td>\n",
              "      <td>0.008159</td>\n",
              "    </tr>\n",
              "    <tr>\n",
              "      <th>3</th>\n",
              "      <td>A</td>\n",
              "      <td>E</td>\n",
              "      <td>0.151840</td>\n",
              "      <td>-0.026965</td>\n",
              "      <td>0.330646</td>\n",
              "      <td>4.158110</td>\n",
              "      <td>0.128147</td>\n",
              "    </tr>\n",
              "    <tr>\n",
              "      <th>4</th>\n",
              "      <td>A</td>\n",
              "      <td>F</td>\n",
              "      <td>0.193665</td>\n",
              "      <td>0.014860</td>\n",
              "      <td>0.372471</td>\n",
              "      <td>5.303477</td>\n",
              "      <td>0.028977</td>\n",
              "    </tr>\n",
              "    <tr>\n",
              "      <th>5</th>\n",
              "      <td>A</td>\n",
              "      <td>G</td>\n",
              "      <td>0.104788</td>\n",
              "      <td>-0.074018</td>\n",
              "      <td>0.283593</td>\n",
              "      <td>2.869580</td>\n",
              "      <td>0.494157</td>\n",
              "    </tr>\n",
              "    <tr>\n",
              "      <th>6</th>\n",
              "      <td>A</td>\n",
              "      <td>H</td>\n",
              "      <td>0.135490</td>\n",
              "      <td>-0.043315</td>\n",
              "      <td>0.314295</td>\n",
              "      <td>3.710362</td>\n",
              "      <td>0.216847</td>\n",
              "    </tr>\n",
              "    <tr>\n",
              "      <th>7</th>\n",
              "      <td>B</td>\n",
              "      <td>C</td>\n",
              "      <td>0.291881</td>\n",
              "      <td>0.113076</td>\n",
              "      <td>0.470687</td>\n",
              "      <td>7.993098</td>\n",
              "      <td>0.001000</td>\n",
              "    </tr>\n",
              "    <tr>\n",
              "      <th>8</th>\n",
              "      <td>B</td>\n",
              "      <td>D</td>\n",
              "      <td>0.435030</td>\n",
              "      <td>0.256225</td>\n",
              "      <td>0.613836</td>\n",
              "      <td>11.913192</td>\n",
              "      <td>0.001000</td>\n",
              "    </tr>\n",
              "    <tr>\n",
              "      <th>9</th>\n",
              "      <td>B</td>\n",
              "      <td>E</td>\n",
              "      <td>0.359483</td>\n",
              "      <td>0.180677</td>\n",
              "      <td>0.538288</td>\n",
              "      <td>9.844344</td>\n",
              "      <td>0.001000</td>\n",
              "    </tr>\n",
              "    <tr>\n",
              "      <th>10</th>\n",
              "      <td>B</td>\n",
              "      <td>F</td>\n",
              "      <td>0.013977</td>\n",
              "      <td>-0.164828</td>\n",
              "      <td>0.192782</td>\n",
              "      <td>0.382757</td>\n",
              "      <td>0.900000</td>\n",
              "    </tr>\n",
              "    <tr>\n",
              "      <th>11</th>\n",
              "      <td>B</td>\n",
              "      <td>G</td>\n",
              "      <td>0.102855</td>\n",
              "      <td>-0.075951</td>\n",
              "      <td>0.281660</td>\n",
              "      <td>2.816654</td>\n",
              "      <td>0.513970</td>\n",
              "    </tr>\n",
              "    <tr>\n",
              "      <th>12</th>\n",
              "      <td>B</td>\n",
              "      <td>H</td>\n",
              "      <td>0.072152</td>\n",
              "      <td>-0.106653</td>\n",
              "      <td>0.250958</td>\n",
              "      <td>1.975872</td>\n",
              "      <td>0.828647</td>\n",
              "    </tr>\n",
              "    <tr>\n",
              "      <th>13</th>\n",
              "      <td>C</td>\n",
              "      <td>D</td>\n",
              "      <td>0.143149</td>\n",
              "      <td>-0.035657</td>\n",
              "      <td>0.321954</td>\n",
              "      <td>3.920094</td>\n",
              "      <td>0.170747</td>\n",
              "    </tr>\n",
              "    <tr>\n",
              "      <th>14</th>\n",
              "      <td>C</td>\n",
              "      <td>E</td>\n",
              "      <td>0.067601</td>\n",
              "      <td>-0.111204</td>\n",
              "      <td>0.246407</td>\n",
              "      <td>1.851246</td>\n",
              "      <td>0.875290</td>\n",
              "    </tr>\n",
              "    <tr>\n",
              "      <th>15</th>\n",
              "      <td>C</td>\n",
              "      <td>F</td>\n",
              "      <td>0.277904</td>\n",
              "      <td>0.099099</td>\n",
              "      <td>0.456710</td>\n",
              "      <td>7.610341</td>\n",
              "      <td>0.001234</td>\n",
              "    </tr>\n",
              "    <tr>\n",
              "      <th>16</th>\n",
              "      <td>C</td>\n",
              "      <td>G</td>\n",
              "      <td>0.189027</td>\n",
              "      <td>0.010221</td>\n",
              "      <td>0.367832</td>\n",
              "      <td>5.176444</td>\n",
              "      <td>0.034408</td>\n",
              "    </tr>\n",
              "    <tr>\n",
              "      <th>17</th>\n",
              "      <td>C</td>\n",
              "      <td>H</td>\n",
              "      <td>0.219729</td>\n",
              "      <td>0.040924</td>\n",
              "      <td>0.398534</td>\n",
              "      <td>6.017226</td>\n",
              "      <td>0.010899</td>\n",
              "    </tr>\n",
              "    <tr>\n",
              "      <th>18</th>\n",
              "      <td>D</td>\n",
              "      <td>E</td>\n",
              "      <td>0.075547</td>\n",
              "      <td>-0.103258</td>\n",
              "      <td>0.254353</td>\n",
              "      <td>2.068848</td>\n",
              "      <td>0.793848</td>\n",
              "    </tr>\n",
              "    <tr>\n",
              "      <th>19</th>\n",
              "      <td>D</td>\n",
              "      <td>F</td>\n",
              "      <td>0.421053</td>\n",
              "      <td>0.242248</td>\n",
              "      <td>0.599859</td>\n",
              "      <td>11.530435</td>\n",
              "      <td>0.001000</td>\n",
              "    </tr>\n",
              "    <tr>\n",
              "      <th>20</th>\n",
              "      <td>D</td>\n",
              "      <td>G</td>\n",
              "      <td>0.332175</td>\n",
              "      <td>0.153370</td>\n",
              "      <td>0.510981</td>\n",
              "      <td>9.096538</td>\n",
              "      <td>0.001000</td>\n",
              "    </tr>\n",
              "    <tr>\n",
              "      <th>21</th>\n",
              "      <td>D</td>\n",
              "      <td>H</td>\n",
              "      <td>0.362878</td>\n",
              "      <td>0.184073</td>\n",
              "      <td>0.541683</td>\n",
              "      <td>9.937320</td>\n",
              "      <td>0.001000</td>\n",
              "    </tr>\n",
              "    <tr>\n",
              "      <th>22</th>\n",
              "      <td>E</td>\n",
              "      <td>F</td>\n",
              "      <td>0.345506</td>\n",
              "      <td>0.166700</td>\n",
              "      <td>0.524311</td>\n",
              "      <td>9.461587</td>\n",
              "      <td>0.001000</td>\n",
              "    </tr>\n",
              "    <tr>\n",
              "      <th>23</th>\n",
              "      <td>E</td>\n",
              "      <td>G</td>\n",
              "      <td>0.256628</td>\n",
              "      <td>0.077823</td>\n",
              "      <td>0.435433</td>\n",
              "      <td>7.027690</td>\n",
              "      <td>0.002715</td>\n",
              "    </tr>\n",
              "    <tr>\n",
              "      <th>24</th>\n",
              "      <td>E</td>\n",
              "      <td>H</td>\n",
              "      <td>0.287330</td>\n",
              "      <td>0.108525</td>\n",
              "      <td>0.466136</td>\n",
              "      <td>7.868472</td>\n",
              "      <td>0.001000</td>\n",
              "    </tr>\n",
              "    <tr>\n",
              "      <th>25</th>\n",
              "      <td>F</td>\n",
              "      <td>G</td>\n",
              "      <td>0.088878</td>\n",
              "      <td>-0.089928</td>\n",
              "      <td>0.267683</td>\n",
              "      <td>2.433897</td>\n",
              "      <td>0.657224</td>\n",
              "    </tr>\n",
              "    <tr>\n",
              "      <th>26</th>\n",
              "      <td>F</td>\n",
              "      <td>H</td>\n",
              "      <td>0.058175</td>\n",
              "      <td>-0.120630</td>\n",
              "      <td>0.236981</td>\n",
              "      <td>1.593115</td>\n",
              "      <td>0.900000</td>\n",
              "    </tr>\n",
              "    <tr>\n",
              "      <th>27</th>\n",
              "      <td>G</td>\n",
              "      <td>H</td>\n",
              "      <td>0.030703</td>\n",
              "      <td>-0.148103</td>\n",
              "      <td>0.209508</td>\n",
              "      <td>0.840782</td>\n",
              "      <td>0.900000</td>\n",
              "    </tr>\n",
              "  </tbody>\n",
              "</table>\n",
              "</div>"
            ],
            "text/plain": [
              "   group1 group2      Diff     Lower     Upper    q-value   p-value\n",
              "0       A      B  0.207642  0.028837  0.386448   5.686234  0.017183\n",
              "1       A      C  0.084239 -0.094566  0.263044   2.306864  0.704766\n",
              "2       A      D  0.227388  0.048582  0.406193   6.226958  0.008159\n",
              "3       A      E  0.151840 -0.026965  0.330646   4.158110  0.128147\n",
              "4       A      F  0.193665  0.014860  0.372471   5.303477  0.028977\n",
              "5       A      G  0.104788 -0.074018  0.283593   2.869580  0.494157\n",
              "6       A      H  0.135490 -0.043315  0.314295   3.710362  0.216847\n",
              "7       B      C  0.291881  0.113076  0.470687   7.993098  0.001000\n",
              "8       B      D  0.435030  0.256225  0.613836  11.913192  0.001000\n",
              "9       B      E  0.359483  0.180677  0.538288   9.844344  0.001000\n",
              "10      B      F  0.013977 -0.164828  0.192782   0.382757  0.900000\n",
              "11      B      G  0.102855 -0.075951  0.281660   2.816654  0.513970\n",
              "12      B      H  0.072152 -0.106653  0.250958   1.975872  0.828647\n",
              "13      C      D  0.143149 -0.035657  0.321954   3.920094  0.170747\n",
              "14      C      E  0.067601 -0.111204  0.246407   1.851246  0.875290\n",
              "15      C      F  0.277904  0.099099  0.456710   7.610341  0.001234\n",
              "16      C      G  0.189027  0.010221  0.367832   5.176444  0.034408\n",
              "17      C      H  0.219729  0.040924  0.398534   6.017226  0.010899\n",
              "18      D      E  0.075547 -0.103258  0.254353   2.068848  0.793848\n",
              "19      D      F  0.421053  0.242248  0.599859  11.530435  0.001000\n",
              "20      D      G  0.332175  0.153370  0.510981   9.096538  0.001000\n",
              "21      D      H  0.362878  0.184073  0.541683   9.937320  0.001000\n",
              "22      E      F  0.345506  0.166700  0.524311   9.461587  0.001000\n",
              "23      E      G  0.256628  0.077823  0.435433   7.027690  0.002715\n",
              "24      E      H  0.287330  0.108525  0.466136   7.868472  0.001000\n",
              "25      F      G  0.088878 -0.089928  0.267683   2.433897  0.657224\n",
              "26      F      H  0.058175 -0.120630  0.236981   1.593115  0.900000\n",
              "27      G      H  0.030703 -0.148103  0.209508   0.840782  0.900000"
            ]
          },
          "metadata": {
            "tags": []
          },
          "execution_count": 16
        }
      ]
    },
    {
      "cell_type": "code",
      "metadata": {
        "id": "05h5vEvcpe1C"
      },
      "source": [
        "# QQ-plot\n",
        "import statsmodels.api as sm\n",
        "import matplotlib.pyplot as plt"
      ],
      "execution_count": 17,
      "outputs": []
    },
    {
      "cell_type": "code",
      "metadata": {
        "colab": {
          "base_uri": "https://localhost:8080/",
          "height": 279
        },
        "id": "uIV_v3gspjwp",
        "outputId": "5c207cd4-2012-4933-c35c-6f9bfb0ee6a5"
      },
      "source": [
        "# res.anova_std_residuals are standardized residuals obtained from ANOVA (check above)\n",
        "sm.qqplot(res.anova_std_residuals, line='45')\n",
        "plt.xlabel(\"Theoretical Quantiles\")\n",
        "plt.ylabel(\"Standardized Residuals\")\n",
        "plt.show()"
      ],
      "execution_count": 18,
      "outputs": [
        {
          "output_type": "display_data",
          "data": {
            "image/png": "[encoded data removed]",
            "text/plain": [
              "<Figure size 432x288 with 1 Axes>"
            ]
          },
          "metadata": {
            "tags": [],
            "needs_background": "light"
          }
        }
      ]
    },
    {
      "cell_type": "code",
      "metadata": {
        "colab": {
          "base_uri": "https://localhost:8080/",
          "height": 279
        },
        "id": "OmerBdJqpo86",
        "outputId": "cb5a5179-3a1e-403c-e214-ded86602c246"
      },
      "source": [
        "# histogram\n",
        "plt.hist(res.anova_model_out.resid, bins='auto', histtype='bar', ec='k') \n",
        "plt.xlabel(\"Residuals\")\n",
        "plt.ylabel('Frequency')\n",
        "plt.show()"
      ],
      "execution_count": 19,
      "outputs": [
        {
          "output_type": "display_data",
          "data": {
            "image/png": "[encoded data removed]",
            "text/plain": [
              "<Figure size 432x288 with 1 Axes>"
            ]
          },
          "metadata": {
            "tags": [],
            "needs_background": "light"
          }
        }
      ]
    },
    {
      "cell_type": "code",
      "metadata": {
        "colab": {
          "base_uri": "https://localhost:8080/"
        },
        "id": "z2ToBSXvpuXB",
        "outputId": "7fa9a0b8-dc6c-4770-9a86-623218c8cb40"
      },
      "source": [
        "import scipy.stats as stats\n",
        "w, pvalue = stats.shapiro(model.resid)\n",
        "print(w, pvalue)"
      ],
      "execution_count": 21,
      "outputs": [
        {
          "output_type": "stream",
          "text": [
            "0.9433070421218872 0.19321784377098083\n"
          ],
          "name": "stdout"
        }
      ]
    },
    {
      "cell_type": "code",
      "metadata": {
        "colab": {
          "base_uri": "https://localhost:8080/"
        },
        "id": "qmQ--e3Ypzca",
        "outputId": "3c27cf40-f5e5-4bfb-a704-8cc4bc70ca27"
      },
      "source": [
        "import scipy.stats as stats\n",
        "w, pvalue = stats.bartlett(df['A'], df['B'], df['C'], df['D'])\n",
        "print(w, pvalue)"
      ],
      "execution_count": 22,
      "outputs": [
        {
          "output_type": "stream",
          "text": [
            "2.4663319348044768 0.4814063954426455\n"
          ],
          "name": "stdout"
        }
      ]
    },
    {
      "cell_type": "code",
      "metadata": {
        "colab": {
          "base_uri": "https://localhost:8080/",
          "height": 142
        },
        "id": "yfJxH9Nmq2ni",
        "outputId": "512c49c2-60c8-4a07-a951-1cdf93383e50"
      },
      "source": [
        "from bioinfokit.analys import stat \n",
        "res = stat()\n",
        "res.bartlett(df=df_melt, res_var='value', xfac_var='treatments')\n",
        "res.bartlett_summary"
      ],
      "execution_count": 23,
      "outputs": [
        {
          "output_type": "execute_result",
          "data": {
            "text/html": [
              "<div>\n",
              "<style scoped>\n",
              "    .dataframe tbody tr th:only-of-type {\n",
              "        vertical-align: middle;\n",
              "    }\n",
              "\n",
              "    .dataframe tbody tr th {\n",
              "        vertical-align: top;\n",
              "    }\n",
              "\n",
              "    .dataframe thead th {\n",
              "        text-align: right;\n",
              "    }\n",
              "</style>\n",
              "<table border=\"1\" class=\"dataframe\">\n",
              "  <thead>\n",
              "    <tr style=\"text-align: right;\">\n",
              "      <th></th>\n",
              "      <th>Parameter</th>\n",
              "      <th>Value</th>\n",
              "    </tr>\n",
              "  </thead>\n",
              "  <tbody>\n",
              "    <tr>\n",
              "      <th>0</th>\n",
              "      <td>Test statistics (T)</td>\n",
              "      <td>6.3916</td>\n",
              "    </tr>\n",
              "    <tr>\n",
              "      <th>1</th>\n",
              "      <td>Degrees of freedom (Df)</td>\n",
              "      <td>7.0000</td>\n",
              "    </tr>\n",
              "    <tr>\n",
              "      <th>2</th>\n",
              "      <td>p value</td>\n",
              "      <td>0.4948</td>\n",
              "    </tr>\n",
              "  </tbody>\n",
              "</table>\n",
              "</div>"
            ],
            "text/plain": [
              "                 Parameter   Value\n",
              "0      Test statistics (T)  6.3916\n",
              "1  Degrees of freedom (Df)  7.0000\n",
              "2                  p value  0.4948"
            ]
          },
          "metadata": {
            "tags": []
          },
          "execution_count": 23
        }
      ]
    },
    {
      "cell_type": "code",
      "metadata": {
        "id": "1mZB8HBFq6ki"
      },
      "source": [
        "#As the p value (0.12) is non significant, we fail to reject null hypothesis and conclude that treatments have equal variances.\n",
        "\n"
      ],
      "execution_count": 24,
      "outputs": []
    },
    {
      "cell_type": "code",
      "metadata": {
        "id": "0iOxmirGq-xK"
      },
      "source": [
        "import pandas as pd\n",
        "# load data file\n",
        "df = pd.read_csv(\"/content/89 actin RM.txt\", sep=\"\\t\")\n",
        "# reshape the d dataframe suitable for statsmodels package "
      ],
      "execution_count": 25,
      "outputs": []
    },
    {
      "cell_type": "code",
      "metadata": {
        "id": "TGFnn683r4zS"
      },
      "source": [
        "# reshape the d dataframe suitable for statsmodels package \n",
        "df_melt = pd.melt(df.reset_index(), id_vars=['index'], value_vars=['A', 'B', 'C', 'D','E','F','G','H'])\n",
        "# replace column names\n",
        "df_melt.columns = ['index', 'treatments', 'value']\n",
        "\n",
        "#A = vehicle\n",
        "#B = 0.01\n",
        "#C = 0.1\n",
        "#D= 0.5\n",
        "#E= 1\n",
        "#F= 5\n",
        "#G = 10\n",
        "#H = 50"
      ],
      "execution_count": 26,
      "outputs": []
    },
    {
      "cell_type": "code",
      "metadata": {
        "colab": {
          "base_uri": "https://localhost:8080/",
          "height": 282
        },
        "id": "GLnP6L5Wr-rS",
        "outputId": "162185fe-3a25-45e6-c3b2-773a883e6464"
      },
      "source": [
        "import matplotlib.pyplot as plt\n",
        "import seaborn as sns\n",
        "ax = sns.boxplot(x='treatments', y='value', data=df_melt, color='#99c2a2')\n",
        "ax = sns.swarmplot(x=\"treatments\", y=\"value\", data=df_melt, color='#7d0013')\n",
        "plt.show()"
      ],
      "execution_count": 27,
      "outputs": [
        {
          "output_type": "display_data",
          "data": {
            "image/png": "[encoded data removed]",
            "text/plain": [
              "<Figure size 432x288 with 1 Axes>"
            ]
          },
          "metadata": {
            "tags": [],
            "needs_background": "light"
          }
        }
      ]
    },
    {
      "cell_type": "code",
      "metadata": {
        "colab": {
          "base_uri": "https://localhost:8080/"
        },
        "id": "HsqBsn1KsDKK",
        "outputId": "1e2e7ba3-5bfc-4e99-b786-a0e60e934ee8"
      },
      "source": [
        "import scipy.stats as stats\n",
        "# stats f_oneway functions takes the groups as input and returns ANOVA F and p value\n",
        "fvalue, pvalue = stats.f_oneway(df['A'], df['B'], df['C'], df['D'],df['E'],df['F'],df['G'],df['H'])\n",
        "print(fvalue, pvalue)"
      ],
      "execution_count": 29,
      "outputs": [
        {
          "output_type": "stream",
          "text": [
            "6.882281108186796 0.0007099522216519043\n"
          ],
          "name": "stdout"
        }
      ]
    },
    {
      "cell_type": "code",
      "metadata": {
        "id": "WjOopnq8sFwJ"
      },
      "source": [
        "import statsmodels.api as sm\n",
        "from statsmodels.formula.api import ols"
      ],
      "execution_count": 30,
      "outputs": []
    },
    {
      "cell_type": "code",
      "metadata": {
        "colab": {
          "base_uri": "https://localhost:8080/",
          "height": 111
        },
        "id": "jpDJvlFgsSsa",
        "outputId": "ba1ecc2f-c843-40ce-9e75-fdfc31ee688f"
      },
      "source": [
        "model = ols('value ~ C(treatments)', data=df_melt).fit()\n",
        "anova_table = sm.stats.anova_lm(model, typ=2)\n",
        "anova_table"
      ],
      "execution_count": 31,
      "outputs": [
        {
          "output_type": "execute_result",
          "data": {
            "text/html": [
              "<div>\n",
              "<style scoped>\n",
              "    .dataframe tbody tr th:only-of-type {\n",
              "        vertical-align: middle;\n",
              "    }\n",
              "\n",
              "    .dataframe tbody tr th {\n",
              "        vertical-align: top;\n",
              "    }\n",
              "\n",
              "    .dataframe thead th {\n",
              "        text-align: right;\n",
              "    }\n",
              "</style>\n",
              "<table border=\"1\" class=\"dataframe\">\n",
              "  <thead>\n",
              "    <tr style=\"text-align: right;\">\n",
              "      <th></th>\n",
              "      <th>sum_sq</th>\n",
              "      <th>df</th>\n",
              "      <th>F</th>\n",
              "      <th>PR(&gt;F)</th>\n",
              "    </tr>\n",
              "  </thead>\n",
              "  <tbody>\n",
              "    <tr>\n",
              "      <th>C(treatments)</th>\n",
              "      <td>0.118436</td>\n",
              "      <td>7.0</td>\n",
              "      <td>6.882281</td>\n",
              "      <td>0.00071</td>\n",
              "    </tr>\n",
              "    <tr>\n",
              "      <th>Residual</th>\n",
              "      <td>0.039334</td>\n",
              "      <td>16.0</td>\n",
              "      <td>NaN</td>\n",
              "      <td>NaN</td>\n",
              "    </tr>\n",
              "  </tbody>\n",
              "</table>\n",
              "</div>"
            ],
            "text/plain": [
              "                 sum_sq    df         F   PR(>F)\n",
              "C(treatments)  0.118436   7.0  6.882281  0.00071\n",
              "Residual       0.039334  16.0       NaN      NaN"
            ]
          },
          "metadata": {
            "tags": []
          },
          "execution_count": 31
        }
      ]
    },
    {
      "cell_type": "code",
      "metadata": {
        "colab": {
          "base_uri": "https://localhost:8080/",
          "height": 111
        },
        "id": "VCAAOr5qsU3i",
        "outputId": "c18f63ad-50ad-4aaf-8f40-0eb6db7dcc3f"
      },
      "source": [
        "from bioinfokit.analys import stat\n",
        "res = stat()\n",
        "res.anova_stat(df=df_melt, res_var='value', anova_model='value ~ C(treatments)')\n",
        "res.anova_summary"
      ],
      "execution_count": 32,
      "outputs": [
        {
          "output_type": "execute_result",
          "data": {
            "text/html": [
              "<div>\n",
              "<style scoped>\n",
              "    .dataframe tbody tr th:only-of-type {\n",
              "        vertical-align: middle;\n",
              "    }\n",
              "\n",
              "    .dataframe tbody tr th {\n",
              "        vertical-align: top;\n",
              "    }\n",
              "\n",
              "    .dataframe thead th {\n",
              "        text-align: right;\n",
              "    }\n",
              "</style>\n",
              "<table border=\"1\" class=\"dataframe\">\n",
              "  <thead>\n",
              "    <tr style=\"text-align: right;\">\n",
              "      <th></th>\n",
              "      <th>df</th>\n",
              "      <th>sum_sq</th>\n",
              "      <th>mean_sq</th>\n",
              "      <th>F</th>\n",
              "      <th>PR(&gt;F)</th>\n",
              "    </tr>\n",
              "  </thead>\n",
              "  <tbody>\n",
              "    <tr>\n",
              "      <th>C(treatments)</th>\n",
              "      <td>7.0</td>\n",
              "      <td>0.118436</td>\n",
              "      <td>0.016919</td>\n",
              "      <td>6.882281</td>\n",
              "      <td>0.00071</td>\n",
              "    </tr>\n",
              "    <tr>\n",
              "      <th>Residual</th>\n",
              "      <td>16.0</td>\n",
              "      <td>0.039334</td>\n",
              "      <td>0.002458</td>\n",
              "      <td>NaN</td>\n",
              "      <td>NaN</td>\n",
              "    </tr>\n",
              "  </tbody>\n",
              "</table>\n",
              "</div>"
            ],
            "text/plain": [
              "                 df    sum_sq   mean_sq         F   PR(>F)\n",
              "C(treatments)   7.0  0.118436  0.016919  6.882281  0.00071\n",
              "Residual       16.0  0.039334  0.002458       NaN      NaN"
            ]
          },
          "metadata": {
            "tags": []
          },
          "execution_count": 32
        }
      ]
    },
    {
      "cell_type": "code",
      "metadata": {
        "colab": {
          "base_uri": "https://localhost:8080/",
          "height": 917
        },
        "id": "m3LsGJdrsZKy",
        "outputId": "73fbbffe-ff6c-4d85-dda2-05fbe48fb5f3"
      },
      "source": [
        "# we will use bioinfokit (v1.0.3 or later) for performing tukey HSD test\n",
        "# check documentation here https://github.com/reneshbedre/bioinfokit\n",
        "from bioinfokit.analys import stat\n",
        "# perform multiple pairwise comparison (Tukey's HSD)\n",
        "# unequal sample size data, tukey_hsd uses Tukey-Kramer test\n",
        "res = stat()\n",
        "res.tukey_hsd(df=df_melt, res_var='value', xfac_var='treatments', anova_model='value ~ C(treatments)')\n",
        "res.tukey_summary"
      ],
      "execution_count": 33,
      "outputs": [
        {
          "output_type": "execute_result",
          "data": {
            "text/html": [
              "<div>\n",
              "<style scoped>\n",
              "    .dataframe tbody tr th:only-of-type {\n",
              "        vertical-align: middle;\n",
              "    }\n",
              "\n",
              "    .dataframe tbody tr th {\n",
              "        vertical-align: top;\n",
              "    }\n",
              "\n",
              "    .dataframe thead th {\n",
              "        text-align: right;\n",
              "    }\n",
              "</style>\n",
              "<table border=\"1\" class=\"dataframe\">\n",
              "  <thead>\n",
              "    <tr style=\"text-align: right;\">\n",
              "      <th></th>\n",
              "      <th>group1</th>\n",
              "      <th>group2</th>\n",
              "      <th>Diff</th>\n",
              "      <th>Lower</th>\n",
              "      <th>Upper</th>\n",
              "      <th>q-value</th>\n",
              "      <th>p-value</th>\n",
              "    </tr>\n",
              "  </thead>\n",
              "  <tbody>\n",
              "    <tr>\n",
              "      <th>0</th>\n",
              "      <td>A</td>\n",
              "      <td>B</td>\n",
              "      <td>0.218599</td>\n",
              "      <td>0.078429</td>\n",
              "      <td>0.358769</td>\n",
              "      <td>7.636274</td>\n",
              "      <td>0.001188</td>\n",
              "    </tr>\n",
              "    <tr>\n",
              "      <th>1</th>\n",
              "      <td>A</td>\n",
              "      <td>C</td>\n",
              "      <td>0.065593</td>\n",
              "      <td>-0.074577</td>\n",
              "      <td>0.205764</td>\n",
              "      <td>2.291364</td>\n",
              "      <td>0.710568</td>\n",
              "    </tr>\n",
              "    <tr>\n",
              "      <th>2</th>\n",
              "      <td>A</td>\n",
              "      <td>D</td>\n",
              "      <td>0.075282</td>\n",
              "      <td>-0.064888</td>\n",
              "      <td>0.215453</td>\n",
              "      <td>2.629826</td>\n",
              "      <td>0.583892</td>\n",
              "    </tr>\n",
              "    <tr>\n",
              "      <th>3</th>\n",
              "      <td>A</td>\n",
              "      <td>E</td>\n",
              "      <td>0.075236</td>\n",
              "      <td>-0.064934</td>\n",
              "      <td>0.215406</td>\n",
              "      <td>2.628213</td>\n",
              "      <td>0.584496</td>\n",
              "    </tr>\n",
              "    <tr>\n",
              "      <th>4</th>\n",
              "      <td>A</td>\n",
              "      <td>F</td>\n",
              "      <td>0.205566</td>\n",
              "      <td>0.065396</td>\n",
              "      <td>0.345736</td>\n",
              "      <td>7.181003</td>\n",
              "      <td>0.002203</td>\n",
              "    </tr>\n",
              "    <tr>\n",
              "      <th>5</th>\n",
              "      <td>A</td>\n",
              "      <td>G</td>\n",
              "      <td>0.128573</td>\n",
              "      <td>-0.011597</td>\n",
              "      <td>0.268743</td>\n",
              "      <td>4.491421</td>\n",
              "      <td>0.084844</td>\n",
              "    </tr>\n",
              "    <tr>\n",
              "      <th>6</th>\n",
              "      <td>A</td>\n",
              "      <td>H</td>\n",
              "      <td>0.154193</td>\n",
              "      <td>0.014023</td>\n",
              "      <td>0.294363</td>\n",
              "      <td>5.386386</td>\n",
              "      <td>0.025889</td>\n",
              "    </tr>\n",
              "    <tr>\n",
              "      <th>7</th>\n",
              "      <td>B</td>\n",
              "      <td>C</td>\n",
              "      <td>0.153005</td>\n",
              "      <td>0.012835</td>\n",
              "      <td>0.293175</td>\n",
              "      <td>5.344910</td>\n",
              "      <td>0.027391</td>\n",
              "    </tr>\n",
              "    <tr>\n",
              "      <th>8</th>\n",
              "      <td>B</td>\n",
              "      <td>D</td>\n",
              "      <td>0.143316</td>\n",
              "      <td>0.003146</td>\n",
              "      <td>0.283487</td>\n",
              "      <td>5.006447</td>\n",
              "      <td>0.043218</td>\n",
              "    </tr>\n",
              "    <tr>\n",
              "      <th>9</th>\n",
              "      <td>B</td>\n",
              "      <td>E</td>\n",
              "      <td>0.143363</td>\n",
              "      <td>0.003192</td>\n",
              "      <td>0.283533</td>\n",
              "      <td>5.008061</td>\n",
              "      <td>0.043123</td>\n",
              "    </tr>\n",
              "    <tr>\n",
              "      <th>10</th>\n",
              "      <td>B</td>\n",
              "      <td>F</td>\n",
              "      <td>0.013033</td>\n",
              "      <td>-0.127137</td>\n",
              "      <td>0.153203</td>\n",
              "      <td>0.455271</td>\n",
              "      <td>0.900000</td>\n",
              "    </tr>\n",
              "    <tr>\n",
              "      <th>11</th>\n",
              "      <td>B</td>\n",
              "      <td>G</td>\n",
              "      <td>0.090026</td>\n",
              "      <td>-0.050144</td>\n",
              "      <td>0.230196</td>\n",
              "      <td>3.144853</td>\n",
              "      <td>0.389717</td>\n",
              "    </tr>\n",
              "    <tr>\n",
              "      <th>12</th>\n",
              "      <td>B</td>\n",
              "      <td>H</td>\n",
              "      <td>0.064406</td>\n",
              "      <td>-0.075764</td>\n",
              "      <td>0.204576</td>\n",
              "      <td>2.249887</td>\n",
              "      <td>0.726093</td>\n",
              "    </tr>\n",
              "    <tr>\n",
              "      <th>13</th>\n",
              "      <td>C</td>\n",
              "      <td>D</td>\n",
              "      <td>0.009689</td>\n",
              "      <td>-0.130481</td>\n",
              "      <td>0.149859</td>\n",
              "      <td>0.338463</td>\n",
              "      <td>0.900000</td>\n",
              "    </tr>\n",
              "    <tr>\n",
              "      <th>14</th>\n",
              "      <td>C</td>\n",
              "      <td>E</td>\n",
              "      <td>0.009643</td>\n",
              "      <td>-0.130527</td>\n",
              "      <td>0.149813</td>\n",
              "      <td>0.336849</td>\n",
              "      <td>0.900000</td>\n",
              "    </tr>\n",
              "    <tr>\n",
              "      <th>15</th>\n",
              "      <td>C</td>\n",
              "      <td>F</td>\n",
              "      <td>0.139973</td>\n",
              "      <td>-0.000198</td>\n",
              "      <td>0.280143</td>\n",
              "      <td>4.889639</td>\n",
              "      <td>0.050460</td>\n",
              "    </tr>\n",
              "    <tr>\n",
              "      <th>16</th>\n",
              "      <td>C</td>\n",
              "      <td>G</td>\n",
              "      <td>0.062980</td>\n",
              "      <td>-0.077191</td>\n",
              "      <td>0.203150</td>\n",
              "      <td>2.200057</td>\n",
              "      <td>0.744741</td>\n",
              "    </tr>\n",
              "    <tr>\n",
              "      <th>17</th>\n",
              "      <td>C</td>\n",
              "      <td>H</td>\n",
              "      <td>0.088599</td>\n",
              "      <td>-0.051571</td>\n",
              "      <td>0.228769</td>\n",
              "      <td>3.095023</td>\n",
              "      <td>0.408381</td>\n",
              "    </tr>\n",
              "    <tr>\n",
              "      <th>18</th>\n",
              "      <td>D</td>\n",
              "      <td>E</td>\n",
              "      <td>0.000046</td>\n",
              "      <td>-0.140124</td>\n",
              "      <td>0.140216</td>\n",
              "      <td>0.001614</td>\n",
              "      <td>0.900000</td>\n",
              "    </tr>\n",
              "    <tr>\n",
              "      <th>19</th>\n",
              "      <td>D</td>\n",
              "      <td>F</td>\n",
              "      <td>0.130284</td>\n",
              "      <td>-0.009887</td>\n",
              "      <td>0.270454</td>\n",
              "      <td>4.551176</td>\n",
              "      <td>0.078609</td>\n",
              "    </tr>\n",
              "    <tr>\n",
              "      <th>20</th>\n",
              "      <td>D</td>\n",
              "      <td>G</td>\n",
              "      <td>0.053291</td>\n",
              "      <td>-0.086879</td>\n",
              "      <td>0.193461</td>\n",
              "      <td>1.861594</td>\n",
              "      <td>0.871417</td>\n",
              "    </tr>\n",
              "    <tr>\n",
              "      <th>21</th>\n",
              "      <td>D</td>\n",
              "      <td>H</td>\n",
              "      <td>0.078910</td>\n",
              "      <td>-0.061260</td>\n",
              "      <td>0.219080</td>\n",
              "      <td>2.756560</td>\n",
              "      <td>0.536461</td>\n",
              "    </tr>\n",
              "    <tr>\n",
              "      <th>22</th>\n",
              "      <td>E</td>\n",
              "      <td>F</td>\n",
              "      <td>0.130330</td>\n",
              "      <td>-0.009840</td>\n",
              "      <td>0.270500</td>\n",
              "      <td>4.552790</td>\n",
              "      <td>0.078446</td>\n",
              "    </tr>\n",
              "    <tr>\n",
              "      <th>23</th>\n",
              "      <td>E</td>\n",
              "      <td>G</td>\n",
              "      <td>0.053337</td>\n",
              "      <td>-0.086833</td>\n",
              "      <td>0.193507</td>\n",
              "      <td>1.863208</td>\n",
              "      <td>0.870816</td>\n",
              "    </tr>\n",
              "    <tr>\n",
              "      <th>24</th>\n",
              "      <td>E</td>\n",
              "      <td>H</td>\n",
              "      <td>0.078956</td>\n",
              "      <td>-0.061214</td>\n",
              "      <td>0.219127</td>\n",
              "      <td>2.758174</td>\n",
              "      <td>0.535857</td>\n",
              "    </tr>\n",
              "    <tr>\n",
              "      <th>25</th>\n",
              "      <td>F</td>\n",
              "      <td>G</td>\n",
              "      <td>0.076993</td>\n",
              "      <td>-0.063177</td>\n",
              "      <td>0.217163</td>\n",
              "      <td>2.689582</td>\n",
              "      <td>0.561528</td>\n",
              "    </tr>\n",
              "    <tr>\n",
              "      <th>26</th>\n",
              "      <td>F</td>\n",
              "      <td>H</td>\n",
              "      <td>0.051373</td>\n",
              "      <td>-0.088797</td>\n",
              "      <td>0.191543</td>\n",
              "      <td>1.794616</td>\n",
              "      <td>0.896486</td>\n",
              "    </tr>\n",
              "    <tr>\n",
              "      <th>27</th>\n",
              "      <td>G</td>\n",
              "      <td>H</td>\n",
              "      <td>0.025620</td>\n",
              "      <td>-0.114551</td>\n",
              "      <td>0.165790</td>\n",
              "      <td>0.894966</td>\n",
              "      <td>0.900000</td>\n",
              "    </tr>\n",
              "  </tbody>\n",
              "</table>\n",
              "</div>"
            ],
            "text/plain": [
              "   group1 group2      Diff     Lower     Upper   q-value   p-value\n",
              "0       A      B  0.218599  0.078429  0.358769  7.636274  0.001188\n",
              "1       A      C  0.065593 -0.074577  0.205764  2.291364  0.710568\n",
              "2       A      D  0.075282 -0.064888  0.215453  2.629826  0.583892\n",
              "3       A      E  0.075236 -0.064934  0.215406  2.628213  0.584496\n",
              "4       A      F  0.205566  0.065396  0.345736  7.181003  0.002203\n",
              "5       A      G  0.128573 -0.011597  0.268743  4.491421  0.084844\n",
              "6       A      H  0.154193  0.014023  0.294363  5.386386  0.025889\n",
              "7       B      C  0.153005  0.012835  0.293175  5.344910  0.027391\n",
              "8       B      D  0.143316  0.003146  0.283487  5.006447  0.043218\n",
              "9       B      E  0.143363  0.003192  0.283533  5.008061  0.043123\n",
              "10      B      F  0.013033 -0.127137  0.153203  0.455271  0.900000\n",
              "11      B      G  0.090026 -0.050144  0.230196  3.144853  0.389717\n",
              "12      B      H  0.064406 -0.075764  0.204576  2.249887  0.726093\n",
              "13      C      D  0.009689 -0.130481  0.149859  0.338463  0.900000\n",
              "14      C      E  0.009643 -0.130527  0.149813  0.336849  0.900000\n",
              "15      C      F  0.139973 -0.000198  0.280143  4.889639  0.050460\n",
              "16      C      G  0.062980 -0.077191  0.203150  2.200057  0.744741\n",
              "17      C      H  0.088599 -0.051571  0.228769  3.095023  0.408381\n",
              "18      D      E  0.000046 -0.140124  0.140216  0.001614  0.900000\n",
              "19      D      F  0.130284 -0.009887  0.270454  4.551176  0.078609\n",
              "20      D      G  0.053291 -0.086879  0.193461  1.861594  0.871417\n",
              "21      D      H  0.078910 -0.061260  0.219080  2.756560  0.536461\n",
              "22      E      F  0.130330 -0.009840  0.270500  4.552790  0.078446\n",
              "23      E      G  0.053337 -0.086833  0.193507  1.863208  0.870816\n",
              "24      E      H  0.078956 -0.061214  0.219127  2.758174  0.535857\n",
              "25      F      G  0.076993 -0.063177  0.217163  2.689582  0.561528\n",
              "26      F      H  0.051373 -0.088797  0.191543  1.794616  0.896486\n",
              "27      G      H  0.025620 -0.114551  0.165790  0.894966  0.900000"
            ]
          },
          "metadata": {
            "tags": []
          },
          "execution_count": 33
        }
      ]
    },
    {
      "cell_type": "code",
      "metadata": {
        "colab": {
          "base_uri": "https://localhost:8080/",
          "height": 279
        },
        "id": "o-uVX2oAsg-K",
        "outputId": "024c7042-e755-4691-bb70-556422d4e050"
      },
      "source": [
        "import statsmodels.api as sm\n",
        "import matplotlib.pyplot as plt\n",
        "# res.anova_std_residuals are standardized residuals obtained from ANOVA (check above)\n",
        "sm.qqplot(res.anova_std_residuals, line='45')\n",
        "plt.xlabel(\"Theoretical Quantiles\")\n",
        "plt.ylabel(\"Standardized Residuals\")\n",
        "plt.show()"
      ],
      "execution_count": 34,
      "outputs": [
        {
          "output_type": "display_data",
          "data": {
            "image/png": "[encoded data removed]",
            "text/plain": [
              "<Figure size 432x288 with 1 Axes>"
            ]
          },
          "metadata": {
            "tags": [],
            "needs_background": "light"
          }
        }
      ]
    },
    {
      "cell_type": "code",
      "metadata": {
        "colab": {
          "base_uri": "https://localhost:8080/",
          "height": 279
        },
        "id": "2cIJLhl2sqXK",
        "outputId": "3a30cf2a-2fdc-4e2a-9b14-03d5b7bca678"
      },
      "source": [
        "# histogram\n",
        "plt.hist(res.anova_model_out.resid, bins='auto', histtype='bar', ec='k') \n",
        "plt.xlabel(\"Residuals\")\n",
        "plt.ylabel('Frequency')\n",
        "plt.show()"
      ],
      "execution_count": 35,
      "outputs": [
        {
          "output_type": "display_data",
          "data": {
            "image/png": "[encoded data removed]",
            "text/plain": [
              "<Figure size 432x288 with 1 Axes>"
            ]
          },
          "metadata": {
            "tags": [],
            "needs_background": "light"
          }
        }
      ]
    },
    {
      "cell_type": "code",
      "metadata": {
        "colab": {
          "base_uri": "https://localhost:8080/"
        },
        "id": "zo4sCptcssRa",
        "outputId": "205eecd5-79ea-4c8a-f268-c9e63d932645"
      },
      "source": [
        "import scipy.stats as stats\n",
        "w, pvalue = stats.shapiro(model.resid)\n",
        "print(w, pvalue)"
      ],
      "execution_count": 36,
      "outputs": [
        {
          "output_type": "stream",
          "text": [
            "0.9196529984474182 0.05738646164536476\n"
          ],
          "name": "stdout"
        }
      ]
    },
    {
      "cell_type": "code",
      "metadata": {
        "colab": {
          "base_uri": "https://localhost:8080/"
        },
        "id": "i_cSQn_nsu1i",
        "outputId": "c45732a8-afcc-4fbc-cb7f-8440cb86de50"
      },
      "source": [
        "import scipy.stats as stats\n",
        "w, pvalue = stats.bartlett(df['A'], df['B'], df['C'], df['D'],df['E'],df['F'],df['G'],df['H'])\n",
        "print(w, pvalue)"
      ],
      "execution_count": 38,
      "outputs": [
        {
          "output_type": "stream",
          "text": [
            "3.550973327249566 0.8297973259031742\n"
          ],
          "name": "stdout"
        }
      ]
    },
    {
      "cell_type": "code",
      "metadata": {
        "colab": {
          "base_uri": "https://localhost:8080/",
          "height": 142
        },
        "id": "QjuHataEtBhC",
        "outputId": "cb2dcce0-f485-49d7-d075-80b02b6d29f0"
      },
      "source": [
        "from bioinfokit.analys import stat \n",
        "res = stat()\n",
        "res.bartlett(df=df_melt, res_var='value', xfac_var='treatments')\n",
        "res.bartlett_summary"
      ],
      "execution_count": 39,
      "outputs": [
        {
          "output_type": "execute_result",
          "data": {
            "text/html": [
              "<div>\n",
              "<style scoped>\n",
              "    .dataframe tbody tr th:only-of-type {\n",
              "        vertical-align: middle;\n",
              "    }\n",
              "\n",
              "    .dataframe tbody tr th {\n",
              "        vertical-align: top;\n",
              "    }\n",
              "\n",
              "    .dataframe thead th {\n",
              "        text-align: right;\n",
              "    }\n",
              "</style>\n",
              "<table border=\"1\" class=\"dataframe\">\n",
              "  <thead>\n",
              "    <tr style=\"text-align: right;\">\n",
              "      <th></th>\n",
              "      <th>Parameter</th>\n",
              "      <th>Value</th>\n",
              "    </tr>\n",
              "  </thead>\n",
              "  <tbody>\n",
              "    <tr>\n",
              "      <th>0</th>\n",
              "      <td>Test statistics (T)</td>\n",
              "      <td>3.5510</td>\n",
              "    </tr>\n",
              "    <tr>\n",
              "      <th>1</th>\n",
              "      <td>Degrees of freedom (Df)</td>\n",
              "      <td>7.0000</td>\n",
              "    </tr>\n",
              "    <tr>\n",
              "      <th>2</th>\n",
              "      <td>p value</td>\n",
              "      <td>0.8298</td>\n",
              "    </tr>\n",
              "  </tbody>\n",
              "</table>\n",
              "</div>"
            ],
            "text/plain": [
              "                 Parameter   Value\n",
              "0      Test statistics (T)  3.5510\n",
              "1  Degrees of freedom (Df)  7.0000\n",
              "2                  p value  0.8298"
            ]
          },
          "metadata": {
            "tags": []
          },
          "execution_count": 39
        }
      ]
    },
    {
      "cell_type": "code",
      "metadata": {
        "colab": {
          "base_uri": "https://localhost:8080/",
          "height": 142
        },
        "id": "Wx6Wj3GktELK",
        "outputId": "8cf57c49-99fe-453b-d951-04c35c2b87dd"
      },
      "source": [
        "# if you have a stacked table, you can use bioinfokit v1.0.3 or later for the Levene's test\n",
        "from bioinfokit.analys import stat \n",
        "res = stat()\n",
        "res.levene(df=df_melt, res_var='value', xfac_var='treatments')\n",
        "res.levene_summary"
      ],
      "execution_count": 40,
      "outputs": [
        {
          "output_type": "execute_result",
          "data": {
            "text/html": [
              "<div>\n",
              "<style scoped>\n",
              "    .dataframe tbody tr th:only-of-type {\n",
              "        vertical-align: middle;\n",
              "    }\n",
              "\n",
              "    .dataframe tbody tr th {\n",
              "        vertical-align: top;\n",
              "    }\n",
              "\n",
              "    .dataframe thead th {\n",
              "        text-align: right;\n",
              "    }\n",
              "</style>\n",
              "<table border=\"1\" class=\"dataframe\">\n",
              "  <thead>\n",
              "    <tr style=\"text-align: right;\">\n",
              "      <th></th>\n",
              "      <th>Parameter</th>\n",
              "      <th>Value</th>\n",
              "    </tr>\n",
              "  </thead>\n",
              "  <tbody>\n",
              "    <tr>\n",
              "      <th>0</th>\n",
              "      <td>Test statistics (W)</td>\n",
              "      <td>0.2699</td>\n",
              "    </tr>\n",
              "    <tr>\n",
              "      <th>1</th>\n",
              "      <td>Degrees of freedom (Df)</td>\n",
              "      <td>7.0000</td>\n",
              "    </tr>\n",
              "    <tr>\n",
              "      <th>2</th>\n",
              "      <td>p value</td>\n",
              "      <td>0.9570</td>\n",
              "    </tr>\n",
              "  </tbody>\n",
              "</table>\n",
              "</div>"
            ],
            "text/plain": [
              "                 Parameter   Value\n",
              "0      Test statistics (W)  0.2699\n",
              "1  Degrees of freedom (Df)  7.0000\n",
              "2                  p value  0.9570"
            ]
          },
          "metadata": {
            "tags": []
          },
          "execution_count": 40
        }
      ]
    },
    {
      "cell_type": "code",
      "metadata": {
        "id": "mPpJgciEtHWa"
      },
      "source": [
        "import pandas as pd\n",
        "# load data file\n",
        "df = pd.read_csv(\"/content/116 actin RM.txt\", sep=\"\\t\")\n",
        "# reshape the d dataframe suitable for statsmodels package "
      ],
      "execution_count": 41,
      "outputs": []
    },
    {
      "cell_type": "code",
      "metadata": {
        "id": "fxHYcjPltleS"
      },
      "source": [
        "# reshape the d dataframe suitable for statsmodels package \n",
        "df_melt = pd.melt(df.reset_index(), id_vars=['index'], value_vars=['A', 'B', 'C', 'D','E','F','G','H'])\n",
        "# replace column names\n",
        "df_melt.columns = ['index', 'treatments', 'value']\n",
        "\n",
        "#A = vehicle\n",
        "#B = 0.01\n",
        "#C = 0.1\n",
        "#D= 0.5\n",
        "#E= 1\n",
        "#F= 5\n",
        "#G = 10\n",
        "#H = 50"
      ],
      "execution_count": 42,
      "outputs": []
    },
    {
      "cell_type": "code",
      "metadata": {
        "colab": {
          "base_uri": "https://localhost:8080/",
          "height": 279
        },
        "id": "nt628LtotuIS",
        "outputId": "a2bfc494-d306-49e5-fe76-6cb0a8395ed2"
      },
      "source": [
        "import matplotlib.pyplot as plt\n",
        "import seaborn as sns\n",
        "ax = sns.boxplot(x='treatments', y='value', data=df_melt, color='#99c2a2')\n",
        "ax = sns.swarmplot(x=\"treatments\", y=\"value\", data=df_melt, color='#7d0013')\n",
        "plt.show()"
      ],
      "execution_count": 43,
      "outputs": [
        {
          "output_type": "display_data",
          "data": {
            "image/png": "[encoded data removed]",
            "text/plain": [
              "<Figure size 432x288 with 1 Axes>"
            ]
          },
          "metadata": {
            "tags": [],
            "needs_background": "light"
          }
        }
      ]
    },
    {
      "cell_type": "code",
      "metadata": {
        "colab": {
          "base_uri": "https://localhost:8080/"
        },
        "id": "PevN2XcOtxPq",
        "outputId": "fc85a9d3-3a4f-4b6b-b2c7-449ac99d73c0"
      },
      "source": [
        "import scipy.stats as stats\n",
        "# stats f_oneway functions takes the groups as input and returns ANOVA F and p value\n",
        "fvalue, pvalue = stats.f_oneway(df['A'], df['B'], df['C'], df['D'],df['E'],df['F'],df['G'],df['H'])\n",
        "print(fvalue, pvalue)"
      ],
      "execution_count": 44,
      "outputs": [
        {
          "output_type": "stream",
          "text": [
            "7.471143798922756 0.00045011155331178094\n"
          ],
          "name": "stdout"
        }
      ]
    },
    {
      "cell_type": "code",
      "metadata": {
        "id": "L0NjYnNMt1ky"
      },
      "source": [
        "import statsmodels.api as sm\n",
        "from statsmodels.formula.api import ols"
      ],
      "execution_count": 45,
      "outputs": []
    },
    {
      "cell_type": "code",
      "metadata": {
        "colab": {
          "base_uri": "https://localhost:8080/",
          "height": 111
        },
        "id": "mQaXeyUUt7fi",
        "outputId": "2e041146-4876-4b15-b00b-e18df3f5eef9"
      },
      "source": [
        "model = ols('value ~ C(treatments)', data=df_melt).fit()\n",
        "anova_table = sm.stats.anova_lm(model, typ=2)\n",
        "anova_table"
      ],
      "execution_count": 46,
      "outputs": [
        {
          "output_type": "execute_result",
          "data": {
            "text/html": [
              "<div>\n",
              "<style scoped>\n",
              "    .dataframe tbody tr th:only-of-type {\n",
              "        vertical-align: middle;\n",
              "    }\n",
              "\n",
              "    .dataframe tbody tr th {\n",
              "        vertical-align: top;\n",
              "    }\n",
              "\n",
              "    .dataframe thead th {\n",
              "        text-align: right;\n",
              "    }\n",
              "</style>\n",
              "<table border=\"1\" class=\"dataframe\">\n",
              "  <thead>\n",
              "    <tr style=\"text-align: right;\">\n",
              "      <th></th>\n",
              "      <th>sum_sq</th>\n",
              "      <th>df</th>\n",
              "      <th>F</th>\n",
              "      <th>PR(&gt;F)</th>\n",
              "    </tr>\n",
              "  </thead>\n",
              "  <tbody>\n",
              "    <tr>\n",
              "      <th>C(treatments)</th>\n",
              "      <td>2.011138</td>\n",
              "      <td>7.0</td>\n",
              "      <td>7.471144</td>\n",
              "      <td>0.00045</td>\n",
              "    </tr>\n",
              "    <tr>\n",
              "      <th>Residual</th>\n",
              "      <td>0.615285</td>\n",
              "      <td>16.0</td>\n",
              "      <td>NaN</td>\n",
              "      <td>NaN</td>\n",
              "    </tr>\n",
              "  </tbody>\n",
              "</table>\n",
              "</div>"
            ],
            "text/plain": [
              "                 sum_sq    df         F   PR(>F)\n",
              "C(treatments)  2.011138   7.0  7.471144  0.00045\n",
              "Residual       0.615285  16.0       NaN      NaN"
            ]
          },
          "metadata": {
            "tags": []
          },
          "execution_count": 46
        }
      ]
    },
    {
      "cell_type": "code",
      "metadata": {
        "colab": {
          "base_uri": "https://localhost:8080/",
          "height": 111
        },
        "id": "2W5OlQEnt_uy",
        "outputId": "f9406a43-1f92-4ca5-b065-d1bd391ba414"
      },
      "source": [
        "from bioinfokit.analys import stat\n",
        "res = stat()\n",
        "res.anova_stat(df=df_melt, res_var='value', anova_model='value ~ C(treatments)')\n",
        "res.anova_summary"
      ],
      "execution_count": 47,
      "outputs": [
        {
          "output_type": "execute_result",
          "data": {
            "text/html": [
              "<div>\n",
              "<style scoped>\n",
              "    .dataframe tbody tr th:only-of-type {\n",
              "        vertical-align: middle;\n",
              "    }\n",
              "\n",
              "    .dataframe tbody tr th {\n",
              "        vertical-align: top;\n",
              "    }\n",
              "\n",
              "    .dataframe thead th {\n",
              "        text-align: right;\n",
              "    }\n",
              "</style>\n",
              "<table border=\"1\" class=\"dataframe\">\n",
              "  <thead>\n",
              "    <tr style=\"text-align: right;\">\n",
              "      <th></th>\n",
              "      <th>df</th>\n",
              "      <th>sum_sq</th>\n",
              "      <th>mean_sq</th>\n",
              "      <th>F</th>\n",
              "      <th>PR(&gt;F)</th>\n",
              "    </tr>\n",
              "  </thead>\n",
              "  <tbody>\n",
              "    <tr>\n",
              "      <th>C(treatments)</th>\n",
              "      <td>7.0</td>\n",
              "      <td>2.011138</td>\n",
              "      <td>0.287305</td>\n",
              "      <td>7.471144</td>\n",
              "      <td>0.00045</td>\n",
              "    </tr>\n",
              "    <tr>\n",
              "      <th>Residual</th>\n",
              "      <td>16.0</td>\n",
              "      <td>0.615285</td>\n",
              "      <td>0.038455</td>\n",
              "      <td>NaN</td>\n",
              "      <td>NaN</td>\n",
              "    </tr>\n",
              "  </tbody>\n",
              "</table>\n",
              "</div>"
            ],
            "text/plain": [
              "                 df    sum_sq   mean_sq         F   PR(>F)\n",
              "C(treatments)   7.0  2.011138  0.287305  7.471144  0.00045\n",
              "Residual       16.0  0.615285  0.038455       NaN      NaN"
            ]
          },
          "metadata": {
            "tags": []
          },
          "execution_count": 47
        }
      ]
    },
    {
      "cell_type": "code",
      "metadata": {
        "colab": {
          "base_uri": "https://localhost:8080/",
          "height": 917
        },
        "id": "E7llY6b3uKQK",
        "outputId": "16a11388-5543-4ce1-fb97-224c7051d906"
      },
      "source": [
        "# we will use bioinfokit (v1.0.3 or later) for performing tukey HSD test\n",
        "# check documentation here https://github.com/reneshbedre/bioinfokit\n",
        "from bioinfokit.analys import stat\n",
        "# perform multiple pairwise comparison (Tukey's HSD)\n",
        "# unequal sample size data, tukey_hsd uses Tukey-Kramer test\n",
        "res = stat()\n",
        "res.tukey_hsd(df=df_melt, res_var='value', xfac_var='treatments', anova_model='value ~ C(treatments)')\n",
        "res.tukey_summary"
      ],
      "execution_count": 48,
      "outputs": [
        {
          "output_type": "execute_result",
          "data": {
            "text/html": [
              "<div>\n",
              "<style scoped>\n",
              "    .dataframe tbody tr th:only-of-type {\n",
              "        vertical-align: middle;\n",
              "    }\n",
              "\n",
              "    .dataframe tbody tr th {\n",
              "        vertical-align: top;\n",
              "    }\n",
              "\n",
              "    .dataframe thead th {\n",
              "        text-align: right;\n",
              "    }\n",
              "</style>\n",
              "<table border=\"1\" class=\"dataframe\">\n",
              "  <thead>\n",
              "    <tr style=\"text-align: right;\">\n",
              "      <th></th>\n",
              "      <th>group1</th>\n",
              "      <th>group2</th>\n",
              "      <th>Diff</th>\n",
              "      <th>Lower</th>\n",
              "      <th>Upper</th>\n",
              "      <th>q-value</th>\n",
              "      <th>p-value</th>\n",
              "    </tr>\n",
              "  </thead>\n",
              "  <tbody>\n",
              "    <tr>\n",
              "      <th>0</th>\n",
              "      <td>A</td>\n",
              "      <td>B</td>\n",
              "      <td>0.031807</td>\n",
              "      <td>-0.522572</td>\n",
              "      <td>0.586186</td>\n",
              "      <td>0.280934</td>\n",
              "      <td>0.900000</td>\n",
              "    </tr>\n",
              "    <tr>\n",
              "      <th>1</th>\n",
              "      <td>A</td>\n",
              "      <td>C</td>\n",
              "      <td>0.464492</td>\n",
              "      <td>-0.089887</td>\n",
              "      <td>1.018871</td>\n",
              "      <td>4.102614</td>\n",
              "      <td>0.137145</td>\n",
              "    </tr>\n",
              "    <tr>\n",
              "      <th>2</th>\n",
              "      <td>A</td>\n",
              "      <td>D</td>\n",
              "      <td>0.666888</td>\n",
              "      <td>0.112509</td>\n",
              "      <td>1.221268</td>\n",
              "      <td>5.890274</td>\n",
              "      <td>0.012981</td>\n",
              "    </tr>\n",
              "    <tr>\n",
              "      <th>3</th>\n",
              "      <td>A</td>\n",
              "      <td>E</td>\n",
              "      <td>0.593405</td>\n",
              "      <td>0.039026</td>\n",
              "      <td>1.147784</td>\n",
              "      <td>5.241233</td>\n",
              "      <td>0.031527</td>\n",
              "    </tr>\n",
              "    <tr>\n",
              "      <th>4</th>\n",
              "      <td>A</td>\n",
              "      <td>F</td>\n",
              "      <td>0.104948</td>\n",
              "      <td>-0.449431</td>\n",
              "      <td>0.659327</td>\n",
              "      <td>0.926950</td>\n",
              "      <td>0.900000</td>\n",
              "    </tr>\n",
              "    <tr>\n",
              "      <th>5</th>\n",
              "      <td>A</td>\n",
              "      <td>G</td>\n",
              "      <td>0.066647</td>\n",
              "      <td>-0.487732</td>\n",
              "      <td>0.621026</td>\n",
              "      <td>0.588658</td>\n",
              "      <td>0.900000</td>\n",
              "    </tr>\n",
              "    <tr>\n",
              "      <th>6</th>\n",
              "      <td>A</td>\n",
              "      <td>H</td>\n",
              "      <td>0.043878</td>\n",
              "      <td>-0.510502</td>\n",
              "      <td>0.598257</td>\n",
              "      <td>0.387547</td>\n",
              "      <td>0.900000</td>\n",
              "    </tr>\n",
              "    <tr>\n",
              "      <th>7</th>\n",
              "      <td>B</td>\n",
              "      <td>C</td>\n",
              "      <td>0.496299</td>\n",
              "      <td>-0.058080</td>\n",
              "      <td>1.050678</td>\n",
              "      <td>4.383549</td>\n",
              "      <td>0.097056</td>\n",
              "    </tr>\n",
              "    <tr>\n",
              "      <th>8</th>\n",
              "      <td>B</td>\n",
              "      <td>D</td>\n",
              "      <td>0.698695</td>\n",
              "      <td>0.144316</td>\n",
              "      <td>1.253075</td>\n",
              "      <td>6.171208</td>\n",
              "      <td>0.008811</td>\n",
              "    </tr>\n",
              "    <tr>\n",
              "      <th>9</th>\n",
              "      <td>B</td>\n",
              "      <td>E</td>\n",
              "      <td>0.625212</td>\n",
              "      <td>0.070833</td>\n",
              "      <td>1.179591</td>\n",
              "      <td>5.522167</td>\n",
              "      <td>0.021512</td>\n",
              "    </tr>\n",
              "    <tr>\n",
              "      <th>10</th>\n",
              "      <td>B</td>\n",
              "      <td>F</td>\n",
              "      <td>0.073141</td>\n",
              "      <td>-0.481238</td>\n",
              "      <td>0.627520</td>\n",
              "      <td>0.646016</td>\n",
              "      <td>0.900000</td>\n",
              "    </tr>\n",
              "    <tr>\n",
              "      <th>11</th>\n",
              "      <td>B</td>\n",
              "      <td>G</td>\n",
              "      <td>0.098454</td>\n",
              "      <td>-0.455925</td>\n",
              "      <td>0.652833</td>\n",
              "      <td>0.869593</td>\n",
              "      <td>0.900000</td>\n",
              "    </tr>\n",
              "    <tr>\n",
              "      <th>12</th>\n",
              "      <td>B</td>\n",
              "      <td>H</td>\n",
              "      <td>0.075685</td>\n",
              "      <td>-0.478695</td>\n",
              "      <td>0.630064</td>\n",
              "      <td>0.668482</td>\n",
              "      <td>0.900000</td>\n",
              "    </tr>\n",
              "    <tr>\n",
              "      <th>13</th>\n",
              "      <td>C</td>\n",
              "      <td>D</td>\n",
              "      <td>0.202396</td>\n",
              "      <td>-0.351983</td>\n",
              "      <td>0.756776</td>\n",
              "      <td>1.787659</td>\n",
              "      <td>0.899091</td>\n",
              "    </tr>\n",
              "    <tr>\n",
              "      <th>14</th>\n",
              "      <td>C</td>\n",
              "      <td>E</td>\n",
              "      <td>0.128913</td>\n",
              "      <td>-0.425467</td>\n",
              "      <td>0.683292</td>\n",
              "      <td>1.138618</td>\n",
              "      <td>0.900000</td>\n",
              "    </tr>\n",
              "    <tr>\n",
              "      <th>15</th>\n",
              "      <td>C</td>\n",
              "      <td>F</td>\n",
              "      <td>0.569440</td>\n",
              "      <td>0.015061</td>\n",
              "      <td>1.123819</td>\n",
              "      <td>5.029565</td>\n",
              "      <td>0.041904</td>\n",
              "    </tr>\n",
              "    <tr>\n",
              "      <th>16</th>\n",
              "      <td>C</td>\n",
              "      <td>G</td>\n",
              "      <td>0.397845</td>\n",
              "      <td>-0.156534</td>\n",
              "      <td>0.952224</td>\n",
              "      <td>3.513956</td>\n",
              "      <td>0.268519</td>\n",
              "    </tr>\n",
              "    <tr>\n",
              "      <th>17</th>\n",
              "      <td>C</td>\n",
              "      <td>H</td>\n",
              "      <td>0.420615</td>\n",
              "      <td>-0.133765</td>\n",
              "      <td>0.974994</td>\n",
              "      <td>3.715067</td>\n",
              "      <td>0.215709</td>\n",
              "    </tr>\n",
              "    <tr>\n",
              "      <th>18</th>\n",
              "      <td>D</td>\n",
              "      <td>E</td>\n",
              "      <td>0.073484</td>\n",
              "      <td>-0.480896</td>\n",
              "      <td>0.627863</td>\n",
              "      <td>0.649041</td>\n",
              "      <td>0.900000</td>\n",
              "    </tr>\n",
              "    <tr>\n",
              "      <th>19</th>\n",
              "      <td>D</td>\n",
              "      <td>F</td>\n",
              "      <td>0.771836</td>\n",
              "      <td>0.217457</td>\n",
              "      <td>1.326216</td>\n",
              "      <td>6.817224</td>\n",
              "      <td>0.003622</td>\n",
              "    </tr>\n",
              "    <tr>\n",
              "      <th>20</th>\n",
              "      <td>D</td>\n",
              "      <td>G</td>\n",
              "      <td>0.600241</td>\n",
              "      <td>0.045862</td>\n",
              "      <td>1.154621</td>\n",
              "      <td>5.301616</td>\n",
              "      <td>0.029049</td>\n",
              "    </tr>\n",
              "    <tr>\n",
              "      <th>21</th>\n",
              "      <td>D</td>\n",
              "      <td>H</td>\n",
              "      <td>0.623011</td>\n",
              "      <td>0.068632</td>\n",
              "      <td>1.177390</td>\n",
              "      <td>5.502726</td>\n",
              "      <td>0.022093</td>\n",
              "    </tr>\n",
              "    <tr>\n",
              "      <th>22</th>\n",
              "      <td>E</td>\n",
              "      <td>F</td>\n",
              "      <td>0.698353</td>\n",
              "      <td>0.143974</td>\n",
              "      <td>1.252732</td>\n",
              "      <td>6.168183</td>\n",
              "      <td>0.008848</td>\n",
              "    </tr>\n",
              "    <tr>\n",
              "      <th>23</th>\n",
              "      <td>E</td>\n",
              "      <td>G</td>\n",
              "      <td>0.526758</td>\n",
              "      <td>-0.027621</td>\n",
              "      <td>1.081137</td>\n",
              "      <td>4.652575</td>\n",
              "      <td>0.068949</td>\n",
              "    </tr>\n",
              "    <tr>\n",
              "      <th>24</th>\n",
              "      <td>E</td>\n",
              "      <td>H</td>\n",
              "      <td>0.549527</td>\n",
              "      <td>-0.004852</td>\n",
              "      <td>1.103907</td>\n",
              "      <td>4.853685</td>\n",
              "      <td>0.052928</td>\n",
              "    </tr>\n",
              "    <tr>\n",
              "      <th>25</th>\n",
              "      <td>F</td>\n",
              "      <td>G</td>\n",
              "      <td>0.171595</td>\n",
              "      <td>-0.382784</td>\n",
              "      <td>0.725974</td>\n",
              "      <td>1.515609</td>\n",
              "      <td>0.900000</td>\n",
              "    </tr>\n",
              "    <tr>\n",
              "      <th>26</th>\n",
              "      <td>F</td>\n",
              "      <td>H</td>\n",
              "      <td>0.148826</td>\n",
              "      <td>-0.405554</td>\n",
              "      <td>0.703205</td>\n",
              "      <td>1.314498</td>\n",
              "      <td>0.900000</td>\n",
              "    </tr>\n",
              "    <tr>\n",
              "      <th>27</th>\n",
              "      <td>G</td>\n",
              "      <td>H</td>\n",
              "      <td>0.022769</td>\n",
              "      <td>-0.531610</td>\n",
              "      <td>0.577149</td>\n",
              "      <td>0.201111</td>\n",
              "      <td>0.900000</td>\n",
              "    </tr>\n",
              "  </tbody>\n",
              "</table>\n",
              "</div>"
            ],
            "text/plain": [
              "   group1 group2      Diff     Lower     Upper   q-value   p-value\n",
              "0       A      B  0.031807 -0.522572  0.586186  0.280934  0.900000\n",
              "1       A      C  0.464492 -0.089887  1.018871  4.102614  0.137145\n",
              "2       A      D  0.666888  0.112509  1.221268  5.890274  0.012981\n",
              "3       A      E  0.593405  0.039026  1.147784  5.241233  0.031527\n",
              "4       A      F  0.104948 -0.449431  0.659327  0.926950  0.900000\n",
              "5       A      G  0.066647 -0.487732  0.621026  0.588658  0.900000\n",
              "6       A      H  0.043878 -0.510502  0.598257  0.387547  0.900000\n",
              "7       B      C  0.496299 -0.058080  1.050678  4.383549  0.097056\n",
              "8       B      D  0.698695  0.144316  1.253075  6.171208  0.008811\n",
              "9       B      E  0.625212  0.070833  1.179591  5.522167  0.021512\n",
              "10      B      F  0.073141 -0.481238  0.627520  0.646016  0.900000\n",
              "11      B      G  0.098454 -0.455925  0.652833  0.869593  0.900000\n",
              "12      B      H  0.075685 -0.478695  0.630064  0.668482  0.900000\n",
              "13      C      D  0.202396 -0.351983  0.756776  1.787659  0.899091\n",
              "14      C      E  0.128913 -0.425467  0.683292  1.138618  0.900000\n",
              "15      C      F  0.569440  0.015061  1.123819  5.029565  0.041904\n",
              "16      C      G  0.397845 -0.156534  0.952224  3.513956  0.268519\n",
              "17      C      H  0.420615 -0.133765  0.974994  3.715067  0.215709\n",
              "18      D      E  0.073484 -0.480896  0.627863  0.649041  0.900000\n",
              "19      D      F  0.771836  0.217457  1.326216  6.817224  0.003622\n",
              "20      D      G  0.600241  0.045862  1.154621  5.301616  0.029049\n",
              "21      D      H  0.623011  0.068632  1.177390  5.502726  0.022093\n",
              "22      E      F  0.698353  0.143974  1.252732  6.168183  0.008848\n",
              "23      E      G  0.526758 -0.027621  1.081137  4.652575  0.068949\n",
              "24      E      H  0.549527 -0.004852  1.103907  4.853685  0.052928\n",
              "25      F      G  0.171595 -0.382784  0.725974  1.515609  0.900000\n",
              "26      F      H  0.148826 -0.405554  0.703205  1.314498  0.900000\n",
              "27      G      H  0.022769 -0.531610  0.577149  0.201111  0.900000"
            ]
          },
          "metadata": {
            "tags": []
          },
          "execution_count": 48
        }
      ]
    },
    {
      "cell_type": "code",
      "metadata": {
        "colab": {
          "base_uri": "https://localhost:8080/",
          "height": 279
        },
        "id": "cK6fIiH5uU3C",
        "outputId": "84c6494e-3e57-4cff-e2e0-a76d779ac94d"
      },
      "source": [
        "import statsmodels.api as sm\n",
        "import matplotlib.pyplot as plt\n",
        "# res.anova_std_residuals are standardized residuals obtained from ANOVA (check above)\n",
        "sm.qqplot(res.anova_std_residuals, line='45')\n",
        "plt.xlabel(\"Theoretical Quantiles\")\n",
        "plt.ylabel(\"Standardized Residuals\")\n",
        "plt.show()"
      ],
      "execution_count": 49,
      "outputs": [
        {
          "output_type": "display_data",
          "data": {
            "image/png": "[encoded data removed]",
            "text/plain": [
              "<Figure size 432x288 with 1 Axes>"
            ]
          },
          "metadata": {
            "tags": [],
            "needs_background": "light"
          }
        }
      ]
    },
    {
      "cell_type": "code",
      "metadata": {
        "colab": {
          "base_uri": "https://localhost:8080/",
          "height": 279
        },
        "id": "ma1LMGt0udNC",
        "outputId": "e260d246-7a99-419b-833c-1e0aa14bba93"
      },
      "source": [
        "# histogram\n",
        "plt.hist(res.anova_model_out.resid, bins='auto', histtype='bar', ec='k') \n",
        "plt.xlabel(\"Residuals\")\n",
        "plt.ylabel('Frequency')\n",
        "plt.show()"
      ],
      "execution_count": 50,
      "outputs": [
        {
          "output_type": "display_data",
          "data": {
            "image/png": "[encoded data removed]",
            "text/plain": [
              "<Figure size 432x288 with 1 Axes>"
            ]
          },
          "metadata": {
            "tags": [],
            "needs_background": "light"
          }
        }
      ]
    },
    {
      "cell_type": "code",
      "metadata": {
        "colab": {
          "base_uri": "https://localhost:8080/"
        },
        "id": "0alhigw4ujHS",
        "outputId": "09b8eddb-06d9-4030-d33e-51d3fca9591e"
      },
      "source": [
        "import scipy.stats as stats\n",
        "w, pvalue = stats.shapiro(model.resid)\n",
        "print(w, pvalue)"
      ],
      "execution_count": 51,
      "outputs": [
        {
          "output_type": "stream",
          "text": [
            "0.9397261142730713 0.160846546292305\n"
          ],
          "name": "stdout"
        }
      ]
    },
    {
      "cell_type": "code",
      "metadata": {
        "colab": {
          "base_uri": "https://localhost:8080/"
        },
        "id": "KMPPZNB8uno6",
        "outputId": "1df11fc3-5b0e-46e4-eeea-984813e07494"
      },
      "source": [
        "import scipy.stats as stats\n",
        "w, pvalue = stats.bartlett(df['A'], df['B'], df['C'], df['D'],df['E'],df['F'],df['G'],df['H'])\n",
        "print(w, pvalue)"
      ],
      "execution_count": 52,
      "outputs": [
        {
          "output_type": "stream",
          "text": [
            "19.550484776256265 0.006627024386857362\n"
          ],
          "name": "stdout"
        }
      ]
    },
    {
      "cell_type": "code",
      "metadata": {
        "colab": {
          "base_uri": "https://localhost:8080/",
          "height": 142
        },
        "id": "ZFwzzOa8uwXy",
        "outputId": "3295531f-d5b1-4857-80ae-aa7c4e69c5eb"
      },
      "source": [
        "# if you have a stacked table, you can use bioinfokit v1.0.3 or later for the bartlett's test\n",
        "from bioinfokit.analys import stat \n",
        "res = stat()\n",
        "res.bartlett(df=df_melt, res_var='value', xfac_var='treatments')\n",
        "res.bartlett_summary"
      ],
      "execution_count": 53,
      "outputs": [
        {
          "output_type": "execute_result",
          "data": {
            "text/html": [
              "<div>\n",
              "<style scoped>\n",
              "    .dataframe tbody tr th:only-of-type {\n",
              "        vertical-align: middle;\n",
              "    }\n",
              "\n",
              "    .dataframe tbody tr th {\n",
              "        vertical-align: top;\n",
              "    }\n",
              "\n",
              "    .dataframe thead th {\n",
              "        text-align: right;\n",
              "    }\n",
              "</style>\n",
              "<table border=\"1\" class=\"dataframe\">\n",
              "  <thead>\n",
              "    <tr style=\"text-align: right;\">\n",
              "      <th></th>\n",
              "      <th>Parameter</th>\n",
              "      <th>Value</th>\n",
              "    </tr>\n",
              "  </thead>\n",
              "  <tbody>\n",
              "    <tr>\n",
              "      <th>0</th>\n",
              "      <td>Test statistics (T)</td>\n",
              "      <td>19.5505</td>\n",
              "    </tr>\n",
              "    <tr>\n",
              "      <th>1</th>\n",
              "      <td>Degrees of freedom (Df)</td>\n",
              "      <td>7.0000</td>\n",
              "    </tr>\n",
              "    <tr>\n",
              "      <th>2</th>\n",
              "      <td>p value</td>\n",
              "      <td>0.0066</td>\n",
              "    </tr>\n",
              "  </tbody>\n",
              "</table>\n",
              "</div>"
            ],
            "text/plain": [
              "                 Parameter    Value\n",
              "0      Test statistics (T)  19.5505\n",
              "1  Degrees of freedom (Df)   7.0000\n",
              "2                  p value   0.0066"
            ]
          },
          "metadata": {
            "tags": []
          },
          "execution_count": 53
        }
      ]
    },
    {
      "cell_type": "code",
      "metadata": {
        "colab": {
          "base_uri": "https://localhost:8080/",
          "height": 142
        },
        "id": "eOu7bB_kuzEa",
        "outputId": "92488338-024d-4626-a073-4ba9322f02d3"
      },
      "source": [
        "# if you have a stacked table, you can use bioinfokit v1.0.3 or later for the Levene's test\n",
        "from bioinfokit.analys import stat \n",
        "res = stat()\n",
        "res.levene(df=df_melt, res_var='value', xfac_var='treatments')\n",
        "res.levene_summary"
      ],
      "execution_count": 54,
      "outputs": [
        {
          "output_type": "execute_result",
          "data": {
            "text/html": [
              "<div>\n",
              "<style scoped>\n",
              "    .dataframe tbody tr th:only-of-type {\n",
              "        vertical-align: middle;\n",
              "    }\n",
              "\n",
              "    .dataframe tbody tr th {\n",
              "        vertical-align: top;\n",
              "    }\n",
              "\n",
              "    .dataframe thead th {\n",
              "        text-align: right;\n",
              "    }\n",
              "</style>\n",
              "<table border=\"1\" class=\"dataframe\">\n",
              "  <thead>\n",
              "    <tr style=\"text-align: right;\">\n",
              "      <th></th>\n",
              "      <th>Parameter</th>\n",
              "      <th>Value</th>\n",
              "    </tr>\n",
              "  </thead>\n",
              "  <tbody>\n",
              "    <tr>\n",
              "      <th>0</th>\n",
              "      <td>Test statistics (W)</td>\n",
              "      <td>1.1486</td>\n",
              "    </tr>\n",
              "    <tr>\n",
              "      <th>1</th>\n",
              "      <td>Degrees of freedom (Df)</td>\n",
              "      <td>7.0000</td>\n",
              "    </tr>\n",
              "    <tr>\n",
              "      <th>2</th>\n",
              "      <td>p value</td>\n",
              "      <td>0.3830</td>\n",
              "    </tr>\n",
              "  </tbody>\n",
              "</table>\n",
              "</div>"
            ],
            "text/plain": [
              "                 Parameter   Value\n",
              "0      Test statistics (W)  1.1486\n",
              "1  Degrees of freedom (Df)  7.0000\n",
              "2                  p value  0.3830"
            ]
          },
          "metadata": {
            "tags": []
          },
          "execution_count": 54
        }
      ]
    },
    {
      "cell_type": "code",
      "metadata": {
        "id": "9ur8ApJgu7ca"
      },
      "source": [
        "import pandas as pd\n",
        "# load data file\n",
        "df = pd.read_csv(\"/content/erbeta actin RM.txt\", sep=\"\\t\")\n",
        "# reshape the d dataframe suitable for statsmodels package "
      ],
      "execution_count": 1,
      "outputs": []
    },
    {
      "cell_type": "code",
      "metadata": {
        "id": "z7AtL0XD-ee3"
      },
      "source": [
        "# reshape the d dataframe suitable for statsmodels package \n",
        "df_melt = pd.melt(df.reset_index(), id_vars=['index'], value_vars=['A', 'B', 'C', 'D','E','F','G','H'])\n",
        "# replace column names\n",
        "df_melt.columns = ['index', 'treatments', 'value']\n",
        "\n",
        "#A = vehicle\n",
        "#B = 0.01\n",
        "#C = 0.1\n",
        "#D= 0.5\n",
        "#E= 1\n",
        "#F= 5\n",
        "#G = 10\n",
        "#H = 50"
      ],
      "execution_count": 2,
      "outputs": []
    },
    {
      "cell_type": "code",
      "metadata": {
        "colab": {
          "base_uri": "https://localhost:8080/",
          "height": 279
        },
        "id": "tCvMX-s1-iYV",
        "outputId": "4905d083-1b01-4b26-80b8-c78f9ed311d1"
      },
      "source": [
        "import matplotlib.pyplot as plt\n",
        "import seaborn as sns\n",
        "ax = sns.boxplot(x='treatments', y='value', data=df_melt, color='#99c2a2')\n",
        "ax = sns.swarmplot(x=\"treatments\", y=\"value\", data=df_melt, color='#7d0013')\n",
        "plt.show()"
      ],
      "execution_count": 3,
      "outputs": [
        {
          "output_type": "display_data",
          "data": {
            "image/png": "[encoded data removed]",
            "text/plain": [
              "<Figure size 432x288 with 1 Axes>"
            ]
          },
          "metadata": {
            "tags": [],
            "needs_background": "light"
          }
        }
      ]
    },
    {
      "cell_type": "code",
      "metadata": {
        "colab": {
          "base_uri": "https://localhost:8080/"
        },
        "id": "xMKeoM9m-lxH",
        "outputId": "59b58aab-8b3f-44e2-fc7b-744f71d61bb0"
      },
      "source": [
        "import scipy.stats as stats\n",
        "# stats f_oneway functions takes the groups as input and returns ANOVA F and p value\n",
        "fvalue, pvalue = stats.f_oneway(df['A'], df['B'], df['C'], df['D'],df['E'],df['F'],df['G'],df['H'])\n",
        "print(fvalue, pvalue)"
      ],
      "execution_count": 4,
      "outputs": [
        {
          "output_type": "stream",
          "text": [
            "9.280083866783794 0.00012762013994385615\n"
          ],
          "name": "stdout"
        }
      ]
    },
    {
      "cell_type": "code",
      "metadata": {
        "colab": {
          "base_uri": "https://localhost:8080/"
        },
        "id": "g8xqZo2c-pi9",
        "outputId": "8e07886e-f8aa-4684-f3bd-729f059a2185"
      },
      "source": [
        "import statsmodels.api as sm\n",
        "from statsmodels.formula.api import ols"
      ],
      "execution_count": 5,
      "outputs": [
        {
          "output_type": "stream",
          "text": [
            "/usr/local/lib/python3.7/dist-packages/statsmodels/tools/_testing.py:19: FutureWarning: pandas.util.testing is deprecated. Use the functions in the public API at pandas.testing instead.\n",
            "  import pandas.util.testing as tm\n"
          ],
          "name": "stderr"
        }
      ]
    },
    {
      "cell_type": "code",
      "metadata": {
        "colab": {
          "base_uri": "https://localhost:8080/",
          "height": 111
        },
        "id": "22GlXXp0-uD2",
        "outputId": "1ec530b3-4f41-4dab-c919-0b2f2d3ed3e0"
      },
      "source": [
        "model = ols('value ~ C(treatments)', data=df_melt).fit()\n",
        "anova_table = sm.stats.anova_lm(model, typ=2)\n",
        "anova_table"
      ],
      "execution_count": 6,
      "outputs": [
        {
          "output_type": "execute_result",
          "data": {
            "text/html": [
              "<div>\n",
              "<style scoped>\n",
              "    .dataframe tbody tr th:only-of-type {\n",
              "        vertical-align: middle;\n",
              "    }\n",
              "\n",
              "    .dataframe tbody tr th {\n",
              "        vertical-align: top;\n",
              "    }\n",
              "\n",
              "    .dataframe thead th {\n",
              "        text-align: right;\n",
              "    }\n",
              "</style>\n",
              "<table border=\"1\" class=\"dataframe\">\n",
              "  <thead>\n",
              "    <tr style=\"text-align: right;\">\n",
              "      <th></th>\n",
              "      <th>sum_sq</th>\n",
              "      <th>df</th>\n",
              "      <th>F</th>\n",
              "      <th>PR(&gt;F)</th>\n",
              "    </tr>\n",
              "  </thead>\n",
              "  <tbody>\n",
              "    <tr>\n",
              "      <th>C(treatments)</th>\n",
              "      <td>2.140400</td>\n",
              "      <td>7.0</td>\n",
              "      <td>9.280084</td>\n",
              "      <td>0.000128</td>\n",
              "    </tr>\n",
              "    <tr>\n",
              "      <th>Residual</th>\n",
              "      <td>0.527187</td>\n",
              "      <td>16.0</td>\n",
              "      <td>NaN</td>\n",
              "      <td>NaN</td>\n",
              "    </tr>\n",
              "  </tbody>\n",
              "</table>\n",
              "</div>"
            ],
            "text/plain": [
              "                 sum_sq    df         F    PR(>F)\n",
              "C(treatments)  2.140400   7.0  9.280084  0.000128\n",
              "Residual       0.527187  16.0       NaN       NaN"
            ]
          },
          "metadata": {
            "tags": []
          },
          "execution_count": 6
        }
      ]
    },
    {
      "cell_type": "code",
      "metadata": {
        "colab": {
          "base_uri": "https://localhost:8080/"
        },
        "id": "ZuJ_izXN_T-O",
        "outputId": "261c712d-f0aa-4bac-c973-c6cefd735346"
      },
      "source": [
        "pip install bioinfokit"
      ],
      "execution_count": 8,
      "outputs": [
        {
          "output_type": "stream",
          "text": [
            "Collecting bioinfokit\n",
            "\u001b[?25l  Downloading https://files.pythonhosted.org/packages/0f/2b/c219e90dfddcaa19726152cd12c4f1beae0c9e0efe82e9fa75dd81adad19/bioinfokit-2.0.4.tar.gz (82kB)\n",
            "\r\u001b[K     |████                            | 10kB 16.2MB/s eta 0:00:01\r\u001b[K     |████████                        | 20kB 19.1MB/s eta 0:00:01\r\u001b[K     |████████████                    | 30kB 10.0MB/s eta 0:00:01\r\u001b[K     |███████████████▉                | 40kB 8.0MB/s eta 0:00:01\r\u001b[K     |███████████████████▉            | 51kB 4.6MB/s eta 0:00:01\r\u001b[K     |███████████████████████▉        | 61kB 5.2MB/s eta 0:00:01\r\u001b[K     |███████████████████████████▊    | 71kB 5.6MB/s eta 0:00:01\r\u001b[K     |███████████████████████████████▊| 81kB 6.0MB/s eta 0:00:01\r\u001b[K     |████████████████████████████████| 92kB 4.5MB/s \n",
            "\u001b[?25hRequirement already satisfied: pandas in /usr/local/lib/python3.7/dist-packages (from bioinfokit) (1.1.5)\n",
            "Requirement already satisfied: numpy in /usr/local/lib/python3.7/dist-packages (from bioinfokit) (1.19.5)\n",
            "Requirement already satisfied: matplotlib in /usr/local/lib/python3.7/dist-packages (from bioinfokit) (3.2.2)\n",
            "Requirement already satisfied: scipy in /usr/local/lib/python3.7/dist-packages (from bioinfokit) (1.4.1)\n",
            "Requirement already satisfied: scikit-learn in /usr/local/lib/python3.7/dist-packages (from bioinfokit) (0.22.2.post1)\n",
            "Requirement already satisfied: seaborn in /usr/local/lib/python3.7/dist-packages (from bioinfokit) (0.11.1)\n",
            "Requirement already satisfied: matplotlib-venn in /usr/local/lib/python3.7/dist-packages (from bioinfokit) (0.11.6)\n",
            "Requirement already satisfied: tabulate in /usr/local/lib/python3.7/dist-packages (from bioinfokit) (0.8.9)\n",
            "Requirement already satisfied: statsmodels in /usr/local/lib/python3.7/dist-packages (from bioinfokit) (0.10.2)\n",
            "Collecting textwrap3\n",
            "  Downloading https://files.pythonhosted.org/packages/77/9c/a53e561d496ee5866bbeea4d3a850b3b545ed854f8a21007c1e0d872e94d/textwrap3-0.9.2-py2.py3-none-any.whl\n",
            "Collecting adjustText\n",
            "  Downloading https://files.pythonhosted.org/packages/9e/15/4157718bf323fd5f5b81c891c660d0f388e042d2689a558bf1389632dc44/adjustText-0.7.3.tar.gz\n",
            "Requirement already satisfied: python-dateutil>=2.7.3 in /usr/local/lib/python3.7/dist-packages (from pandas->bioinfokit) (2.8.1)\n",
            "Requirement already satisfied: pytz>=2017.2 in /usr/local/lib/python3.7/dist-packages (from pandas->bioinfokit) (2018.9)\n",
            "Requirement already satisfied: cycler>=0.10 in /usr/local/lib/python3.7/dist-packages (from matplotlib->bioinfokit) (0.10.0)\n",
            "Requirement already satisfied: pyparsing!=2.0.4,!=2.1.2,!=2.1.6,>=2.0.1 in /usr/local/lib/python3.7/dist-packages (from matplotlib->bioinfokit) (2.4.7)\n",
            "Requirement already satisfied: kiwisolver>=1.0.1 in /usr/local/lib/python3.7/dist-packages (from matplotlib->bioinfokit) (1.3.1)\n",
            "Requirement already satisfied: joblib>=0.11 in /usr/local/lib/python3.7/dist-packages (from scikit-learn->bioinfokit) (1.0.1)\n",
            "Requirement already satisfied: patsy>=0.4.0 in /usr/local/lib/python3.7/dist-packages (from statsmodels->bioinfokit) (0.5.1)\n",
            "Requirement already satisfied: six>=1.5 in /usr/local/lib/python3.7/dist-packages (from python-dateutil>=2.7.3->pandas->bioinfokit) (1.15.0)\n",
            "Building wheels for collected packages: bioinfokit, adjustText\n",
            "  Building wheel for bioinfokit (setup.py) ... \u001b[?25l\u001b[?25hdone\n",
            "  Created wheel for bioinfokit: filename=bioinfokit-2.0.4-cp37-none-any.whl size=56011 sha256=eff5aa9538ff3039e34a64bbcd12e773d9451d05bc06a40d0319d484c3ba1a7a\n",
            "  Stored in directory: /root/.cache/pip/wheels/43/cf/aa/4a4fe54a3edb663ee7bd9b245bd946506c8bd4b99f4ae00507\n",
            "  Building wheel for adjustText (setup.py) ... \u001b[?25l\u001b[?25hdone\n",
            "  Created wheel for adjustText: filename=adjustText-0.7.3-cp37-none-any.whl size=7097 sha256=784a0c452bd3ea78a2c44362df75ff83dbb69785dd1340305ca0fc3e0b92763a\n",
            "  Stored in directory: /root/.cache/pip/wheels/41/95/74/7d347e136d672f8bc28e937032bc92baf4f80856763a7e7b72\n",
            "Successfully built bioinfokit adjustText\n",
            "Installing collected packages: textwrap3, adjustText, bioinfokit\n",
            "Successfully installed adjustText-0.7.3 bioinfokit-2.0.4 textwrap3-0.9.2\n"
          ],
          "name": "stdout"
        }
      ]
    },
    {
      "cell_type": "code",
      "metadata": {
        "colab": {
          "base_uri": "https://localhost:8080/",
          "height": 917
        },
        "id": "IOq1GcoW-yZN",
        "outputId": "4dd58b3e-001a-4465-8813-cd27591962f3"
      },
      "source": [
        "# we will use bioinfokit (v1.0.3 or later) for performing tukey HSD test\n",
        "# check documentation here https://github.com/reneshbedre/bioinfokit\n",
        "from bioinfokit.analys import stat\n",
        "# perform multiple pairwise comparison (Tukey's HSD)\n",
        "# unequal sample size data, tukey_hsd uses Tukey-Kramer test\n",
        "res = stat()\n",
        "res.tukey_hsd(df=df_melt, res_var='value', xfac_var='treatments', anova_model='value ~ C(treatments)')\n",
        "res.tukey_summary"
      ],
      "execution_count": 9,
      "outputs": [
        {
          "output_type": "execute_result",
          "data": {
            "text/html": [
              "<div>\n",
              "<style scoped>\n",
              "    .dataframe tbody tr th:only-of-type {\n",
              "        vertical-align: middle;\n",
              "    }\n",
              "\n",
              "    .dataframe tbody tr th {\n",
              "        vertical-align: top;\n",
              "    }\n",
              "\n",
              "    .dataframe thead th {\n",
              "        text-align: right;\n",
              "    }\n",
              "</style>\n",
              "<table border=\"1\" class=\"dataframe\">\n",
              "  <thead>\n",
              "    <tr style=\"text-align: right;\">\n",
              "      <th></th>\n",
              "      <th>group1</th>\n",
              "      <th>group2</th>\n",
              "      <th>Diff</th>\n",
              "      <th>Lower</th>\n",
              "      <th>Upper</th>\n",
              "      <th>q-value</th>\n",
              "      <th>p-value</th>\n",
              "    </tr>\n",
              "  </thead>\n",
              "  <tbody>\n",
              "    <tr>\n",
              "      <th>0</th>\n",
              "      <td>A</td>\n",
              "      <td>B</td>\n",
              "      <td>0.031537</td>\n",
              "      <td>-0.481621</td>\n",
              "      <td>0.544695</td>\n",
              "      <td>0.300923</td>\n",
              "      <td>0.900000</td>\n",
              "    </tr>\n",
              "    <tr>\n",
              "      <th>1</th>\n",
              "      <td>A</td>\n",
              "      <td>C</td>\n",
              "      <td>0.145454</td>\n",
              "      <td>-0.367704</td>\n",
              "      <td>0.658612</td>\n",
              "      <td>1.387918</td>\n",
              "      <td>0.900000</td>\n",
              "    </tr>\n",
              "    <tr>\n",
              "      <th>2</th>\n",
              "      <td>A</td>\n",
              "      <td>D</td>\n",
              "      <td>0.018833</td>\n",
              "      <td>-0.494325</td>\n",
              "      <td>0.531991</td>\n",
              "      <td>0.179704</td>\n",
              "      <td>0.900000</td>\n",
              "    </tr>\n",
              "    <tr>\n",
              "      <th>3</th>\n",
              "      <td>A</td>\n",
              "      <td>E</td>\n",
              "      <td>0.352804</td>\n",
              "      <td>-0.160354</td>\n",
              "      <td>0.865962</td>\n",
              "      <td>3.366450</td>\n",
              "      <td>0.312838</td>\n",
              "    </tr>\n",
              "    <tr>\n",
              "      <th>4</th>\n",
              "      <td>A</td>\n",
              "      <td>F</td>\n",
              "      <td>0.370619</td>\n",
              "      <td>-0.142539</td>\n",
              "      <td>0.883777</td>\n",
              "      <td>3.536436</td>\n",
              "      <td>0.262144</td>\n",
              "    </tr>\n",
              "    <tr>\n",
              "      <th>5</th>\n",
              "      <td>A</td>\n",
              "      <td>G</td>\n",
              "      <td>0.595278</td>\n",
              "      <td>0.082120</td>\n",
              "      <td>1.108436</td>\n",
              "      <td>5.680129</td>\n",
              "      <td>0.017329</td>\n",
              "    </tr>\n",
              "    <tr>\n",
              "      <th>6</th>\n",
              "      <td>A</td>\n",
              "      <td>H</td>\n",
              "      <td>0.397077</td>\n",
              "      <td>-0.116082</td>\n",
              "      <td>0.910235</td>\n",
              "      <td>3.788893</td>\n",
              "      <td>0.198401</td>\n",
              "    </tr>\n",
              "    <tr>\n",
              "      <th>7</th>\n",
              "      <td>B</td>\n",
              "      <td>C</td>\n",
              "      <td>0.113917</td>\n",
              "      <td>-0.399241</td>\n",
              "      <td>0.627075</td>\n",
              "      <td>1.086994</td>\n",
              "      <td>0.900000</td>\n",
              "    </tr>\n",
              "    <tr>\n",
              "      <th>8</th>\n",
              "      <td>B</td>\n",
              "      <td>D</td>\n",
              "      <td>0.012704</td>\n",
              "      <td>-0.500454</td>\n",
              "      <td>0.525862</td>\n",
              "      <td>0.121219</td>\n",
              "      <td>0.900000</td>\n",
              "    </tr>\n",
              "    <tr>\n",
              "      <th>9</th>\n",
              "      <td>B</td>\n",
              "      <td>E</td>\n",
              "      <td>0.321268</td>\n",
              "      <td>-0.191890</td>\n",
              "      <td>0.834426</td>\n",
              "      <td>3.065526</td>\n",
              "      <td>0.419556</td>\n",
              "    </tr>\n",
              "    <tr>\n",
              "      <th>10</th>\n",
              "      <td>B</td>\n",
              "      <td>F</td>\n",
              "      <td>0.402156</td>\n",
              "      <td>-0.111002</td>\n",
              "      <td>0.915314</td>\n",
              "      <td>3.837359</td>\n",
              "      <td>0.187655</td>\n",
              "    </tr>\n",
              "    <tr>\n",
              "      <th>11</th>\n",
              "      <td>B</td>\n",
              "      <td>G</td>\n",
              "      <td>0.626815</td>\n",
              "      <td>0.113657</td>\n",
              "      <td>1.139973</td>\n",
              "      <td>5.981052</td>\n",
              "      <td>0.011456</td>\n",
              "    </tr>\n",
              "    <tr>\n",
              "      <th>12</th>\n",
              "      <td>B</td>\n",
              "      <td>H</td>\n",
              "      <td>0.428613</td>\n",
              "      <td>-0.084545</td>\n",
              "      <td>0.941771</td>\n",
              "      <td>4.089816</td>\n",
              "      <td>0.139305</td>\n",
              "    </tr>\n",
              "    <tr>\n",
              "      <th>13</th>\n",
              "      <td>C</td>\n",
              "      <td>D</td>\n",
              "      <td>0.126621</td>\n",
              "      <td>-0.386537</td>\n",
              "      <td>0.639779</td>\n",
              "      <td>1.208213</td>\n",
              "      <td>0.900000</td>\n",
              "    </tr>\n",
              "    <tr>\n",
              "      <th>14</th>\n",
              "      <td>C</td>\n",
              "      <td>E</td>\n",
              "      <td>0.207350</td>\n",
              "      <td>-0.305808</td>\n",
              "      <td>0.720509</td>\n",
              "      <td>1.978532</td>\n",
              "      <td>0.827652</td>\n",
              "    </tr>\n",
              "    <tr>\n",
              "      <th>15</th>\n",
              "      <td>C</td>\n",
              "      <td>F</td>\n",
              "      <td>0.516073</td>\n",
              "      <td>0.002915</td>\n",
              "      <td>1.029231</td>\n",
              "      <td>4.924353</td>\n",
              "      <td>0.048196</td>\n",
              "    </tr>\n",
              "    <tr>\n",
              "      <th>16</th>\n",
              "      <td>C</td>\n",
              "      <td>G</td>\n",
              "      <td>0.740732</td>\n",
              "      <td>0.227574</td>\n",
              "      <td>1.253890</td>\n",
              "      <td>7.068047</td>\n",
              "      <td>0.002571</td>\n",
              "    </tr>\n",
              "    <tr>\n",
              "      <th>17</th>\n",
              "      <td>C</td>\n",
              "      <td>H</td>\n",
              "      <td>0.542530</td>\n",
              "      <td>0.029372</td>\n",
              "      <td>1.055689</td>\n",
              "      <td>5.176810</td>\n",
              "      <td>0.034391</td>\n",
              "    </tr>\n",
              "    <tr>\n",
              "      <th>18</th>\n",
              "      <td>D</td>\n",
              "      <td>E</td>\n",
              "      <td>0.333971</td>\n",
              "      <td>-0.179187</td>\n",
              "      <td>0.847129</td>\n",
              "      <td>3.186745</td>\n",
              "      <td>0.374305</td>\n",
              "    </tr>\n",
              "    <tr>\n",
              "      <th>19</th>\n",
              "      <td>D</td>\n",
              "      <td>F</td>\n",
              "      <td>0.389452</td>\n",
              "      <td>-0.123706</td>\n",
              "      <td>0.902610</td>\n",
              "      <td>3.716140</td>\n",
              "      <td>0.215450</td>\n",
              "    </tr>\n",
              "    <tr>\n",
              "      <th>20</th>\n",
              "      <td>D</td>\n",
              "      <td>G</td>\n",
              "      <td>0.614111</td>\n",
              "      <td>0.100953</td>\n",
              "      <td>1.127269</td>\n",
              "      <td>5.859833</td>\n",
              "      <td>0.013537</td>\n",
              "    </tr>\n",
              "    <tr>\n",
              "      <th>21</th>\n",
              "      <td>D</td>\n",
              "      <td>H</td>\n",
              "      <td>0.415910</td>\n",
              "      <td>-0.097249</td>\n",
              "      <td>0.929068</td>\n",
              "      <td>3.968597</td>\n",
              "      <td>0.161242</td>\n",
              "    </tr>\n",
              "    <tr>\n",
              "      <th>22</th>\n",
              "      <td>E</td>\n",
              "      <td>F</td>\n",
              "      <td>0.723423</td>\n",
              "      <td>0.210265</td>\n",
              "      <td>1.236581</td>\n",
              "      <td>6.902885</td>\n",
              "      <td>0.003220</td>\n",
              "    </tr>\n",
              "    <tr>\n",
              "      <th>23</th>\n",
              "      <td>E</td>\n",
              "      <td>G</td>\n",
              "      <td>0.948083</td>\n",
              "      <td>0.434925</td>\n",
              "      <td>1.461241</td>\n",
              "      <td>9.046579</td>\n",
              "      <td>0.001000</td>\n",
              "    </tr>\n",
              "    <tr>\n",
              "      <th>24</th>\n",
              "      <td>E</td>\n",
              "      <td>H</td>\n",
              "      <td>0.749881</td>\n",
              "      <td>0.236723</td>\n",
              "      <td>1.263039</td>\n",
              "      <td>7.155342</td>\n",
              "      <td>0.002281</td>\n",
              "    </tr>\n",
              "    <tr>\n",
              "      <th>25</th>\n",
              "      <td>F</td>\n",
              "      <td>G</td>\n",
              "      <td>0.224659</td>\n",
              "      <td>-0.288499</td>\n",
              "      <td>0.737817</td>\n",
              "      <td>2.143693</td>\n",
              "      <td>0.765839</td>\n",
              "    </tr>\n",
              "    <tr>\n",
              "      <th>26</th>\n",
              "      <td>F</td>\n",
              "      <td>H</td>\n",
              "      <td>0.026458</td>\n",
              "      <td>-0.486701</td>\n",
              "      <td>0.539616</td>\n",
              "      <td>0.252457</td>\n",
              "      <td>0.900000</td>\n",
              "    </tr>\n",
              "    <tr>\n",
              "      <th>27</th>\n",
              "      <td>G</td>\n",
              "      <td>H</td>\n",
              "      <td>0.198202</td>\n",
              "      <td>-0.314956</td>\n",
              "      <td>0.711360</td>\n",
              "      <td>1.891236</td>\n",
              "      <td>0.860323</td>\n",
              "    </tr>\n",
              "  </tbody>\n",
              "</table>\n",
              "</div>"
            ],
            "text/plain": [
              "   group1 group2      Diff     Lower     Upper   q-value   p-value\n",
              "0       A      B  0.031537 -0.481621  0.544695  0.300923  0.900000\n",
              "1       A      C  0.145454 -0.367704  0.658612  1.387918  0.900000\n",
              "2       A      D  0.018833 -0.494325  0.531991  0.179704  0.900000\n",
              "3       A      E  0.352804 -0.160354  0.865962  3.366450  0.312838\n",
              "4       A      F  0.370619 -0.142539  0.883777  3.536436  0.262144\n",
              "5       A      G  0.595278  0.082120  1.108436  5.680129  0.017329\n",
              "6       A      H  0.397077 -0.116082  0.910235  3.788893  0.198401\n",
              "7       B      C  0.113917 -0.399241  0.627075  1.086994  0.900000\n",
              "8       B      D  0.012704 -0.500454  0.525862  0.121219  0.900000\n",
              "9       B      E  0.321268 -0.191890  0.834426  3.065526  0.419556\n",
              "10      B      F  0.402156 -0.111002  0.915314  3.837359  0.187655\n",
              "11      B      G  0.626815  0.113657  1.139973  5.981052  0.011456\n",
              "12      B      H  0.428613 -0.084545  0.941771  4.089816  0.139305\n",
              "13      C      D  0.126621 -0.386537  0.639779  1.208213  0.900000\n",
              "14      C      E  0.207350 -0.305808  0.720509  1.978532  0.827652\n",
              "15      C      F  0.516073  0.002915  1.029231  4.924353  0.048196\n",
              "16      C      G  0.740732  0.227574  1.253890  7.068047  0.002571\n",
              "17      C      H  0.542530  0.029372  1.055689  5.176810  0.034391\n",
              "18      D      E  0.333971 -0.179187  0.847129  3.186745  0.374305\n",
              "19      D      F  0.389452 -0.123706  0.902610  3.716140  0.215450\n",
              "20      D      G  0.614111  0.100953  1.127269  5.859833  0.013537\n",
              "21      D      H  0.415910 -0.097249  0.929068  3.968597  0.161242\n",
              "22      E      F  0.723423  0.210265  1.236581  6.902885  0.003220\n",
              "23      E      G  0.948083  0.434925  1.461241  9.046579  0.001000\n",
              "24      E      H  0.749881  0.236723  1.263039  7.155342  0.002281\n",
              "25      F      G  0.224659 -0.288499  0.737817  2.143693  0.765839\n",
              "26      F      H  0.026458 -0.486701  0.539616  0.252457  0.900000\n",
              "27      G      H  0.198202 -0.314956  0.711360  1.891236  0.860323"
            ]
          },
          "metadata": {
            "tags": []
          },
          "execution_count": 9
        }
      ]
    },
    {
      "cell_type": "code",
      "metadata": {
        "colab": {
          "base_uri": "https://localhost:8080/",
          "height": 279
        },
        "id": "pdOaNTZu_CGd",
        "outputId": "cda8b5ee-2cbf-4d56-dc7b-473eac997d40"
      },
      "source": [
        "import statsmodels.api as sm\n",
        "import matplotlib.pyplot as plt\n",
        "# res.anova_std_residuals are standardized residuals obtained from ANOVA (check above)\n",
        "sm.qqplot(res.anova_std_residuals, line='45')\n",
        "plt.xlabel(\"Theoretical Quantiles\")\n",
        "plt.ylabel(\"Standardized Residuals\")\n",
        "plt.show()"
      ],
      "execution_count": 10,
      "outputs": [
        {
          "output_type": "display_data",
          "data": {
            "image/png": "[encoded data removed]",
            "text/plain": [
              "<Figure size 432x288 with 1 Axes>"
            ]
          },
          "metadata": {
            "tags": [],
            "needs_background": "light"
          }
        }
      ]
    },
    {
      "cell_type": "code",
      "metadata": {
        "colab": {
          "base_uri": "https://localhost:8080/",
          "height": 279
        },
        "id": "U7FtJ2Qx_beV",
        "outputId": "a9657c89-2953-48b0-c2c6-22a7e19f6017"
      },
      "source": [
        "# histogram\n",
        "plt.hist(res.anova_model_out.resid, bins='auto', histtype='bar', ec='k') \n",
        "plt.xlabel(\"Residuals\")\n",
        "plt.ylabel('Frequency')\n",
        "plt.show()"
      ],
      "execution_count": 11,
      "outputs": [
        {
          "output_type": "display_data",
          "data": {
            "image/png": "[encoded data removed]",
            "text/plain": [
              "<Figure size 432x288 with 1 Axes>"
            ]
          },
          "metadata": {
            "tags": [],
            "needs_background": "light"
          }
        }
      ]
    },
    {
      "cell_type": "code",
      "metadata": {
        "colab": {
          "base_uri": "https://localhost:8080/"
        },
        "id": "TcZoNDsy_ejN",
        "outputId": "5a25afff-a73a-4a43-d77b-bbd5e2fb6e36"
      },
      "source": [
        "import scipy.stats as stats\n",
        "w, pvalue = stats.shapiro(model.resid)\n",
        "print(w, pvalue)"
      ],
      "execution_count": 12,
      "outputs": [
        {
          "output_type": "stream",
          "text": [
            "0.9593644142150879 0.4257867634296417\n"
          ],
          "name": "stdout"
        }
      ]
    },
    {
      "cell_type": "code",
      "metadata": {
        "colab": {
          "base_uri": "https://localhost:8080/"
        },
        "id": "QDtKHGRu_iVl",
        "outputId": "79535458-b6a4-4223-f0ab-c94351aa64bb"
      },
      "source": [
        "import scipy.stats as stats\n",
        "w, pvalue = stats.bartlett(df['A'], df['B'], df['C'], df['D'],df['E'],df['F'],df['G'],df['H'])\n",
        "print(w, pvalue)"
      ],
      "execution_count": 13,
      "outputs": [
        {
          "output_type": "stream",
          "text": [
            "11.170138134891252 0.13136793378959763\n"
          ],
          "name": "stdout"
        }
      ]
    },
    {
      "cell_type": "code",
      "metadata": {
        "colab": {
          "base_uri": "https://localhost:8080/",
          "height": 142
        },
        "id": "pBsbNals_nuF",
        "outputId": "b58e1c29-a4be-4b65-c169-088aeaffa4d7"
      },
      "source": [
        "# if you have a stacked table, you can use bioinfokit v1.0.3 or later for the bartlett's test\n",
        "from bioinfokit.analys import stat \n",
        "res = stat()\n",
        "res.bartlett(df=df_melt, res_var='value', xfac_var='treatments')\n",
        "res.bartlett_summary"
      ],
      "execution_count": 14,
      "outputs": [
        {
          "output_type": "execute_result",
          "data": {
            "text/html": [
              "<div>\n",
              "<style scoped>\n",
              "    .dataframe tbody tr th:only-of-type {\n",
              "        vertical-align: middle;\n",
              "    }\n",
              "\n",
              "    .dataframe tbody tr th {\n",
              "        vertical-align: top;\n",
              "    }\n",
              "\n",
              "    .dataframe thead th {\n",
              "        text-align: right;\n",
              "    }\n",
              "</style>\n",
              "<table border=\"1\" class=\"dataframe\">\n",
              "  <thead>\n",
              "    <tr style=\"text-align: right;\">\n",
              "      <th></th>\n",
              "      <th>Parameter</th>\n",
              "      <th>Value</th>\n",
              "    </tr>\n",
              "  </thead>\n",
              "  <tbody>\n",
              "    <tr>\n",
              "      <th>0</th>\n",
              "      <td>Test statistics (T)</td>\n",
              "      <td>11.1701</td>\n",
              "    </tr>\n",
              "    <tr>\n",
              "      <th>1</th>\n",
              "      <td>Degrees of freedom (Df)</td>\n",
              "      <td>7.0000</td>\n",
              "    </tr>\n",
              "    <tr>\n",
              "      <th>2</th>\n",
              "      <td>p value</td>\n",
              "      <td>0.1314</td>\n",
              "    </tr>\n",
              "  </tbody>\n",
              "</table>\n",
              "</div>"
            ],
            "text/plain": [
              "                 Parameter    Value\n",
              "0      Test statistics (T)  11.1701\n",
              "1  Degrees of freedom (Df)   7.0000\n",
              "2                  p value   0.1314"
            ]
          },
          "metadata": {
            "tags": []
          },
          "execution_count": 14
        }
      ]
    },
    {
      "cell_type": "code",
      "metadata": {
        "colab": {
          "base_uri": "https://localhost:8080/",
          "height": 142
        },
        "id": "YToyeLsT_3E9",
        "outputId": "61880a7e-d27f-4052-c851-f5145d638280"
      },
      "source": [
        "# if you have a stacked table, you can use bioinfokit v1.0.3 or later for the Levene's test\n",
        "from bioinfokit.analys import stat \n",
        "res = stat()\n",
        "res.levene(df=df_melt, res_var='value', xfac_var='treatments')\n",
        "res.levene_summary"
      ],
      "execution_count": 15,
      "outputs": [
        {
          "output_type": "execute_result",
          "data": {
            "text/html": [
              "<div>\n",
              "<style scoped>\n",
              "    .dataframe tbody tr th:only-of-type {\n",
              "        vertical-align: middle;\n",
              "    }\n",
              "\n",
              "    .dataframe tbody tr th {\n",
              "        vertical-align: top;\n",
              "    }\n",
              "\n",
              "    .dataframe thead th {\n",
              "        text-align: right;\n",
              "    }\n",
              "</style>\n",
              "<table border=\"1\" class=\"dataframe\">\n",
              "  <thead>\n",
              "    <tr style=\"text-align: right;\">\n",
              "      <th></th>\n",
              "      <th>Parameter</th>\n",
              "      <th>Value</th>\n",
              "    </tr>\n",
              "  </thead>\n",
              "  <tbody>\n",
              "    <tr>\n",
              "      <th>0</th>\n",
              "      <td>Test statistics (W)</td>\n",
              "      <td>0.9489</td>\n",
              "    </tr>\n",
              "    <tr>\n",
              "      <th>1</th>\n",
              "      <td>Degrees of freedom (Df)</td>\n",
              "      <td>7.0000</td>\n",
              "    </tr>\n",
              "    <tr>\n",
              "      <th>2</th>\n",
              "      <td>p value</td>\n",
              "      <td>0.4980</td>\n",
              "    </tr>\n",
              "  </tbody>\n",
              "</table>\n",
              "</div>"
            ],
            "text/plain": [
              "                 Parameter   Value\n",
              "0      Test statistics (W)  0.9489\n",
              "1  Degrees of freedom (Df)  7.0000\n",
              "2                  p value  0.4980"
            ]
          },
          "metadata": {
            "tags": []
          },
          "execution_count": 15
        }
      ]
    },
    {
      "cell_type": "code",
      "metadata": {
        "id": "z0Zujd_U_-c1"
      },
      "source": [
        "import pandas as pd\n",
        "# load data file\n",
        "df = pd.read_csv(\"/content/MnSOD actin RM.txt\", sep=\"\\t\")\n",
        "# reshape the d dataframe suitable for statsmodels package "
      ],
      "execution_count": 16,
      "outputs": []
    },
    {
      "cell_type": "code",
      "metadata": {
        "id": "ijQ8LrmFGkAf"
      },
      "source": [
        "# reshape the d dataframe suitable for statsmodels package \n",
        "df_melt = pd.melt(df.reset_index(), id_vars=['index'], value_vars=['A', 'B', 'C', 'D','E','F','G','H'])\n",
        "# replace column names\n",
        "df_melt.columns = ['index', 'treatments', 'value']\n",
        "\n",
        "#A = vehicle\n",
        "#B = 0.01\n",
        "#C = 0.1\n",
        "#D= 0.5\n",
        "#E= 1\n",
        "#F= 5\n",
        "#G = 10\n",
        "#H = 50"
      ],
      "execution_count": 17,
      "outputs": []
    },
    {
      "cell_type": "code",
      "metadata": {
        "colab": {
          "base_uri": "https://localhost:8080/",
          "height": 279
        },
        "id": "zWmg07ohODzr",
        "outputId": "8c18dd9d-1e91-442d-805c-fca1f4713b40"
      },
      "source": [
        "import matplotlib.pyplot as plt\n",
        "import seaborn as sns\n",
        "ax = sns.boxplot(x='treatments', y='value', data=df_melt, color='#99c2a2')\n",
        "ax = sns.swarmplot(x=\"treatments\", y=\"value\", data=df_melt, color='#7d0013')\n",
        "plt.show()"
      ],
      "execution_count": 18,
      "outputs": [
        {
          "output_type": "display_data",
          "data": {
            "image/png": "[encoded data removed]",
            "text/plain": [
              "<Figure size 432x288 with 1 Axes>"
            ]
          },
          "metadata": {
            "tags": [],
            "needs_background": "light"
          }
        }
      ]
    },
    {
      "cell_type": "code",
      "metadata": {
        "colab": {
          "base_uri": "https://localhost:8080/"
        },
        "id": "yVBqCpWqOZLn",
        "outputId": "916cd68e-d5a9-4436-c64e-1811aba0066b"
      },
      "source": [
        "import scipy.stats as stats\n",
        "# stats f_oneway functions takes the groups as input and returns ANOVA F and p value\n",
        "fvalue, pvalue = stats.f_oneway(df['A'], df['B'], df['C'], df['D'],df['E'],df['F'],df['G'],df['H'])\n",
        "print(fvalue, pvalue)"
      ],
      "execution_count": 19,
      "outputs": [
        {
          "output_type": "stream",
          "text": [
            "7.557275839200127 0.000421952920256604\n"
          ],
          "name": "stdout"
        }
      ]
    },
    {
      "cell_type": "code",
      "metadata": {
        "id": "uA2iv_BCOdk_"
      },
      "source": [
        "import statsmodels.api as sm\n",
        "from statsmodels.formula.api import ols"
      ],
      "execution_count": 20,
      "outputs": []
    },
    {
      "cell_type": "code",
      "metadata": {
        "colab": {
          "base_uri": "https://localhost:8080/",
          "height": 111
        },
        "id": "ROPZ2rIzOino",
        "outputId": "a07690bf-2b9c-4ff6-db74-f7225f616780"
      },
      "source": [
        "model = ols('value ~ C(treatments)', data=df_melt).fit()\n",
        "anova_table = sm.stats.anova_lm(model, typ=2)\n",
        "anova_table"
      ],
      "execution_count": 21,
      "outputs": [
        {
          "output_type": "execute_result",
          "data": {
            "text/html": [
              "<div>\n",
              "<style scoped>\n",
              "    .dataframe tbody tr th:only-of-type {\n",
              "        vertical-align: middle;\n",
              "    }\n",
              "\n",
              "    .dataframe tbody tr th {\n",
              "        vertical-align: top;\n",
              "    }\n",
              "\n",
              "    .dataframe thead th {\n",
              "        text-align: right;\n",
              "    }\n",
              "</style>\n",
              "<table border=\"1\" class=\"dataframe\">\n",
              "  <thead>\n",
              "    <tr style=\"text-align: right;\">\n",
              "      <th></th>\n",
              "      <th>sum_sq</th>\n",
              "      <th>df</th>\n",
              "      <th>F</th>\n",
              "      <th>PR(&gt;F)</th>\n",
              "    </tr>\n",
              "  </thead>\n",
              "  <tbody>\n",
              "    <tr>\n",
              "      <th>C(treatments)</th>\n",
              "      <td>0.676495</td>\n",
              "      <td>7.0</td>\n",
              "      <td>7.557276</td>\n",
              "      <td>0.000422</td>\n",
              "    </tr>\n",
              "    <tr>\n",
              "      <th>Residual</th>\n",
              "      <td>0.204607</td>\n",
              "      <td>16.0</td>\n",
              "      <td>NaN</td>\n",
              "      <td>NaN</td>\n",
              "    </tr>\n",
              "  </tbody>\n",
              "</table>\n",
              "</div>"
            ],
            "text/plain": [
              "                 sum_sq    df         F    PR(>F)\n",
              "C(treatments)  0.676495   7.0  7.557276  0.000422\n",
              "Residual       0.204607  16.0       NaN       NaN"
            ]
          },
          "metadata": {
            "tags": []
          },
          "execution_count": 21
        }
      ]
    },
    {
      "cell_type": "code",
      "metadata": {
        "colab": {
          "base_uri": "https://localhost:8080/"
        },
        "id": "mahkfh7WOtIu",
        "outputId": "af9e1e14-3b0f-4b7f-de9b-e1de5bacaf34"
      },
      "source": [
        "pip install bioinfokit"
      ],
      "execution_count": 22,
      "outputs": [
        {
          "output_type": "stream",
          "text": [
            "Requirement already satisfied: bioinfokit in /usr/local/lib/python3.7/dist-packages (2.0.4)\n",
            "Requirement already satisfied: scikit-learn in /usr/local/lib/python3.7/dist-packages (from bioinfokit) (0.22.2.post1)\n",
            "Requirement already satisfied: textwrap3 in /usr/local/lib/python3.7/dist-packages (from bioinfokit) (0.9.2)\n",
            "Requirement already satisfied: statsmodels in /usr/local/lib/python3.7/dist-packages (from bioinfokit) (0.10.2)\n",
            "Requirement already satisfied: tabulate in /usr/local/lib/python3.7/dist-packages (from bioinfokit) (0.8.9)\n",
            "Requirement already satisfied: adjustText in /usr/local/lib/python3.7/dist-packages (from bioinfokit) (0.7.3)\n",
            "Requirement already satisfied: pandas in /usr/local/lib/python3.7/dist-packages (from bioinfokit) (1.1.5)\n",
            "Requirement already satisfied: seaborn in /usr/local/lib/python3.7/dist-packages (from bioinfokit) (0.11.1)\n",
            "Requirement already satisfied: scipy in /usr/local/lib/python3.7/dist-packages (from bioinfokit) (1.4.1)\n",
            "Requirement already satisfied: matplotlib in /usr/local/lib/python3.7/dist-packages (from bioinfokit) (3.2.2)\n",
            "Requirement already satisfied: numpy in /usr/local/lib/python3.7/dist-packages (from bioinfokit) (1.19.5)\n",
            "Requirement already satisfied: matplotlib-venn in /usr/local/lib/python3.7/dist-packages (from bioinfokit) (0.11.6)\n",
            "Requirement already satisfied: joblib>=0.11 in /usr/local/lib/python3.7/dist-packages (from scikit-learn->bioinfokit) (1.0.1)\n",
            "Requirement already satisfied: patsy>=0.4.0 in /usr/local/lib/python3.7/dist-packages (from statsmodels->bioinfokit) (0.5.1)\n",
            "Requirement already satisfied: python-dateutil>=2.7.3 in /usr/local/lib/python3.7/dist-packages (from pandas->bioinfokit) (2.8.1)\n",
            "Requirement already satisfied: pytz>=2017.2 in /usr/local/lib/python3.7/dist-packages (from pandas->bioinfokit) (2018.9)\n",
            "Requirement already satisfied: kiwisolver>=1.0.1 in /usr/local/lib/python3.7/dist-packages (from matplotlib->bioinfokit) (1.3.1)\n",
            "Requirement already satisfied: cycler>=0.10 in /usr/local/lib/python3.7/dist-packages (from matplotlib->bioinfokit) (0.10.0)\n",
            "Requirement already satisfied: pyparsing!=2.0.4,!=2.1.2,!=2.1.6,>=2.0.1 in /usr/local/lib/python3.7/dist-packages (from matplotlib->bioinfokit) (2.4.7)\n",
            "Requirement already satisfied: six in /usr/local/lib/python3.7/dist-packages (from patsy>=0.4.0->statsmodels->bioinfokit) (1.15.0)\n"
          ],
          "name": "stdout"
        }
      ]
    },
    {
      "cell_type": "code",
      "metadata": {
        "colab": {
          "base_uri": "https://localhost:8080/",
          "height": 917
        },
        "id": "y4NlZy2AO7Oe",
        "outputId": "7203cc24-f5a8-4af5-ad89-d418436a16a0"
      },
      "source": [
        "# we will use bioinfokit (v1.0.3 or later) for performing tukey HSD test\n",
        "# check documentation here https://github.com/reneshbedre/bioinfokit\n",
        "from bioinfokit.analys import stat\n",
        "# perform multiple pairwise comparison (Tukey's HSD)\n",
        "# unequal sample size data, tukey_hsd uses Tukey-Kramer test\n",
        "res = stat()\n",
        "res.tukey_hsd(df=df_melt, res_var='value', xfac_var='treatments', anova_model='value ~ C(treatments)')\n",
        "res.tukey_summary"
      ],
      "execution_count": 23,
      "outputs": [
        {
          "output_type": "execute_result",
          "data": {
            "text/html": [
              "<div>\n",
              "<style scoped>\n",
              "    .dataframe tbody tr th:only-of-type {\n",
              "        vertical-align: middle;\n",
              "    }\n",
              "\n",
              "    .dataframe tbody tr th {\n",
              "        vertical-align: top;\n",
              "    }\n",
              "\n",
              "    .dataframe thead th {\n",
              "        text-align: right;\n",
              "    }\n",
              "</style>\n",
              "<table border=\"1\" class=\"dataframe\">\n",
              "  <thead>\n",
              "    <tr style=\"text-align: right;\">\n",
              "      <th></th>\n",
              "      <th>group1</th>\n",
              "      <th>group2</th>\n",
              "      <th>Diff</th>\n",
              "      <th>Lower</th>\n",
              "      <th>Upper</th>\n",
              "      <th>q-value</th>\n",
              "      <th>p-value</th>\n",
              "    </tr>\n",
              "  </thead>\n",
              "  <tbody>\n",
              "    <tr>\n",
              "      <th>0</th>\n",
              "      <td>A</td>\n",
              "      <td>B</td>\n",
              "      <td>0.297785</td>\n",
              "      <td>-0.021905</td>\n",
              "      <td>0.617475</td>\n",
              "      <td>4.561029</td>\n",
              "      <td>0.077623</td>\n",
              "    </tr>\n",
              "    <tr>\n",
              "      <th>1</th>\n",
              "      <td>A</td>\n",
              "      <td>C</td>\n",
              "      <td>0.219787</td>\n",
              "      <td>-0.099903</td>\n",
              "      <td>0.539477</td>\n",
              "      <td>3.366373</td>\n",
              "      <td>0.312862</td>\n",
              "    </tr>\n",
              "    <tr>\n",
              "      <th>2</th>\n",
              "      <td>A</td>\n",
              "      <td>D</td>\n",
              "      <td>0.101970</td>\n",
              "      <td>-0.217721</td>\n",
              "      <td>0.421660</td>\n",
              "      <td>1.561820</td>\n",
              "      <td>0.900000</td>\n",
              "    </tr>\n",
              "    <tr>\n",
              "      <th>3</th>\n",
              "      <td>A</td>\n",
              "      <td>E</td>\n",
              "      <td>0.052773</td>\n",
              "      <td>-0.266918</td>\n",
              "      <td>0.372463</td>\n",
              "      <td>0.808292</td>\n",
              "      <td>0.900000</td>\n",
              "    </tr>\n",
              "    <tr>\n",
              "      <th>4</th>\n",
              "      <td>A</td>\n",
              "      <td>F</td>\n",
              "      <td>0.046101</td>\n",
              "      <td>-0.273590</td>\n",
              "      <td>0.365791</td>\n",
              "      <td>0.706102</td>\n",
              "      <td>0.900000</td>\n",
              "    </tr>\n",
              "    <tr>\n",
              "      <th>5</th>\n",
              "      <td>A</td>\n",
              "      <td>G</td>\n",
              "      <td>0.028294</td>\n",
              "      <td>-0.291396</td>\n",
              "      <td>0.347984</td>\n",
              "      <td>0.433369</td>\n",
              "      <td>0.900000</td>\n",
              "    </tr>\n",
              "    <tr>\n",
              "      <th>6</th>\n",
              "      <td>A</td>\n",
              "      <td>H</td>\n",
              "      <td>0.461076</td>\n",
              "      <td>0.141386</td>\n",
              "      <td>0.780767</td>\n",
              "      <td>7.062084</td>\n",
              "      <td>0.002590</td>\n",
              "    </tr>\n",
              "    <tr>\n",
              "      <th>7</th>\n",
              "      <td>B</td>\n",
              "      <td>C</td>\n",
              "      <td>0.077998</td>\n",
              "      <td>-0.241692</td>\n",
              "      <td>0.397688</td>\n",
              "      <td>1.194656</td>\n",
              "      <td>0.900000</td>\n",
              "    </tr>\n",
              "    <tr>\n",
              "      <th>8</th>\n",
              "      <td>B</td>\n",
              "      <td>D</td>\n",
              "      <td>0.195815</td>\n",
              "      <td>-0.123875</td>\n",
              "      <td>0.515506</td>\n",
              "      <td>2.999210</td>\n",
              "      <td>0.444873</td>\n",
              "    </tr>\n",
              "    <tr>\n",
              "      <th>9</th>\n",
              "      <td>B</td>\n",
              "      <td>E</td>\n",
              "      <td>0.245012</td>\n",
              "      <td>-0.074678</td>\n",
              "      <td>0.564703</td>\n",
              "      <td>3.752738</td>\n",
              "      <td>0.206739</td>\n",
              "    </tr>\n",
              "    <tr>\n",
              "      <th>10</th>\n",
              "      <td>B</td>\n",
              "      <td>F</td>\n",
              "      <td>0.343886</td>\n",
              "      <td>0.024196</td>\n",
              "      <td>0.663576</td>\n",
              "      <td>5.267131</td>\n",
              "      <td>0.030438</td>\n",
              "    </tr>\n",
              "    <tr>\n",
              "      <th>11</th>\n",
              "      <td>B</td>\n",
              "      <td>G</td>\n",
              "      <td>0.326079</td>\n",
              "      <td>0.006389</td>\n",
              "      <td>0.645769</td>\n",
              "      <td>4.994398</td>\n",
              "      <td>0.043917</td>\n",
              "    </tr>\n",
              "    <tr>\n",
              "      <th>12</th>\n",
              "      <td>B</td>\n",
              "      <td>H</td>\n",
              "      <td>0.163291</td>\n",
              "      <td>-0.156399</td>\n",
              "      <td>0.482982</td>\n",
              "      <td>2.501055</td>\n",
              "      <td>0.632088</td>\n",
              "    </tr>\n",
              "    <tr>\n",
              "      <th>13</th>\n",
              "      <td>C</td>\n",
              "      <td>D</td>\n",
              "      <td>0.117818</td>\n",
              "      <td>-0.201873</td>\n",
              "      <td>0.437508</td>\n",
              "      <td>1.804554</td>\n",
              "      <td>0.892764</td>\n",
              "    </tr>\n",
              "    <tr>\n",
              "      <th>14</th>\n",
              "      <td>C</td>\n",
              "      <td>E</td>\n",
              "      <td>0.167015</td>\n",
              "      <td>-0.152676</td>\n",
              "      <td>0.486705</td>\n",
              "      <td>2.558081</td>\n",
              "      <td>0.610745</td>\n",
              "    </tr>\n",
              "    <tr>\n",
              "      <th>15</th>\n",
              "      <td>C</td>\n",
              "      <td>F</td>\n",
              "      <td>0.265888</td>\n",
              "      <td>-0.053802</td>\n",
              "      <td>0.585578</td>\n",
              "      <td>4.072475</td>\n",
              "      <td>0.142281</td>\n",
              "    </tr>\n",
              "    <tr>\n",
              "      <th>16</th>\n",
              "      <td>C</td>\n",
              "      <td>G</td>\n",
              "      <td>0.248081</td>\n",
              "      <td>-0.071609</td>\n",
              "      <td>0.567772</td>\n",
              "      <td>3.799742</td>\n",
              "      <td>0.195954</td>\n",
              "    </tr>\n",
              "    <tr>\n",
              "      <th>17</th>\n",
              "      <td>C</td>\n",
              "      <td>H</td>\n",
              "      <td>0.241289</td>\n",
              "      <td>-0.078401</td>\n",
              "      <td>0.560979</td>\n",
              "      <td>3.695711</td>\n",
              "      <td>0.220426</td>\n",
              "    </tr>\n",
              "    <tr>\n",
              "      <th>18</th>\n",
              "      <td>D</td>\n",
              "      <td>E</td>\n",
              "      <td>0.049197</td>\n",
              "      <td>-0.270493</td>\n",
              "      <td>0.368887</td>\n",
              "      <td>0.753528</td>\n",
              "      <td>0.900000</td>\n",
              "    </tr>\n",
              "    <tr>\n",
              "      <th>19</th>\n",
              "      <td>D</td>\n",
              "      <td>F</td>\n",
              "      <td>0.148070</td>\n",
              "      <td>-0.171620</td>\n",
              "      <td>0.467761</td>\n",
              "      <td>2.267921</td>\n",
              "      <td>0.719341</td>\n",
              "    </tr>\n",
              "    <tr>\n",
              "      <th>20</th>\n",
              "      <td>D</td>\n",
              "      <td>G</td>\n",
              "      <td>0.130264</td>\n",
              "      <td>-0.189426</td>\n",
              "      <td>0.449954</td>\n",
              "      <td>1.995188</td>\n",
              "      <td>0.821420</td>\n",
              "    </tr>\n",
              "    <tr>\n",
              "      <th>21</th>\n",
              "      <td>D</td>\n",
              "      <td>H</td>\n",
              "      <td>0.359107</td>\n",
              "      <td>0.039417</td>\n",
              "      <td>0.678797</td>\n",
              "      <td>5.500265</td>\n",
              "      <td>0.022167</td>\n",
              "    </tr>\n",
              "    <tr>\n",
              "      <th>22</th>\n",
              "      <td>E</td>\n",
              "      <td>F</td>\n",
              "      <td>0.098873</td>\n",
              "      <td>-0.220817</td>\n",
              "      <td>0.418563</td>\n",
              "      <td>1.514394</td>\n",
              "      <td>0.900000</td>\n",
              "    </tr>\n",
              "    <tr>\n",
              "      <th>23</th>\n",
              "      <td>E</td>\n",
              "      <td>G</td>\n",
              "      <td>0.081067</td>\n",
              "      <td>-0.238623</td>\n",
              "      <td>0.400757</td>\n",
              "      <td>1.241661</td>\n",
              "      <td>0.900000</td>\n",
              "    </tr>\n",
              "    <tr>\n",
              "      <th>24</th>\n",
              "      <td>E</td>\n",
              "      <td>H</td>\n",
              "      <td>0.408304</td>\n",
              "      <td>0.088614</td>\n",
              "      <td>0.727994</td>\n",
              "      <td>6.253792</td>\n",
              "      <td>0.007862</td>\n",
              "    </tr>\n",
              "    <tr>\n",
              "      <th>25</th>\n",
              "      <td>F</td>\n",
              "      <td>G</td>\n",
              "      <td>0.017806</td>\n",
              "      <td>-0.301884</td>\n",
              "      <td>0.337497</td>\n",
              "      <td>0.272733</td>\n",
              "      <td>0.900000</td>\n",
              "    </tr>\n",
              "    <tr>\n",
              "      <th>26</th>\n",
              "      <td>F</td>\n",
              "      <td>H</td>\n",
              "      <td>0.507177</td>\n",
              "      <td>0.187487</td>\n",
              "      <td>0.826867</td>\n",
              "      <td>7.768186</td>\n",
              "      <td>0.001000</td>\n",
              "    </tr>\n",
              "    <tr>\n",
              "      <th>27</th>\n",
              "      <td>G</td>\n",
              "      <td>H</td>\n",
              "      <td>0.489371</td>\n",
              "      <td>0.169680</td>\n",
              "      <td>0.809061</td>\n",
              "      <td>7.495453</td>\n",
              "      <td>0.001440</td>\n",
              "    </tr>\n",
              "  </tbody>\n",
              "</table>\n",
              "</div>"
            ],
            "text/plain": [
              "   group1 group2      Diff     Lower     Upper   q-value   p-value\n",
              "0       A      B  0.297785 -0.021905  0.617475  4.561029  0.077623\n",
              "1       A      C  0.219787 -0.099903  0.539477  3.366373  0.312862\n",
              "2       A      D  0.101970 -0.217721  0.421660  1.561820  0.900000\n",
              "3       A      E  0.052773 -0.266918  0.372463  0.808292  0.900000\n",
              "4       A      F  0.046101 -0.273590  0.365791  0.706102  0.900000\n",
              "5       A      G  0.028294 -0.291396  0.347984  0.433369  0.900000\n",
              "6       A      H  0.461076  0.141386  0.780767  7.062084  0.002590\n",
              "7       B      C  0.077998 -0.241692  0.397688  1.194656  0.900000\n",
              "8       B      D  0.195815 -0.123875  0.515506  2.999210  0.444873\n",
              "9       B      E  0.245012 -0.074678  0.564703  3.752738  0.206739\n",
              "10      B      F  0.343886  0.024196  0.663576  5.267131  0.030438\n",
              "11      B      G  0.326079  0.006389  0.645769  4.994398  0.043917\n",
              "12      B      H  0.163291 -0.156399  0.482982  2.501055  0.632088\n",
              "13      C      D  0.117818 -0.201873  0.437508  1.804554  0.892764\n",
              "14      C      E  0.167015 -0.152676  0.486705  2.558081  0.610745\n",
              "15      C      F  0.265888 -0.053802  0.585578  4.072475  0.142281\n",
              "16      C      G  0.248081 -0.071609  0.567772  3.799742  0.195954\n",
              "17      C      H  0.241289 -0.078401  0.560979  3.695711  0.220426\n",
              "18      D      E  0.049197 -0.270493  0.368887  0.753528  0.900000\n",
              "19      D      F  0.148070 -0.171620  0.467761  2.267921  0.719341\n",
              "20      D      G  0.130264 -0.189426  0.449954  1.995188  0.821420\n",
              "21      D      H  0.359107  0.039417  0.678797  5.500265  0.022167\n",
              "22      E      F  0.098873 -0.220817  0.418563  1.514394  0.900000\n",
              "23      E      G  0.081067 -0.238623  0.400757  1.241661  0.900000\n",
              "24      E      H  0.408304  0.088614  0.727994  6.253792  0.007862\n",
              "25      F      G  0.017806 -0.301884  0.337497  0.272733  0.900000\n",
              "26      F      H  0.507177  0.187487  0.826867  7.768186  0.001000\n",
              "27      G      H  0.489371  0.169680  0.809061  7.495453  0.001440"
            ]
          },
          "metadata": {
            "tags": []
          },
          "execution_count": 23
        }
      ]
    },
    {
      "cell_type": "code",
      "metadata": {
        "colab": {
          "base_uri": "https://localhost:8080/",
          "height": 279
        },
        "id": "rDQokTN0PHHH",
        "outputId": "544e0245-600b-49d6-86a0-44cbbe514693"
      },
      "source": [
        "import statsmodels.api as sm\n",
        "import matplotlib.pyplot as plt\n",
        "# res.anova_std_residuals are standardized residuals obtained from ANOVA (check above)\n",
        "sm.qqplot(res.anova_std_residuals, line='45')\n",
        "plt.xlabel(\"Theoretical Quantiles\")\n",
        "plt.ylabel(\"Standardized Residuals\")\n",
        "plt.show()"
      ],
      "execution_count": 24,
      "outputs": [
        {
          "output_type": "display_data",
          "data": {
            "image/png": "[encoded data removed]",
            "text/plain": [
              "<Figure size 432x288 with 1 Axes>"
            ]
          },
          "metadata": {
            "tags": [],
            "needs_background": "light"
          }
        }
      ]
    },
    {
      "cell_type": "code",
      "metadata": {
        "colab": {
          "base_uri": "https://localhost:8080/",
          "height": 279
        },
        "id": "-U8b3NwoPKw-",
        "outputId": "6c1ccb57-dcff-4017-d678-b473817029b9"
      },
      "source": [
        "# histogram\n",
        "plt.hist(res.anova_model_out.resid, bins='auto', histtype='bar', ec='k') \n",
        "plt.xlabel(\"Residuals\")\n",
        "plt.ylabel('Frequency')\n",
        "plt.show()"
      ],
      "execution_count": 25,
      "outputs": [
        {
          "output_type": "display_data",
          "data": {
            "image/png": "[encoded data removed]",
            "text/plain": [
              "<Figure size 432x288 with 1 Axes>"
            ]
          },
          "metadata": {
            "tags": [],
            "needs_background": "light"
          }
        }
      ]
    },
    {
      "cell_type": "code",
      "metadata": {
        "colab": {
          "base_uri": "https://localhost:8080/"
        },
        "id": "dlWk_it7POYO",
        "outputId": "377650d5-4b79-46b7-d7ef-d4dc39a97d5b"
      },
      "source": [
        "import scipy.stats as stats\n",
        "w, pvalue = stats.shapiro(model.resid)\n",
        "print(w, pvalue)"
      ],
      "execution_count": 26,
      "outputs": [
        {
          "output_type": "stream",
          "text": [
            "0.9705860614776611 0.6814762353897095\n"
          ],
          "name": "stdout"
        }
      ]
    },
    {
      "cell_type": "code",
      "metadata": {
        "colab": {
          "base_uri": "https://localhost:8080/"
        },
        "id": "bY0yYbw0PSyu",
        "outputId": "e8992064-f96f-4f11-fea2-255f814e2390"
      },
      "source": [
        "import scipy.stats as stats\n",
        "w, pvalue = stats.bartlett(df['A'], df['B'], df['C'], df['D'],df['E'],df['F'],df['G'],df['H'])\n",
        "print(w, pvalue)"
      ],
      "execution_count": 27,
      "outputs": [
        {
          "output_type": "stream",
          "text": [
            "6.550770299290614 0.47710013722174494\n"
          ],
          "name": "stdout"
        }
      ]
    },
    {
      "cell_type": "code",
      "metadata": {
        "colab": {
          "base_uri": "https://localhost:8080/",
          "height": 142
        },
        "id": "jMY2XZVOPYke",
        "outputId": "e819211b-4333-47c2-92dd-615f8392b42c"
      },
      "source": [
        "# if you have a stacked table, you can use bioinfokit v1.0.3 or later for the bartlett's test\n",
        "from bioinfokit.analys import stat \n",
        "res = stat()\n",
        "res.bartlett(df=df_melt, res_var='value', xfac_var='treatments')\n",
        "res.bartlett_summary"
      ],
      "execution_count": 28,
      "outputs": [
        {
          "output_type": "execute_result",
          "data": {
            "text/html": [
              "<div>\n",
              "<style scoped>\n",
              "    .dataframe tbody tr th:only-of-type {\n",
              "        vertical-align: middle;\n",
              "    }\n",
              "\n",
              "    .dataframe tbody tr th {\n",
              "        vertical-align: top;\n",
              "    }\n",
              "\n",
              "    .dataframe thead th {\n",
              "        text-align: right;\n",
              "    }\n",
              "</style>\n",
              "<table border=\"1\" class=\"dataframe\">\n",
              "  <thead>\n",
              "    <tr style=\"text-align: right;\">\n",
              "      <th></th>\n",
              "      <th>Parameter</th>\n",
              "      <th>Value</th>\n",
              "    </tr>\n",
              "  </thead>\n",
              "  <tbody>\n",
              "    <tr>\n",
              "      <th>0</th>\n",
              "      <td>Test statistics (T)</td>\n",
              "      <td>6.5508</td>\n",
              "    </tr>\n",
              "    <tr>\n",
              "      <th>1</th>\n",
              "      <td>Degrees of freedom (Df)</td>\n",
              "      <td>7.0000</td>\n",
              "    </tr>\n",
              "    <tr>\n",
              "      <th>2</th>\n",
              "      <td>p value</td>\n",
              "      <td>0.4771</td>\n",
              "    </tr>\n",
              "  </tbody>\n",
              "</table>\n",
              "</div>"
            ],
            "text/plain": [
              "                 Parameter   Value\n",
              "0      Test statistics (T)  6.5508\n",
              "1  Degrees of freedom (Df)  7.0000\n",
              "2                  p value  0.4771"
            ]
          },
          "metadata": {
            "tags": []
          },
          "execution_count": 28
        }
      ]
    },
    {
      "cell_type": "code",
      "metadata": {
        "colab": {
          "base_uri": "https://localhost:8080/",
          "height": 142
        },
        "id": "_-GQtWJXPcq8",
        "outputId": "39ea4c6e-96e9-4e79-cab9-c64013f6b1ca"
      },
      "source": [
        "# if you have a stacked table, you can use bioinfokit v1.0.3 or later for the Levene's test\n",
        "from bioinfokit.analys import stat \n",
        "res = stat()\n",
        "res.levene(df=df_melt, res_var='value', xfac_var='treatments')\n",
        "res.levene_summary"
      ],
      "execution_count": 29,
      "outputs": [
        {
          "output_type": "execute_result",
          "data": {
            "text/html": [
              "<div>\n",
              "<style scoped>\n",
              "    .dataframe tbody tr th:only-of-type {\n",
              "        vertical-align: middle;\n",
              "    }\n",
              "\n",
              "    .dataframe tbody tr th {\n",
              "        vertical-align: top;\n",
              "    }\n",
              "\n",
              "    .dataframe thead th {\n",
              "        text-align: right;\n",
              "    }\n",
              "</style>\n",
              "<table border=\"1\" class=\"dataframe\">\n",
              "  <thead>\n",
              "    <tr style=\"text-align: right;\">\n",
              "      <th></th>\n",
              "      <th>Parameter</th>\n",
              "      <th>Value</th>\n",
              "    </tr>\n",
              "  </thead>\n",
              "  <tbody>\n",
              "    <tr>\n",
              "      <th>0</th>\n",
              "      <td>Test statistics (W)</td>\n",
              "      <td>0.4411</td>\n",
              "    </tr>\n",
              "    <tr>\n",
              "      <th>1</th>\n",
              "      <td>Degrees of freedom (Df)</td>\n",
              "      <td>7.0000</td>\n",
              "    </tr>\n",
              "    <tr>\n",
              "      <th>2</th>\n",
              "      <td>p value</td>\n",
              "      <td>0.8619</td>\n",
              "    </tr>\n",
              "  </tbody>\n",
              "</table>\n",
              "</div>"
            ],
            "text/plain": [
              "                 Parameter   Value\n",
              "0      Test statistics (W)  0.4411\n",
              "1  Degrees of freedom (Df)  7.0000\n",
              "2                  p value  0.8619"
            ]
          },
          "metadata": {
            "tags": []
          },
          "execution_count": 29
        }
      ]
    },
    {
      "cell_type": "code",
      "metadata": {
        "id": "mHqK4qV_Phl-"
      },
      "source": [
        "import pandas as pd\n",
        "# load data file\n",
        "df = pd.read_csv(\"/content/caspase 3 RM.txt\", sep=\"\\t\")\n",
        "# reshape the d dataframe suitable for statsmodels package "
      ],
      "execution_count": 30,
      "outputs": []
    },
    {
      "cell_type": "code",
      "metadata": {
        "id": "ExLAasYVQEOX"
      },
      "source": [
        "# reshape the d dataframe suitable for statsmodels package \n",
        "df_melt = pd.melt(df.reset_index(), id_vars=['index'], value_vars=['A', 'B', 'C', 'D','E','F','G','H'])\n",
        "# replace column names\n",
        "df_melt.columns = ['index', 'treatments', 'value']\n",
        "\n",
        "#A = vehicle\n",
        "#B = 0.01\n",
        "#C = 0.1\n",
        "#D= 0.5\n",
        "#E= 1\n",
        "#F= 5\n",
        "#G = 10\n",
        "#H = 50"
      ],
      "execution_count": 31,
      "outputs": []
    },
    {
      "cell_type": "code",
      "metadata": {
        "colab": {
          "base_uri": "https://localhost:8080/",
          "height": 279
        },
        "id": "2OLAVICbQH83",
        "outputId": "93fed7fa-1032-4c85-ee3a-ca582c90e461"
      },
      "source": [
        "import matplotlib.pyplot as plt\n",
        "import seaborn as sns\n",
        "ax = sns.boxplot(x='treatments', y='value', data=df_melt, color='#99c2a2')\n",
        "ax = sns.swarmplot(x=\"treatments\", y=\"value\", data=df_melt, color='#7d0013')\n",
        "plt.show()"
      ],
      "execution_count": 32,
      "outputs": [
        {
          "output_type": "display_data",
          "data": {
            "image/png": "[encoded data removed]",
            "text/plain": [
              "<Figure size 432x288 with 1 Axes>"
            ]
          },
          "metadata": {
            "tags": [],
            "needs_background": "light"
          }
        }
      ]
    },
    {
      "cell_type": "code",
      "metadata": {
        "colab": {
          "base_uri": "https://localhost:8080/"
        },
        "id": "_ZrZWc9LQMhm",
        "outputId": "f73420eb-5ade-432b-94f3-9fe5998433e6"
      },
      "source": [
        "import scipy.stats as stats\n",
        "# stats f_oneway functions takes the groups as input and returns ANOVA F and p value\n",
        "fvalue, pvalue = stats.f_oneway(df['A'], df['B'], df['C'], df['D'],df['E'],df['F'],df['G'],df['H'])\n",
        "print(fvalue, pvalue)"
      ],
      "execution_count": 33,
      "outputs": [
        {
          "output_type": "stream",
          "text": [
            "41.79912109453186 4.121795338059163e-09\n"
          ],
          "name": "stdout"
        }
      ]
    },
    {
      "cell_type": "code",
      "metadata": {
        "id": "CeIifmXwQQzH"
      },
      "source": [
        "import statsmodels.api as sm\n",
        "from statsmodels.formula.api import ols"
      ],
      "execution_count": 34,
      "outputs": []
    },
    {
      "cell_type": "code",
      "metadata": {
        "colab": {
          "base_uri": "https://localhost:8080/",
          "height": 111
        },
        "id": "bIC0gWnAQWJP",
        "outputId": "f46f4f79-0f86-49b3-d8ea-e868acb455a2"
      },
      "source": [
        "model = ols('value ~ C(treatments)', data=df_melt).fit()\n",
        "anova_table = sm.stats.anova_lm(model, typ=2)\n",
        "anova_table"
      ],
      "execution_count": 35,
      "outputs": [
        {
          "output_type": "execute_result",
          "data": {
            "text/html": [
              "<div>\n",
              "<style scoped>\n",
              "    .dataframe tbody tr th:only-of-type {\n",
              "        vertical-align: middle;\n",
              "    }\n",
              "\n",
              "    .dataframe tbody tr th {\n",
              "        vertical-align: top;\n",
              "    }\n",
              "\n",
              "    .dataframe thead th {\n",
              "        text-align: right;\n",
              "    }\n",
              "</style>\n",
              "<table border=\"1\" class=\"dataframe\">\n",
              "  <thead>\n",
              "    <tr style=\"text-align: right;\">\n",
              "      <th></th>\n",
              "      <th>sum_sq</th>\n",
              "      <th>df</th>\n",
              "      <th>F</th>\n",
              "      <th>PR(&gt;F)</th>\n",
              "    </tr>\n",
              "  </thead>\n",
              "  <tbody>\n",
              "    <tr>\n",
              "      <th>C(treatments)</th>\n",
              "      <td>0.257582</td>\n",
              "      <td>7.0</td>\n",
              "      <td>41.799121</td>\n",
              "      <td>4.121795e-09</td>\n",
              "    </tr>\n",
              "    <tr>\n",
              "      <th>Residual</th>\n",
              "      <td>0.014085</td>\n",
              "      <td>16.0</td>\n",
              "      <td>NaN</td>\n",
              "      <td>NaN</td>\n",
              "    </tr>\n",
              "  </tbody>\n",
              "</table>\n",
              "</div>"
            ],
            "text/plain": [
              "                 sum_sq    df          F        PR(>F)\n",
              "C(treatments)  0.257582   7.0  41.799121  4.121795e-09\n",
              "Residual       0.014085  16.0        NaN           NaN"
            ]
          },
          "metadata": {
            "tags": []
          },
          "execution_count": 35
        }
      ]
    },
    {
      "cell_type": "code",
      "metadata": {
        "colab": {
          "base_uri": "https://localhost:8080/"
        },
        "id": "7BAXJ6K0QZ_f",
        "outputId": "5e08126d-452a-4b16-fada-4b628b213e87"
      },
      "source": [
        "pip install bioinfokit"
      ],
      "execution_count": 36,
      "outputs": [
        {
          "output_type": "stream",
          "text": [
            "Requirement already satisfied: bioinfokit in /usr/local/lib/python3.7/dist-packages (2.0.4)\n",
            "Requirement already satisfied: numpy in /usr/local/lib/python3.7/dist-packages (from bioinfokit) (1.19.5)\n",
            "Requirement already satisfied: adjustText in /usr/local/lib/python3.7/dist-packages (from bioinfokit) (0.7.3)\n",
            "Requirement already satisfied: scikit-learn in /usr/local/lib/python3.7/dist-packages (from bioinfokit) (0.22.2.post1)\n",
            "Requirement already satisfied: matplotlib in /usr/local/lib/python3.7/dist-packages (from bioinfokit) (3.2.2)\n",
            "Requirement already satisfied: pandas in /usr/local/lib/python3.7/dist-packages (from bioinfokit) (1.1.5)\n",
            "Requirement already satisfied: seaborn in /usr/local/lib/python3.7/dist-packages (from bioinfokit) (0.11.1)\n",
            "Requirement already satisfied: matplotlib-venn in /usr/local/lib/python3.7/dist-packages (from bioinfokit) (0.11.6)\n",
            "Requirement already satisfied: statsmodels in /usr/local/lib/python3.7/dist-packages (from bioinfokit) (0.10.2)\n",
            "Requirement already satisfied: scipy in /usr/local/lib/python3.7/dist-packages (from bioinfokit) (1.4.1)\n",
            "Requirement already satisfied: textwrap3 in /usr/local/lib/python3.7/dist-packages (from bioinfokit) (0.9.2)\n",
            "Requirement already satisfied: tabulate in /usr/local/lib/python3.7/dist-packages (from bioinfokit) (0.8.9)\n",
            "Requirement already satisfied: joblib>=0.11 in /usr/local/lib/python3.7/dist-packages (from scikit-learn->bioinfokit) (1.0.1)\n",
            "Requirement already satisfied: kiwisolver>=1.0.1 in /usr/local/lib/python3.7/dist-packages (from matplotlib->bioinfokit) (1.3.1)\n",
            "Requirement already satisfied: cycler>=0.10 in /usr/local/lib/python3.7/dist-packages (from matplotlib->bioinfokit) (0.10.0)\n",
            "Requirement already satisfied: pyparsing!=2.0.4,!=2.1.2,!=2.1.6,>=2.0.1 in /usr/local/lib/python3.7/dist-packages (from matplotlib->bioinfokit) (2.4.7)\n",
            "Requirement already satisfied: python-dateutil>=2.1 in /usr/local/lib/python3.7/dist-packages (from matplotlib->bioinfokit) (2.8.1)\n",
            "Requirement already satisfied: pytz>=2017.2 in /usr/local/lib/python3.7/dist-packages (from pandas->bioinfokit) (2018.9)\n",
            "Requirement already satisfied: patsy>=0.4.0 in /usr/local/lib/python3.7/dist-packages (from statsmodels->bioinfokit) (0.5.1)\n",
            "Requirement already satisfied: six in /usr/local/lib/python3.7/dist-packages (from cycler>=0.10->matplotlib->bioinfokit) (1.15.0)\n"
          ],
          "name": "stdout"
        }
      ]
    },
    {
      "cell_type": "code",
      "metadata": {
        "colab": {
          "base_uri": "https://localhost:8080/",
          "height": 917
        },
        "id": "_uP2vQ2jQeBP",
        "outputId": "db3384ab-aeb3-43b3-b97d-b662c4466312"
      },
      "source": [
        "# we will use bioinfokit (v1.0.3 or later) for performing tukey HSD test\n",
        "# check documentation here https://github.com/reneshbedre/bioinfokit\n",
        "from bioinfokit.analys import stat\n",
        "# perform multiple pairwise comparison (Tukey's HSD)\n",
        "# unequal sample size data, tukey_hsd uses Tukey-Kramer test\n",
        "res = stat()\n",
        "res.tukey_hsd(df=df_melt, res_var='value', xfac_var='treatments', anova_model='value ~ C(treatments)')\n",
        "res.tukey_summary"
      ],
      "execution_count": 37,
      "outputs": [
        {
          "output_type": "execute_result",
          "data": {
            "text/html": [
              "<div>\n",
              "<style scoped>\n",
              "    .dataframe tbody tr th:only-of-type {\n",
              "        vertical-align: middle;\n",
              "    }\n",
              "\n",
              "    .dataframe tbody tr th {\n",
              "        vertical-align: top;\n",
              "    }\n",
              "\n",
              "    .dataframe thead th {\n",
              "        text-align: right;\n",
              "    }\n",
              "</style>\n",
              "<table border=\"1\" class=\"dataframe\">\n",
              "  <thead>\n",
              "    <tr style=\"text-align: right;\">\n",
              "      <th></th>\n",
              "      <th>group1</th>\n",
              "      <th>group2</th>\n",
              "      <th>Diff</th>\n",
              "      <th>Lower</th>\n",
              "      <th>Upper</th>\n",
              "      <th>q-value</th>\n",
              "      <th>p-value</th>\n",
              "    </tr>\n",
              "  </thead>\n",
              "  <tbody>\n",
              "    <tr>\n",
              "      <th>0</th>\n",
              "      <td>A</td>\n",
              "      <td>B</td>\n",
              "      <td>0.064615</td>\n",
              "      <td>-0.019264</td>\n",
              "      <td>0.148495</td>\n",
              "      <td>3.771998</td>\n",
              "      <td>0.202264</td>\n",
              "    </tr>\n",
              "    <tr>\n",
              "      <th>1</th>\n",
              "      <td>A</td>\n",
              "      <td>C</td>\n",
              "      <td>0.024586</td>\n",
              "      <td>-0.059293</td>\n",
              "      <td>0.108465</td>\n",
              "      <td>1.435229</td>\n",
              "      <td>0.900000</td>\n",
              "    </tr>\n",
              "    <tr>\n",
              "      <th>2</th>\n",
              "      <td>A</td>\n",
              "      <td>D</td>\n",
              "      <td>0.025859</td>\n",
              "      <td>-0.058020</td>\n",
              "      <td>0.109738</td>\n",
              "      <td>1.509538</td>\n",
              "      <td>0.900000</td>\n",
              "    </tr>\n",
              "    <tr>\n",
              "      <th>3</th>\n",
              "      <td>A</td>\n",
              "      <td>E</td>\n",
              "      <td>0.281727</td>\n",
              "      <td>0.197848</td>\n",
              "      <td>0.365606</td>\n",
              "      <td>16.446143</td>\n",
              "      <td>0.001000</td>\n",
              "    </tr>\n",
              "    <tr>\n",
              "      <th>4</th>\n",
              "      <td>A</td>\n",
              "      <td>F</td>\n",
              "      <td>0.031484</td>\n",
              "      <td>-0.052395</td>\n",
              "      <td>0.115363</td>\n",
              "      <td>1.837909</td>\n",
              "      <td>0.880284</td>\n",
              "    </tr>\n",
              "    <tr>\n",
              "      <th>5</th>\n",
              "      <td>A</td>\n",
              "      <td>G</td>\n",
              "      <td>0.086202</td>\n",
              "      <td>0.002323</td>\n",
              "      <td>0.170081</td>\n",
              "      <td>5.032148</td>\n",
              "      <td>0.041760</td>\n",
              "    </tr>\n",
              "    <tr>\n",
              "      <th>6</th>\n",
              "      <td>A</td>\n",
              "      <td>H</td>\n",
              "      <td>0.100196</td>\n",
              "      <td>0.016316</td>\n",
              "      <td>0.184075</td>\n",
              "      <td>5.849029</td>\n",
              "      <td>0.013740</td>\n",
              "    </tr>\n",
              "    <tr>\n",
              "      <th>7</th>\n",
              "      <td>B</td>\n",
              "      <td>C</td>\n",
              "      <td>0.040030</td>\n",
              "      <td>-0.043850</td>\n",
              "      <td>0.123909</td>\n",
              "      <td>2.336768</td>\n",
              "      <td>0.693575</td>\n",
              "    </tr>\n",
              "    <tr>\n",
              "      <th>8</th>\n",
              "      <td>B</td>\n",
              "      <td>D</td>\n",
              "      <td>0.090474</td>\n",
              "      <td>0.006595</td>\n",
              "      <td>0.174353</td>\n",
              "      <td>5.281535</td>\n",
              "      <td>0.029851</td>\n",
              "    </tr>\n",
              "    <tr>\n",
              "      <th>9</th>\n",
              "      <td>B</td>\n",
              "      <td>E</td>\n",
              "      <td>0.346343</td>\n",
              "      <td>0.262464</td>\n",
              "      <td>0.430222</td>\n",
              "      <td>20.218141</td>\n",
              "      <td>0.001000</td>\n",
              "    </tr>\n",
              "    <tr>\n",
              "      <th>10</th>\n",
              "      <td>B</td>\n",
              "      <td>F</td>\n",
              "      <td>0.033132</td>\n",
              "      <td>-0.050748</td>\n",
              "      <td>0.117011</td>\n",
              "      <td>1.934089</td>\n",
              "      <td>0.844286</td>\n",
              "    </tr>\n",
              "    <tr>\n",
              "      <th>11</th>\n",
              "      <td>B</td>\n",
              "      <td>G</td>\n",
              "      <td>0.150818</td>\n",
              "      <td>0.066938</td>\n",
              "      <td>0.234697</td>\n",
              "      <td>8.804146</td>\n",
              "      <td>0.001000</td>\n",
              "    </tr>\n",
              "    <tr>\n",
              "      <th>12</th>\n",
              "      <td>B</td>\n",
              "      <td>H</td>\n",
              "      <td>0.164811</td>\n",
              "      <td>0.080932</td>\n",
              "      <td>0.248690</td>\n",
              "      <td>9.621026</td>\n",
              "      <td>0.001000</td>\n",
              "    </tr>\n",
              "    <tr>\n",
              "      <th>13</th>\n",
              "      <td>C</td>\n",
              "      <td>D</td>\n",
              "      <td>0.050445</td>\n",
              "      <td>-0.033434</td>\n",
              "      <td>0.134324</td>\n",
              "      <td>2.944767</td>\n",
              "      <td>0.465685</td>\n",
              "    </tr>\n",
              "    <tr>\n",
              "      <th>14</th>\n",
              "      <td>C</td>\n",
              "      <td>E</td>\n",
              "      <td>0.306313</td>\n",
              "      <td>0.222434</td>\n",
              "      <td>0.390192</td>\n",
              "      <td>17.881372</td>\n",
              "      <td>0.001000</td>\n",
              "    </tr>\n",
              "    <tr>\n",
              "      <th>15</th>\n",
              "      <td>C</td>\n",
              "      <td>F</td>\n",
              "      <td>0.006898</td>\n",
              "      <td>-0.076981</td>\n",
              "      <td>0.090777</td>\n",
              "      <td>0.402680</td>\n",
              "      <td>0.900000</td>\n",
              "    </tr>\n",
              "    <tr>\n",
              "      <th>16</th>\n",
              "      <td>C</td>\n",
              "      <td>G</td>\n",
              "      <td>0.110788</td>\n",
              "      <td>0.026909</td>\n",
              "      <td>0.194667</td>\n",
              "      <td>6.467377</td>\n",
              "      <td>0.005858</td>\n",
              "    </tr>\n",
              "    <tr>\n",
              "      <th>17</th>\n",
              "      <td>C</td>\n",
              "      <td>H</td>\n",
              "      <td>0.124781</td>\n",
              "      <td>0.040902</td>\n",
              "      <td>0.208661</td>\n",
              "      <td>7.284258</td>\n",
              "      <td>0.001916</td>\n",
              "    </tr>\n",
              "    <tr>\n",
              "      <th>18</th>\n",
              "      <td>D</td>\n",
              "      <td>E</td>\n",
              "      <td>0.255868</td>\n",
              "      <td>0.171989</td>\n",
              "      <td>0.339748</td>\n",
              "      <td>14.936605</td>\n",
              "      <td>0.001000</td>\n",
              "    </tr>\n",
              "    <tr>\n",
              "      <th>19</th>\n",
              "      <td>D</td>\n",
              "      <td>F</td>\n",
              "      <td>0.057343</td>\n",
              "      <td>-0.026536</td>\n",
              "      <td>0.141222</td>\n",
              "      <td>3.347447</td>\n",
              "      <td>0.318823</td>\n",
              "    </tr>\n",
              "    <tr>\n",
              "      <th>20</th>\n",
              "      <td>D</td>\n",
              "      <td>G</td>\n",
              "      <td>0.060343</td>\n",
              "      <td>-0.023536</td>\n",
              "      <td>0.144223</td>\n",
              "      <td>3.522610</td>\n",
              "      <td>0.266052</td>\n",
              "    </tr>\n",
              "    <tr>\n",
              "      <th>21</th>\n",
              "      <td>D</td>\n",
              "      <td>H</td>\n",
              "      <td>0.074337</td>\n",
              "      <td>-0.009542</td>\n",
              "      <td>0.158216</td>\n",
              "      <td>4.339491</td>\n",
              "      <td>0.102637</td>\n",
              "    </tr>\n",
              "    <tr>\n",
              "      <th>22</th>\n",
              "      <td>E</td>\n",
              "      <td>F</td>\n",
              "      <td>0.313211</td>\n",
              "      <td>0.229332</td>\n",
              "      <td>0.397090</td>\n",
              "      <td>18.284052</td>\n",
              "      <td>0.001000</td>\n",
              "    </tr>\n",
              "    <tr>\n",
              "      <th>23</th>\n",
              "      <td>E</td>\n",
              "      <td>G</td>\n",
              "      <td>0.195525</td>\n",
              "      <td>0.111646</td>\n",
              "      <td>0.279404</td>\n",
              "      <td>11.413995</td>\n",
              "      <td>0.001000</td>\n",
              "    </tr>\n",
              "    <tr>\n",
              "      <th>24</th>\n",
              "      <td>E</td>\n",
              "      <td>H</td>\n",
              "      <td>0.181532</td>\n",
              "      <td>0.097653</td>\n",
              "      <td>0.265411</td>\n",
              "      <td>10.597114</td>\n",
              "      <td>0.001000</td>\n",
              "    </tr>\n",
              "    <tr>\n",
              "      <th>25</th>\n",
              "      <td>F</td>\n",
              "      <td>G</td>\n",
              "      <td>0.117686</td>\n",
              "      <td>0.033807</td>\n",
              "      <td>0.201565</td>\n",
              "      <td>6.870057</td>\n",
              "      <td>0.003369</td>\n",
              "    </tr>\n",
              "    <tr>\n",
              "      <th>26</th>\n",
              "      <td>F</td>\n",
              "      <td>H</td>\n",
              "      <td>0.131680</td>\n",
              "      <td>0.047800</td>\n",
              "      <td>0.215559</td>\n",
              "      <td>7.686938</td>\n",
              "      <td>0.001112</td>\n",
              "    </tr>\n",
              "    <tr>\n",
              "      <th>27</th>\n",
              "      <td>G</td>\n",
              "      <td>H</td>\n",
              "      <td>0.013993</td>\n",
              "      <td>-0.069886</td>\n",
              "      <td>0.097873</td>\n",
              "      <td>0.816881</td>\n",
              "      <td>0.900000</td>\n",
              "    </tr>\n",
              "  </tbody>\n",
              "</table>\n",
              "</div>"
            ],
            "text/plain": [
              "   group1 group2      Diff     Lower     Upper    q-value   p-value\n",
              "0       A      B  0.064615 -0.019264  0.148495   3.771998  0.202264\n",
              "1       A      C  0.024586 -0.059293  0.108465   1.435229  0.900000\n",
              "2       A      D  0.025859 -0.058020  0.109738   1.509538  0.900000\n",
              "3       A      E  0.281727  0.197848  0.365606  16.446143  0.001000\n",
              "4       A      F  0.031484 -0.052395  0.115363   1.837909  0.880284\n",
              "5       A      G  0.086202  0.002323  0.170081   5.032148  0.041760\n",
              "6       A      H  0.100196  0.016316  0.184075   5.849029  0.013740\n",
              "7       B      C  0.040030 -0.043850  0.123909   2.336768  0.693575\n",
              "8       B      D  0.090474  0.006595  0.174353   5.281535  0.029851\n",
              "9       B      E  0.346343  0.262464  0.430222  20.218141  0.001000\n",
              "10      B      F  0.033132 -0.050748  0.117011   1.934089  0.844286\n",
              "11      B      G  0.150818  0.066938  0.234697   8.804146  0.001000\n",
              "12      B      H  0.164811  0.080932  0.248690   9.621026  0.001000\n",
              "13      C      D  0.050445 -0.033434  0.134324   2.944767  0.465685\n",
              "14      C      E  0.306313  0.222434  0.390192  17.881372  0.001000\n",
              "15      C      F  0.006898 -0.076981  0.090777   0.402680  0.900000\n",
              "16      C      G  0.110788  0.026909  0.194667   6.467377  0.005858\n",
              "17      C      H  0.124781  0.040902  0.208661   7.284258  0.001916\n",
              "18      D      E  0.255868  0.171989  0.339748  14.936605  0.001000\n",
              "19      D      F  0.057343 -0.026536  0.141222   3.347447  0.318823\n",
              "20      D      G  0.060343 -0.023536  0.144223   3.522610  0.266052\n",
              "21      D      H  0.074337 -0.009542  0.158216   4.339491  0.102637\n",
              "22      E      F  0.313211  0.229332  0.397090  18.284052  0.001000\n",
              "23      E      G  0.195525  0.111646  0.279404  11.413995  0.001000\n",
              "24      E      H  0.181532  0.097653  0.265411  10.597114  0.001000\n",
              "25      F      G  0.117686  0.033807  0.201565   6.870057  0.003369\n",
              "26      F      H  0.131680  0.047800  0.215559   7.686938  0.001112\n",
              "27      G      H  0.013993 -0.069886  0.097873   0.816881  0.900000"
            ]
          },
          "metadata": {
            "tags": []
          },
          "execution_count": 37
        }
      ]
    },
    {
      "cell_type": "code",
      "metadata": {
        "colab": {
          "base_uri": "https://localhost:8080/",
          "height": 279
        },
        "id": "wZHfR0W9QjYv",
        "outputId": "7de721de-8cd9-4d5c-dd5c-d6ef721e58e6"
      },
      "source": [
        "import statsmodels.api as sm\n",
        "import matplotlib.pyplot as plt\n",
        "# res.anova_std_residuals are standardized residuals obtained from ANOVA (check above)\n",
        "sm.qqplot(res.anova_std_residuals, line='45')\n",
        "plt.xlabel(\"Theoretical Quantiles\")\n",
        "plt.ylabel(\"Standardized Residuals\")\n",
        "plt.show()"
      ],
      "execution_count": 38,
      "outputs": [
        {
          "output_type": "display_data",
          "data": {
            "image/png": "[encoded data removed]",
            "text/plain": [
              "<Figure size 432x288 with 1 Axes>"
            ]
          },
          "metadata": {
            "tags": [],
            "needs_background": "light"
          }
        }
      ]
    },
    {
      "cell_type": "code",
      "metadata": {
        "colab": {
          "base_uri": "https://localhost:8080/",
          "height": 279
        },
        "id": "5voMxnIGQnGm",
        "outputId": "137f7856-3937-4130-e553-c092f15db00f"
      },
      "source": [
        "# histogram\n",
        "plt.hist(res.anova_model_out.resid, bins='auto', histtype='bar', ec='k') \n",
        "plt.xlabel(\"Residuals\")\n",
        "plt.ylabel('Frequency')\n",
        "plt.show()"
      ],
      "execution_count": 39,
      "outputs": [
        {
          "output_type": "display_data",
          "data": {
            "image/png": "[encoded data removed]",
            "text/plain": [
              "<Figure size 432x288 with 1 Axes>"
            ]
          },
          "metadata": {
            "tags": [],
            "needs_background": "light"
          }
        }
      ]
    },
    {
      "cell_type": "code",
      "metadata": {
        "colab": {
          "base_uri": "https://localhost:8080/"
        },
        "id": "8Y5rgHXwQrx_",
        "outputId": "76496f81-5145-4bf8-d83e-0bb9e0e9b966"
      },
      "source": [
        "import scipy.stats as stats\n",
        "w, pvalue = stats.shapiro(model.resid)\n",
        "print(w, pvalue)"
      ],
      "execution_count": 40,
      "outputs": [
        {
          "output_type": "stream",
          "text": [
            "0.9654399752616882 0.5568913221359253\n"
          ],
          "name": "stdout"
        }
      ]
    },
    {
      "cell_type": "code",
      "metadata": {
        "colab": {
          "base_uri": "https://localhost:8080/"
        },
        "id": "OBGQUluVQvkW",
        "outputId": "6d014156-011f-468e-af89-bea25fd95307"
      },
      "source": [
        "import scipy.stats as stats\n",
        "w, pvalue = stats.bartlett(df['A'], df['B'], df['C'], df['D'],df['E'],df['F'],df['G'],df['H'])\n",
        "print(w, pvalue)"
      ],
      "execution_count": 41,
      "outputs": [
        {
          "output_type": "stream",
          "text": [
            "10.296692982750253 0.17237430146987226\n"
          ],
          "name": "stdout"
        }
      ]
    },
    {
      "cell_type": "code",
      "metadata": {
        "colab": {
          "base_uri": "https://localhost:8080/",
          "height": 142
        },
        "id": "9YgMcnIsQzkY",
        "outputId": "0e53a7ce-7562-4c0f-aadc-97587bbb4ab9"
      },
      "source": [
        "# if you have a stacked table, you can use bioinfokit v1.0.3 or later for the bartlett's test\n",
        "from bioinfokit.analys import stat \n",
        "res = stat()\n",
        "res.bartlett(df=df_melt, res_var='value', xfac_var='treatments')\n",
        "res.bartlett_summary"
      ],
      "execution_count": 42,
      "outputs": [
        {
          "output_type": "execute_result",
          "data": {
            "text/html": [
              "<div>\n",
              "<style scoped>\n",
              "    .dataframe tbody tr th:only-of-type {\n",
              "        vertical-align: middle;\n",
              "    }\n",
              "\n",
              "    .dataframe tbody tr th {\n",
              "        vertical-align: top;\n",
              "    }\n",
              "\n",
              "    .dataframe thead th {\n",
              "        text-align: right;\n",
              "    }\n",
              "</style>\n",
              "<table border=\"1\" class=\"dataframe\">\n",
              "  <thead>\n",
              "    <tr style=\"text-align: right;\">\n",
              "      <th></th>\n",
              "      <th>Parameter</th>\n",
              "      <th>Value</th>\n",
              "    </tr>\n",
              "  </thead>\n",
              "  <tbody>\n",
              "    <tr>\n",
              "      <th>0</th>\n",
              "      <td>Test statistics (T)</td>\n",
              "      <td>10.2967</td>\n",
              "    </tr>\n",
              "    <tr>\n",
              "      <th>1</th>\n",
              "      <td>Degrees of freedom (Df)</td>\n",
              "      <td>7.0000</td>\n",
              "    </tr>\n",
              "    <tr>\n",
              "      <th>2</th>\n",
              "      <td>p value</td>\n",
              "      <td>0.1724</td>\n",
              "    </tr>\n",
              "  </tbody>\n",
              "</table>\n",
              "</div>"
            ],
            "text/plain": [
              "                 Parameter    Value\n",
              "0      Test statistics (T)  10.2967\n",
              "1  Degrees of freedom (Df)   7.0000\n",
              "2                  p value   0.1724"
            ]
          },
          "metadata": {
            "tags": []
          },
          "execution_count": 42
        }
      ]
    },
    {
      "cell_type": "code",
      "metadata": {
        "colab": {
          "base_uri": "https://localhost:8080/",
          "height": 142
        },
        "id": "ikyZCM1KQ8Jb",
        "outputId": "b24058ba-64b5-4e9b-b683-b66d7a846416"
      },
      "source": [
        "# if you have a stacked table, you can use bioinfokit v1.0.3 or later for the Levene's test\n",
        "from bioinfokit.analys import stat \n",
        "res = stat()\n",
        "res.levene(df=df_melt, res_var='value', xfac_var='treatments')\n",
        "res.levene_summary"
      ],
      "execution_count": 43,
      "outputs": [
        {
          "output_type": "execute_result",
          "data": {
            "text/html": [
              "<div>\n",
              "<style scoped>\n",
              "    .dataframe tbody tr th:only-of-type {\n",
              "        vertical-align: middle;\n",
              "    }\n",
              "\n",
              "    .dataframe tbody tr th {\n",
              "        vertical-align: top;\n",
              "    }\n",
              "\n",
              "    .dataframe thead th {\n",
              "        text-align: right;\n",
              "    }\n",
              "</style>\n",
              "<table border=\"1\" class=\"dataframe\">\n",
              "  <thead>\n",
              "    <tr style=\"text-align: right;\">\n",
              "      <th></th>\n",
              "      <th>Parameter</th>\n",
              "      <th>Value</th>\n",
              "    </tr>\n",
              "  </thead>\n",
              "  <tbody>\n",
              "    <tr>\n",
              "      <th>0</th>\n",
              "      <td>Test statistics (W)</td>\n",
              "      <td>0.8059</td>\n",
              "    </tr>\n",
              "    <tr>\n",
              "      <th>1</th>\n",
              "      <td>Degrees of freedom (Df)</td>\n",
              "      <td>7.0000</td>\n",
              "    </tr>\n",
              "    <tr>\n",
              "      <th>2</th>\n",
              "      <td>p value</td>\n",
              "      <td>0.5947</td>\n",
              "    </tr>\n",
              "  </tbody>\n",
              "</table>\n",
              "</div>"
            ],
            "text/plain": [
              "                 Parameter   Value\n",
              "0      Test statistics (W)  0.8059\n",
              "1  Degrees of freedom (Df)  7.0000\n",
              "2                  p value  0.5947"
            ]
          },
          "metadata": {
            "tags": []
          },
          "execution_count": 43
        }
      ]
    },
    {
      "cell_type": "code",
      "metadata": {
        "id": "chGeEs7YRBaX"
      },
      "source": [
        "import pandas as pd\n",
        "# load data file\n",
        "df = pd.read_csv(\"/content/ccaspase 3 actin RM.txt\", sep=\"\\t\")\n",
        "# reshape the d dataframe suitable for statsmodels package "
      ],
      "execution_count": 44,
      "outputs": []
    },
    {
      "cell_type": "code",
      "metadata": {
        "id": "Ouwb8crlR5E-"
      },
      "source": [
        "# reshape the d dataframe suitable for statsmodels package \n",
        "df_melt = pd.melt(df.reset_index(), id_vars=['index'], value_vars=['A', 'B', 'C', 'D','E','F','G','H'])\n",
        "# replace column names\n",
        "df_melt.columns = ['index', 'treatments', 'value']\n",
        "\n",
        "#A = vehicle\n",
        "#B = 0.01\n",
        "#C = 0.1\n",
        "#D= 0.5\n",
        "#E= 1\n",
        "#F= 5\n",
        "#G = 10\n",
        "#H = 50"
      ],
      "execution_count": 45,
      "outputs": []
    },
    {
      "cell_type": "code",
      "metadata": {
        "colab": {
          "base_uri": "https://localhost:8080/",
          "height": 279
        },
        "id": "ppjT3lxVR9dW",
        "outputId": "baa8422e-7b69-46bb-9639-3717b8c3b13e"
      },
      "source": [
        "import matplotlib.pyplot as plt\n",
        "import seaborn as sns\n",
        "ax = sns.boxplot(x='treatments', y='value', data=df_melt, color='#99c2a2')\n",
        "ax = sns.swarmplot(x=\"treatments\", y=\"value\", data=df_melt, color='#7d0013')\n",
        "plt.show()"
      ],
      "execution_count": 46,
      "outputs": [
        {
          "output_type": "display_data",
          "data": {
            "image/png": "[encoded data removed]",
            "text/plain": [
              "<Figure size 432x288 with 1 Axes>"
            ]
          },
          "metadata": {
            "tags": [],
            "needs_background": "light"
          }
        }
      ]
    },
    {
      "cell_type": "code",
      "metadata": {
        "colab": {
          "base_uri": "https://localhost:8080/"
        },
        "id": "5xsA8iIvSCPO",
        "outputId": "853a0539-a46a-40d8-eb28-e18757bf3808"
      },
      "source": [
        "import scipy.stats as stats\n",
        "# stats f_oneway functions takes the groups as input and returns ANOVA F and p value\n",
        "fvalue, pvalue = stats.f_oneway(df['A'], df['B'], df['C'], df['D'],df['E'],df['F'],df['G'],df['H'])\n",
        "print(fvalue, pvalue)"
      ],
      "execution_count": 47,
      "outputs": [
        {
          "output_type": "stream",
          "text": [
            "30.909180839515802 3.8326815726051086e-08\n"
          ],
          "name": "stdout"
        }
      ]
    },
    {
      "cell_type": "code",
      "metadata": {
        "id": "-jBTmTNgSGLG"
      },
      "source": [
        "import statsmodels.api as sm\n",
        "from statsmodels.formula.api import ols"
      ],
      "execution_count": 48,
      "outputs": []
    },
    {
      "cell_type": "code",
      "metadata": {
        "colab": {
          "base_uri": "https://localhost:8080/",
          "height": 111
        },
        "id": "Xlrwp2KsSJPi",
        "outputId": "d1eec9bb-26eb-4b96-aefd-dd1941ab119f"
      },
      "source": [
        "model = ols('value ~ C(treatments)', data=df_melt).fit()\n",
        "anova_table = sm.stats.anova_lm(model, typ=2)\n",
        "anova_table"
      ],
      "execution_count": 49,
      "outputs": [
        {
          "output_type": "execute_result",
          "data": {
            "text/html": [
              "<div>\n",
              "<style scoped>\n",
              "    .dataframe tbody tr th:only-of-type {\n",
              "        vertical-align: middle;\n",
              "    }\n",
              "\n",
              "    .dataframe tbody tr th {\n",
              "        vertical-align: top;\n",
              "    }\n",
              "\n",
              "    .dataframe thead th {\n",
              "        text-align: right;\n",
              "    }\n",
              "</style>\n",
              "<table border=\"1\" class=\"dataframe\">\n",
              "  <thead>\n",
              "    <tr style=\"text-align: right;\">\n",
              "      <th></th>\n",
              "      <th>sum_sq</th>\n",
              "      <th>df</th>\n",
              "      <th>F</th>\n",
              "      <th>PR(&gt;F)</th>\n",
              "    </tr>\n",
              "  </thead>\n",
              "  <tbody>\n",
              "    <tr>\n",
              "      <th>C(treatments)</th>\n",
              "      <td>0.350174</td>\n",
              "      <td>7.0</td>\n",
              "      <td>30.909181</td>\n",
              "      <td>3.832682e-08</td>\n",
              "    </tr>\n",
              "    <tr>\n",
              "      <th>Residual</th>\n",
              "      <td>0.025895</td>\n",
              "      <td>16.0</td>\n",
              "      <td>NaN</td>\n",
              "      <td>NaN</td>\n",
              "    </tr>\n",
              "  </tbody>\n",
              "</table>\n",
              "</div>"
            ],
            "text/plain": [
              "                 sum_sq    df          F        PR(>F)\n",
              "C(treatments)  0.350174   7.0  30.909181  3.832682e-08\n",
              "Residual       0.025895  16.0        NaN           NaN"
            ]
          },
          "metadata": {
            "tags": []
          },
          "execution_count": 49
        }
      ]
    },
    {
      "cell_type": "code",
      "metadata": {
        "colab": {
          "base_uri": "https://localhost:8080/"
        },
        "id": "5s3Dqpt3SL92",
        "outputId": "20ef0f1d-11a9-4373-ab2e-541025daff29"
      },
      "source": [
        "pip install bioinfokit"
      ],
      "execution_count": 50,
      "outputs": [
        {
          "output_type": "stream",
          "text": [
            "Requirement already satisfied: bioinfokit in /usr/local/lib/python3.7/dist-packages (2.0.4)\n",
            "Requirement already satisfied: matplotlib-venn in /usr/local/lib/python3.7/dist-packages (from bioinfokit) (0.11.6)\n",
            "Requirement already satisfied: scipy in /usr/local/lib/python3.7/dist-packages (from bioinfokit) (1.4.1)\n",
            "Requirement already satisfied: statsmodels in /usr/local/lib/python3.7/dist-packages (from bioinfokit) (0.10.2)\n",
            "Requirement already satisfied: numpy in /usr/local/lib/python3.7/dist-packages (from bioinfokit) (1.19.5)\n",
            "Requirement already satisfied: textwrap3 in /usr/local/lib/python3.7/dist-packages (from bioinfokit) (0.9.2)\n",
            "Requirement already satisfied: scikit-learn in /usr/local/lib/python3.7/dist-packages (from bioinfokit) (0.22.2.post1)\n",
            "Requirement already satisfied: seaborn in /usr/local/lib/python3.7/dist-packages (from bioinfokit) (0.11.1)\n",
            "Requirement already satisfied: tabulate in /usr/local/lib/python3.7/dist-packages (from bioinfokit) (0.8.9)\n",
            "Requirement already satisfied: pandas in /usr/local/lib/python3.7/dist-packages (from bioinfokit) (1.1.5)\n",
            "Requirement already satisfied: adjustText in /usr/local/lib/python3.7/dist-packages (from bioinfokit) (0.7.3)\n",
            "Requirement already satisfied: matplotlib in /usr/local/lib/python3.7/dist-packages (from bioinfokit) (3.2.2)\n",
            "Requirement already satisfied: patsy>=0.4.0 in /usr/local/lib/python3.7/dist-packages (from statsmodels->bioinfokit) (0.5.1)\n",
            "Requirement already satisfied: joblib>=0.11 in /usr/local/lib/python3.7/dist-packages (from scikit-learn->bioinfokit) (1.0.1)\n",
            "Requirement already satisfied: pytz>=2017.2 in /usr/local/lib/python3.7/dist-packages (from pandas->bioinfokit) (2018.9)\n",
            "Requirement already satisfied: python-dateutil>=2.7.3 in /usr/local/lib/python3.7/dist-packages (from pandas->bioinfokit) (2.8.1)\n",
            "Requirement already satisfied: pyparsing!=2.0.4,!=2.1.2,!=2.1.6,>=2.0.1 in /usr/local/lib/python3.7/dist-packages (from matplotlib->bioinfokit) (2.4.7)\n",
            "Requirement already satisfied: kiwisolver>=1.0.1 in /usr/local/lib/python3.7/dist-packages (from matplotlib->bioinfokit) (1.3.1)\n",
            "Requirement already satisfied: cycler>=0.10 in /usr/local/lib/python3.7/dist-packages (from matplotlib->bioinfokit) (0.10.0)\n",
            "Requirement already satisfied: six in /usr/local/lib/python3.7/dist-packages (from patsy>=0.4.0->statsmodels->bioinfokit) (1.15.0)\n"
          ],
          "name": "stdout"
        }
      ]
    },
    {
      "cell_type": "code",
      "metadata": {
        "colab": {
          "base_uri": "https://localhost:8080/",
          "height": 917
        },
        "id": "O1sXkPZJSPo2",
        "outputId": "558847ab-e1c4-4f0a-ded9-2bea7440fecf"
      },
      "source": [
        "# we will use bioinfokit (v1.0.3 or later) for performing tukey HSD test\n",
        "# check documentation here https://github.com/reneshbedre/bioinfokit\n",
        "from bioinfokit.analys import stat\n",
        "# perform multiple pairwise comparison (Tukey's HSD)\n",
        "# unequal sample size data, tukey_hsd uses Tukey-Kramer test\n",
        "res = stat()\n",
        "res.tukey_hsd(df=df_melt, res_var='value', xfac_var='treatments', anova_model='value ~ C(treatments)')\n",
        "res.tukey_summary"
      ],
      "execution_count": 51,
      "outputs": [
        {
          "output_type": "execute_result",
          "data": {
            "text/html": [
              "<div>\n",
              "<style scoped>\n",
              "    .dataframe tbody tr th:only-of-type {\n",
              "        vertical-align: middle;\n",
              "    }\n",
              "\n",
              "    .dataframe tbody tr th {\n",
              "        vertical-align: top;\n",
              "    }\n",
              "\n",
              "    .dataframe thead th {\n",
              "        text-align: right;\n",
              "    }\n",
              "</style>\n",
              "<table border=\"1\" class=\"dataframe\">\n",
              "  <thead>\n",
              "    <tr style=\"text-align: right;\">\n",
              "      <th></th>\n",
              "      <th>group1</th>\n",
              "      <th>group2</th>\n",
              "      <th>Diff</th>\n",
              "      <th>Lower</th>\n",
              "      <th>Upper</th>\n",
              "      <th>q-value</th>\n",
              "      <th>p-value</th>\n",
              "    </tr>\n",
              "  </thead>\n",
              "  <tbody>\n",
              "    <tr>\n",
              "      <th>0</th>\n",
              "      <td>A</td>\n",
              "      <td>B</td>\n",
              "      <td>0.097636</td>\n",
              "      <td>-0.016095</td>\n",
              "      <td>0.211367</td>\n",
              "      <td>4.203600</td>\n",
              "      <td>0.121666</td>\n",
              "    </tr>\n",
              "    <tr>\n",
              "      <th>1</th>\n",
              "      <td>A</td>\n",
              "      <td>C</td>\n",
              "      <td>0.060953</td>\n",
              "      <td>-0.052778</td>\n",
              "      <td>0.174683</td>\n",
              "      <td>2.624242</td>\n",
              "      <td>0.585983</td>\n",
              "    </tr>\n",
              "    <tr>\n",
              "      <th>2</th>\n",
              "      <td>A</td>\n",
              "      <td>D</td>\n",
              "      <td>0.068836</td>\n",
              "      <td>-0.044895</td>\n",
              "      <td>0.182567</td>\n",
              "      <td>2.963660</td>\n",
              "      <td>0.458469</td>\n",
              "    </tr>\n",
              "    <tr>\n",
              "      <th>3</th>\n",
              "      <td>A</td>\n",
              "      <td>E</td>\n",
              "      <td>0.236627</td>\n",
              "      <td>0.122897</td>\n",
              "      <td>0.350358</td>\n",
              "      <td>10.187702</td>\n",
              "      <td>0.001000</td>\n",
              "    </tr>\n",
              "    <tr>\n",
              "      <th>4</th>\n",
              "      <td>A</td>\n",
              "      <td>F</td>\n",
              "      <td>0.065281</td>\n",
              "      <td>-0.048449</td>\n",
              "      <td>0.179012</td>\n",
              "      <td>2.810614</td>\n",
              "      <td>0.516228</td>\n",
              "    </tr>\n",
              "    <tr>\n",
              "      <th>5</th>\n",
              "      <td>A</td>\n",
              "      <td>G</td>\n",
              "      <td>0.164536</td>\n",
              "      <td>0.050805</td>\n",
              "      <td>0.278267</td>\n",
              "      <td>7.083901</td>\n",
              "      <td>0.002514</td>\n",
              "    </tr>\n",
              "    <tr>\n",
              "      <th>6</th>\n",
              "      <td>A</td>\n",
              "      <td>H</td>\n",
              "      <td>0.137816</td>\n",
              "      <td>0.024085</td>\n",
              "      <td>0.251547</td>\n",
              "      <td>5.933512</td>\n",
              "      <td>0.012232</td>\n",
              "    </tr>\n",
              "    <tr>\n",
              "      <th>7</th>\n",
              "      <td>B</td>\n",
              "      <td>C</td>\n",
              "      <td>0.036683</td>\n",
              "      <td>-0.077047</td>\n",
              "      <td>0.150414</td>\n",
              "      <td>1.579359</td>\n",
              "      <td>0.900000</td>\n",
              "    </tr>\n",
              "    <tr>\n",
              "      <th>8</th>\n",
              "      <td>B</td>\n",
              "      <td>D</td>\n",
              "      <td>0.028800</td>\n",
              "      <td>-0.084931</td>\n",
              "      <td>0.142531</td>\n",
              "      <td>1.239940</td>\n",
              "      <td>0.900000</td>\n",
              "    </tr>\n",
              "    <tr>\n",
              "      <th>9</th>\n",
              "      <td>B</td>\n",
              "      <td>E</td>\n",
              "      <td>0.334263</td>\n",
              "      <td>0.220533</td>\n",
              "      <td>0.447994</td>\n",
              "      <td>14.391302</td>\n",
              "      <td>0.001000</td>\n",
              "    </tr>\n",
              "    <tr>\n",
              "      <th>10</th>\n",
              "      <td>B</td>\n",
              "      <td>F</td>\n",
              "      <td>0.032355</td>\n",
              "      <td>-0.081376</td>\n",
              "      <td>0.146085</td>\n",
              "      <td>1.392987</td>\n",
              "      <td>0.900000</td>\n",
              "    </tr>\n",
              "    <tr>\n",
              "      <th>11</th>\n",
              "      <td>B</td>\n",
              "      <td>G</td>\n",
              "      <td>0.262172</td>\n",
              "      <td>0.148441</td>\n",
              "      <td>0.375903</td>\n",
              "      <td>11.287502</td>\n",
              "      <td>0.001000</td>\n",
              "    </tr>\n",
              "    <tr>\n",
              "      <th>12</th>\n",
              "      <td>B</td>\n",
              "      <td>H</td>\n",
              "      <td>0.235452</td>\n",
              "      <td>0.121722</td>\n",
              "      <td>0.349183</td>\n",
              "      <td>10.137112</td>\n",
              "      <td>0.001000</td>\n",
              "    </tr>\n",
              "    <tr>\n",
              "      <th>13</th>\n",
              "      <td>C</td>\n",
              "      <td>D</td>\n",
              "      <td>0.007884</td>\n",
              "      <td>-0.105847</td>\n",
              "      <td>0.121614</td>\n",
              "      <td>0.339418</td>\n",
              "      <td>0.900000</td>\n",
              "    </tr>\n",
              "    <tr>\n",
              "      <th>14</th>\n",
              "      <td>C</td>\n",
              "      <td>E</td>\n",
              "      <td>0.297580</td>\n",
              "      <td>0.183849</td>\n",
              "      <td>0.411311</td>\n",
              "      <td>12.811943</td>\n",
              "      <td>0.001000</td>\n",
              "    </tr>\n",
              "    <tr>\n",
              "      <th>15</th>\n",
              "      <td>C</td>\n",
              "      <td>F</td>\n",
              "      <td>0.004329</td>\n",
              "      <td>-0.109402</td>\n",
              "      <td>0.118060</td>\n",
              "      <td>0.186372</td>\n",
              "      <td>0.900000</td>\n",
              "    </tr>\n",
              "    <tr>\n",
              "      <th>16</th>\n",
              "      <td>C</td>\n",
              "      <td>G</td>\n",
              "      <td>0.225489</td>\n",
              "      <td>0.111758</td>\n",
              "      <td>0.339219</td>\n",
              "      <td>9.708143</td>\n",
              "      <td>0.001000</td>\n",
              "    </tr>\n",
              "    <tr>\n",
              "      <th>17</th>\n",
              "      <td>C</td>\n",
              "      <td>H</td>\n",
              "      <td>0.198769</td>\n",
              "      <td>0.085038</td>\n",
              "      <td>0.312500</td>\n",
              "      <td>8.557753</td>\n",
              "      <td>0.001000</td>\n",
              "    </tr>\n",
              "    <tr>\n",
              "      <th>18</th>\n",
              "      <td>D</td>\n",
              "      <td>E</td>\n",
              "      <td>0.305464</td>\n",
              "      <td>0.191733</td>\n",
              "      <td>0.419194</td>\n",
              "      <td>13.151362</td>\n",
              "      <td>0.001000</td>\n",
              "    </tr>\n",
              "    <tr>\n",
              "      <th>19</th>\n",
              "      <td>D</td>\n",
              "      <td>F</td>\n",
              "      <td>0.003555</td>\n",
              "      <td>-0.110176</td>\n",
              "      <td>0.117286</td>\n",
              "      <td>0.153047</td>\n",
              "      <td>0.900000</td>\n",
              "    </tr>\n",
              "    <tr>\n",
              "      <th>20</th>\n",
              "      <td>D</td>\n",
              "      <td>G</td>\n",
              "      <td>0.233372</td>\n",
              "      <td>0.119642</td>\n",
              "      <td>0.347103</td>\n",
              "      <td>10.047561</td>\n",
              "      <td>0.001000</td>\n",
              "    </tr>\n",
              "    <tr>\n",
              "      <th>21</th>\n",
              "      <td>D</td>\n",
              "      <td>H</td>\n",
              "      <td>0.206652</td>\n",
              "      <td>0.092922</td>\n",
              "      <td>0.320383</td>\n",
              "      <td>8.897172</td>\n",
              "      <td>0.001000</td>\n",
              "    </tr>\n",
              "    <tr>\n",
              "      <th>22</th>\n",
              "      <td>E</td>\n",
              "      <td>F</td>\n",
              "      <td>0.301909</td>\n",
              "      <td>0.188178</td>\n",
              "      <td>0.415640</td>\n",
              "      <td>12.998315</td>\n",
              "      <td>0.001000</td>\n",
              "    </tr>\n",
              "    <tr>\n",
              "      <th>23</th>\n",
              "      <td>E</td>\n",
              "      <td>G</td>\n",
              "      <td>0.072091</td>\n",
              "      <td>-0.041640</td>\n",
              "      <td>0.185822</td>\n",
              "      <td>3.103800</td>\n",
              "      <td>0.405072</td>\n",
              "    </tr>\n",
              "    <tr>\n",
              "      <th>24</th>\n",
              "      <td>E</td>\n",
              "      <td>H</td>\n",
              "      <td>0.098811</td>\n",
              "      <td>-0.014920</td>\n",
              "      <td>0.212542</td>\n",
              "      <td>4.254190</td>\n",
              "      <td>0.114260</td>\n",
              "    </tr>\n",
              "    <tr>\n",
              "      <th>25</th>\n",
              "      <td>F</td>\n",
              "      <td>G</td>\n",
              "      <td>0.229818</td>\n",
              "      <td>0.116087</td>\n",
              "      <td>0.343548</td>\n",
              "      <td>9.894515</td>\n",
              "      <td>0.001000</td>\n",
              "    </tr>\n",
              "    <tr>\n",
              "      <th>26</th>\n",
              "      <td>F</td>\n",
              "      <td>H</td>\n",
              "      <td>0.203098</td>\n",
              "      <td>0.089367</td>\n",
              "      <td>0.316828</td>\n",
              "      <td>8.744125</td>\n",
              "      <td>0.001000</td>\n",
              "    </tr>\n",
              "    <tr>\n",
              "      <th>27</th>\n",
              "      <td>G</td>\n",
              "      <td>H</td>\n",
              "      <td>0.026720</td>\n",
              "      <td>-0.087011</td>\n",
              "      <td>0.140451</td>\n",
              "      <td>1.150390</td>\n",
              "      <td>0.900000</td>\n",
              "    </tr>\n",
              "  </tbody>\n",
              "</table>\n",
              "</div>"
            ],
            "text/plain": [
              "   group1 group2      Diff     Lower     Upper    q-value   p-value\n",
              "0       A      B  0.097636 -0.016095  0.211367   4.203600  0.121666\n",
              "1       A      C  0.060953 -0.052778  0.174683   2.624242  0.585983\n",
              "2       A      D  0.068836 -0.044895  0.182567   2.963660  0.458469\n",
              "3       A      E  0.236627  0.122897  0.350358  10.187702  0.001000\n",
              "4       A      F  0.065281 -0.048449  0.179012   2.810614  0.516228\n",
              "5       A      G  0.164536  0.050805  0.278267   7.083901  0.002514\n",
              "6       A      H  0.137816  0.024085  0.251547   5.933512  0.012232\n",
              "7       B      C  0.036683 -0.077047  0.150414   1.579359  0.900000\n",
              "8       B      D  0.028800 -0.084931  0.142531   1.239940  0.900000\n",
              "9       B      E  0.334263  0.220533  0.447994  14.391302  0.001000\n",
              "10      B      F  0.032355 -0.081376  0.146085   1.392987  0.900000\n",
              "11      B      G  0.262172  0.148441  0.375903  11.287502  0.001000\n",
              "12      B      H  0.235452  0.121722  0.349183  10.137112  0.001000\n",
              "13      C      D  0.007884 -0.105847  0.121614   0.339418  0.900000\n",
              "14      C      E  0.297580  0.183849  0.411311  12.811943  0.001000\n",
              "15      C      F  0.004329 -0.109402  0.118060   0.186372  0.900000\n",
              "16      C      G  0.225489  0.111758  0.339219   9.708143  0.001000\n",
              "17      C      H  0.198769  0.085038  0.312500   8.557753  0.001000\n",
              "18      D      E  0.305464  0.191733  0.419194  13.151362  0.001000\n",
              "19      D      F  0.003555 -0.110176  0.117286   0.153047  0.900000\n",
              "20      D      G  0.233372  0.119642  0.347103  10.047561  0.001000\n",
              "21      D      H  0.206652  0.092922  0.320383   8.897172  0.001000\n",
              "22      E      F  0.301909  0.188178  0.415640  12.998315  0.001000\n",
              "23      E      G  0.072091 -0.041640  0.185822   3.103800  0.405072\n",
              "24      E      H  0.098811 -0.014920  0.212542   4.254190  0.114260\n",
              "25      F      G  0.229818  0.116087  0.343548   9.894515  0.001000\n",
              "26      F      H  0.203098  0.089367  0.316828   8.744125  0.001000\n",
              "27      G      H  0.026720 -0.087011  0.140451   1.150390  0.900000"
            ]
          },
          "metadata": {
            "tags": []
          },
          "execution_count": 51
        }
      ]
    },
    {
      "cell_type": "code",
      "metadata": {
        "colab": {
          "base_uri": "https://localhost:8080/",
          "height": 279
        },
        "id": "jIDs8Yp7SSYW",
        "outputId": "c304cb7e-d779-48f2-82e9-448e6e226e54"
      },
      "source": [
        "import statsmodels.api as sm\n",
        "import matplotlib.pyplot as plt\n",
        "# res.anova_std_residuals are standardized residuals obtained from ANOVA (check above)\n",
        "sm.qqplot(res.anova_std_residuals, line='45')\n",
        "plt.xlabel(\"Theoretical Quantiles\")\n",
        "plt.ylabel(\"Standardized Residuals\")\n",
        "plt.show()"
      ],
      "execution_count": 52,
      "outputs": [
        {
          "output_type": "display_data",
          "data": {
            "image/png": "[encoded data removed]",
            "text/plain": [
              "<Figure size 432x288 with 1 Axes>"
            ]
          },
          "metadata": {
            "tags": [],
            "needs_background": "light"
          }
        }
      ]
    },
    {
      "cell_type": "code",
      "metadata": {
        "colab": {
          "base_uri": "https://localhost:8080/",
          "height": 279
        },
        "id": "fljMmwzOSV_m",
        "outputId": "522d34b0-08f8-4714-ba1e-c9fccb9fa0a1"
      },
      "source": [
        "# histogram\n",
        "plt.hist(res.anova_model_out.resid, bins='auto', histtype='bar', ec='k') \n",
        "plt.xlabel(\"Residuals\")\n",
        "plt.ylabel('Frequency')\n",
        "plt.show()"
      ],
      "execution_count": 53,
      "outputs": [
        {
          "output_type": "display_data",
          "data": {
            "image/png": "[encoded data removed]",
            "text/plain": [
              "<Figure size 432x288 with 1 Axes>"
            ]
          },
          "metadata": {
            "tags": [],
            "needs_background": "light"
          }
        }
      ]
    },
    {
      "cell_type": "code",
      "metadata": {
        "colab": {
          "base_uri": "https://localhost:8080/"
        },
        "id": "1ukaFZC7SZ1P",
        "outputId": "fb75a82f-cf9e-4760-a5e9-a05ed97ef7f4"
      },
      "source": [
        "import scipy.stats as stats\n",
        "w, pvalue = stats.shapiro(model.resid)\n",
        "print(w, pvalue)"
      ],
      "execution_count": 54,
      "outputs": [
        {
          "output_type": "stream",
          "text": [
            "0.9486612677574158 0.2534013092517853\n"
          ],
          "name": "stdout"
        }
      ]
    },
    {
      "cell_type": "code",
      "metadata": {
        "colab": {
          "base_uri": "https://localhost:8080/"
        },
        "id": "xEsV2qkZSfPP",
        "outputId": "210738c3-374e-4f21-c503-3b2f2e6de210"
      },
      "source": [
        "import scipy.stats as stats\n",
        "w, pvalue = stats.bartlett(df['A'], df['B'], df['C'], df['D'],df['E'],df['F'],df['G'],df['H'])\n",
        "print(w, pvalue)"
      ],
      "execution_count": 55,
      "outputs": [
        {
          "output_type": "stream",
          "text": [
            "10.353851442332992 0.1693920018707832\n"
          ],
          "name": "stdout"
        }
      ]
    },
    {
      "cell_type": "code",
      "metadata": {
        "colab": {
          "base_uri": "https://localhost:8080/",
          "height": 142
        },
        "id": "aAcAhY-ZSihn",
        "outputId": "291d259c-96c1-4e4d-9a70-03b0e15eb547"
      },
      "source": [
        "# if you have a stacked table, you can use bioinfokit v1.0.3 or later for the bartlett's test\n",
        "from bioinfokit.analys import stat \n",
        "res = stat()\n",
        "res.bartlett(df=df_melt, res_var='value', xfac_var='treatments')\n",
        "res.bartlett_summary"
      ],
      "execution_count": 56,
      "outputs": [
        {
          "output_type": "execute_result",
          "data": {
            "text/html": [
              "<div>\n",
              "<style scoped>\n",
              "    .dataframe tbody tr th:only-of-type {\n",
              "        vertical-align: middle;\n",
              "    }\n",
              "\n",
              "    .dataframe tbody tr th {\n",
              "        vertical-align: top;\n",
              "    }\n",
              "\n",
              "    .dataframe thead th {\n",
              "        text-align: right;\n",
              "    }\n",
              "</style>\n",
              "<table border=\"1\" class=\"dataframe\">\n",
              "  <thead>\n",
              "    <tr style=\"text-align: right;\">\n",
              "      <th></th>\n",
              "      <th>Parameter</th>\n",
              "      <th>Value</th>\n",
              "    </tr>\n",
              "  </thead>\n",
              "  <tbody>\n",
              "    <tr>\n",
              "      <th>0</th>\n",
              "      <td>Test statistics (T)</td>\n",
              "      <td>10.3539</td>\n",
              "    </tr>\n",
              "    <tr>\n",
              "      <th>1</th>\n",
              "      <td>Degrees of freedom (Df)</td>\n",
              "      <td>7.0000</td>\n",
              "    </tr>\n",
              "    <tr>\n",
              "      <th>2</th>\n",
              "      <td>p value</td>\n",
              "      <td>0.1694</td>\n",
              "    </tr>\n",
              "  </tbody>\n",
              "</table>\n",
              "</div>"
            ],
            "text/plain": [
              "                 Parameter    Value\n",
              "0      Test statistics (T)  10.3539\n",
              "1  Degrees of freedom (Df)   7.0000\n",
              "2                  p value   0.1694"
            ]
          },
          "metadata": {
            "tags": []
          },
          "execution_count": 56
        }
      ]
    },
    {
      "cell_type": "code",
      "metadata": {
        "colab": {
          "base_uri": "https://localhost:8080/",
          "height": 142
        },
        "id": "NBhIIO_7Sl4f",
        "outputId": "0ba17366-f84c-4420-cc7c-da9543c5983d"
      },
      "source": [
        "# if you have a stacked table, you can use bioinfokit v1.0.3 or later for the Levene's test\n",
        "from bioinfokit.analys import stat \n",
        "res = stat()\n",
        "res.levene(df=df_melt, res_var='value', xfac_var='treatments')\n",
        "res.levene_summary"
      ],
      "execution_count": 57,
      "outputs": [
        {
          "output_type": "execute_result",
          "data": {
            "text/html": [
              "<div>\n",
              "<style scoped>\n",
              "    .dataframe tbody tr th:only-of-type {\n",
              "        vertical-align: middle;\n",
              "    }\n",
              "\n",
              "    .dataframe tbody tr th {\n",
              "        vertical-align: top;\n",
              "    }\n",
              "\n",
              "    .dataframe thead th {\n",
              "        text-align: right;\n",
              "    }\n",
              "</style>\n",
              "<table border=\"1\" class=\"dataframe\">\n",
              "  <thead>\n",
              "    <tr style=\"text-align: right;\">\n",
              "      <th></th>\n",
              "      <th>Parameter</th>\n",
              "      <th>Value</th>\n",
              "    </tr>\n",
              "  </thead>\n",
              "  <tbody>\n",
              "    <tr>\n",
              "      <th>0</th>\n",
              "      <td>Test statistics (W)</td>\n",
              "      <td>0.6496</td>\n",
              "    </tr>\n",
              "    <tr>\n",
              "      <th>1</th>\n",
              "      <td>Degrees of freedom (Df)</td>\n",
              "      <td>7.0000</td>\n",
              "    </tr>\n",
              "    <tr>\n",
              "      <th>2</th>\n",
              "      <td>p value</td>\n",
              "      <td>0.7099</td>\n",
              "    </tr>\n",
              "  </tbody>\n",
              "</table>\n",
              "</div>"
            ],
            "text/plain": [
              "                 Parameter   Value\n",
              "0      Test statistics (W)  0.6496\n",
              "1  Degrees of freedom (Df)  7.0000\n",
              "2                  p value  0.7099"
            ]
          },
          "metadata": {
            "tags": []
          },
          "execution_count": 57
        }
      ]
    },
    {
      "cell_type": "code",
      "metadata": {
        "id": "w-Zgk9M2SntP"
      },
      "source": [
        "import pandas as pd\n",
        "# load data file\n",
        "df = pd.read_csv(\"/content/totalcaspase3actin RMani.txt\", sep=\"\\t\")\n",
        "# reshape the d dataframe suitable for statsmodels package "
      ],
      "execution_count": 60,
      "outputs": []
    },
    {
      "cell_type": "code",
      "metadata": {
        "id": "b1PknIQ9S1sK"
      },
      "source": [
        "# reshape the d dataframe suitable for statsmodels package \n",
        "df_melt = pd.melt(df.reset_index(), id_vars=['index'], value_vars=['A', 'B', 'C', 'D','E','F','G','H'])\n",
        "# replace column names\n",
        "df_melt.columns = ['index', 'treatments', 'value']\n",
        "\n",
        "#A = vehicle\n",
        "#B = 0.01\n",
        "#C = 0.1\n",
        "#D= 0.5\n",
        "#E= 1\n",
        "#F= 5\n",
        "#G = 10\n",
        "#H = 50"
      ],
      "execution_count": 61,
      "outputs": []
    },
    {
      "cell_type": "code",
      "metadata": {
        "colab": {
          "base_uri": "https://localhost:8080/",
          "height": 279
        },
        "id": "f293RkpQS5LW",
        "outputId": "76e80697-6446-4a9e-e519-e2501acd890f"
      },
      "source": [
        "import matplotlib.pyplot as plt\n",
        "import seaborn as sns\n",
        "ax = sns.boxplot(x='treatments', y='value', data=df_melt, color='#99c2a2')\n",
        "ax = sns.swarmplot(x=\"treatments\", y=\"value\", data=df_melt, color='#7d0013')\n",
        "plt.show()"
      ],
      "execution_count": 62,
      "outputs": [
        {
          "output_type": "display_data",
          "data": {
            "image/png": "[encoded data removed]",
            "text/plain": [
              "<Figure size 432x288 with 1 Axes>"
            ]
          },
          "metadata": {
            "tags": [],
            "needs_background": "light"
          }
        }
      ]
    },
    {
      "cell_type": "code",
      "metadata": {
        "colab": {
          "base_uri": "https://localhost:8080/"
        },
        "id": "9vz2eV_PTGr3",
        "outputId": "2a4fdb10-0d36-4696-e70d-84e4e9419bba"
      },
      "source": [
        "import scipy.stats as stats\n",
        "# stats f_oneway functions takes the groups as input and returns ANOVA F and p value\n",
        "fvalue, pvalue = stats.f_oneway(df['A'], df['B'], df['C'], df['D'],df['E'],df['F'],df['G'],df['H'])\n",
        "print(fvalue, pvalue)"
      ],
      "execution_count": 63,
      "outputs": [
        {
          "output_type": "stream",
          "text": [
            "4.127841709699837 0.008962089394619841\n"
          ],
          "name": "stdout"
        }
      ]
    },
    {
      "cell_type": "code",
      "metadata": {
        "id": "3SOsSQMXTJ0G"
      },
      "source": [
        "import statsmodels.api as sm\n",
        "from statsmodels.formula.api import ols"
      ],
      "execution_count": 64,
      "outputs": []
    },
    {
      "cell_type": "code",
      "metadata": {
        "colab": {
          "base_uri": "https://localhost:8080/",
          "height": 111
        },
        "id": "BSZSMH81TM9w",
        "outputId": "0a7bb60c-a457-4edf-cbab-ecd47fb5ee80"
      },
      "source": [
        "model = ols('value ~ C(treatments)', data=df_melt).fit()\n",
        "anova_table = sm.stats.anova_lm(model, typ=2)\n",
        "anova_table"
      ],
      "execution_count": 65,
      "outputs": [
        {
          "output_type": "execute_result",
          "data": {
            "text/html": [
              "<div>\n",
              "<style scoped>\n",
              "    .dataframe tbody tr th:only-of-type {\n",
              "        vertical-align: middle;\n",
              "    }\n",
              "\n",
              "    .dataframe tbody tr th {\n",
              "        vertical-align: top;\n",
              "    }\n",
              "\n",
              "    .dataframe thead th {\n",
              "        text-align: right;\n",
              "    }\n",
              "</style>\n",
              "<table border=\"1\" class=\"dataframe\">\n",
              "  <thead>\n",
              "    <tr style=\"text-align: right;\">\n",
              "      <th></th>\n",
              "      <th>sum_sq</th>\n",
              "      <th>df</th>\n",
              "      <th>F</th>\n",
              "      <th>PR(&gt;F)</th>\n",
              "    </tr>\n",
              "  </thead>\n",
              "  <tbody>\n",
              "    <tr>\n",
              "      <th>C(treatments)</th>\n",
              "      <td>1.694944</td>\n",
              "      <td>7.0</td>\n",
              "      <td>4.127842</td>\n",
              "      <td>0.008962</td>\n",
              "    </tr>\n",
              "    <tr>\n",
              "      <th>Residual</th>\n",
              "      <td>0.938543</td>\n",
              "      <td>16.0</td>\n",
              "      <td>NaN</td>\n",
              "      <td>NaN</td>\n",
              "    </tr>\n",
              "  </tbody>\n",
              "</table>\n",
              "</div>"
            ],
            "text/plain": [
              "                 sum_sq    df         F    PR(>F)\n",
              "C(treatments)  1.694944   7.0  4.127842  0.008962\n",
              "Residual       0.938543  16.0       NaN       NaN"
            ]
          },
          "metadata": {
            "tags": []
          },
          "execution_count": 65
        }
      ]
    },
    {
      "cell_type": "code",
      "metadata": {
        "colab": {
          "base_uri": "https://localhost:8080/"
        },
        "id": "ehjt8yLtTRGO",
        "outputId": "6420f88a-e5ba-4a1a-a49c-c791217fc184"
      },
      "source": [
        "pip install bioinfokit"
      ],
      "execution_count": 66,
      "outputs": [
        {
          "output_type": "stream",
          "text": [
            "Requirement already satisfied: bioinfokit in /usr/local/lib/python3.7/dist-packages (2.0.4)\n",
            "Requirement already satisfied: pandas in /usr/local/lib/python3.7/dist-packages (from bioinfokit) (1.1.5)\n",
            "Requirement already satisfied: scikit-learn in /usr/local/lib/python3.7/dist-packages (from bioinfokit) (0.22.2.post1)\n",
            "Requirement already satisfied: matplotlib in /usr/local/lib/python3.7/dist-packages (from bioinfokit) (3.2.2)\n",
            "Requirement already satisfied: matplotlib-venn in /usr/local/lib/python3.7/dist-packages (from bioinfokit) (0.11.6)\n",
            "Requirement already satisfied: tabulate in /usr/local/lib/python3.7/dist-packages (from bioinfokit) (0.8.9)\n",
            "Requirement already satisfied: textwrap3 in /usr/local/lib/python3.7/dist-packages (from bioinfokit) (0.9.2)\n",
            "Requirement already satisfied: scipy in /usr/local/lib/python3.7/dist-packages (from bioinfokit) (1.4.1)\n",
            "Requirement already satisfied: numpy in /usr/local/lib/python3.7/dist-packages (from bioinfokit) (1.19.5)\n",
            "Requirement already satisfied: seaborn in /usr/local/lib/python3.7/dist-packages (from bioinfokit) (0.11.1)\n",
            "Requirement already satisfied: adjustText in /usr/local/lib/python3.7/dist-packages (from bioinfokit) (0.7.3)\n",
            "Requirement already satisfied: statsmodels in /usr/local/lib/python3.7/dist-packages (from bioinfokit) (0.10.2)\n",
            "Requirement already satisfied: python-dateutil>=2.7.3 in /usr/local/lib/python3.7/dist-packages (from pandas->bioinfokit) (2.8.1)\n",
            "Requirement already satisfied: pytz>=2017.2 in /usr/local/lib/python3.7/dist-packages (from pandas->bioinfokit) (2018.9)\n",
            "Requirement already satisfied: joblib>=0.11 in /usr/local/lib/python3.7/dist-packages (from scikit-learn->bioinfokit) (1.0.1)\n",
            "Requirement already satisfied: pyparsing!=2.0.4,!=2.1.2,!=2.1.6,>=2.0.1 in /usr/local/lib/python3.7/dist-packages (from matplotlib->bioinfokit) (2.4.7)\n",
            "Requirement already satisfied: kiwisolver>=1.0.1 in /usr/local/lib/python3.7/dist-packages (from matplotlib->bioinfokit) (1.3.1)\n",
            "Requirement already satisfied: cycler>=0.10 in /usr/local/lib/python3.7/dist-packages (from matplotlib->bioinfokit) (0.10.0)\n",
            "Requirement already satisfied: patsy>=0.4.0 in /usr/local/lib/python3.7/dist-packages (from statsmodels->bioinfokit) (0.5.1)\n",
            "Requirement already satisfied: six>=1.5 in /usr/local/lib/python3.7/dist-packages (from python-dateutil>=2.7.3->pandas->bioinfokit) (1.15.0)\n"
          ],
          "name": "stdout"
        }
      ]
    },
    {
      "cell_type": "code",
      "metadata": {
        "colab": {
          "base_uri": "https://localhost:8080/",
          "height": 917
        },
        "id": "Zk2WmE72TUt-",
        "outputId": "5ee94b15-e264-4992-ef0f-9b3dc7cff4f9"
      },
      "source": [
        "# we will use bioinfokit (v1.0.3 or later) for performing tukey HSD test\n",
        "# check documentation here https://github.com/reneshbedre/bioinfokit\n",
        "from bioinfokit.analys import stat\n",
        "# perform multiple pairwise comparison (Tukey's HSD)\n",
        "# unequal sample size data, tukey_hsd uses Tukey-Kramer test\n",
        "res = stat()\n",
        "res.tukey_hsd(df=df_melt, res_var='value', xfac_var='treatments', anova_model='value ~ C(treatments)')\n",
        "res.tukey_summary"
      ],
      "execution_count": 67,
      "outputs": [
        {
          "output_type": "execute_result",
          "data": {
            "text/html": [
              "<div>\n",
              "<style scoped>\n",
              "    .dataframe tbody tr th:only-of-type {\n",
              "        vertical-align: middle;\n",
              "    }\n",
              "\n",
              "    .dataframe tbody tr th {\n",
              "        vertical-align: top;\n",
              "    }\n",
              "\n",
              "    .dataframe thead th {\n",
              "        text-align: right;\n",
              "    }\n",
              "</style>\n",
              "<table border=\"1\" class=\"dataframe\">\n",
              "  <thead>\n",
              "    <tr style=\"text-align: right;\">\n",
              "      <th></th>\n",
              "      <th>group1</th>\n",
              "      <th>group2</th>\n",
              "      <th>Diff</th>\n",
              "      <th>Lower</th>\n",
              "      <th>Upper</th>\n",
              "      <th>q-value</th>\n",
              "      <th>p-value</th>\n",
              "    </tr>\n",
              "  </thead>\n",
              "  <tbody>\n",
              "    <tr>\n",
              "      <th>0</th>\n",
              "      <td>A</td>\n",
              "      <td>B</td>\n",
              "      <td>0.246991</td>\n",
              "      <td>-0.437702</td>\n",
              "      <td>0.931683</td>\n",
              "      <td>1.766338</td>\n",
              "      <td>0.900000</td>\n",
              "    </tr>\n",
              "    <tr>\n",
              "      <th>1</th>\n",
              "      <td>A</td>\n",
              "      <td>C</td>\n",
              "      <td>0.277002</td>\n",
              "      <td>-0.407690</td>\n",
              "      <td>0.961695</td>\n",
              "      <td>1.980966</td>\n",
              "      <td>0.826742</td>\n",
              "    </tr>\n",
              "    <tr>\n",
              "      <th>2</th>\n",
              "      <td>A</td>\n",
              "      <td>D</td>\n",
              "      <td>0.667685</td>\n",
              "      <td>-0.017008</td>\n",
              "      <td>1.352378</td>\n",
              "      <td>4.774909</td>\n",
              "      <td>0.058739</td>\n",
              "    </tr>\n",
              "    <tr>\n",
              "      <th>3</th>\n",
              "      <td>A</td>\n",
              "      <td>E</td>\n",
              "      <td>0.323288</td>\n",
              "      <td>-0.361405</td>\n",
              "      <td>1.007981</td>\n",
              "      <td>2.311973</td>\n",
              "      <td>0.702853</td>\n",
              "    </tr>\n",
              "    <tr>\n",
              "      <th>4</th>\n",
              "      <td>A</td>\n",
              "      <td>F</td>\n",
              "      <td>0.252313</td>\n",
              "      <td>-0.432380</td>\n",
              "      <td>0.937005</td>\n",
              "      <td>1.804398</td>\n",
              "      <td>0.892823</td>\n",
              "    </tr>\n",
              "    <tr>\n",
              "      <th>5</th>\n",
              "      <td>A</td>\n",
              "      <td>G</td>\n",
              "      <td>0.260199</td>\n",
              "      <td>-0.424494</td>\n",
              "      <td>0.944892</td>\n",
              "      <td>1.860799</td>\n",
              "      <td>0.871716</td>\n",
              "    </tr>\n",
              "    <tr>\n",
              "      <th>6</th>\n",
              "      <td>A</td>\n",
              "      <td>H</td>\n",
              "      <td>0.067612</td>\n",
              "      <td>-0.617081</td>\n",
              "      <td>0.752305</td>\n",
              "      <td>0.483523</td>\n",
              "      <td>0.900000</td>\n",
              "    </tr>\n",
              "    <tr>\n",
              "      <th>7</th>\n",
              "      <td>B</td>\n",
              "      <td>C</td>\n",
              "      <td>0.030012</td>\n",
              "      <td>-0.654681</td>\n",
              "      <td>0.714705</td>\n",
              "      <td>0.214628</td>\n",
              "      <td>0.900000</td>\n",
              "    </tr>\n",
              "    <tr>\n",
              "      <th>8</th>\n",
              "      <td>B</td>\n",
              "      <td>D</td>\n",
              "      <td>0.420694</td>\n",
              "      <td>-0.263998</td>\n",
              "      <td>1.105387</td>\n",
              "      <td>3.008571</td>\n",
              "      <td>0.441290</td>\n",
              "    </tr>\n",
              "    <tr>\n",
              "      <th>9</th>\n",
              "      <td>B</td>\n",
              "      <td>E</td>\n",
              "      <td>0.076297</td>\n",
              "      <td>-0.608396</td>\n",
              "      <td>0.760990</td>\n",
              "      <td>0.545635</td>\n",
              "      <td>0.900000</td>\n",
              "    </tr>\n",
              "    <tr>\n",
              "      <th>10</th>\n",
              "      <td>B</td>\n",
              "      <td>F</td>\n",
              "      <td>0.005322</td>\n",
              "      <td>-0.679371</td>\n",
              "      <td>0.690015</td>\n",
              "      <td>0.038060</td>\n",
              "      <td>0.900000</td>\n",
              "    </tr>\n",
              "    <tr>\n",
              "      <th>11</th>\n",
              "      <td>B</td>\n",
              "      <td>G</td>\n",
              "      <td>0.507190</td>\n",
              "      <td>-0.177503</td>\n",
              "      <td>1.191883</td>\n",
              "      <td>3.627137</td>\n",
              "      <td>0.237542</td>\n",
              "    </tr>\n",
              "    <tr>\n",
              "      <th>12</th>\n",
              "      <td>B</td>\n",
              "      <td>H</td>\n",
              "      <td>0.314602</td>\n",
              "      <td>-0.370090</td>\n",
              "      <td>0.999295</td>\n",
              "      <td>2.249861</td>\n",
              "      <td>0.726102</td>\n",
              "    </tr>\n",
              "    <tr>\n",
              "      <th>13</th>\n",
              "      <td>C</td>\n",
              "      <td>D</td>\n",
              "      <td>0.390683</td>\n",
              "      <td>-0.294010</td>\n",
              "      <td>1.075375</td>\n",
              "      <td>2.793943</td>\n",
              "      <td>0.522468</td>\n",
              "    </tr>\n",
              "    <tr>\n",
              "      <th>14</th>\n",
              "      <td>C</td>\n",
              "      <td>E</td>\n",
              "      <td>0.046285</td>\n",
              "      <td>-0.638407</td>\n",
              "      <td>0.730978</td>\n",
              "      <td>0.331007</td>\n",
              "      <td>0.900000</td>\n",
              "    </tr>\n",
              "    <tr>\n",
              "      <th>15</th>\n",
              "      <td>C</td>\n",
              "      <td>F</td>\n",
              "      <td>0.024690</td>\n",
              "      <td>-0.660003</td>\n",
              "      <td>0.709383</td>\n",
              "      <td>0.176567</td>\n",
              "      <td>0.900000</td>\n",
              "    </tr>\n",
              "    <tr>\n",
              "      <th>16</th>\n",
              "      <td>C</td>\n",
              "      <td>G</td>\n",
              "      <td>0.537202</td>\n",
              "      <td>-0.147491</td>\n",
              "      <td>1.221894</td>\n",
              "      <td>3.841765</td>\n",
              "      <td>0.186702</td>\n",
              "    </tr>\n",
              "    <tr>\n",
              "      <th>17</th>\n",
              "      <td>C</td>\n",
              "      <td>H</td>\n",
              "      <td>0.344614</td>\n",
              "      <td>-0.340079</td>\n",
              "      <td>1.029307</td>\n",
              "      <td>2.464488</td>\n",
              "      <td>0.645772</td>\n",
              "    </tr>\n",
              "    <tr>\n",
              "      <th>18</th>\n",
              "      <td>D</td>\n",
              "      <td>E</td>\n",
              "      <td>0.344397</td>\n",
              "      <td>-0.340296</td>\n",
              "      <td>1.029090</td>\n",
              "      <td>2.462936</td>\n",
              "      <td>0.646353</td>\n",
              "    </tr>\n",
              "    <tr>\n",
              "      <th>19</th>\n",
              "      <td>D</td>\n",
              "      <td>F</td>\n",
              "      <td>0.415372</td>\n",
              "      <td>-0.269320</td>\n",
              "      <td>1.100065</td>\n",
              "      <td>2.970511</td>\n",
              "      <td>0.455852</td>\n",
              "    </tr>\n",
              "    <tr>\n",
              "      <th>20</th>\n",
              "      <td>D</td>\n",
              "      <td>G</td>\n",
              "      <td>0.927884</td>\n",
              "      <td>0.243191</td>\n",
              "      <td>1.612577</td>\n",
              "      <td>6.635708</td>\n",
              "      <td>0.004646</td>\n",
              "    </tr>\n",
              "    <tr>\n",
              "      <th>21</th>\n",
              "      <td>D</td>\n",
              "      <td>H</td>\n",
              "      <td>0.735297</td>\n",
              "      <td>0.050604</td>\n",
              "      <td>1.419990</td>\n",
              "      <td>5.258432</td>\n",
              "      <td>0.030800</td>\n",
              "    </tr>\n",
              "    <tr>\n",
              "      <th>22</th>\n",
              "      <td>E</td>\n",
              "      <td>F</td>\n",
              "      <td>0.070975</td>\n",
              "      <td>-0.613718</td>\n",
              "      <td>0.755668</td>\n",
              "      <td>0.507575</td>\n",
              "      <td>0.900000</td>\n",
              "    </tr>\n",
              "    <tr>\n",
              "      <th>23</th>\n",
              "      <td>E</td>\n",
              "      <td>G</td>\n",
              "      <td>0.583487</td>\n",
              "      <td>-0.101206</td>\n",
              "      <td>1.268180</td>\n",
              "      <td>4.172772</td>\n",
              "      <td>0.125861</td>\n",
              "    </tr>\n",
              "    <tr>\n",
              "      <th>24</th>\n",
              "      <td>E</td>\n",
              "      <td>H</td>\n",
              "      <td>0.390900</td>\n",
              "      <td>-0.293793</td>\n",
              "      <td>1.075592</td>\n",
              "      <td>2.795496</td>\n",
              "      <td>0.521889</td>\n",
              "    </tr>\n",
              "    <tr>\n",
              "      <th>25</th>\n",
              "      <td>F</td>\n",
              "      <td>G</td>\n",
              "      <td>0.512512</td>\n",
              "      <td>-0.172181</td>\n",
              "      <td>1.197205</td>\n",
              "      <td>3.665197</td>\n",
              "      <td>0.228013</td>\n",
              "    </tr>\n",
              "    <tr>\n",
              "      <th>26</th>\n",
              "      <td>F</td>\n",
              "      <td>H</td>\n",
              "      <td>0.319924</td>\n",
              "      <td>-0.364768</td>\n",
              "      <td>1.004617</td>\n",
              "      <td>2.287921</td>\n",
              "      <td>0.711857</td>\n",
              "    </tr>\n",
              "    <tr>\n",
              "      <th>27</th>\n",
              "      <td>G</td>\n",
              "      <td>H</td>\n",
              "      <td>0.192587</td>\n",
              "      <td>-0.492106</td>\n",
              "      <td>0.877280</td>\n",
              "      <td>1.377276</td>\n",
              "      <td>0.900000</td>\n",
              "    </tr>\n",
              "  </tbody>\n",
              "</table>\n",
              "</div>"
            ],
            "text/plain": [
              "   group1 group2      Diff     Lower     Upper   q-value   p-value\n",
              "0       A      B  0.246991 -0.437702  0.931683  1.766338  0.900000\n",
              "1       A      C  0.277002 -0.407690  0.961695  1.980966  0.826742\n",
              "2       A      D  0.667685 -0.017008  1.352378  4.774909  0.058739\n",
              "3       A      E  0.323288 -0.361405  1.007981  2.311973  0.702853\n",
              "4       A      F  0.252313 -0.432380  0.937005  1.804398  0.892823\n",
              "5       A      G  0.260199 -0.424494  0.944892  1.860799  0.871716\n",
              "6       A      H  0.067612 -0.617081  0.752305  0.483523  0.900000\n",
              "7       B      C  0.030012 -0.654681  0.714705  0.214628  0.900000\n",
              "8       B      D  0.420694 -0.263998  1.105387  3.008571  0.441290\n",
              "9       B      E  0.076297 -0.608396  0.760990  0.545635  0.900000\n",
              "10      B      F  0.005322 -0.679371  0.690015  0.038060  0.900000\n",
              "11      B      G  0.507190 -0.177503  1.191883  3.627137  0.237542\n",
              "12      B      H  0.314602 -0.370090  0.999295  2.249861  0.726102\n",
              "13      C      D  0.390683 -0.294010  1.075375  2.793943  0.522468\n",
              "14      C      E  0.046285 -0.638407  0.730978  0.331007  0.900000\n",
              "15      C      F  0.024690 -0.660003  0.709383  0.176567  0.900000\n",
              "16      C      G  0.537202 -0.147491  1.221894  3.841765  0.186702\n",
              "17      C      H  0.344614 -0.340079  1.029307  2.464488  0.645772\n",
              "18      D      E  0.344397 -0.340296  1.029090  2.462936  0.646353\n",
              "19      D      F  0.415372 -0.269320  1.100065  2.970511  0.455852\n",
              "20      D      G  0.927884  0.243191  1.612577  6.635708  0.004646\n",
              "21      D      H  0.735297  0.050604  1.419990  5.258432  0.030800\n",
              "22      E      F  0.070975 -0.613718  0.755668  0.507575  0.900000\n",
              "23      E      G  0.583487 -0.101206  1.268180  4.172772  0.125861\n",
              "24      E      H  0.390900 -0.293793  1.075592  2.795496  0.521889\n",
              "25      F      G  0.512512 -0.172181  1.197205  3.665197  0.228013\n",
              "26      F      H  0.319924 -0.364768  1.004617  2.287921  0.711857\n",
              "27      G      H  0.192587 -0.492106  0.877280  1.377276  0.900000"
            ]
          },
          "metadata": {
            "tags": []
          },
          "execution_count": 67
        }
      ]
    },
    {
      "cell_type": "code",
      "metadata": {
        "colab": {
          "base_uri": "https://localhost:8080/",
          "height": 279
        },
        "id": "n_TVX7G6TZoj",
        "outputId": "f262e7f5-0836-4783-f505-8547a76fac58"
      },
      "source": [
        "import statsmodels.api as sm\n",
        "import matplotlib.pyplot as plt\n",
        "# res.anova_std_residuals are standardized residuals obtained from ANOVA (check above)\n",
        "sm.qqplot(res.anova_std_residuals, line='45')\n",
        "plt.xlabel(\"Theoretical Quantiles\")\n",
        "plt.ylabel(\"Standardized Residuals\")\n",
        "plt.show()"
      ],
      "execution_count": 68,
      "outputs": [
        {
          "output_type": "display_data",
          "data": {
            "image/png": "[encoded data removed]",
            "text/plain": [
              "<Figure size 432x288 with 1 Axes>"
            ]
          },
          "metadata": {
            "tags": [],
            "needs_background": "light"
          }
        }
      ]
    },
    {
      "cell_type": "code",
      "metadata": {
        "colab": {
          "base_uri": "https://localhost:8080/",
          "height": 279
        },
        "id": "P8HpW8b-TdWG",
        "outputId": "8dded12c-25b1-43e8-b647-a913eafcab02"
      },
      "source": [
        "# histogram\n",
        "plt.hist(res.anova_model_out.resid, bins='auto', histtype='bar', ec='k') \n",
        "plt.xlabel(\"Residuals\")\n",
        "plt.ylabel('Frequency')\n",
        "plt.show()"
      ],
      "execution_count": 69,
      "outputs": [
        {
          "output_type": "display_data",
          "data": {
            "image/png": "[encoded data removed]",
            "text/plain": [
              "<Figure size 432x288 with 1 Axes>"
            ]
          },
          "metadata": {
            "tags": [],
            "needs_background": "light"
          }
        }
      ]
    },
    {
      "cell_type": "code",
      "metadata": {
        "colab": {
          "base_uri": "https://localhost:8080/"
        },
        "id": "eE5Lufy5TgO-",
        "outputId": "705788c0-114c-4c42-cd4b-b7244c15552c"
      },
      "source": [
        "import scipy.stats as stats\n",
        "w, pvalue = stats.shapiro(model.resid)\n",
        "print(w, pvalue)"
      ],
      "execution_count": 70,
      "outputs": [
        {
          "output_type": "stream",
          "text": [
            "0.9290158152580261 0.09267274290323257\n"
          ],
          "name": "stdout"
        }
      ]
    },
    {
      "cell_type": "code",
      "metadata": {
        "colab": {
          "base_uri": "https://localhost:8080/"
        },
        "id": "j11aWfB1Tjme",
        "outputId": "c024c729-2a48-41da-c56b-39fed70f315b"
      },
      "source": [
        "import scipy.stats as stats\n",
        "w, pvalue = stats.bartlett(df['A'], df['B'], df['C'], df['D'],df['E'],df['F'],df['G'],df['H'])\n",
        "print(w, pvalue)"
      ],
      "execution_count": 71,
      "outputs": [
        {
          "output_type": "stream",
          "text": [
            "13.11911990488916 0.06925870000300417\n"
          ],
          "name": "stdout"
        }
      ]
    },
    {
      "cell_type": "code",
      "metadata": {
        "colab": {
          "base_uri": "https://localhost:8080/",
          "height": 142
        },
        "id": "8hSwh41TTmUh",
        "outputId": "a5b972f0-4359-4077-aef6-1586b2ce2838"
      },
      "source": [
        "# if you have a stacked table, you can use bioinfokit v1.0.3 or later for the bartlett's test\n",
        "from bioinfokit.analys import stat \n",
        "res = stat()\n",
        "res.bartlett(df=df_melt, res_var='value', xfac_var='treatments')\n",
        "res.bartlett_summary"
      ],
      "execution_count": 72,
      "outputs": [
        {
          "output_type": "execute_result",
          "data": {
            "text/html": [
              "<div>\n",
              "<style scoped>\n",
              "    .dataframe tbody tr th:only-of-type {\n",
              "        vertical-align: middle;\n",
              "    }\n",
              "\n",
              "    .dataframe tbody tr th {\n",
              "        vertical-align: top;\n",
              "    }\n",
              "\n",
              "    .dataframe thead th {\n",
              "        text-align: right;\n",
              "    }\n",
              "</style>\n",
              "<table border=\"1\" class=\"dataframe\">\n",
              "  <thead>\n",
              "    <tr style=\"text-align: right;\">\n",
              "      <th></th>\n",
              "      <th>Parameter</th>\n",
              "      <th>Value</th>\n",
              "    </tr>\n",
              "  </thead>\n",
              "  <tbody>\n",
              "    <tr>\n",
              "      <th>0</th>\n",
              "      <td>Test statistics (T)</td>\n",
              "      <td>13.1191</td>\n",
              "    </tr>\n",
              "    <tr>\n",
              "      <th>1</th>\n",
              "      <td>Degrees of freedom (Df)</td>\n",
              "      <td>7.0000</td>\n",
              "    </tr>\n",
              "    <tr>\n",
              "      <th>2</th>\n",
              "      <td>p value</td>\n",
              "      <td>0.0693</td>\n",
              "    </tr>\n",
              "  </tbody>\n",
              "</table>\n",
              "</div>"
            ],
            "text/plain": [
              "                 Parameter    Value\n",
              "0      Test statistics (T)  13.1191\n",
              "1  Degrees of freedom (Df)   7.0000\n",
              "2                  p value   0.0693"
            ]
          },
          "metadata": {
            "tags": []
          },
          "execution_count": 72
        }
      ]
    },
    {
      "cell_type": "code",
      "metadata": {
        "colab": {
          "base_uri": "https://localhost:8080/",
          "height": 142
        },
        "id": "PlBRi1dpTq4c",
        "outputId": "37684a05-1dff-4a77-afe5-bb8406a52db7"
      },
      "source": [
        "# if you have a stacked table, you can use bioinfokit v1.0.3 or later for the Levene's test\n",
        "from bioinfokit.analys import stat \n",
        "res = stat()\n",
        "res.levene(df=df_melt, res_var='value', xfac_var='treatments')\n",
        "res.levene_summary"
      ],
      "execution_count": 73,
      "outputs": [
        {
          "output_type": "execute_result",
          "data": {
            "text/html": [
              "<div>\n",
              "<style scoped>\n",
              "    .dataframe tbody tr th:only-of-type {\n",
              "        vertical-align: middle;\n",
              "    }\n",
              "\n",
              "    .dataframe tbody tr th {\n",
              "        vertical-align: top;\n",
              "    }\n",
              "\n",
              "    .dataframe thead th {\n",
              "        text-align: right;\n",
              "    }\n",
              "</style>\n",
              "<table border=\"1\" class=\"dataframe\">\n",
              "  <thead>\n",
              "    <tr style=\"text-align: right;\">\n",
              "      <th></th>\n",
              "      <th>Parameter</th>\n",
              "      <th>Value</th>\n",
              "    </tr>\n",
              "  </thead>\n",
              "  <tbody>\n",
              "    <tr>\n",
              "      <th>0</th>\n",
              "      <td>Test statistics (W)</td>\n",
              "      <td>1.0703</td>\n",
              "    </tr>\n",
              "    <tr>\n",
              "      <th>1</th>\n",
              "      <td>Degrees of freedom (Df)</td>\n",
              "      <td>7.0000</td>\n",
              "    </tr>\n",
              "    <tr>\n",
              "      <th>2</th>\n",
              "      <td>p value</td>\n",
              "      <td>0.4252</td>\n",
              "    </tr>\n",
              "  </tbody>\n",
              "</table>\n",
              "</div>"
            ],
            "text/plain": [
              "                 Parameter   Value\n",
              "0      Test statistics (W)  1.0703\n",
              "1  Degrees of freedom (Df)  7.0000\n",
              "2                  p value  0.4252"
            ]
          },
          "metadata": {
            "tags": []
          },
          "execution_count": 73
        }
      ]
    },
    {
      "cell_type": "code",
      "metadata": {
        "id": "9pOdLTNETsuX"
      },
      "source": [
        ""
      ],
      "execution_count": null,
      "outputs": []
    }
  ]
}