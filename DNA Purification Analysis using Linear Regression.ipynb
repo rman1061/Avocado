{
  "cells": [
    {
      "cell_type": "code",
      "source": [
        "import numpy as np\n",
        "import matplotlib.pyplot as plt  # To visualize\n",
        "import pandas as pd  # To read data\n",
        "from sklearn.linear_model import LinearRegression"
      ],
      "outputs": [],
      "execution_count": 6,
      "metadata": {}
    },
    {
      "cell_type": "code",
      "source": [
        "data = pd.read_csv(r'C:\\Users\\maniv\\Documents\\DNA Analysis\\DNA Purification RM.csv') # load data set\n",
        "data"
      ],
      "outputs": [
        {
          "output_type": "execute_result",
          "execution_count": 10,
          "data": {
            "text/html": [
              "<div>\n",
              "<style scoped>\n",
              "    .dataframe tbody tr th:only-of-type {\n",
              "        vertical-align: middle;\n",
              "    }\n",
              "\n",
              "    .dataframe tbody tr th {\n",
              "        vertical-align: top;\n",
              "    }\n",
              "\n",
              "    .dataframe thead th {\n",
              "        text-align: right;\n",
              "    }\n",
              "</style>\n",
              "<table border=\"1\" class=\"dataframe\">\n",
              "  <thead>\n",
              "    <tr style=\"text-align: right;\">\n",
              "      <th></th>\n",
              "      <th>Colony</th>\n",
              "      <th>Concentration (ng/uL)</th>\n",
              "      <th>260/280</th>\n",
              "      <th>260/230</th>\n",
              "    </tr>\n",
              "  </thead>\n",
              "  <tbody>\n",
              "    <tr>\n",
              "      <th>0</th>\n",
              "      <td>1</td>\n",
              "      <td>69.91</td>\n",
              "      <td>1.65</td>\n",
              "      <td>0.99</td>\n",
              "    </tr>\n",
              "    <tr>\n",
              "      <th>1</th>\n",
              "      <td>2</td>\n",
              "      <td>56.48</td>\n",
              "      <td>1.73</td>\n",
              "      <td>1.17</td>\n",
              "    </tr>\n",
              "    <tr>\n",
              "      <th>2</th>\n",
              "      <td>3</td>\n",
              "      <td>67.64</td>\n",
              "      <td>1.74</td>\n",
              "      <td>1.31</td>\n",
              "    </tr>\n",
              "    <tr>\n",
              "      <th>3</th>\n",
              "      <td>4</td>\n",
              "      <td>67.47</td>\n",
              "      <td>1.74</td>\n",
              "      <td>1.12</td>\n",
              "    </tr>\n",
              "    <tr>\n",
              "      <th>4</th>\n",
              "      <td>5</td>\n",
              "      <td>77.21</td>\n",
              "      <td>1.78</td>\n",
              "      <td>1.13</td>\n",
              "    </tr>\n",
              "    <tr>\n",
              "      <th>5</th>\n",
              "      <td>6</td>\n",
              "      <td>55.80</td>\n",
              "      <td>1.67</td>\n",
              "      <td>1.29</td>\n",
              "    </tr>\n",
              "    <tr>\n",
              "      <th>6</th>\n",
              "      <td>7</td>\n",
              "      <td>37.80</td>\n",
              "      <td>1.70</td>\n",
              "      <td>1.36</td>\n",
              "    </tr>\n",
              "    <tr>\n",
              "      <th>7</th>\n",
              "      <td>8</td>\n",
              "      <td>71.52</td>\n",
              "      <td>1.74</td>\n",
              "      <td>1.36</td>\n",
              "    </tr>\n",
              "    <tr>\n",
              "      <th>8</th>\n",
              "      <td>9</td>\n",
              "      <td>69.91</td>\n",
              "      <td>1.65</td>\n",
              "      <td>1.00</td>\n",
              "    </tr>\n",
              "    <tr>\n",
              "      <th>9</th>\n",
              "      <td>10</td>\n",
              "      <td>56.48</td>\n",
              "      <td>1.80</td>\n",
              "      <td>1.99</td>\n",
              "    </tr>\n",
              "    <tr>\n",
              "      <th>10</th>\n",
              "      <td>11</td>\n",
              "      <td>60.66</td>\n",
              "      <td>1.70</td>\n",
              "      <td>1.03</td>\n",
              "    </tr>\n",
              "    <tr>\n",
              "      <th>11</th>\n",
              "      <td>12</td>\n",
              "      <td>43.50</td>\n",
              "      <td>1.75</td>\n",
              "      <td>1.27</td>\n",
              "    </tr>\n",
              "    <tr>\n",
              "      <th>12</th>\n",
              "      <td>13</td>\n",
              "      <td>58.17</td>\n",
              "      <td>1.73</td>\n",
              "      <td>1.15</td>\n",
              "    </tr>\n",
              "    <tr>\n",
              "      <th>13</th>\n",
              "      <td>14</td>\n",
              "      <td>56.74</td>\n",
              "      <td>1.78</td>\n",
              "      <td>1.35</td>\n",
              "    </tr>\n",
              "    <tr>\n",
              "      <th>14</th>\n",
              "      <td>15</td>\n",
              "      <td>57.05</td>\n",
              "      <td>1.69</td>\n",
              "      <td>1.37</td>\n",
              "    </tr>\n",
              "    <tr>\n",
              "      <th>15</th>\n",
              "      <td>16</td>\n",
              "      <td>72.19</td>\n",
              "      <td>1.71</td>\n",
              "      <td>1.16</td>\n",
              "    </tr>\n",
              "    <tr>\n",
              "      <th>16</th>\n",
              "      <td>17</td>\n",
              "      <td>55.45</td>\n",
              "      <td>1.74</td>\n",
              "      <td>1.21</td>\n",
              "    </tr>\n",
              "    <tr>\n",
              "      <th>17</th>\n",
              "      <td>18</td>\n",
              "      <td>39.10</td>\n",
              "      <td>1.75</td>\n",
              "      <td>1.29</td>\n",
              "    </tr>\n",
              "    <tr>\n",
              "      <th>18</th>\n",
              "      <td>19</td>\n",
              "      <td>51.94</td>\n",
              "      <td>1.62</td>\n",
              "      <td>0.95</td>\n",
              "    </tr>\n",
              "    <tr>\n",
              "      <th>19</th>\n",
              "      <td>20</td>\n",
              "      <td>58.33</td>\n",
              "      <td>1.68</td>\n",
              "      <td>1.07</td>\n",
              "    </tr>\n",
              "  </tbody>\n",
              "</table>\n",
              "</div>"
            ],
            "text/plain": [
              "    Colony  Concentration (ng/uL)  260/280  260/230\n",
              "0        1                  69.91     1.65     0.99\n",
              "1        2                  56.48     1.73     1.17\n",
              "2        3                  67.64     1.74     1.31\n",
              "3        4                  67.47     1.74     1.12\n",
              "4        5                  77.21     1.78     1.13\n",
              "5        6                  55.80     1.67     1.29\n",
              "6        7                  37.80     1.70     1.36\n",
              "7        8                  71.52     1.74     1.36\n",
              "8        9                  69.91     1.65     1.00\n",
              "9       10                  56.48     1.80     1.99\n",
              "10      11                  60.66     1.70     1.03\n",
              "11      12                  43.50     1.75     1.27\n",
              "12      13                  58.17     1.73     1.15\n",
              "13      14                  56.74     1.78     1.35\n",
              "14      15                  57.05     1.69     1.37\n",
              "15      16                  72.19     1.71     1.16\n",
              "16      17                  55.45     1.74     1.21\n",
              "17      18                  39.10     1.75     1.29\n",
              "18      19                  51.94     1.62     0.95\n",
              "19      20                  58.33     1.68     1.07"
            ]
          },
          "metadata": {}
        }
      ],
      "execution_count": 10,
      "metadata": {}
    },
    {
      "cell_type": "code",
      "source": [
        "data.dtypes"
      ],
      "outputs": [
        {
          "output_type": "execute_result",
          "execution_count": 11,
          "data": {
            "text/plain": [
              "Colony                     int64\n",
              "Concentration (ng/uL)    float64\n",
              "260/280                  float64\n",
              "260/230                  float64\n",
              "dtype: object"
            ]
          },
          "metadata": {}
        }
      ],
      "execution_count": 11,
      "metadata": {}
    },
    {
      "cell_type": "code",
      "source": [
        "data.info()"
      ],
      "outputs": [
        {
          "output_type": "stream",
          "name": "stdout",
          "text": [
            "<class 'pandas.core.frame.DataFrame'>\n",
            "RangeIndex: 20 entries, 0 to 19\n",
            "Data columns (total 4 columns):\n",
            " #   Column                 Non-Null Count  Dtype  \n",
            "---  ------                 --------------  -----  \n",
            " 0   Colony                 20 non-null     int64  \n",
            " 1   Concentration (ng/uL)  20 non-null     float64\n",
            " 2   260/280                20 non-null     float64\n",
            " 3   260/230                20 non-null     float64\n",
            "dtypes: float64(3), int64(1)\n",
            "memory usage: 768.0 bytes\n"
          ]
        }
      ],
      "execution_count": 12,
      "metadata": {
        "scrolled": true
      }
    },
    {
      "cell_type": "code",
      "source": [
        "print(data.isnull().sum())"
      ],
      "outputs": [
        {
          "output_type": "stream",
          "name": "stdout",
          "text": [
            "Colony                   0\n",
            "Concentration (ng/uL)    0\n",
            "260/280                  0\n",
            "260/230                  0\n",
            "dtype: int64\n"
          ]
        }
      ],
      "execution_count": 13,
      "metadata": {}
    },
    {
      "cell_type": "code",
      "source": [
        "data.columns"
      ],
      "outputs": [
        {
          "output_type": "execute_result",
          "execution_count": 14,
          "data": {
            "text/plain": [
              "Index(['Colony', 'Concentration (ng/uL)', '260/280', '260/230'], dtype='object')"
            ]
          },
          "metadata": {}
        }
      ],
      "execution_count": 14,
      "metadata": {}
    },
    {
      "cell_type": "code",
      "source": [
        "# Heat Map\n",
        "\n",
        "import matplotlib.pyplot as plt\n",
        "import seaborn as sns\n",
        "correlation = data.corr()\n",
        "plt.figure(figsize = (12 , 12))\n",
        "sns.heatmap(correlation)"
      ],
      "outputs": [
        {
          "output_type": "execute_result",
          "execution_count": 15,
          "data": {
            "text/plain": [
              "<matplotlib.axes._subplots.AxesSubplot at 0x1beddaca7b8>"
            ]
          },
          "metadata": {}
        },
        {
          "output_type": "display_data",
          "data": {
            "image/png": "[encoded data removed]",
            "text/plain": [
              "<Figure size 864x864 with 2 Axes>"
            ]
          },
          "metadata": {
            "needs_background": "light"
          }
        }
      ],
      "execution_count": 15,
      "metadata": {}
    },
    {
      "cell_type": "code",
      "source": [
        "X= data.iloc[:,[2]]\n",
        "y= data.iloc[:,[3]]\n",
        "\n",
        "print(X)\n",
        "\n",
        "print(y)"
      ],
      "outputs": [
        {
          "output_type": "stream",
          "name": "stdout",
          "text": [
            "    260/280\n",
            "0      1.65\n",
            "1      1.73\n",
            "2      1.74\n",
            "3      1.74\n",
            "4      1.78\n",
            "5      1.67\n",
            "6      1.70\n",
            "7      1.74\n",
            "8      1.65\n",
            "9      1.80\n",
            "10     1.70\n",
            "11     1.75\n",
            "12     1.73\n",
            "13     1.78\n",
            "14     1.69\n",
            "15     1.71\n",
            "16     1.74\n",
            "17     1.75\n",
            "18     1.62\n",
            "19     1.68\n",
            "    260/230\n",
            "0      0.99\n",
            "1      1.17\n",
            "2      1.31\n",
            "3      1.12\n",
            "4      1.13\n",
            "5      1.29\n",
            "6      1.36\n",
            "7      1.36\n",
            "8      1.00\n",
            "9      1.99\n",
            "10     1.03\n",
            "11     1.27\n",
            "12     1.15\n",
            "13     1.35\n",
            "14     1.37\n",
            "15     1.16\n",
            "16     1.21\n",
            "17     1.29\n",
            "18     0.95\n",
            "19     1.07\n"
          ]
        }
      ],
      "execution_count": 29,
      "metadata": {}
    },
    {
      "cell_type": "code",
      "source": [
        "import numpy as np\n",
        "import matplotlib.pyplot as plt  # To visualize\n",
        "import pandas as pd  # To read data\n",
        "from sklearn.linear_model import LinearRegression"
      ],
      "outputs": [],
      "execution_count": 33,
      "metadata": {}
    },
    {
      "cell_type": "code",
      "source": [
        "linear_regressor = LinearRegression()  # create object for the class\n",
        "linear_regressor.fit(X, y)  # perform linear regression\n",
        "Y_pred = linear_regressor.predict(X)  # make predictions"
      ],
      "outputs": [],
      "execution_count": 34,
      "metadata": {}
    },
    {
      "cell_type": "code",
      "source": [
        "plt.scatter(X, y)\n",
        "plt.plot(X, Y_pred, color='red')\n",
        "plt.show()"
      ],
      "outputs": [
        {
          "output_type": "display_data",
          "data": {
            "image/png": "[encoded data removed]",
            "text/plain": [
              "<Figure size 432x288 with 1 Axes>"
            ]
          },
          "metadata": {
            "needs_background": "light"
          }
        }
      ],
      "execution_count": 35,
      "metadata": {}
    },
    {
      "cell_type": "code",
      "source": [],
      "outputs": [],
      "execution_count": null,
      "metadata": {}
    }
  ],
  "metadata": {
    "kernelspec": {
      "display_name": "Python 3",
      "language": "python",
      "name": "python3"
    },
    "language_info": {
      "codemirror_mode": {
        "name": "ipython",
        "version": 3
      },
      "file_extension": ".py",
      "mimetype": "text/x-python",
      "name": "python",
      "nbconvert_exporter": "python",
      "pygments_lexer": "ipython3",
      "version": "3.7.3"
    },
    "nteract": {
      "version": "0.23.1"
    }
  },
  "nbformat": 4,
  "nbformat_minor": 4
}